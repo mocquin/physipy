{
 "cells": [
  {
   "cell_type": "markdown",
   "id": "a56c8db1-9d60-4cbf-9739-924613bf21c7",
   "metadata": {},
   "source": [
    "# Dimension's guides"
   ]
  },
  {
   "cell_type": "code",
   "execution_count": 1,
   "id": "86fa8720-b834-4cdb-bc95-910da3086558",
   "metadata": {},
   "outputs": [],
   "source": [
    "import physipy"
   ]
  },
  {
   "cell_type": "code",
   "execution_count": 2,
   "id": "dc230a70-a6ae-4bba-8b14-262f85bf16b3",
   "metadata": {},
   "outputs": [
    {
     "data": {
      "text/plain": [
       "physipy.quantity.dimension.Dimension"
      ]
     },
     "execution_count": 2,
     "metadata": {},
     "output_type": "execute_result"
    }
   ],
   "source": [
    "physipy.Dimension"
   ]
  },
  {
   "cell_type": "code",
   "execution_count": null,
   "id": "33215831-2c31-479b-8a6f-115054751838",
   "metadata": {},
   "outputs": [],
   "source": []
  }
 ],
 "metadata": {
  "kernelspec": {
   "display_name": "Python 3 (ipykernel)",
   "language": "python",
   "name": "python3"
  },
  "language_info": {
   "codemirror_mode": {
    "name": "ipython",
    "version": 3
   },
   "file_extension": ".py",
   "mimetype": "text/x-python",
   "name": "python",
   "nbconvert_exporter": "python",
   "pygments_lexer": "ipython3",
   "version": "3.9.7"
  }
 },
 "nbformat": 4,
 "nbformat_minor": 5
}
