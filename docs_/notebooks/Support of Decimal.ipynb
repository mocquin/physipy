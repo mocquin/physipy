{
 "cells": [
  {
   "cell_type": "markdown",
   "metadata": {},
   "source": [
    "Should apply on the decimal value, with same dimension :\n",
    " - d.adjusted()\n",
    "- d.conjugate() : Just returns self, this method is only to comply with the Decimal Specification.\n",
    "- copy_abs() : Return the absolute value of the argument. This operation is unaffected by the context and is quiet: no flags are changed and no rounding is performed.\n",
    "- copy_negate() : Return the negation of the argument. This operation is unaffected by the context and is quiet: no flags are changed and no rounding is performed.\n",
    "- copy_sign(other, context=None) : Return a copy of the first operand with the sign set to be the same as the sign of the second operand.\n",
    "- quantize(exp, rounding=None, context=None) : Return a value equal to the first operand after rounding and having the exponent of the second operand.\n",
    "- rotate(other, context=None) : Return the result of rotating the digits of the first operand by an amount specified by the second operand.\n",
    "- shift(other, context=None)\n",
    " \n",
    "to_integral(rounding=None, context=None)\n",
    "Identical to the to_integral_value() method. The to_integral name has been kept for compatibility with older versions.\n",
    " \n",
    "to_integral_exact(rounding=None, context=None)\n",
    "Round to the nearest integer, signaling Inexact or Rounded as appropriate if rounding occurs. The rounding mode is determined by the rounding parameter if given, else by the given context. If neither parameter is given then the rounding mode of the current context is used.\n",
    " \n",
    "to_integral_value(rounding=None, context=None)\n",
    "Round to the nearest integer without signaling Inexact or Rounded. If given, applies rounding; otherwise, uses the rounding method in either the supplied context or the current context.\n",
    " \n",
    "Should apply on the decimal value, returns not a quantity :\n",
    " - is_canonical() : return True if the argument is canonical and False otherwise. Currently, a Decimal instance is always canonical, so this operation always returns True.\n",
    "- is_finite() : Return True if the argument is a finite number, and False if the argument is an infinity or a NaN.\n",
    "- is_infinite() : Return True if the argument is either positive or negative infinity and False otherwise.\n",
    "- is_nan() : Return True if the argument is a (quiet or signaling) NaN and False otherwise.\n",
    "- is_normal(context=None) : Return True if the argument is a normal finite number. Return False if the argument is zero, subnormal, infinite or a NaN.\n",
    "- is_qnan() : Return True if the argument is a quiet NaN, and False otherwise.\n",
    "- is_signed() : Return True if the argument has a negative sign and False otherwise. Note that zeros and NaNs can both carry signs.\n",
    "- is_snan() : Return True if the argument is a signaling NaN and False otherwise.\n",
    "- is_subnormal(context=None)  : Return True if the argument is subnormal, and False otherwise.\n",
    "- is_zero() : Return True if the argument is a (positive or negative) zero and False otherwise.\n",
    " \n",
    "Should be dimensionless, and return dimensionless :\n",
    " - d.exp(context=None)\n",
    "- ln(context=None) : Return the natural (base e) logarithm of the operand.\n",
    "- log10(context=None) : Return the base ten logarithm of the operand. The result is correctly rounded using the ROUND_HALF_EVEN rounding mode.\n",
    "- logb(context=None) : For a nonzero number, return the adjusted exponent of its operand as a Decimal instance\n",
    " \n",
    "Specific checks to do :\n",
    " - fma(other, third, context=None) : Fused multiply-add. Return self*other+third with no rounding of the intermediate product self*other.\n",
    "- remainder_near(other, context=None) : Return the remainder from dividing self by other. This differs from self % other in that the sign of the remainder is chosen so as to minimize its absolute value\n",
    "- scaleb(other, context=None) : Return the first operand with exponent adjusted by the second. Equivalently, return the first operand multiplied by 10**other. The second operand must be an integer.\n",
    "- sqrt(context=None) : Return the square root of the argument to full precision.\n",
    "- to_eng_string(context=None) :\n",
    " \n",
    "SAme dimension binary :\n",
    " - max(other, context=None) : Like max(self, other) except that the context rounding rule is applied before returning and that NaN values are either signaled or ignored\n",
    "- max_mag(other, context=None) : Similar to the max() method, but the comparison is done using the absolute values of the operands.\n",
    "- min(other, context=None) : Like min(self, other) except that the context rounding rule is applied before returning and that NaN values are either signaled or ignored (depending on the context and whether they are signaling or quiet).\n",
    "- min_mag(other, context=None) : Similar to the min() method, but the comparison is done using the absolute values of the operands.\n",
    "- next_minus(context=None) : Return the largest number representable in the given context (or in the current thread’s context if no context is given) that is smaller than the given operand.\n",
    "- next_plus(context=None) : Return the smallest number representable in the given context (or in the current thread’s context if no context is given) that is larger than the given operand.\n",
    "- next_toward(other, context=None) : If the two operands are unequal, return the number closest to the first operand in the direction of the second operand. If both operands are numerically equal, return a copy of the first operand with the sign set to be the same as the sign of the second operand.\n",
    " \n",
    "REturn not a quantity :\n",
    " - compare(other, context=None), compare_signal(other, context=None) : return a \"Decimal boolean\" : Compare the values of two Decimal instances. compare() returns a Decimal instance, and if either operand is a NaN then the result is a NaN:\n",
    " \n",
    "To sort :\n",
    " - d.as_integer_ratio() : return a tuple of ints such that t[0]/t[1] = dec\n",
    "- d.as_tuple() : Return a named tuple representation of the number: DecimalTuple(sign, digits, exponent).\n",
    "- logical_and(other, context=None) : logical_and() is a logical operation which takes two logical operands (see Logical operands). The result is the digit-wise and of the two operands.\n",
    "- logical_invert(context=None) : logical_invert() is a logical operation. The result is the digit-wise inversion of the operand.\n",
    "- logical_or(other, context=None) : logical_or() is a logical operation which takes two logical operands (see Logical operands). The result is the digit-wise or of the two operands.\n",
    "- logical_xor(other, context=None) :logical_xor() is a logical operation which takes two logical operands (see Logical operands). The result is the digit-wise exclusive or of the two operands.\n",
    "- normalize(context=None) : Normalize the number by stripping the rightmost trailing zeros and converting any result equal to Decimal('0') to Decimal('0e0').\n",
    "- radix() : Return Decimal(10), the radix (base) in which the Decimal class does all its arithmetic.\n",
    "- same_quantum(other, context=None) : Test whether self and other have the same exponent or whether both are NaN\n",
    "Class method :\n",
    " - Decimal.from_float(f)\n",
    " "
   ]
  },
  {
   "cell_type": "code",
   "execution_count": 3,
   "metadata": {},
   "outputs": [
    {
     "name": "stdout",
     "output_type": "stream",
     "text": [
      "28\n",
      "ROUND_HALF_EVEN\n",
      "[<Quantity : 1.34 m, symbol=UndefinedSymbol*m>, <Quantity : 1.87 m, symbol=UndefinedSymbol*m>, <Quantity : 3.45 m, symbol=UndefinedSymbol*m>, <Quantity : 2.35 m, symbol=UndefinedSymbol*m>, <Quantity : 1.00 m, symbol=UndefinedSymbol*m>, <Quantity : 0.03 m, symbol=UndefinedSymbol*m>, <Quantity : 9.25 m, symbol=UndefinedSymbol*m>]\n",
      "6.70 m\n",
      "2.5058 m**2\n",
      "0.77 m\n",
      "getattr sqrt\n",
      "returning : <built-in method sqrt of decimal.Decimal object at 0x118847c00>\n"
     ]
    },
    {
     "data": {
      "text/plain": [
       "Decimal('1.414213562373095048801688724')"
      ]
     },
     "execution_count": 3,
     "metadata": {},
     "output_type": "execute_result"
    }
   ],
   "source": [
    "import decimal\n",
    "from decimal import Decimal\n",
    "\n",
    "from physipy import m\n",
    "    \n",
    "ctx = decimal.getcontext()\n",
    "print(ctx.prec)\n",
    "print(ctx.rounding)\n",
    " \n",
    "Decimal(value='0', context=None)\n",
    "x = Decimal((0, (3, 1, 4), -2))\n",
    " \n",
    "decimal.Decimal(4).copy_negate()\n",
    " \n",
    "data = list(map(Decimal, '1.34 1.87 3.45 2.35 1.00 0.03 9.25'.split()))\n",
    "data = [d*m for d in data]\n",
    "print(data)\n",
    "max(data)\n",
    "min(data)\n",
    "sorted(data)\n",
    "# sum(data) : can't work for 0 + m reason\n",
    "a,b,c = data[:3]\n",
    "str(a)\n",
    "#float(a)\n",
    "round(a, 1)\n",
    "#int(a)\n",
    "print(a * 5)\n",
    "print(a * b)\n",
    "print(c % a)\n",
    " \n",
    "# drops the unit\n",
    "(Decimal(2)*m).sqrt()"
   ]
  },
  {
   "cell_type": "code",
   "execution_count": null,
   "metadata": {},
   "outputs": [],
   "source": []
  }
 ],
 "metadata": {
  "kernelspec": {
   "display_name": "Python 3 (ipykernel)",
   "language": "python",
   "name": "python3"
  },
  "language_info": {
   "codemirror_mode": {
    "name": "ipython",
    "version": 3
   },
   "file_extension": ".py",
   "mimetype": "text/x-python",
   "name": "python",
   "nbconvert_exporter": "python",
   "pygments_lexer": "ipython3",
   "version": "3.8.5"
  }
 },
 "nbformat": 4,
 "nbformat_minor": 4
}
