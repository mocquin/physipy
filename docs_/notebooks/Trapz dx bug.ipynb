{
 "cells": [
  {
   "attachments": {},
   "cell_type": "markdown",
   "metadata": {},
   "source": [
    "https://github.com/numpy/numpy/issues/18902"
   ]
  },
  {
   "attachments": {},
   "cell_type": "markdown",
   "metadata": {},
   "source": [
    "Numpy trapz bug"
   ]
  },
  {
   "cell_type": "code",
   "execution_count": 1,
   "metadata": {},
   "outputs": [
    {
     "name": "stdout",
     "output_type": "stream",
     "text": [
      "Got into array function\n",
      "NumericalLabelled<8.0,adx>\n",
      "Got into array function\n",
      "NumericalLabelled<8.0,x>\n"
     ]
    },
    {
     "ename": "TypeError",
     "evalue": "unsupported operand type(s) for *: 'NumericalLabeled' and 'int'",
     "output_type": "error",
     "traceback": [
      "\u001b[0;31m---------------------------------------------------------------------------\u001b[0m",
      "\u001b[0;31mTypeError\u001b[0m                                 Traceback (most recent call last)",
      "\u001b[0;32m/var/folders/5k/bf4syt7x1zjbhc6b28srzzym0000gn/T/ipykernel_2710/3342824546.py\u001b[0m in \u001b[0;36m<module>\u001b[0;34m\u001b[0m\n\u001b[1;32m     67\u001b[0m     \u001b[0mprint\u001b[0m\u001b[0;34m(\u001b[0m\u001b[0mnp\u001b[0m\u001b[0;34m.\u001b[0m\u001b[0mtrapz\u001b[0m\u001b[0;34m(\u001b[0m\u001b[0mnp\u001b[0m\u001b[0;34m.\u001b[0m\u001b[0marange\u001b[0m\u001b[0;34m(\u001b[0m\u001b[0;36m5\u001b[0m\u001b[0;34m)\u001b[0m\u001b[0;34m,\u001b[0m \u001b[0mdx\u001b[0m\u001b[0;34m=\u001b[0m\u001b[0mhalf\u001b[0m\u001b[0;34m)\u001b[0m\u001b[0;34m)\u001b[0m\u001b[0;34m\u001b[0m\u001b[0;34m\u001b[0m\u001b[0m\n\u001b[1;32m     68\u001b[0m     \u001b[0;31m# TypeError: unsupported operand type(s) for *: 'NumericalLabeled' and 'int'\u001b[0m\u001b[0;34m\u001b[0m\u001b[0;34m\u001b[0m\u001b[0m\n\u001b[0;32m---> 69\u001b[0;31m \u001b[0mmain\u001b[0m\u001b[0;34m(\u001b[0m\u001b[0;34m)\u001b[0m\u001b[0;34m\u001b[0m\u001b[0;34m\u001b[0m\u001b[0m\n\u001b[0m",
      "\u001b[0;32m/var/folders/5k/bf4syt7x1zjbhc6b28srzzym0000gn/T/ipykernel_2710/3342824546.py\u001b[0m in \u001b[0;36mmain\u001b[0;34m()\u001b[0m\n\u001b[1;32m     65\u001b[0m     \u001b[0mprint\u001b[0m\u001b[0;34m(\u001b[0m\u001b[0mnp\u001b[0m\u001b[0;34m.\u001b[0m\u001b[0mtrapz\u001b[0m\u001b[0;34m(\u001b[0m\u001b[0mnp\u001b[0m\u001b[0;34m.\u001b[0m\u001b[0marange\u001b[0m\u001b[0;34m(\u001b[0m\u001b[0;36m5\u001b[0m\u001b[0;34m)\u001b[0m\u001b[0;34m,\u001b[0m \u001b[0mx\u001b[0m\u001b[0;34m=\u001b[0m\u001b[0mx\u001b[0m\u001b[0;34m)\u001b[0m\u001b[0;34m)\u001b[0m\u001b[0;34m\u001b[0m\u001b[0;34m\u001b[0m\u001b[0m\n\u001b[1;32m     66\u001b[0m     \u001b[0;31m# but not this\u001b[0m\u001b[0;34m\u001b[0m\u001b[0;34m\u001b[0m\u001b[0m\n\u001b[0;32m---> 67\u001b[0;31m     \u001b[0mprint\u001b[0m\u001b[0;34m(\u001b[0m\u001b[0mnp\u001b[0m\u001b[0;34m.\u001b[0m\u001b[0mtrapz\u001b[0m\u001b[0;34m(\u001b[0m\u001b[0mnp\u001b[0m\u001b[0;34m.\u001b[0m\u001b[0marange\u001b[0m\u001b[0;34m(\u001b[0m\u001b[0;36m5\u001b[0m\u001b[0;34m)\u001b[0m\u001b[0;34m,\u001b[0m \u001b[0mdx\u001b[0m\u001b[0;34m=\u001b[0m\u001b[0mhalf\u001b[0m\u001b[0;34m)\u001b[0m\u001b[0;34m)\u001b[0m\u001b[0;34m\u001b[0m\u001b[0;34m\u001b[0m\u001b[0m\n\u001b[0m\u001b[1;32m     68\u001b[0m     \u001b[0;31m# TypeError: unsupported operand type(s) for *: 'NumericalLabeled' and 'int'\u001b[0m\u001b[0;34m\u001b[0m\u001b[0;34m\u001b[0m\u001b[0m\n\u001b[1;32m     69\u001b[0m \u001b[0mmain\u001b[0m\u001b[0;34m(\u001b[0m\u001b[0;34m)\u001b[0m\u001b[0;34m\u001b[0m\u001b[0;34m\u001b[0m\u001b[0m\n",
      "\u001b[0;32m/opt/anaconda3/lib/python3.9/site-packages/numpy/core/overrides.py\u001b[0m in \u001b[0;36mtrapz\u001b[0;34m(*args, **kwargs)\u001b[0m\n",
      "\u001b[0;32m/opt/anaconda3/lib/python3.9/site-packages/numpy/lib/function_base.py\u001b[0m in \u001b[0;36mtrapz\u001b[0;34m(y, x, dx, axis)\u001b[0m\n\u001b[1;32m   4876\u001b[0m     \u001b[0mslice2\u001b[0m\u001b[0;34m[\u001b[0m\u001b[0maxis\u001b[0m\u001b[0;34m]\u001b[0m \u001b[0;34m=\u001b[0m \u001b[0mslice\u001b[0m\u001b[0;34m(\u001b[0m\u001b[0;32mNone\u001b[0m\u001b[0;34m,\u001b[0m \u001b[0;34m-\u001b[0m\u001b[0;36m1\u001b[0m\u001b[0;34m)\u001b[0m\u001b[0;34m\u001b[0m\u001b[0;34m\u001b[0m\u001b[0m\n\u001b[1;32m   4877\u001b[0m     \u001b[0;32mtry\u001b[0m\u001b[0;34m:\u001b[0m\u001b[0;34m\u001b[0m\u001b[0;34m\u001b[0m\u001b[0m\n\u001b[0;32m-> 4878\u001b[0;31m         \u001b[0mret\u001b[0m \u001b[0;34m=\u001b[0m \u001b[0;34m(\u001b[0m\u001b[0md\u001b[0m \u001b[0;34m*\u001b[0m \u001b[0;34m(\u001b[0m\u001b[0my\u001b[0m\u001b[0;34m[\u001b[0m\u001b[0mtuple\u001b[0m\u001b[0;34m(\u001b[0m\u001b[0mslice1\u001b[0m\u001b[0;34m)\u001b[0m\u001b[0;34m]\u001b[0m \u001b[0;34m+\u001b[0m \u001b[0my\u001b[0m\u001b[0;34m[\u001b[0m\u001b[0mtuple\u001b[0m\u001b[0;34m(\u001b[0m\u001b[0mslice2\u001b[0m\u001b[0;34m)\u001b[0m\u001b[0;34m]\u001b[0m\u001b[0;34m)\u001b[0m \u001b[0;34m/\u001b[0m \u001b[0;36m2.0\u001b[0m\u001b[0;34m)\u001b[0m\u001b[0;34m.\u001b[0m\u001b[0msum\u001b[0m\u001b[0;34m(\u001b[0m\u001b[0maxis\u001b[0m\u001b[0;34m)\u001b[0m\u001b[0;34m\u001b[0m\u001b[0;34m\u001b[0m\u001b[0m\n\u001b[0m\u001b[1;32m   4879\u001b[0m     \u001b[0;32mexcept\u001b[0m \u001b[0mValueError\u001b[0m\u001b[0;34m:\u001b[0m\u001b[0;34m\u001b[0m\u001b[0;34m\u001b[0m\u001b[0m\n\u001b[1;32m   4880\u001b[0m         \u001b[0;31m# Operations didn't work, cast to ndarray\u001b[0m\u001b[0;34m\u001b[0m\u001b[0;34m\u001b[0m\u001b[0m\n",
      "\u001b[0;31mTypeError\u001b[0m: unsupported operand type(s) for *: 'NumericalLabeled' and 'int'"
     ]
    }
   ],
   "source": [
    "import numpy as np\n",
    "\n",
    "HANDLED_FUNCTIONS = {}\n",
    "\n",
    "class NumericalLabeled():\n",
    "    def __init__(self, value, label=\"\"):\n",
    "        self.value = value\n",
    "        self.label = label\n",
    "        \n",
    "    def __repr__(self):\n",
    "        return \"NumericalLabelled<\"+str(self.value) + \",\" + self.label+\">\"\n",
    "    \n",
    "    def __array_function__(self, func, types, args, kwargs):\n",
    "        print(\"Got into array function\")\n",
    "        if func not in HANDLED_FUNCTIONS:\n",
    "            return NotImplemented\n",
    "        return HANDLED_FUNCTIONS[func](*args, **kwargs)\n",
    "    \n",
    "def make_numericallabelled(x, label=\"\"):\n",
    "    \"\"\"\n",
    "    Helper function to cast anything into a NumericalLabelled object.\n",
    "    \"\"\"\n",
    "    if isinstance(x, NumericalLabeled):\n",
    "        return x\n",
    "    else:\n",
    "        return NumericalLabeled(x, label=label)\n",
    "    \n",
    "# Numpy functions            \n",
    "# Override functions - used with __array_function__\n",
    "def implements(np_function):\n",
    "    def decorator(func):\n",
    "        HANDLED_FUNCTIONS[np_function] = func\n",
    "        return func\n",
    "    return decorator    \n",
    "    \n",
    "@implements(np.trapz)\n",
    "def np_trapz(q, x=None, dx=1, **kwargs):\n",
    "    \"\"\"\n",
    "    Numpy's trapz wrapper for NumericalLabelled.\n",
    "    \"\"\"\n",
    "    # first convert q into a NumericalLabelled to use `q.value` \n",
    "    q = make_numericallabelled(q)\n",
    "    if x is None:    \n",
    "        # using dx.value and dx.label\n",
    "        dx = make_numericallabelled(dx, label=\"dx\")\n",
    "        return NumericalLabeled(np.trapz(q.value, dx=dx.value, x=None, **kwargs),\n",
    "                                q.label + dx.label,\n",
    "                    )\n",
    "    else:\n",
    "        # using x/value and x.label\n",
    "        x = make_numericallabelled(x, label=\"x\")\n",
    "        return NumericalLabeled(np.trapz(q.value, x=x.value, **kwargs),\n",
    "                                q.label + x.label,\n",
    "                    )\n",
    "\n",
    "def main():\n",
    "    # create a scalar to use as dx\n",
    "    half = NumericalLabeled(0.5, \"half\")\n",
    "    # create an array to use as x\n",
    "    x = NumericalLabeled(np.arange(5), \"x\")\n",
    "    # then \n",
    "    # this works\n",
    "    print(np.trapz(NumericalLabeled(np.arange(5), \"a\")))\n",
    "    # this also works\n",
    "    print(np.trapz(np.arange(5), x=x))\n",
    "    # but not this\n",
    "    print(np.trapz(np.arange(5), dx=half))\n",
    "    # TypeError: unsupported operand type(s) for *: 'NumericalLabeled' and 'int'\n",
    "main()"
   ]
  },
  {
   "cell_type": "code",
   "execution_count": 2,
   "metadata": {},
   "outputs": [
    {
     "name": "stdout",
     "output_type": "stream",
     "text": [
      "1.24.1 3.9.7 (default, Sep 16 2021, 08:50:36) \n",
      "[Clang 10.0.0 ]\n"
     ]
    }
   ],
   "source": [
    "import sys, numpy; print(numpy.__version__, sys.version)"
   ]
  },
  {
   "attachments": {},
   "cell_type": "markdown",
   "metadata": {},
   "source": [
    "# random.normal array_function"
   ]
  },
  {
   "cell_type": "code",
   "execution_count": 3,
   "metadata": {},
   "outputs": [
    {
     "ename": "TypeError",
     "evalue": "Cannot cast scalar from dtype('O') to dtype('float64') according to the rule 'safe'",
     "output_type": "error",
     "traceback": [
      "\u001b[0;31m---------------------------------------------------------------------------\u001b[0m",
      "\u001b[0;31mTypeError\u001b[0m                                 Traceback (most recent call last)",
      "\u001b[0;32m/var/folders/5k/bf4syt7x1zjbhc6b28srzzym0000gn/T/ipykernel_2710/1787077945.py\u001b[0m in \u001b[0;36m<module>\u001b[0;34m\u001b[0m\n\u001b[1;32m     58\u001b[0m     \u001b[0;31m# TypeError: unsupported operand type(s) for *: 'NumericalLabeled' and 'int'\u001b[0m\u001b[0;34m\u001b[0m\u001b[0;34m\u001b[0m\u001b[0m\n\u001b[1;32m     59\u001b[0m \u001b[0;34m\u001b[0m\u001b[0m\n\u001b[0;32m---> 60\u001b[0;31m \u001b[0mmain\u001b[0m\u001b[0;34m(\u001b[0m\u001b[0;34m)\u001b[0m\u001b[0;34m\u001b[0m\u001b[0;34m\u001b[0m\u001b[0m\n\u001b[0m",
      "\u001b[0;32m/var/folders/5k/bf4syt7x1zjbhc6b28srzzym0000gn/T/ipykernel_2710/1787077945.py\u001b[0m in \u001b[0;36mmain\u001b[0;34m()\u001b[0m\n\u001b[1;32m     53\u001b[0m     \u001b[0mhalf\u001b[0m \u001b[0;34m=\u001b[0m \u001b[0mNumericalLabeled\u001b[0m\u001b[0;34m(\u001b[0m\u001b[0;36m0.5\u001b[0m\u001b[0;34m,\u001b[0m \u001b[0;34m\"half\"\u001b[0m\u001b[0;34m)\u001b[0m\u001b[0;34m\u001b[0m\u001b[0;34m\u001b[0m\u001b[0m\n\u001b[1;32m     54\u001b[0m     \u001b[0mloc\u001b[0m \u001b[0;34m=\u001b[0m \u001b[0mnp\u001b[0m\u001b[0;34m.\u001b[0m\u001b[0marray\u001b[0m\u001b[0;34m(\u001b[0m\u001b[0mhalf\u001b[0m\u001b[0;34m)\u001b[0m\u001b[0;34m\u001b[0m\u001b[0;34m\u001b[0m\u001b[0m\n\u001b[0;32m---> 55\u001b[0;31m     \u001b[0mprint\u001b[0m\u001b[0;34m(\u001b[0m\u001b[0mnp\u001b[0m\u001b[0;34m.\u001b[0m\u001b[0mrandom\u001b[0m\u001b[0;34m.\u001b[0m\u001b[0mnormal\u001b[0m\u001b[0;34m(\u001b[0m\u001b[0mloc\u001b[0m\u001b[0;34m=\u001b[0m\u001b[0mloc\u001b[0m\u001b[0;34m)\u001b[0m\u001b[0;34m)\u001b[0m\u001b[0;34m\u001b[0m\u001b[0;34m\u001b[0m\u001b[0m\n\u001b[0m\u001b[1;32m     56\u001b[0m     \u001b[0;31m# this raises a TypeError :\u001b[0m\u001b[0;34m\u001b[0m\u001b[0;34m\u001b[0m\u001b[0m\n\u001b[1;32m     57\u001b[0m     \u001b[0mprint\u001b[0m\u001b[0;34m(\u001b[0m\u001b[0mnp\u001b[0m\u001b[0;34m.\u001b[0m\u001b[0mrandom\u001b[0m\u001b[0;34m.\u001b[0m\u001b[0mnormal\u001b[0m\u001b[0;34m(\u001b[0m\u001b[0mloc\u001b[0m\u001b[0;34m=\u001b[0m\u001b[0mhalf\u001b[0m\u001b[0;34m)\u001b[0m\u001b[0;34m)\u001b[0m\u001b[0;34m\u001b[0m\u001b[0;34m\u001b[0m\u001b[0m\n",
      "\u001b[0;32mmtrand.pyx\u001b[0m in \u001b[0;36mnumpy.random.mtrand.RandomState.normal\u001b[0;34m()\u001b[0m\n",
      "\u001b[0;32m_common.pyx\u001b[0m in \u001b[0;36mnumpy.random._common.cont\u001b[0;34m()\u001b[0m\n",
      "\u001b[0;31mTypeError\u001b[0m: Cannot cast scalar from dtype('O') to dtype('float64') according to the rule 'safe'"
     ]
    }
   ],
   "source": [
    "import numpy as np\n",
    "\n",
    "HANDLED_FUNCTIONS = {}\n",
    "\n",
    "class NumericalLabeled():\n",
    "    def __init__(self, value, label=\"\"):\n",
    "        self.value = value\n",
    "        self.label = label\n",
    "        \n",
    "    def __repr__(self):\n",
    "        return \"NumericalLabelled<\"+str(self.value) + \",\" + self.label+\">\"\n",
    "    \n",
    "    def __array_function__(self, func, types, args, kwargs):\n",
    "        print(\"Got into array function\")\n",
    "        if func not in HANDLED_FUNCTIONS:\n",
    "            return NotImplemented\n",
    "        return HANDLED_FUNCTIONS[func](*args, **kwargs)\n",
    "    \n",
    "def make_numericallabelled(x, label=\"\"):\n",
    "    \"\"\"\n",
    "    Helper function to cast anything into a NumericalLabelled object.\n",
    "    \"\"\"\n",
    "    if isinstance(x, NumericalLabeled):\n",
    "        return x\n",
    "    else:\n",
    "        return NumericalLabeled(x, label=label)\n",
    "    \n",
    "# Numpy functions            \n",
    "# Override functions - used with __array_function__\n",
    "def implements(np_function):\n",
    "    def decorator(func):\n",
    "        HANDLED_FUNCTIONS[np_function] = func\n",
    "        return func\n",
    "    return decorator    \n",
    "    \n",
    "\n",
    "@implements(np.random.normal)\n",
    "def np_random_normal(loc=0.0, scale=1.0, **kwargs):\n",
    "    # cast both loc and scale into Numericallabelled\n",
    "    loc = make_numericallabelled(loc)\n",
    "    scale = make_numericallabelled(scale)\n",
    "    # check their label is \"compatible\"\n",
    "    if not loc.label == scale.label:\n",
    "        raise ValueError\n",
    "    return NumericalLabeled(np.random.rand(loc=loc.value,\n",
    "                                           scale=scale.value, **kwargs), \n",
    "                            loc.label+scale.label)\n",
    "\n",
    "\n",
    "\n",
    "def main():\n",
    "    # create two scalars\n",
    "    half = NumericalLabeled(0.5, \"half\")\n",
    "    loc = np.array(half)\n",
    "    print(np.random.normal(loc=loc))\n",
    "    # this raises a TypeError : \n",
    "    print(np.random.normal(loc=half))\n",
    "    # TypeError: unsupported operand type(s) for *: 'NumericalLabeled' and 'int'\n",
    "\n",
    "main()"
   ]
  }
 ],
 "metadata": {
  "kernelspec": {
   "display_name": "Python 3 (ipykernel)",
   "language": "python",
   "name": "python3"
  },
  "language_info": {
   "codemirror_mode": {
    "name": "ipython",
    "version": 3
   },
   "file_extension": ".py",
   "mimetype": "text/x-python",
   "name": "python",
   "nbconvert_exporter": "python",
   "pygments_lexer": "ipython3",
   "version": "3.9.7"
  }
 },
 "nbformat": 4,
 "nbformat_minor": 4
}
