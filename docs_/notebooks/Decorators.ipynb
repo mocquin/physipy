{
 "cells": [
  {
   "cell_type": "code",
   "execution_count": 1,
   "metadata": {},
   "outputs": [],
   "source": [
    "import matplotlib.pyplot as plt\n",
    "import numpy as np\n",
    "from numpy import pi\n",
    "import physipy\n",
    "from physipy import m, s, Quantity, Dimension, rad, units\n",
    "from physipy.quantity.utils import *"
   ]
  },
  {
   "attachments": {},
   "cell_type": "markdown",
   "metadata": {},
   "source": [
    "# Usefull decorators for dimensionfullness functions "
   ]
  },
  {
   "attachments": {},
   "cell_type": "markdown",
   "metadata": {},
   "source": [
    "Plenty of decorators are available."
   ]
  },
  {
   "attachments": {},
   "cell_type": "markdown",
   "metadata": {},
   "source": [
    "## Basic dimension checking\n",
    "The first decorator simply checks the dimension of the inputs and/or outputs.\n",
    "This can be used to :\n",
    " - avoid timy calculation that end up on a DimensionError\n",
    " - check the dimension of the output at its creation, not later when used with other quantities\n",
    " - quickly check that the function you implemented returns the expected dimension\n",
    " - restrict a function use to a specific dimension\n",
    "\n",
    "To specify the dimension:\n",
    " - a quantity can be used\n",
    " - a string represnetating the dimension,  like \"L\"\n",
    " - a Dimension object"
   ]
  },
  {
   "cell_type": "code",
   "execution_count": 2,
   "metadata": {
    "lines_to_next_cell": 2
   },
   "outputs": [
    {
     "name": "stdout",
     "output_type": "stream",
     "text": [
      "3 m\n",
      "2 m\n",
      "2 m\n"
     ]
    }
   ],
   "source": [
    "@check_dimension((\"L\", \"L\"), (\"L\"))\n",
    "def sum_length(x, y):\n",
    "    return x+y+1*m\n",
    "\n",
    "print(sum_length(1*m, 1*m))\n",
    "\n",
    "\n",
    "@check_dimension((m, m), (m))\n",
    "def sum_length(x, y):\n",
    "    \"This function could be used on any Quantity, but here restricted to lengths.\"\n",
    "    return x+y\n",
    "\n",
    "print(sum_length(1*m, 1*m))\n",
    "\n",
    "\n",
    "@check_dimension((Dimension(\"L\"), Dimension(\"L\")), (Dimension(\"L\")))\n",
    "def sum_length(x, y):\n",
    "    return x+y\n",
    "\n",
    "print(sum_length(1*m, 1*m))"
   ]
  },
  {
   "attachments": {},
   "cell_type": "markdown",
   "metadata": {},
   "source": [
    "## Favunit setting\n",
    "This decorator simply sets the favunit of the outputs"
   ]
  },
  {
   "cell_type": "code",
   "execution_count": 3,
   "metadata": {},
   "outputs": [
    {
     "name": "stdout",
     "output_type": "stream",
     "text": [
      "3123.0 mm\n"
     ]
    }
   ],
   "source": [
    "mm = units[\"mm\"]\n",
    "\n",
    "@set_favunit(mm)\n",
    "def sum_length(x, y):\n",
    "    return x+y+1*m\n",
    "print(sum_length(1*m, 1.123*m))"
   ]
  },
  {
   "attachments": {},
   "cell_type": "markdown",
   "metadata": {},
   "source": [
    "## Dimension checks and favunit setting"
   ]
  },
  {
   "attachments": {},
   "cell_type": "markdown",
   "metadata": {},
   "source": [
    "This decorator is a wrapper on `set_favunit` and `check_dimension`. The outputs' object will be used to check dimension and set as favunit"
   ]
  },
  {
   "cell_type": "code",
   "execution_count": 4,
   "metadata": {},
   "outputs": [
    {
     "name": "stdout",
     "output_type": "stream",
     "text": [
      "3123.0 mm\n"
     ]
    }
   ],
   "source": [
    "@dimension_and_favunit((m, m), mm)\n",
    "def sum_length(x, y):\n",
    "    return x+y+1*m\n",
    "print(sum_length(1*m, 1.123*m))"
   ]
  },
  {
   "attachments": {},
   "cell_type": "markdown",
   "metadata": {},
   "source": [
    "## Convert quantitys to dimensionless quantities\n",
    "Wrap functions that expect floats value in a certain unit"
   ]
  },
  {
   "cell_type": "code",
   "execution_count": 5,
   "metadata": {},
   "outputs": [
    {
     "name": "stdout",
     "output_type": "stream",
     "text": [
      "3201.0\n"
     ]
    }
   ],
   "source": [
    "@convert_to_unit(mm, mm)\n",
    "def sum_length_from_floats(x_mm, y_mm):\n",
    "    \"\"\"Expects values as floats in mm\"\"\"\n",
    "    return x_mm + y_mm + 1\n",
    "print(sum_length_from_floats(1.2*m, 2*m))"
   ]
  },
  {
   "attachments": {},
   "cell_type": "markdown",
   "metadata": {},
   "source": [
    "## Drop dimension\n",
    "Send the si value"
   ]
  },
  {
   "cell_type": "code",
   "execution_count": 6,
   "metadata": {},
   "outputs": [
    {
     "name": "stdout",
     "output_type": "stream",
     "text": [
      "4.2\n"
     ]
    }
   ],
   "source": [
    "@drop_dimension\n",
    "def sum_length_from_floats(x, y):\n",
    "    \"\"\"Expect dimensionless objects\"\"\"\n",
    "    return x + y + 1\n",
    "print(sum_length_from_floats(1.2*m, 2*m))"
   ]
  },
  {
   "attachments": {},
   "cell_type": "markdown",
   "metadata": {},
   "source": [
    "## Adding units to ouputs"
   ]
  },
  {
   "cell_type": "code",
   "execution_count": 7,
   "metadata": {},
   "outputs": [
    {
     "name": "stdout",
     "output_type": "stream",
     "text": [
      "(<Quantity : 4 m, symbol=m*UndefinedSymbol>, <Quantity : 10 s, symbol=s*UndefinedSymbol>)\n"
     ]
    }
   ],
   "source": [
    "@add_back_unit_param(m, s)\n",
    "def timed_sum(x_m, y_m):\n",
    "    time = 10\n",
    "    return x_m + y_m + 1, time\n",
    "print(timed_sum(1, 2))"
   ]
  },
  {
   "attachments": {},
   "cell_type": "markdown",
   "metadata": {},
   "source": [
    "## Enforce consistents dimension\n",
    "Force same dimension for inputs, without specifying which dimension"
   ]
  },
  {
   "cell_type": "code",
   "execution_count": 8,
   "metadata": {},
   "outputs": [
    {
     "name": "stdout",
     "output_type": "stream",
     "text": [
      "3 m\n"
     ]
    }
   ],
   "source": [
    "@decorate_with_various_unit(('A', 'A'), 'A')\n",
    "def another_sum(x, y):\n",
    "    return x + y\n",
    "print(another_sum(2*m, 1*m))"
   ]
  }
 ],
 "metadata": {
  "kernelspec": {
   "display_name": "Python 3 (ipykernel)",
   "language": "python",
   "name": "python3"
  },
  "language_info": {
   "codemirror_mode": {
    "name": "ipython",
    "version": 3
   },
   "file_extension": ".py",
   "mimetype": "text/x-python",
   "name": "python",
   "nbconvert_exporter": "python",
   "pygments_lexer": "ipython3",
   "version": "3.9.7"
  }
 },
 "nbformat": 4,
 "nbformat_minor": 4
}
