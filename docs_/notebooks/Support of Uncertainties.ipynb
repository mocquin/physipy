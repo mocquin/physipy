{
 "cells": [
  {
   "cell_type": "markdown",
   "metadata": {},
   "source": [
    "# Uncertainties support\n",
    "As of now, basic operations are transparently handled.\n",
    "\n",
    "Known issues : \n",
    " - `x.nominal_value` will return the float nominal value, while you would like a quantity value (3 m, not 3). Same goes for `std_dev` and `std_score`\n",
    " - `uncertainties.umath` will fail on non-dimensionless objects, but that the case also for Quantity with physipy.math\n",
    " - there probably is a need for work on `(2*x*m+3*m).derivatives[x]` to be done\n",
    " \n",
    "No array support testing has been done yet.\n",
    "Also, some printing/formating testing must be done."
   ]
  },
  {
   "cell_type": "code",
   "execution_count": 1,
   "metadata": {},
   "outputs": [],
   "source": [
    "import numpy as np\n",
    "import physipy\n",
    "from physipy.quantity.utils import asqarray\n",
    "from physipy import m, K, s, Quantity, Dimension"
   ]
  },
  {
   "cell_type": "code",
   "execution_count": 2,
   "metadata": {},
   "outputs": [],
   "source": [
    "import uncertainties\n",
    "from uncertainties import ufloat\n",
    "from uncertainties import umath\n",
    "from uncertainties.umath import *  # sin(), etc."
   ]
  },
  {
   "cell_type": "markdown",
   "metadata": {},
   "source": [
    "Define a quantity that hold the uncertainties value : "
   ]
  },
  {
   "cell_type": "code",
   "execution_count": 3,
   "metadata": {},
   "outputs": [
    {
     "name": "stdout",
     "output_type": "stream",
     "text": [
      "1.84+/-0.10\n",
      "1.84+/-0.10 m\n"
     ]
    }
   ],
   "source": [
    "height = ufloat(1.84, 0.1) \n",
    "qheight = height*m\n",
    "\n",
    "print(height)\n",
    "print(qheight)"
   ]
  },
  {
   "cell_type": "markdown",
   "metadata": {},
   "source": [
    "Uncertainties attributes are still available but without unit (hence the need of a better interface):"
   ]
  },
  {
   "cell_type": "code",
   "execution_count": 4,
   "metadata": {},
   "outputs": [
    {
     "name": "stdout",
     "output_type": "stream",
     "text": [
      "1.84\n",
      "0.1\n",
      "11.599999999999998\n"
     ]
    }
   ],
   "source": [
    "print(qheight.nominal_value)\n",
    "print(qheight.std_dev)\n",
    "print(qheight.std_score(3))"
   ]
  },
  {
   "cell_type": "markdown",
   "metadata": {},
   "source": [
    "Some operations fails like : "
   ]
  },
  {
   "cell_type": "code",
   "execution_count": 5,
   "metadata": {},
   "outputs": [
    {
     "ename": "TypeError",
     "evalue": "unhashable type: 'AffineScalarFunc'",
     "output_type": "error",
     "traceback": [
      "\u001b[0;31m---------------------------------------------------------------------------\u001b[0m",
      "\u001b[0;31mTypeError\u001b[0m                                 Traceback (most recent call last)",
      "\u001b[0;32m/var/folders/5k/bf4syt7x1zjbhc6b28srzzym0000gn/T/ipykernel_14915/4116227020.py\u001b[0m in \u001b[0;36m<module>\u001b[0;34m\u001b[0m\n\u001b[1;32m      2\u001b[0m \u001b[0mv\u001b[0m \u001b[0;34m=\u001b[0m \u001b[0mufloat\u001b[0m\u001b[0;34m(\u001b[0m\u001b[0;36m10\u001b[0m\u001b[0;34m,\u001b[0m \u001b[0;36m0.1\u001b[0m\u001b[0;34m)\u001b[0m \u001b[0;34m*\u001b[0m \u001b[0mm\u001b[0m\u001b[0;34m\u001b[0m\u001b[0;34m\u001b[0m\u001b[0m\n\u001b[1;32m      3\u001b[0m \u001b[0msum_value\u001b[0m \u001b[0;34m=\u001b[0m \u001b[0mu\u001b[0m \u001b[0;34m+\u001b[0m \u001b[0mv\u001b[0m\u001b[0;34m\u001b[0m\u001b[0;34m\u001b[0m\u001b[0m\n\u001b[0;32m----> 4\u001b[0;31m \u001b[0msum_value\u001b[0m\u001b[0;34m.\u001b[0m\u001b[0mderivatives\u001b[0m\u001b[0;34m[\u001b[0m\u001b[0mu\u001b[0m\u001b[0;34m.\u001b[0m\u001b[0mvalue\u001b[0m\u001b[0;34m]\u001b[0m\u001b[0;34m\u001b[0m\u001b[0;34m\u001b[0m\u001b[0m\n\u001b[0m",
      "\u001b[0;31mTypeError\u001b[0m: unhashable type: 'AffineScalarFunc'"
     ]
    }
   ],
   "source": [
    "u = ufloat(1, 0.1) * m\n",
    "v = ufloat(10, 0.1) * m\n",
    "sum_value = u + v\n",
    "sum_value.derivatives[u.value]"
   ]
  },
  {
   "cell_type": "markdown",
   "metadata": {
    "tags": []
   },
   "source": [
    "## Operations with other quantities \n",
    "are possible as long as uncertainties support the operation with the quantity's value : "
   ]
  },
  {
   "cell_type": "code",
   "execution_count": 9,
   "metadata": {},
   "outputs": [
    {
     "name": "stdout",
     "output_type": "stream",
     "text": [
      "3.68+/-0.20 m\n",
      "3.68+/-0.20 m**2\n",
      "3.4+/-0.4 m**2\n",
      "[0.0+/-0 1.84+/-0.1 3.68+/-0.2] m\n",
      "4.68+/-0.20 m\n"
     ]
    }
   ],
   "source": [
    "print(qheight*2)\n",
    "print(qheight*2*m)\n",
    "print(qheight**2)\n",
    "print(qheight*np.arange(3))\n",
    "print((2*qheight+1*m))"
   ]
  },
  {
   "cell_type": "markdown",
   "metadata": {},
   "source": [
    "## Operations with other uncertainties"
   ]
  },
  {
   "cell_type": "markdown",
   "metadata": {},
   "source": [
    "By default, an uncertainty that is not wrapped by a quantity is supposed to have no physical dimension"
   ]
  },
  {
   "cell_type": "code",
   "execution_count": 10,
   "metadata": {},
   "outputs": [
    {
     "name": "stdout",
     "output_type": "stream",
     "text": [
      "1.84+/-0.10 m\n",
      "3.68+/-0.27 m\n",
      "0.92+/-0.07 m\n"
     ]
    }
   ],
   "source": [
    "print(qheight)\n",
    "print(qheight * ufloat(2, 0.1))\n",
    "print(qheight / ufloat(2, 0.1))\n"
   ]
  },
  {
   "cell_type": "markdown",
   "metadata": {},
   "source": [
    "## Access to the individual sources of uncertainty\n",
    "based on https://pythonhosted.org/uncertainties/user_guide.html#access-to-the-individual-sources-of-uncertainty\n",
    "Again, we loose the unit falling back on the backend value : we would like to have : \n",
    "```\n",
    "21.00+/-0.22 m\n",
    "v variable: 0.2 m\n",
    "u variable: 0.1 m\n",
    "```"
   ]
  },
  {
   "cell_type": "code",
   "execution_count": 11,
   "metadata": {},
   "outputs": [
    {
     "name": "stdout",
     "output_type": "stream",
     "text": [
      "21.00+/-0.22 m\n",
      "v variable: 0.2\n",
      "u variable: 0.1\n"
     ]
    }
   ],
   "source": [
    "u = ufloat(1, 0.1, \"u variable\") * m  # Tag\n",
    "v = ufloat(10, 0.1, \"v variable\") * m\n",
    "sum_value = u+2*v\n",
    "print(sum_value)\n",
    "for (var, error) in sum_value.error_components().items():\n",
    "    print(\"{}: {}\".format(var.tag, error))"
   ]
  },
  {
   "cell_type": "markdown",
   "metadata": {},
   "source": [
    "# Comparison"
   ]
  },
  {
   "cell_type": "code",
   "execution_count": 12,
   "metadata": {},
   "outputs": [
    {
     "name": "stdout",
     "output_type": "stream",
     "text": [
      "True\n",
      "True\n",
      "1.00+/-0.10 m\n",
      "1.00+/-0.10 m\n",
      "True\n",
      "False\n"
     ]
    }
   ],
   "source": [
    "x = ufloat(0.20, 0.01) *m\n",
    "y = x + 0.0001*m\n",
    "\n",
    "print(y > x) # expect True\n",
    "print(y > 0*m) # expect True\n",
    "\n",
    "y = ufloat(1, 0.1) * m\n",
    "z = ufloat(1, 0.1) * m\n",
    "print(y)\n",
    "print(z)\n",
    "print(y == y) # expect True\n",
    "print(y == z) # expect False"
   ]
  },
  {
   "cell_type": "markdown",
   "metadata": {},
   "source": [
    "# Math module and numpy\n",
    "Not tested but will most likely fails as uncertainties relies on `umath` and `unumpy`. To be fair, physipy also have a `math` module that wraps the builtin one."
   ]
  },
  {
   "cell_type": "code",
   "execution_count": null,
   "metadata": {},
   "outputs": [],
   "source": []
  },
  {
   "cell_type": "code",
   "execution_count": null,
   "metadata": {},
   "outputs": [],
   "source": []
  },
  {
   "cell_type": "markdown",
   "metadata": {},
   "source": [
    "# Dirty Sandbox"
   ]
  },
  {
   "cell_type": "code",
   "execution_count": 13,
   "metadata": {},
   "outputs": [
    {
     "name": "stdout",
     "output_type": "stream",
     "text": [
      "<class 'uncertainties.core.Variable'>  ---  1.123+/-0.1                    --- 1.12+/-0.10\n",
      "<class 'physipy.quantity.quantity.Quantity'>  ---  <Quantity : 1.12+/-0.10 >      --- 1.12+/-0.10\n"
     ]
    }
   ],
   "source": [
    "def info(x): print(f\"{str(type(x)): <20}\", \" --- \", f\"{str(repr(x)): <30}\"+\" --- \"+f\"{str(x): <10}\")\n",
    "\n",
    "xuv = ufloat(1.123, 0.1) \n",
    "yuv = ufloat(2.123, 0.2)\n",
    "y = Quantity(ufloat(1.123, 0.1) , Dimension(None))\n",
    "xuvq = xuv * s\n",
    "yuvq = yuv * m\n",
    "zuvq = Quantity(xuv, Dimension(None))\n",
    "\n",
    "info(xuv)\n",
    "info(y)"
   ]
  },
  {
   "cell_type": "code",
   "execution_count": 14,
   "metadata": {},
   "outputs": [
    {
     "name": "stdout",
     "output_type": "stream",
     "text": [
      "<class 'uncertainties.core.Variable'>  ---  1.123+/-0.1                    --- 1.12+/-0.10\n",
      "<class 'physipy.quantity.quantity.Quantity'>  ---  <Quantity : 1.12+/-0.10 s, symbol=UndefinedSymbol*s> --- 1.12+/-0.10 s\n",
      "Add\n",
      "<class 'uncertainties.core.AffineScalarFunc'>  ---  2.123+/-0.1                    --- 2.12+/-0.10\n",
      "<class 'physipy.quantity.quantity.Quantity'>  ---  <Quantity : 2.12+/-0.10 s>     --- 2.12+/-0.10 s\n",
      "<class 'uncertainties.core.AffineScalarFunc'>  ---  2.246+/-0.2                    --- 2.25+/-0.20\n",
      "<class 'physipy.quantity.quantity.Quantity'>  ---  <Quantity : 2.25+/-0.20 s>     --- 2.25+/-0.20 s\n",
      "Prod by int\n",
      "<class 'uncertainties.core.AffineScalarFunc'>  ---  2.246+/-0.2                    --- 2.25+/-0.20\n",
      "<class 'physipy.quantity.quantity.Quantity'>  ---  <Quantity : 2.25+/-0.20 s, symbol=UndefinedSymbol**2*s> --- 2.25+/-0.20 s\n",
      "<class 'uncertainties.core.AffineScalarFunc'>  ---  2.246+/-0.2                    --- 2.25+/-0.20\n",
      "<class 'physipy.quantity.quantity.Quantity'>  ---  <Quantity : 2.25+/-0.20 s, symbol=UndefinedSymbol**2*s> --- 2.25+/-0.20 s\n",
      "Product\n",
      "<class 'uncertainties.core.AffineScalarFunc'>  ---  1.261129+/-0.22460000000000002 --- 1.26+/-0.22\n",
      "<class 'physipy.quantity.quantity.Quantity'>  ---  <Quantity : 1.26+/-0.22 s**2, symbol=UndefinedSymbol**2*s**2> --- 1.26+/-0.22 s**2\n",
      "<class 'uncertainties.core.AffineScalarFunc'>  ---  2.384129+/-0.30905735713617954 --- 2.38+/-0.31\n",
      "<class 'physipy.quantity.quantity.Quantity'>  ---  <Quantity : 2.38+/-0.31 m*s, symbol=UndefinedSymbol**2*m*s> --- 2.38+/-0.31 m*s\n",
      "Divide by int\n",
      "<class 'uncertainties.core.AffineScalarFunc'>  ---  0.5615+/-0.05                  --- 0.56+/-0.05\n",
      "<class 'physipy.quantity.quantity.Quantity'>  ---  <Quantity : 0.56+/-0.05 s, symbol=s> --- 0.56+/-0.05 s\n",
      "<class 'uncertainties.core.AffineScalarFunc'>  ---  1.7809439002671417+/-0.15858805879493693 --- 1.78+/-0.16\n",
      "<class 'physipy.quantity.quantity.Quantity'>  ---  <Quantity : 1.78+/-0.16 1/s, symbol=1/s> --- 1.78+/-0.16 1/s\n",
      "Divide by other\n",
      "<class 'uncertainties.core.AffineScalarFunc'>  ---  0.5289684408855393+/-0.06857078134133268 --- 0.53+/-0.07\n",
      "<class 'physipy.quantity.quantity.Quantity'>  ---  <Quantity : 0.53+/-0.07 s/m, symbol=s/m> --- 0.53+/-0.07 s/m\n",
      "Pow by int\n",
      "<class 'uncertainties.core.AffineScalarFunc'>  ---  1.261129+/-0.22460000000000002 --- 1.26+/-0.22\n",
      "<class 'physipy.quantity.quantity.Quantity'>  ---  <Quantity : 1.26+/-0.22 s**2, symbol=UndefinedSymbol**2*s**2> --- 1.26+/-0.22 s**2\n",
      "Pow by object\n",
      "<class 'uncertainties.core.AffineScalarFunc'>  ---  2.1779940306722128+/-0.15096704216368353 --- 2.18+/-0.15\n",
      "Math functions\n",
      "<class 'uncertainties.core.AffineScalarFunc'>  ---  0.901403437105813+/-0.0432980188431095 --- 0.90+/-0.04\n",
      "<class 'uncertainties.core.AffineScalarFunc'>  ---  1.0597169433391165+/-0.04718241065623849 --- 1.06+/-0.05\n",
      "Derivatives\n",
      "<class 'float'>       ---  2.0                            --- 2.0       \n",
      "<class 'float'>       ---  2.0                            --- 2.0       \n",
      "Attributes\n",
      "<class 'float'>       ---  1.123                          --- 1.123     \n",
      "<class 'float'>       ---  1.123                          --- 1.123     \n",
      "<class 'uncertainties.core.CallableStdDev'>  ---  0.1                            --- 0.1       \n",
      "<class 'uncertainties.core.CallableStdDev'>  ---  0.1                            --- 0.1       \n",
      "<class 'float'>       ---  18.77                          --- 18.77     \n",
      "<class 'float'>       ---  18.77                          --- 18.77     \n",
      "Numpy support\n"
     ]
    }
   ],
   "source": [
    "info(xuv)\n",
    "info(xuvq)\n",
    "\n",
    "print(\"Add\")\n",
    "info(xuv+1)\n",
    "info(xuvq+1*s)\n",
    "info(xuv+xuv)\n",
    "info(xuvq+xuvq)\n",
    "\n",
    "print(\"Prod by int\")\n",
    "info(2*xuv)\n",
    "info(2*xuvq)\n",
    "info(xuv*2)\n",
    "info(xuvq*2)\n",
    "\n",
    "print(\"Product\")\n",
    "info(xuv*xuv)\n",
    "info(xuvq*xuvq)\n",
    "\n",
    "info(xuv * yuv)\n",
    "info(xuvq * yuvq)\n",
    "\n",
    "print(\"Divide by int\")\n",
    "info(xuv/2)\n",
    "info(xuvq/2)\n",
    "\n",
    "info(2/xuv)\n",
    "info(2/xuvq)\n",
    "\n",
    "print(\"Divide by other\")\n",
    "info(xuv/yuv)\n",
    "info(xuvq/yuvq)\n",
    "\n",
    "print(\"Pow by int\")\n",
    "info(xuv**2)\n",
    "info(xuvq**2)\n",
    "\n",
    "print(\"Pow by object\")\n",
    "info(2**xuv)\n",
    "#info(2**xuvq) # TypeError: unsupported operand type(s) for ** or pow(): 'int' and 'Quantity'\n",
    "\n",
    "\n",
    "print(\"Math functions\")\n",
    "info(umath.sin(xuv))\n",
    "# info(umath.sin(zuvq)) # TypeError: can't convert an affine function (<class 'uncertainties.core.Variable'>) to float; use x.nominal_value\n",
    "info(umath.sqrt(xuv))\n",
    "# info(umath.sqrt(xuvq)) # DimensionError: Dimension error : dimension is T but should be no-dimension\n",
    "\n",
    "\n",
    "print(\"Derivatives\")\n",
    "info((2*xuv+1000).derivatives[xuv])\n",
    "info((2/m*xuvq+1000*s/m).derivatives[xuv]) # work to be done here\n",
    "\n",
    "\n",
    "print(\"Attributes\")\n",
    "info(xuv.nominal_value)\n",
    "info(xuvq.nominal_value) # needs to be wrapped with the unit\n",
    "info(xuv.std_dev)\n",
    "info(xuvq.std_dev) # needs to be wrapped with the unit\n",
    "info(xuv.std_score(3))\n",
    "info(xuvq.std_score(3)) # need to be wrapped with the unit\n",
    "\n",
    "\n",
    "print(\"Numpy support\")\n",
    "# todo, not trivial as to what the expected behavior is"
   ]
  },
  {
   "cell_type": "markdown",
   "metadata": {},
   "source": [
    "# Measurement : mix between Uncertainties and Pint\n",
    "https://pint.readthedocs.io/en/stable/measurement.html?highlight=uncertainty"
   ]
  },
  {
   "cell_type": "code",
   "execution_count": 15,
   "metadata": {
    "lines_to_next_cell": 2
   },
   "outputs": [
    {
     "ename": "AttributeError",
     "evalue": "Neither Quantity object nor its value (20.0) has attribute 'plus_minus'",
     "output_type": "error",
     "traceback": [
      "\u001b[0;31m---------------------------------------------------------------------------\u001b[0m",
      "\u001b[0;31mAttributeError\u001b[0m                            Traceback (most recent call last)",
      "\u001b[0;32m~/MYLIB10/MODULES/physipy/physipy/quantity/quantity.py\u001b[0m in \u001b[0;36m__getattr__\u001b[0;34m(self, item)\u001b[0m\n\u001b[1;32m    689\u001b[0m         \u001b[0;32mtry\u001b[0m\u001b[0;34m:\u001b[0m\u001b[0;34m\u001b[0m\u001b[0;34m\u001b[0m\u001b[0m\n\u001b[0;32m--> 690\u001b[0;31m             \u001b[0mres\u001b[0m \u001b[0;34m=\u001b[0m \u001b[0mgetattr\u001b[0m\u001b[0;34m(\u001b[0m\u001b[0mself\u001b[0m\u001b[0;34m.\u001b[0m\u001b[0mvalue\u001b[0m\u001b[0;34m,\u001b[0m \u001b[0mitem\u001b[0m\u001b[0;34m)\u001b[0m\u001b[0;34m\u001b[0m\u001b[0;34m\u001b[0m\u001b[0m\n\u001b[0m\u001b[1;32m    691\u001b[0m             \u001b[0;32mreturn\u001b[0m \u001b[0mres\u001b[0m\u001b[0;34m\u001b[0m\u001b[0;34m\u001b[0m\u001b[0m\n",
      "\u001b[0;31mAttributeError\u001b[0m: 'float' object has no attribute 'plus_minus'",
      "\nDuring handling of the above exception, another exception occurred:\n",
      "\u001b[0;31mAttributeError\u001b[0m                            Traceback (most recent call last)",
      "\u001b[0;32m/var/folders/5k/bf4syt7x1zjbhc6b28srzzym0000gn/T/ipykernel_14915/3626097708.py\u001b[0m in \u001b[0;36m<module>\u001b[0;34m\u001b[0m\n\u001b[1;32m      1\u001b[0m \u001b[0;32mimport\u001b[0m \u001b[0mnumpy\u001b[0m \u001b[0;32mas\u001b[0m \u001b[0mnp\u001b[0m\u001b[0;34m\u001b[0m\u001b[0;34m\u001b[0m\u001b[0m\n\u001b[0;32m----> 2\u001b[0;31m \u001b[0mbook_length\u001b[0m \u001b[0;34m=\u001b[0m \u001b[0;34m(\u001b[0m\u001b[0;36m20.\u001b[0m \u001b[0;34m*\u001b[0m \u001b[0mm\u001b[0m\u001b[0;34m)\u001b[0m\u001b[0;34m.\u001b[0m\u001b[0mplus_minus\u001b[0m\u001b[0;34m(\u001b[0m\u001b[0;36m2.\u001b[0m\u001b[0;34m)\u001b[0m\u001b[0;34m\u001b[0m\u001b[0;34m\u001b[0m\u001b[0m\n\u001b[0m\u001b[1;32m      3\u001b[0m \u001b[0mprint\u001b[0m\u001b[0;34m(\u001b[0m\u001b[0mbook_length\u001b[0m\u001b[0;34m.\u001b[0m\u001b[0mvalue\u001b[0m\u001b[0;34m)\u001b[0m\u001b[0;34m\u001b[0m\u001b[0;34m\u001b[0m\u001b[0m\n\u001b[1;32m      4\u001b[0m \u001b[0mprint\u001b[0m\u001b[0;34m(\u001b[0m\u001b[0;36m2\u001b[0m \u001b[0;34m*\u001b[0m \u001b[0mbook_length\u001b[0m\u001b[0;34m)\u001b[0m\u001b[0;34m\u001b[0m\u001b[0;34m\u001b[0m\u001b[0m\n",
      "\u001b[0;32m~/MYLIB10/MODULES/physipy/physipy/quantity/quantity.py\u001b[0m in \u001b[0;36m__getattr__\u001b[0;34m(self, item)\u001b[0m\n\u001b[1;32m    691\u001b[0m             \u001b[0;32mreturn\u001b[0m \u001b[0mres\u001b[0m\u001b[0;34m\u001b[0m\u001b[0;34m\u001b[0m\u001b[0m\n\u001b[1;32m    692\u001b[0m         \u001b[0;32mexcept\u001b[0m \u001b[0mAttributeError\u001b[0m \u001b[0;32mas\u001b[0m \u001b[0mex\u001b[0m\u001b[0;34m:\u001b[0m\u001b[0;34m\u001b[0m\u001b[0;34m\u001b[0m\u001b[0m\n\u001b[0;32m--> 693\u001b[0;31m             raise AttributeError(\"Neither Quantity object nor its value ({}) \"\n\u001b[0m\u001b[1;32m    694\u001b[0m                                  \"has attribute '{}'\".format(self.value, item))\n\u001b[1;32m    695\u001b[0m \u001b[0;34m\u001b[0m\u001b[0m\n",
      "\u001b[0;31mAttributeError\u001b[0m: Neither Quantity object nor its value (20.0) has attribute 'plus_minus'"
     ]
    }
   ],
   "source": [
    "import numpy as np\n",
    "book_length = (20. * m).plus_minus(2.)\n",
    "print(book_length.value)\n",
    "print(2 * book_length)"
   ]
  },
  {
   "cell_type": "code",
   "execution_count": null,
   "metadata": {},
   "outputs": [],
   "source": []
  }
 ],
 "metadata": {
  "kernelspec": {
   "display_name": "Python 3 (ipykernel)",
   "language": "python",
   "name": "python3"
  },
  "language_info": {
   "codemirror_mode": {
    "name": "ipython",
    "version": 3
   },
   "file_extension": ".py",
   "mimetype": "text/x-python",
   "name": "python",
   "nbconvert_exporter": "python",
   "pygments_lexer": "ipython3",
   "version": "3.9.7"
  }
 },
 "nbformat": 4,
 "nbformat_minor": 4
}
