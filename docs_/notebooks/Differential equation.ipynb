{
 "cells": [
  {
   "cell_type": "markdown",
   "id": "d7ff4fbc-04b9-4568-ba59-71f653fbbb8d",
   "metadata": {},
   "source": [
    "# Using scipy"
   ]
  },
  {
   "cell_type": "markdown",
   "id": "53cba92b-ef57-440c-8d41-cc5f84134533",
   "metadata": {},
   "source": [
    "## Introduction : without units"
   ]
  },
  {
   "cell_type": "markdown",
   "id": "229f872e-9dfb-4f00-b10f-77dee4cc46e8",
   "metadata": {},
   "source": [
    "Use the well known RC circuit as a use case : see [this post](https://medium.com/towards-data-science/interactive-plotting-the-well-know-rc-circuit-in-jupyter-d153c0e9d3a)."
   ]
  },
  {
   "cell_type": "code",
   "execution_count": 15,
   "id": "0830b963-31ba-49ae-8857-4445261b0995",
   "metadata": {},
   "outputs": [
    {
     "data": {
      "text/plain": [
       "  message: 'The solver successfully reached the end of the integration interval.'\n",
       "     nfev: 62\n",
       "     njev: 0\n",
       "      nlu: 0\n",
       "      sol: <scipy.integrate._ivp.common.OdeSolution object at 0x113fbda90>\n",
       "   status: 0\n",
       "  success: True\n",
       "        t: array([0.00000000e+00, 7.59946138e-09, 1.51989228e-08, 2.50223573e-08,\n",
       "       3.66479844e-08, 5.07872264e-08, 6.83868268e-08, 9.11738189e-08,\n",
       "       1.00000000e-07])\n",
       " t_events: None\n",
       "        y: array([[0.        , 0.53222838, 0.78118971, 0.91798159, 0.97425721,\n",
       "        0.99363364, 0.99879816, 0.99977132, 0.99990535]])\n",
       " y_events: None"
      ]
     },
     "execution_count": 15,
     "metadata": {},
     "output_type": "execute_result"
    },
    {
     "data": {
      "image/png": "[encoded data removed]",
      "text/plain": [
       "<Figure size 432x288 with 1 Axes>"
      ]
     },
     "metadata": {
      "needs_background": "light"
     },
     "output_type": "display_data"
    }
   ],
   "source": [
    "import matplotlib.pyplot as plt\n",
    "import scipy.integrate\n",
    "import numpy as np\n",
    " \n",
    "# in Ohms\n",
    "R = 10000\n",
    "# in Farad\n",
    "capa = 1*10**-12\n",
    "# time constant\n",
    "tau= R*capa\n",
    "# Source in volts\n",
    "Ve = 1\n",
    "# initial tension in volts\n",
    "y0 = [0]\n",
    " \n",
    "def analytical_solution(t):\n",
    "    return (y0[0]-Ve)*np.exp(-t/tau) + Ve\n",
    " \n",
    "def source_tension(t):\n",
    "    return Ve\n",
    " \n",
    "def RHS_dydt(t, y):\n",
    "    return 1/(tau)*(source_tension(t) - y)\n",
    " \n",
    "t_span = (0, 10*tau)\n",
    "\n",
    "solution = scipy.integrate.solve_ivp(\n",
    "    RHS_dydt,\n",
    "    t_span,\n",
    "    y0,\n",
    "    dense_output=True,\n",
    ")\n",
    "\n",
    "# lets visualize the solver's solution along\n",
    "# with the analytical solution\n",
    "fig, ax = plt.subplots()\n",
    "ech_t = np.linspace(0, 10*tau)\n",
    "\n",
    "ax.plot(ech_t,\n",
    "        solution.sol(ech_t)[0],\n",
    "        \"-o\", \n",
    "        label=\"Solver's solution\")\n",
    "ax.plot(ech_t,\n",
    "        analytical_solution(ech_t),\n",
    "        label=\"Analytical solution\")\n",
    "ax.legend()\n",
    "solution"
   ]
  },
  {
   "cell_type": "markdown",
   "id": "8d014a3d-bb3b-48ff-bced-45c37a9d03a7",
   "metadata": {},
   "source": [
    "## With units\n",
    "We use the convenience function wrapped `from physipy.integrate import solve_ivp`"
   ]
  },
  {
   "cell_type": "code",
   "execution_count": 1,
   "id": "9db5acbf-53fb-464c-b16a-cf6a15728654",
   "metadata": {},
   "outputs": [],
   "source": [
    "import matplotlib.pyplot as plt\n",
    "import scipy.integrate\n",
    "import numpy as np\n",
    " \n",
    "from physipy import units, s, set_favunit, setup_matplotlib\n",
    "from physipy.integrate import solve_ivp\n",
    "    \n",
    "setup_matplotlib()\n",
    "    \n",
    "ohm = units[\"ohm\"]\n",
    "F = units[\"F\"]\n",
    "V = units[\"V\"]\n",
    "\n",
    "# in Ohms\n",
    "R = 10000 * ohm\n",
    "# in Farad\n",
    "capa = 1*10**-12 * F\n",
    "# time constant\n",
    "tau= R*capa\n",
    "# Source in volts\n",
    "Ve = 1 * V\n",
    "# initial tension in volts\n",
    "y0 = [0*V]\n",
    "\n",
    "@set_favunit(V)\n",
    "def analytical_solution(t):\n",
    "    return (y0[0]-Ve)*np.exp(-t/tau) + Ve\n",
    " \n",
    "def RHS_dydt(t, y):\n",
    "    return 1/(tau)*(Ve - y)\n",
    " \n",
    "t_span = (0*s, 10*tau)\n",
    "\n",
    "solution = solve_ivp(\n",
    "    RHS_dydt,\n",
    "    t_span,\n",
    "    y0,\n",
    "    dense_output=True,\n",
    ")"
   ]
  },
  {
   "cell_type": "code",
   "execution_count": 14,
   "id": "e6ae1267-629c-42dc-bade-9771e56c6111",
   "metadata": {},
   "outputs": [
    {
     "data": {
      "text/latex": [
       "[  0.           7.59946138  15.19892276  25.02235729  36.64798437\n",
       "  50.78722641  68.38682684  91.17381893 100.        ]$\\,ns$"
      ],
      "text/plain": [
       "<Quantity : [0.00000000e+00 7.59946138e-09 1.51989228e-08 2.50223573e-08\n",
       " 3.66479844e-08 5.07872264e-08 6.83868268e-08 9.11738189e-08\n",
       " 1.00000000e-07] s>"
      ]
     },
     "execution_count": 14,
     "metadata": {},
     "output_type": "execute_result"
    }
   ],
   "source": [
    "solution.t"
   ]
  },
  {
   "cell_type": "code",
   "execution_count": 15,
   "id": "470f7021-b3a7-4d11-a058-3fec1aa91443",
   "metadata": {},
   "outputs": [
    {
     "data": {
      "text/latex": [
       "[0.         0.53222838 0.78118971 0.91798159 0.97425721 0.99363364\n",
       " 0.99879816 0.99977132 0.99990535]$\\,V$"
      ],
      "text/plain": [
       "<Quantity : [0.         0.53222838 0.78118971 0.91798159 0.97425721 0.99363364\n",
       " 0.99879816 0.99977132 0.99990535] kg*m**2/(A*s**3)>"
      ]
     },
     "execution_count": 15,
     "metadata": {},
     "output_type": "execute_result"
    }
   ],
   "source": [
    "solution.y[0]"
   ]
  },
  {
   "cell_type": "code",
   "execution_count": 14,
   "id": "12e917da-be05-4838-a378-09d2edd1a144",
   "metadata": {},
   "outputs": [
    {
     "data": {
      "text/latex": [
       "[-3.53337710e+27 -4.04876348e+27 -4.96710881e+27 -4.14687472e+27\n",
       " -5.23213177e+27 -6.49330444e+27 -5.23213177e+27 -6.63487996e+27\n",
       " -7.99034760e+27 -6.49330444e+27 -7.99034760e+27 -9.24707937e+27\n",
       " -7.73180600e+27 -9.14570104e+27 -1.01782558e+28]$\\,V$"
      ],
      "text/plain": [
       "<Quantity : [-3.53337710e+27 -4.04876348e+27 -4.96710881e+27 -4.14687472e+27\n",
       " -5.23213177e+27 -6.49330444e+27 -5.23213177e+27 -6.63487996e+27\n",
       " -7.99034760e+27 -6.49330444e+27 -7.99034760e+27 -9.24707937e+27\n",
       " -7.73180600e+27 -9.14570104e+27 -1.01782558e+28] kg*m**2/(A*s**3)>"
      ]
     },
     "execution_count": 14,
     "metadata": {},
     "output_type": "execute_result"
    }
   ],
   "source": [
    "solution.sol(1)"
   ]
  },
  {
   "cell_type": "code",
   "execution_count": 4,
   "id": "71e39a09-0028-4d8e-ad1c-8a338155a49e",
   "metadata": {},
   "outputs": [
    {
     "name": "stderr",
     "output_type": "stream",
     "text": [
      "/Users/mocquin/MYLIB10/MODULES/physipy/physipy/quantity/quantity.py:685: UserWarning: The unit of the quantity is stripped for __array_struct__\n",
      "  warnings.warn(f\"The unit of the quantity is stripped for {item}\")\n"
     ]
    },
    {
     "data": {
      "text/plain": [
       "<matplotlib.legend.Legend at 0x11c3934f0>"
      ]
     },
     "execution_count": 4,
     "metadata": {},
     "output_type": "execute_result"
    },
    {
     "data": {
      "image/png": "[encoded data removed]",
      "text/plain": [
       "<Figure size 432x288 with 1 Axes>"
      ]
     },
     "metadata": {
      "needs_background": "light"
     },
     "output_type": "display_data"
    }
   ],
   "source": [
    "# lets visualize the solver's solution along\n",
    "# with the analytical solution\n",
    "fig, ax = plt.subplots()\n",
    "ech_t = np.linspace(0*s, 10*tau)\n",
    "\n",
    "ax.plot(ech_t,\n",
    "        solution.sol(ech_t)[0],\n",
    "        \"-o\", \n",
    "        label=\"Solver's solution\")\n",
    "ax.plot(ech_t,\n",
    "        analytical_solution(ech_t),\n",
    "        \"--\",\n",
    "        label=\"Analytical solution\")\n",
    "ax.legend()"
   ]
  },
  {
   "cell_type": "code",
   "execution_count": 12,
   "id": "4a14a48e-5ecd-441e-b824-761b0a557408",
   "metadata": {},
   "outputs": [
    {
     "name": "stdout",
     "output_type": "stream",
     "text": [
      "[            nan  6.50659914e-02  4.26739969e-02 -2.48627349e-03\n",
      " -1.21530454e-02  1.23336934e-03  2.12741657e-04 -8.61517124e-03\n",
      " -4.24913218e-03  9.17517376e-03  1.02650454e-02 -1.48950007e-03\n",
      " -1.25405664e-02 -6.59874214e-03  4.38860642e-03  7.90683925e-03\n",
      "  1.62129854e-03 -9.21815606e-03 -1.35626641e-02 -6.10021428e-03\n",
      "  2.88558322e-03  7.12942648e-03  4.57301468e-03 -3.25857596e-03\n",
      " -1.17374258e-02 -1.35648949e-02 -7.68558735e-03 -4.25162696e-04\n",
      "  4.83081639e-03  6.28549470e-03  3.59206358e-03 -2.25678671e-03\n",
      " -9.01744952e-03 -1.32666908e-02 -1.13638004e-02 -6.42653459e-03\n",
      " -1.02849727e-03  3.40529747e-03  5.94751006e-03  6.14723792e-03\n",
      "  4.01282719e-03 -2.05914180e-06 -5.00974856e-03 -9.69774644e-03\n",
      " -1.23362084e-02 -1.11315653e-02 -9.06998563e-03 -7.39385775e-03\n",
      " -6.03461067e-03 -4.92555702e-03]\n"
     ]
    }
   ],
   "source": [
    "print((solution.sol(ech_t)[0]/ analytical_solution(ech_t)-1)*100)"
   ]
  },
  {
   "cell_type": "markdown",
   "id": "505542e7-75d2-4a40-a7fb-5bd7440b6981",
   "metadata": {},
   "source": [
    "## Solve multiple equations"
   ]
  },
  {
   "cell_type": "markdown",
   "id": "a03ce12e-064d-45b8-9184-4618ce1d4096",
   "metadata": {},
   "source": [
    "We create various systems with different parameters and use numpy broadcasting : \n",
    " - several resistance\n",
    " - several capa\n",
    " \n",
    "The only modification must be : \n",
    " - t_span is the same for all systems, so still a 2-uple\n",
    " - must specify initial condition for each system, so y0 is now a N-iterable (for N systems)"
   ]
  },
  {
   "cell_type": "code",
   "execution_count": 8,
   "id": "dad1726b-f6b5-4351-87bf-d07d2c20ff58",
   "metadata": {},
   "outputs": [
    {
     "data": {
      "text/plain": [
       "  message: 'The solver successfully reached the end of the integration interval.'\n",
       "     nfev: 56\n",
       "     njev: 0\n",
       "      nlu: 0\n",
       "      sol: <function solve_ivp.<locals>.sol_q at 0x1051a0940>\n",
       "   status: 0\n",
       "  success: True\n",
       "        t: <Quantity : [0.00000000e+00 6.66666667e-10 1.33333333e-09 2.00000000e-09\n",
       " 2.66666667e-09 3.33333333e-09 4.00000000e-09 4.66666667e-09\n",
       " 5.33333333e-09 6.00000000e-09 6.66666667e-09 7.33333333e-09\n",
       " 8.00000000e-09 8.66666667e-09 9.33333333e-09 1.00000000e-08\n",
       " 1.06666667e-08 1.13333333e-08 1.20000000e-08 1.26666667e-08\n",
       " 1.33333333e-08 1.40000000e-08 1.46666667e-08 1.53333333e-08\n",
       " 1.60000000e-08 1.66666667e-08 1.73333333e-08 1.80000000e-08\n",
       " 1.86666667e-08 1.93333333e-08 2.00000000e-08 2.06666667e-08\n",
       " 2.13333333e-08 2.20000000e-08 2.26666667e-08 2.33333333e-08\n",
       " 2.40000000e-08 2.46666667e-08 2.53333333e-08 2.60000000e-08\n",
       " 2.66666667e-08 2.73333333e-08 2.80000000e-08 2.86666667e-08\n",
       " 2.93333333e-08 3.00000000e-08 3.06666667e-08 3.13333333e-08\n",
       " 3.20000000e-08 3.26666667e-08 3.33333333e-08 3.40000000e-08\n",
       " 3.46666667e-08 3.53333333e-08 3.60000000e-08 3.66666667e-08\n",
       " 3.73333333e-08 3.80000000e-08 3.86666667e-08 3.93333333e-08\n",
       " 4.00000000e-08 4.06666667e-08 4.13333333e-08 4.20000000e-08\n",
       " 4.26666667e-08 4.33333333e-08 4.40000000e-08 4.46666667e-08\n",
       " 4.53333333e-08 4.60000000e-08 4.66666667e-08 4.73333333e-08\n",
       " 4.80000000e-08 4.86666667e-08 4.93333333e-08 5.00000000e-08\n",
       " 5.06666667e-08 5.13333333e-08 5.20000000e-08 5.26666667e-08\n",
       " 5.33333333e-08 5.40000000e-08 5.46666667e-08 5.53333333e-08\n",
       " 5.60000000e-08 5.66666667e-08 5.73333333e-08 5.80000000e-08\n",
       " 5.86666667e-08 5.93333333e-08 6.00000000e-08 6.06666667e-08\n",
       " 6.13333333e-08 6.20000000e-08 6.26666667e-08 6.33333333e-08\n",
       " 6.40000000e-08 6.46666667e-08 6.53333333e-08 6.60000000e-08] s>\n",
       " t_events: None\n",
       "        y: <Quantity : [[0.         0.08852912 0.16933192 ... 0.99974839 0.99977063 0.99979091]\n",
       " [0.         0.08000768 0.15367455 ... 0.99957282 0.99960697 0.9996384 ]\n",
       " [0.         0.07298979 0.14068705 ... 0.99924696 0.99930189 0.99935282]\n",
       " ...\n",
       " [0.         0.05987179 0.11616993 ... 0.9974089  0.997564   0.99770982]\n",
       " [0.         0.05404617 0.10517745 ... 0.99536746 0.9956178  0.99585461]\n",
       " [0.         0.04925425 0.09608611 ... 0.99249411 0.99286378 0.99321524]] kg*m**2/(A*s**3)>\n",
       " y_events: None"
      ]
     },
     "execution_count": 8,
     "metadata": {},
     "output_type": "execute_result"
    }
   ],
   "source": [
    "import matplotlib.pyplot as plt\n",
    "import scipy.integrate\n",
    "import numpy as np\n",
    " \n",
    "from physipy import units, s, set_favunit, setup_matplotlib\n",
    "from physipy.integrate import solve_ivp\n",
    "    \n",
    "setup_matplotlib()\n",
    "    \n",
    "ohm = units[\"ohm\"]\n",
    "F = units[\"F\"]\n",
    "V = units[\"V\"]\n",
    "\n",
    "Rs_, capas_ = np.meshgrid(10000 * ohm + np.linspace(-1000, +1000, num=3)*ohm, \n",
    "                          1*10**-12 * F + np.linspace(-0.2, 0.2, num=5)*10**-12*F,\n",
    "                         )\n",
    "# in Ohms\n",
    "R = Rs_.flatten()\n",
    "R.favunit = ohm\n",
    "# in Farad\n",
    "capa = capas_.flatten()\n",
    "capa.favunit = F\n",
    "# time constant\n",
    "tau= R*capa\n",
    "# Source in volts\n",
    "Ve = 1 * V\n",
    "# initial tension in volts\n",
    "y0 = np.ones_like(R)* 0*V\n",
    "\n",
    "def RHS_dydt(t, y):\n",
    "    return 1/(tau)*(Ve - y)\n",
    " \n",
    "t_span = (0*s, 5*np.max(tau))\n",
    "\n",
    "solution = solve_ivp(\n",
    "    RHS_dydt,\n",
    "    t_span,\n",
    "    y0,\n",
    "    dense_output=True,\n",
    "    t_eval=np.linspace(0*s, 5*np.max(tau), num=100),\n",
    ")\n",
    "solution"
   ]
  },
  {
   "cell_type": "code",
   "execution_count": 9,
   "id": "7081c7fc-3b95-4a39-8cad-5f0ebbd01e18",
   "metadata": {},
   "outputs": [
    {
     "data": {
      "text/plain": [
       "<matplotlib.legend.Legend at 0x113913040>"
      ]
     },
     "execution_count": 9,
     "metadata": {},
     "output_type": "execute_result"
    },
    {
     "data": {
      "image/png": "[encoded data removed]",
      "text/plain": [
       "<Figure size 864x576 with 1 Axes>"
      ]
     },
     "metadata": {
      "needs_background": "light"
     },
     "output_type": "display_data"
    }
   ],
   "source": [
    "@set_favunit(V)\n",
    "def analytical_solution(t):\n",
    "    return (y0-Ve)*np.exp(-t/tau) + Ve\n",
    " \n",
    "ns = units[\"ns\"]\n",
    "tau.favunit = ns\n",
    "    \n",
    "analytical_solutions = analytical_solution(solution.t[:, np.newaxis]).T\n",
    "\n",
    "fig, ax = plt.subplots(figsize=(12, 8))\n",
    "for i in range(len(R)):\n",
    "    ax.plot(solution.t,\n",
    "            solution.y[i],\n",
    "            label=f\"Numercial Tau={tau[i]:.2f}\")\n",
    "    ax.plot(solution.t,\n",
    "            analytical_solutions[i], \n",
    "            \"o\", \n",
    "            label=f\"Analytical Tau={tau[i]:.2f}\")\n",
    "ax.legend()"
   ]
  },
  {
   "cell_type": "markdown",
   "id": "f33f55cb-c54d-461a-8dc7-02f0f510e91f",
   "metadata": {},
   "source": [
    "## Performance comparison"
   ]
  },
  {
   "cell_type": "code",
   "execution_count": 3,
   "id": "aa09ee6b-7a5b-411d-9629-78ba50fb8331",
   "metadata": {},
   "outputs": [
    {
     "name": "stdout",
     "output_type": "stream",
     "text": [
      "995 µs ± 7.37 µs per loop (mean ± std. dev. of 7 runs, 1000 loops each)\n",
      "906 µs ± 10.2 µs per loop (mean ± std. dev. of 7 runs, 1000 loops each)\n",
      "6.37 ms ± 139 µs per loop (mean ± std. dev. of 7 runs, 100 loops each)\n",
      "6.27 ms ± 131 µs per loop (mean ± std. dev. of 7 runs, 100 loops each)\n"
     ]
    }
   ],
   "source": [
    "def timeit_without_unit():\n",
    "    import scipy.integrate\n",
    "    import numpy as np\n",
    "     \n",
    "    # in Ohms\n",
    "    R = 10000\n",
    "    # in Farad\n",
    "    capa = 1*10**-12\n",
    "    # time constant\n",
    "    tau= R*capa\n",
    "    # Source in volts\n",
    "    Ve = 1\n",
    "    # initial tension in volts\n",
    "    y0 = [0]\n",
    "\n",
    "    def RHS_dydt(t, y):\n",
    "        return 1/(tau)*(source_tension(t) - y)\n",
    "     \n",
    "    t_span = (0, 10*tau)\n",
    "    \n",
    "    %timeit scipy.integrate.solve_ivp(RHS_dydt, t_span, y0, dense_output=True)\n",
    "    %timeit scipy.integrate.solve_ivp(RHS_dydt, t_span, y0, dense_output=False)\n",
    "    \n",
    "\n",
    "def timeit_with_unit():\n",
    "    import numpy as np\n",
    "    from physipy.integrate import solve_ivp     \n",
    "    from physipy import units, s, set_favunit, setup_matplotlib\n",
    "        \n",
    "    setup_matplotlib()\n",
    "        \n",
    "    ohm = units[\"ohm\"]\n",
    "    F = units[\"F\"]\n",
    "    V = units[\"V\"]\n",
    "    \n",
    "    # in Ohms\n",
    "    R = 10000 * ohm\n",
    "    # in Farad\n",
    "    capa = 1*10**-12 * F\n",
    "    # time constant\n",
    "    tau= R*capa\n",
    "    # Source in volts\n",
    "    Ve = 1 * V\n",
    "    # initial tension in volts\n",
    "    y0 = [0*V]\n",
    "     \n",
    "    def RHS_dydt(t, y):\n",
    "        return 1/(tau)*(Ve - y)\n",
    "     \n",
    "    t_span = (0*s, 10*tau)\n",
    "\n",
    "    %timeit solve_ivp(RHS_dydt, t_span, y0, dense_output=True)\n",
    "    %timeit solve_ivp(RHS_dydt, t_span, y0, dense_output=False)\n",
    "\n",
    "    \n",
    "timeit_without_unit()\n",
    "timeit_with_unit()"
   ]
  },
  {
   "cell_type": "markdown",
   "id": "637961d2-9da1-4b1f-a888-f75ae8526709",
   "metadata": {},
   "source": [
    "So, yeah, do not use units if performance is important..."
   ]
  },
  {
   "cell_type": "code",
   "execution_count": null,
   "id": "a5be889f-4bd9-4026-9e50-e54201048cde",
   "metadata": {},
   "outputs": [],
   "source": []
  },
  {
   "cell_type": "code",
   "execution_count": null,
   "id": "ce98113e-cc29-435b-bc78-754cfea027ce",
   "metadata": {},
   "outputs": [],
   "source": []
  },
  {
   "cell_type": "markdown",
   "id": "4c5d0a4b-8455-4c36-b9c4-71def36bda3a",
   "metadata": {},
   "source": [
    "# Numerical methods"
   ]
  },
  {
   "cell_type": "markdown",
   "id": "93656c7d-4e55-40da-9a0a-57367e91e552",
   "metadata": {},
   "source": [
    "## Explicit-forward euler, or rectangle from the left"
   ]
  },
  {
   "cell_type": "markdown",
   "id": "008d70b3-57ff-4e6f-8424-ad37091cbcfa",
   "metadata": {},
   "source": [
    "Called explicit because the value of $y_{t+dt}$ is computed using the current-know value of $y(t)$\n",
    "$$y_{t+dt} - y_t = \\int_{t}^{t+dt}f(t, y(t))df \\approx dt f(t, y(t)) $$\n",
    "hence \n",
    "$$y_{t+dt} \\approx y_t  + dt f(t, y(t)) $$\n",
    "\n",
    "This method has error $e_1 = \\frac{1}{2}dt (dt\\cdot slope) = \\frac{dt^2}{2}slope$ since the error is the rectangle-triangle with base dt and side $dt slope$. Cumulating on N segments thats divides the total time T with dt sub-segments $N=T/dt$, with get a cumulated error of $E=Ne_1=T/dt \\frac{dt^2}{2}slope = \\frac{T}{2}dt slope$, hence proportional to dt : we say that the error is of order 1."
   ]
  },
  {
   "cell_type": "markdown",
   "id": "b5ac4b22-b034-4fd3-b02f-f814d37c15f3",
   "metadata": {},
   "source": [
    "## Implicit-backward euler, or rectangle from the right"
   ]
  },
  {
   "cell_type": "markdown",
   "id": "ac52c320-e421-43b3-80fd-144e146f03ab",
   "metadata": {},
   "source": [
    "Called implicit because the value of $y_{t+dt}$ is computed using the same value  $y_{t+dt}$ : it requires the use of another algorithm to resolve the unknown\n",
    "$$y_{t+dt} - y_t = \\int_{t}^{t+dt}f(t, y(t))df \\approx dt f(t+dt, y(t+dt))$$\n",
    "The error of this method is the opposite of that of the explicit method, hence also of order 1."
   ]
  },
  {
   "cell_type": "markdown",
   "id": "1964e11a-2710-46f6-9e9f-65ae3491f076",
   "metadata": {},
   "source": [
    "## Trapezoidal"
   ]
  },
  {
   "cell_type": "markdown",
   "id": "fa671b5d-c196-428e-97c6-72d2c8c027ff",
   "metadata": {},
   "source": [
    "Mix between left and right rectangle"
   ]
  },
  {
   "cell_type": "markdown",
   "id": "af148d80-b378-4759-b40e-be5d7833f56a",
   "metadata": {},
   "source": [
    "$$y_{t+dt} - y_t \\approx dt \\frac{1}{2}\\left( f(t, y(t)) + f(t+dt, y(t+dt)) \\right)$$"
   ]
  },
  {
   "cell_type": "markdown",
   "id": "b132f82b-8d17-4c20-8d96-63a1f6e5a3fe",
   "metadata": {},
   "source": [
    "For now this equation is implicit, because $y_{t+dt}$ appears on both sides. We can turn it into explicit using : \n",
    "$$y(t+dt) \\approx y(t) + dt f(t,y(t))$$\n",
    "hence\n",
    "$$y_{t+dt} - y_t \\approx dt \\frac{1}{2}\\left( f(t, y(t)) + f(t+dt, y(t) + dt f(t,y(t))) \\right)$$"
   ]
  },
  {
   "cell_type": "markdown",
   "id": "eec12f63-13cb-4b90-9024-c8dbf262ef68",
   "metadata": {},
   "source": [
    "This method introduces 2 sources of errors : "
   ]
  },
  {
   "cell_type": "markdown",
   "id": "8965846d-1cf5-4567-84d4-f0610c171bfa",
   "metadata": {},
   "source": [
    "## Leap frog\n",
    "First you calculate the new positions based on the old velocity and the old acceleration. Then you calculate the new acceleration, which is only a function of the new position. And then you calculate the new velocities based on the old velocity and the average of old and new acceleration. "
   ]
  },
  {
   "cell_type": "markdown",
   "id": "da06b2fb-c141-4b2a-a90f-e5ada995f55a",
   "metadata": {},
   "source": [
    "## Runge-Kutta"
   ]
  },
  {
   "cell_type": "markdown",
   "id": "e10249f4-8c32-49b0-8128-0b728ee30b0d",
   "metadata": {},
   "source": [
    "\n",
    " - https://medium.com/geekculture/runge-kutta-numerical-integration-of-ordinary-differential-equations-in-python-9c8ab7fb279c\n",
    " - https://www.youtube.com/watch?v=2vslKRPlgo0\n",
    " - https://www.youtube.com/watch?v=r-jWnXjwQvk\n",
    " - https://www.youtube.com/watch?v=5CXhHx56COo&t=1650s\n",
    " - https://perso.crans.org/besson/publis/notebooks/Runge-Kutta_methods_for_ODE_integration_in_Python.html\n",
    " - https://www.physagreg.fr/methodes-numeriques/methodes-numeriques-euler-runge-kutta.pdf\n",
    " - https://femto-physique.fr/analyse-numerique/runge-kutta.php\n",
    " - https://medium.com/intuition/dont-trust-runge-kutta-blindly-be392663fbe4"
   ]
  },
  {
   "cell_type": "markdown",
   "id": "fd6ff420-4ca9-494f-833d-53962f38f6fb",
   "metadata": {},
   "source": [
    "Note that Runge-Kutta methods do not conserve energy : https://medium.com/intuition/dont-trust-runge-kutta-blindly-be392663fbe4"
   ]
  },
  {
   "cell_type": "markdown",
   "id": "718fa2c8-cb3d-41df-8328-451520078448",
   "metadata": {},
   "source": [
    "This method is basically equivalent to Simpson's integral method, that approximate the function by a second-order polynom, ie a parabola, that has same values at bound and middle point."
   ]
  },
  {
   "cell_type": "markdown",
   "id": "01837d16-d9c1-479c-a892-b7952fda016e",
   "metadata": {},
   "source": [
    "According to scipy doc : \n",
    "Explicit Runge-Kutta methods (‘RK23’, ‘RK45’, ‘DOP853’) should be used for non-stiff problems and implicit methods (‘Radau’, ‘BDF’) for stiff problems [9]. Among Runge-Kutta methods, ‘DOP853’ is recommended for solving with high precision (low values of rtol and atol)."
   ]
  },
  {
   "cell_type": "markdown",
   "id": "500803a9-e0f5-42de-94d6-b128c06051aa",
   "metadata": {},
   "source": [
    "The value of the function is estimated using a certain slope coefficient :\n",
    "$$y_(k+1) = y_k + dt  \\phi(t, y, dt)$$\n",
    "where $\\phi(t, y, dt)$ is a mean slope of y between $t_k$ and $t_{k+1}$.\n",
    "Order-4 Runge-Kutta needs 4 computations with the first derivative \n",
    "- f1 = f(t_k, y_k) : derivative at current point, slope at beginning of segment\n",
    "- f2 = f(t_k+dt/2, y_k+dt/2 f1) \n",
    "- f3 = f(t_k+dt/2, y_k+dt/2 f2) \n",
    "- f4 = f(t_k+dt, y_k+dt   f3) \n",
    "Then compute mean slope : \n",
    "$$y_(k+1) = y_k + \\frac{dt}{6} (f1 + 2f2 + 2f3 + f4)$$\n",
    "The error is of order $t^5$ and cumulated error on N segments is $dt^4$"
   ]
  },
  {
   "cell_type": "code",
   "execution_count": null,
   "id": "18cf4c3c-41a4-49d3-83b9-3eb4c20cac2a",
   "metadata": {},
   "outputs": [],
   "source": [
    "\n",
    "def rk4(func, tk, _yk, _dt=0.01, **kwargs):\n",
    "    \"\"\"\n",
    "    single-step fourth-order numerical integration (RK4) method\n",
    "    func: system of first order ODEs\n",
    "    tk: current time step\n",
    "    _yk: current state vector [y1, y2, y3, ...]\n",
    "    _dt: discrete time step size\n",
    "    **kwargs: additional parameters for ODE system\n",
    "    returns: y evaluated at time k+1\n",
    "    \"\"\"\n",
    "\n",
    "    # evaluate derivative at several stages within time interval\n",
    "    f1 = func(tk, _yk, **kwargs)\n",
    "    f2 = func(tk + _dt / 2, _yk + (f1 * (_dt / 2)), **kwargs)\n",
    "    f3 = func(tk + _dt / 2, _yk + (f2 * (_dt / 2)), **kwargs)\n",
    "    f4 = func(tk + _dt, _yk + (f3 * _dt), **kwargs)\n",
    "\n",
    "    # return an average of the derivative over tk, tk + dt\n",
    "    return _yk + (_dt / 6) * (f1 + (2 * f2) + (2 * f3) + f4)"
   ]
  },
  {
   "cell_type": "markdown",
   "id": "e99e49a4-ed15-4f43-8ef5-268988426877",
   "metadata": {},
   "source": [
    "# Exapmple using Euler's explicit method"
   ]
  },
  {
   "cell_type": "code",
   "execution_count": 15,
   "id": "5cb6d662-1249-4319-b00b-1dc1df69f083",
   "metadata": {},
   "outputs": [
    {
     "data": {
      "image/png": "[encoded data removed]",
      "text/plain": [
       "<Figure size 432x288 with 2 Axes>"
      ]
     },
     "metadata": {
      "needs_background": "light"
     },
     "output_type": "display_data"
    }
   ],
   "source": [
    "# https://medium.com/towards-data-science/solving-non-linear-differential-equations-numerically-using-the-finite-difference-method-1532d0863755\n",
    "from physipy import m, s, kg, setup_matplotlib, rad, asqarray\n",
    "setup_matplotlib()\n",
    "import numpy as np\n",
    "import matplotlib.pyplot as plt\n",
    "\n",
    "N = 100         # in how much sub pieces we should break a 1sec interval\n",
    "T = 15        *s  # total duration of the simulation\n",
    "dt = 1*s / N      # dt\n",
    "g = 9.81      *m/s**2   # acceleration of gravity\n",
    "L = 1         *m  # pendulum rope length\n",
    "k = 0.8   *kg/s     # air resistance coefficient\n",
    "m = 1        *kg   # mass of the pendulum\n",
    "\n",
    "theta = [np.pi / 2 * rad]     # initial angle\n",
    "theta_dot = [0 * rad/s]         # initial angular velocity\n",
    "t = [0*s]\n",
    "\n",
    "for i in range(int(T/dt)):\n",
    "    theta_dot.append(theta_dot[-1] - theta_dot[-1] * dt * k / m - np.sin(theta[-1]) * dt * g / L*rad)\n",
    "    theta.append(theta_dot[-1] * dt + theta[-1])\n",
    "    t.append((i + 1) * dt)\n",
    "\n",
    "fig, axes = plt.subplots(2, sharex=True)\n",
    "axes[0].plot(asqarray(t), asqarray(theta), label='theta')\n",
    "axes[1].plot(asqarray(t), asqarray(theta_dot), label='theta dot')\n",
    "axes[0].legend()\n",
    "axes[1].legend()\n",
    "plt.show()"
   ]
  },
  {
   "cell_type": "markdown",
   "id": "f1fe370b-6914-4e5c-848f-fa1a8abdc2d5",
   "metadata": {},
   "source": [
    "# Boundary ODE with shooting method\n",
    "The shooting methods are developed with the goal of transforming the ODE boundary value problems to an equivalent initial value problems.\n",
    "\n",
    "https://pythonnumericalmethods.berkeley.edu/notebooks/chapter23.01-ODE-Boundary-Value-Problem-Statement.html\n",
    "\n",
    "Consider a pin with temperature at x=0 T0 and x=L T_L, and ambiant temperature Ts.\n",
    "The heat equation is"
   ]
  },
  {
   "cell_type": "markdown",
   "id": "fddfdf5a-2fc0-4a30-a8a7-90f85759f189",
   "metadata": {},
   "source": [
    "$$\\frac{d^2T}{dx^2} -\\alpha_1(T-T_s) - \\alpha_2 (T^4)=0$$\n"
   ]
  },
  {
   "cell_type": "markdown",
   "id": "ad4f6ba2-02b1-4cfe-a4af-004a5f26b60c",
   "metadata": {},
   "source": [
    "Exemple of the shooting with a shooting canon : we want the ball to be at height 50m at time 5s : \n",
    "https://pythonnumericalmethods.berkeley.edu/notebooks/chapter23.02-The-Shooting-Method.html"
   ]
  },
  {
   "cell_type": "code",
   "execution_count": 1,
   "id": "1d3fe480-8ee5-4666-8514-67b1f1ae136f",
   "metadata": {},
   "outputs": [
    {
     "name": "stdout",
     "output_type": "stream",
     "text": [
      "9.80665 m/s**2\n"
     ]
    },
    {
     "name": "stderr",
     "output_type": "stream",
     "text": [
      "/Users/mocquin/MYLIB10/MODULES/physipy/physipy/quantity/quantity.py:716: UserWarning: The unit of the quantity is stripped for __array_struct__\n",
      "  warnings.warn(f\"The unit of the quantity is stripped for {item}\")\n",
      "/Users/mocquin/MYLIB10/MODULES/physipy/physipy/quantity/quantity.py:716: UserWarning: The unit of the quantity is stripped for __array_struct__\n",
      "  warnings.warn(f\"The unit of the quantity is stripped for {item}\")\n",
      "/opt/anaconda3/lib/python3.9/site-packages/scipy/integrate/_ivp/base.py:6: VisibleDeprecationWarning: Creating an ndarray from ragged nested sequences (which is a list-or-tuple of lists-or-tuples-or ndarrays with different lengths or shapes) is deprecated. If you meant to do this, you must specify 'dtype=object' when creating the ndarray.\n",
      "  y0 = np.asarray(y0)\n"
     ]
    },
    {
     "data": {
      "text/plain": [
       "<matplotlib.legend.Legend at 0x11ba5cd30>"
      ]
     },
     "execution_count": 1,
     "metadata": {},
     "output_type": "execute_result"
    },
    {
     "data": {
      "image/png": "[encoded data removed]",
      "text/plain": [
       "<Figure size 720x576 with 1 Axes>"
      ]
     },
     "metadata": {
      "needs_background": "light"
     },
     "output_type": "display_data"
    }
   ],
   "source": [
    "     \n",
    "                   \n",
    " # Shooting method : turn a ODE into a root finding problem        \n",
    "                   \n",
    "import numpy as np\n",
    "import matplotlib.pyplot as plt\n",
    "\n",
    "from physipy import m, s, constants, units, setup_matplotlib, asqarray\n",
    "from physipy.integrate import solve_ivp as solve_ivp_q\n",
    "from physipy.optimize import root\n",
    "\n",
    "setup_matplotlib()\n",
    "g_acc = constants[\"g\"]\n",
    "print(g_acc)\n",
    "\n",
    "%matplotlib inline\n",
    "\n",
    "NS = 200\n",
    "\n",
    "def F(t, Y):\n",
    "    \"\"\"RHS of the equation where the left side is dY/dt\n",
    "    with Y=[y, v]\"\"\"\n",
    "    yp = Y[1]\n",
    "    ypp = -g_acc\n",
    "    return np.array([yp, ypp], dtype=object)\n",
    "\n",
    "\n",
    "t_span = np.linspace(0, 5, NS)*s\n",
    "# initial state vector\n",
    "Y0 = np.array([y0:=0*m,\n",
    "               v0:=25*m/s], dtype=object)\n",
    "# solution with guessed initial condition v0 at 25m/s\n",
    "sol = solve_ivp_q(F,\n",
    "                  [0, 5]*s, \n",
    "                  Y0, \n",
    "                  t_eval = t_span)\n",
    "\n",
    "fig, ax = plt.subplots(figsize = (10, 8))\n",
    "ax.plot(sol.t, sol.y[0],\"-o\", label=f\"Arbitrary guess with initial speed={v0}\")\n",
    "\n",
    "\n",
    "# notice that the initial position y0 is kept\n",
    "# also notice that while the vector state has 2 elements, the resolution\n",
    "# is made in 1D on the initial speed only\n",
    "def objective(v0):\n",
    "    sol = solve_ivp_q(F, \n",
    "                      [0, 5]*s, \n",
    "                      np.array([y0, \n",
    "                                v0], dtype=object),\n",
    "                      t_eval = t_span)\n",
    "    # extract the y-vector giving the position along the time\n",
    "    y = sol.y[0]\n",
    "    # return the metric to find root : the last position vs the wanted last position at 50m\n",
    "    return y[-1] - 50*m\n",
    "\n",
    "# solve for the good initial speed, with initial guess at 10m/s\n",
    "v0_sol = root(objective, 10*m/s)\n",
    "\n",
    "# compute the full resolution along time given the right initial speed v0_sol\n",
    "final_sol = solve_ivp_q(F,\n",
    "                  [0, 5]*s,  \n",
    "                  np.array([y0, v0_sol], dtype=object),\n",
    "                  t_eval = t_span)\n",
    "\n",
    "ax.plot(final_sol.t, final_sol.y[0], \"-o\", label=f\"Final solution with initial speed={v0_sol}\")\n",
    "ax.legend()"
   ]
  },
  {
   "cell_type": "markdown",
   "id": "27f84c92-4f32-43cc-b958-f11f63e9e2c2",
   "metadata": {},
   "source": [
    "# Finite difference method for Partial Differential Equation : Heat Equation"
   ]
  },
  {
   "cell_type": "markdown",
   "id": "4a238d4e-fe1d-4eeb-8239-da66b312fd29",
   "metadata": {},
   "source": [
    "https://levelup.gitconnected.com/solving-2d-heat-equation-numerically-using-python-3334004aa01a"
   ]
  },
  {
   "cell_type": "markdown",
   "id": "adc7968c-aa8a-47b4-ba6c-63c0a23a1414",
   "metadata": {},
   "source": [
    "The heat equation is basicaly a partial differential equation that mixes time and space : "
   ]
  },
  {
   "cell_type": "markdown",
   "id": "eba81956-800a-4815-94e7-2fde680ad539",
   "metadata": {},
   "source": [
    "$$ \\frac{\\partial u}{\\partial t} - \\alpha \\nabla u = 0 $$\n"
   ]
  },
  {
   "cell_type": "markdown",
   "id": "9ed680fa-4eb2-47c8-8019-b8a9eb022411",
   "metadata": {},
   "source": [
    "with $\\alpha$ a diffusivity constant. More precisely in 2D : "
   ]
  },
  {
   "cell_type": "markdown",
   "id": "205c7311-5558-46da-b079-12a25e9931d9",
   "metadata": {},
   "source": [
    "$$\\frac{\\partial u}{\\partial t} - \\alpha \\left( \\frac{\\partial^2 u}{\\partial x^2} +  \\frac{\\partial^2 u}{\\partial y^2}  \\right) = 0$$\n"
   ]
  },
  {
   "cell_type": "markdown",
   "id": "e8e9b609-4def-46b1-97e1-ea5663fae817",
   "metadata": {},
   "source": [
    "Using Finite-Difference method simply consist in approximating the derivatives using small differences between values at small samples."
   ]
  },
  {
   "cell_type": "markdown",
   "id": "6ed8afae-ddc0-4a1b-878a-8c79074a45aa",
   "metadata": {},
   "source": [
    "Using finite-difference, we can rewrite the 2D heat equation : "
   ]
  },
  {
   "cell_type": "markdown",
   "id": "77b512d9-2b8c-493f-a65a-843e8a3ed637",
   "metadata": {},
   "source": [
    "$$\\frac{u_{i,j}^{k+1} - u_{i,j}^k}{\\Delta t} - \\alpha \\left( \\frac{u_{i+1,j}^k - 2 u_{i,j}^k + u_{i-1,k}^k}{\\Delta x^2} + \\frac{u_{i,j+1}^k - 2 u_{i,j}^k + u_{i,k-1}^k}{\\Delta y^2}  \\right) = 0$$"
   ]
  },
  {
   "cell_type": "markdown",
   "id": "f38543ea-b6fb-417b-b517-415ad222b383",
   "metadata": {},
   "source": [
    "Suppose $\\Delta x = \\Delta y$, we can get : \n",
    "$$u_{i,j}^{k+1} = \\alpha\\frac{\\Delta t }{\\Delta x^2}\\left(u_{i+1,j}^k + u_{i-1,j}^k + u_{i,j+1}^k + u_{i,j-1}^k - 4 u_{i,j}^k  \\right)+ u_{i,j}^k$$"
   ]
  },
  {
   "cell_type": "markdown",
   "id": "577e843c-9561-43af-bdf4-b7f9b99d7e1e",
   "metadata": {},
   "source": [
    "For numerical stability, we need : \n",
    "$$\\Delta t \\le \\frac{\\Delta x^2}{4\\alpha}$$"
   ]
  },
  {
   "cell_type": "markdown",
   "id": "7ee9a617-230c-45d4-b8c7-978d2666fc3d",
   "metadata": {},
   "source": [
    "Now about optimization of the loops : \n",
    "notice that the equation to compute the temperature at time k+1 is a linear combination for other temperature points at time k. So this relation can be seen as a linear operation, and so can be writter with a convolution kernel. Picture the heat map at time k as a 2D image, and the heat map at time k+1 as another image that is the result of a convolution of the first image.\n",
    "Rewriting the equation with $\\gamma = \\alpha \\frac{\\Delta t}{\\Delta x^2}$, we get : \n",
    "$$u_{i,j}^{k+1} = \\gamma u_{i+1,j}^k + \\gamma u_{i-1,j}^k + \\gamma u_{i,j+1}^k + \\gamma u_{i,j-1}^k - 4 \\gamma u_{i,j}^k +u_{i,j}^k$$\n",
    "The kernel can be seen as  :\n",
    "$$K = \\begin{pmatrix}\n",
    "0 & \\gamma & 0\\\\\n",
    "\\gamma & 1-4\\gamma & \\gamma\\\\\n",
    "0 & \\gamma & 0\\\\\n",
    "\\end{pmatrix}\n",
    "$$\n",
    "with local heatmap =\n",
    "$$\\begin{pmatrix}\n",
    "u_{i-1,j-1}^k & u_{i-1,j}^k & u_{i-1,j+1}^k\\\\\n",
    "u_{i,j-1}^k & u_{i,j}^k & u_{i,j+1}^k\\\\\n",
    "u_{i+1,j-1}^k & u_{i+1,j}^k & u_{i+1,j+1}^k\\\\\n",
    "\\end{pmatrix}\n",
    "$$\n"
   ]
  },
  {
   "cell_type": "markdown",
   "id": "d51e2207-7a35-4972-929e-aaec074a202c",
   "metadata": {},
   "source": [
    "Remember the base equation for the sample located at (i,j) :\n",
    "$$u_{i,j}^{k+1} = \\gamma u_{i+1,j}^k + \\gamma u_{i-1,j}^k + \\gamma u_{i,j+1}^k + \\gamma u_{i,j-1}^k - 4 \\gamma u_{i,j}^k +u_{i,j}^k$$\n",
    "\n",
    "\n",
    "This equation is true for all samples within the bounds (so not the ones on the first line, or last line, or first row, or last row). \n",
    "Notice that there are 5 \"u-variables\", namely $\n",
    "u_{i+1,j}^k$, $u_{i-1,j}^k$, $u_{i,j+1}^k$, $u_{i,j-1}^k$, and $u_{i,j}^k$.\n",
    "\n",
    "Let's write : \n",
    " - `A = u[ k, 2:  , 1:-1]` to represent $u_{i+1,j}^k$\n",
    " - `B = u[ k,  :-2, 1:-1]` to represent $u_{i-1,j}^k$\n",
    " - `C = u[ k, 1:-1, 2:  ]` to represent $u_{i,j-1}^k$\n",
    " - `D = u[ k, 1:-1,  :-2]` to represent $u_{i,j+1}^k$\n",
    " - `E = u[ k, 1:-1, 1:-1]` to represent  $u_{i,j}^k$\n",
    "\n",
    "\n",
    "where the \"1:-1\" are here to left the bounds untouched, and k is there because we only use samples at time k to compute samples at time k+1. This way we can write that \n",
    "\n",
    "$$u_{i,j}^{k+1} = \\gamma A + \\gamma B + \\gamma C + \\gamma D + (1-4\\gamma) E$$\n",
    "\n",
    "And now, the operation of weight-averaging all samples with its neighborhood is done in one operation, for all samples."
   ]
  },
  {
   "cell_type": "code",
   "execution_count": 1,
   "id": "cd8e7c08-18ce-456f-a5ff-a5d099b447ff",
   "metadata": {},
   "outputs": [
    {
     "name": "stdout",
     "output_type": "stream",
     "text": [
      "0.25\n"
     ]
    }
   ],
   "source": [
    "import numpy as np\n",
    "\n",
    "from physipy import m, units, s, K\n",
    "\n",
    "plate_length = 50 * m\n",
    "plate_width = 50 * m\n",
    "max_iter_time = 750 * s\n",
    "\n",
    "alpha = 2 * m**2/s\n",
    "delta_x = 1 * m\n",
    "\n",
    "nk, ni, nj = int(max_iter_time/s), int(plate_length/delta_x), int(plate_width/delta_x)\n",
    "\n",
    "delta_t = (delta_x ** 2)/(4 * alpha)\n",
    "\n",
    "# gamma is dimensionless\n",
    "gamma = (alpha * delta_t) / (delta_x ** 2)\n",
    "print(gamma)"
   ]
  },
  {
   "cell_type": "code",
   "execution_count": 2,
   "id": "907439d2-c8e4-4a66-bd5e-e2b912aac1a2",
   "metadata": {},
   "outputs": [
    {
     "data": {
      "text/latex": [
       "[[[  0. 100. 100. ... 100. 100.   0.]\n",
       "  [  0.   0.   0. ...   0.   0.   0.]\n",
       "  [  0.   0.   0. ...   0.   0.   0.]\n",
       "  ...\n",
       "  [  0.   0.   0. ...   0.   0.   0.]\n",
       "  [  0.   0.   0. ...   0.   0.   0.]\n",
       "  [  0.   0.   0. ...   0.   0.   0.]]\n",
       "\n",
       " [[  0. 100. 100. ... 100. 100.   0.]\n",
       "  [  0.   0.   0. ...   0.   0.   0.]\n",
       "  [  0.   0.   0. ...   0.   0.   0.]\n",
       "  ...\n",
       "  [  0.   0.   0. ...   0.   0.   0.]\n",
       "  [  0.   0.   0. ...   0.   0.   0.]\n",
       "  [  0.   0.   0. ...   0.   0.   0.]]\n",
       "\n",
       " [[  0. 100. 100. ... 100. 100.   0.]\n",
       "  [  0.   0.   0. ...   0.   0.   0.]\n",
       "  [  0.   0.   0. ...   0.   0.   0.]\n",
       "  ...\n",
       "  [  0.   0.   0. ...   0.   0.   0.]\n",
       "  [  0.   0.   0. ...   0.   0.   0.]\n",
       "  [  0.   0.   0. ...   0.   0.   0.]]\n",
       "\n",
       " ...\n",
       "\n",
       " [[  0. 100. 100. ... 100. 100.   0.]\n",
       "  [  0.   0.   0. ...   0.   0.   0.]\n",
       "  [  0.   0.   0. ...   0.   0.   0.]\n",
       "  ...\n",
       "  [  0.   0.   0. ...   0.   0.   0.]\n",
       "  [  0.   0.   0. ...   0.   0.   0.]\n",
       "  [  0.   0.   0. ...   0.   0.   0.]]\n",
       "\n",
       " [[  0. 100. 100. ... 100. 100.   0.]\n",
       "  [  0.   0.   0. ...   0.   0.   0.]\n",
       "  [  0.   0.   0. ...   0.   0.   0.]\n",
       "  ...\n",
       "  [  0.   0.   0. ...   0.   0.   0.]\n",
       "  [  0.   0.   0. ...   0.   0.   0.]\n",
       "  [  0.   0.   0. ...   0.   0.   0.]]\n",
       "\n",
       " [[  0. 100. 100. ... 100. 100.   0.]\n",
       "  [  0.   0.   0. ...   0.   0.   0.]\n",
       "  [  0.   0.   0. ...   0.   0.   0.]\n",
       "  ...\n",
       "  [  0.   0.   0. ...   0.   0.   0.]\n",
       "  [  0.   0.   0. ...   0.   0.   0.]\n",
       "  [  0.   0.   0. ...   0.   0.   0.]]]$\\,K$"
      ],
      "text/plain": [
       "<Quantity : [[[  0. 100. 100. ... 100. 100.   0.]\n",
       "  [  0.   0.   0. ...   0.   0.   0.]\n",
       "  [  0.   0.   0. ...   0.   0.   0.]\n",
       "  ...\n",
       "  [  0.   0.   0. ...   0.   0.   0.]\n",
       "  [  0.   0.   0. ...   0.   0.   0.]\n",
       "  [  0.   0.   0. ...   0.   0.   0.]]\n",
       "\n",
       " [[  0. 100. 100. ... 100. 100.   0.]\n",
       "  [  0.   0.   0. ...   0.   0.   0.]\n",
       "  [  0.   0.   0. ...   0.   0.   0.]\n",
       "  ...\n",
       "  [  0.   0.   0. ...   0.   0.   0.]\n",
       "  [  0.   0.   0. ...   0.   0.   0.]\n",
       "  [  0.   0.   0. ...   0.   0.   0.]]\n",
       "\n",
       " [[  0. 100. 100. ... 100. 100.   0.]\n",
       "  [  0.   0.   0. ...   0.   0.   0.]\n",
       "  [  0.   0.   0. ...   0.   0.   0.]\n",
       "  ...\n",
       "  [  0.   0.   0. ...   0.   0.   0.]\n",
       "  [  0.   0.   0. ...   0.   0.   0.]\n",
       "  [  0.   0.   0. ...   0.   0.   0.]]\n",
       "\n",
       " ...\n",
       "\n",
       " [[  0. 100. 100. ... 100. 100.   0.]\n",
       "  [  0.   0.   0. ...   0.   0.   0.]\n",
       "  [  0.   0.   0. ...   0.   0.   0.]\n",
       "  ...\n",
       "  [  0.   0.   0. ...   0.   0.   0.]\n",
       "  [  0.   0.   0. ...   0.   0.   0.]\n",
       "  [  0.   0.   0. ...   0.   0.   0.]]\n",
       "\n",
       " [[  0. 100. 100. ... 100. 100.   0.]\n",
       "  [  0.   0.   0. ...   0.   0.   0.]\n",
       "  [  0.   0.   0. ...   0.   0.   0.]\n",
       "  ...\n",
       "  [  0.   0.   0. ...   0.   0.   0.]\n",
       "  [  0.   0.   0. ...   0.   0.   0.]\n",
       "  [  0.   0.   0. ...   0.   0.   0.]]\n",
       "\n",
       " [[  0. 100. 100. ... 100. 100.   0.]\n",
       "  [  0.   0.   0. ...   0.   0.   0.]\n",
       "  [  0.   0.   0. ...   0.   0.   0.]\n",
       "  ...\n",
       "  [  0.   0.   0. ...   0.   0.   0.]\n",
       "  [  0.   0.   0. ...   0.   0.   0.]\n",
       "  [  0.   0.   0. ...   0.   0.   0.]]] K>"
      ]
     },
     "execution_count": 2,
     "metadata": {},
     "output_type": "execute_result"
    }
   ],
   "source": [
    "# Boundary conditions\n",
    "u_top = 100.0 *K\n",
    "u_left = 0.0*K\n",
    "u_bottom = 0.0*K\n",
    "u_right = 0.0*K\n",
    "\n",
    "# Initial condition everywhere inside the grid\n",
    "u_initial = 0*K\n",
    "\n",
    "def initialize_u(nk, ni=ni, nj=nj):\n",
    "    \n",
    "    # Initialize solution: the grid of u(k, i, j)\n",
    "    u = np.ones((nk, ni, nj))*u_initial#np.full((nk, ni, nj), u_initial, like=K)\n",
    "\n",
    "    # Set the boundary conditions\n",
    "    u[:, 0, :] = u_top\n",
    "    u[:, :, 0] = u_left\n",
    "    u[:, -1, :] = u_bottom\n",
    "    u[:, :, -1] = u_right\n",
    "\n",
    "    return u\n",
    "initialize_u(nk)"
   ]
  },
  {
   "cell_type": "code",
   "execution_count": 25,
   "id": "f89ee018-6fa1-4a41-abab-f46ebde07609",
   "metadata": {},
   "outputs": [
    {
     "name": "stdout",
     "output_type": "stream",
     "text": [
      "[[0.   0.25 0.  ]\n",
      " [0.25 0.   0.25]\n",
      " [0.   0.25 0.  ]]\n"
     ]
    }
   ],
   "source": [
    "# original code to compute heatmap at each space and time step\n",
    "def calculate(u):\n",
    "    nk, ni, nj = u.shape\n",
    "    for k in range(0, nk-1):\n",
    "        for i in range(1, ni-1):\n",
    "            for j in range(1, nj-1):\n",
    "                u[k + 1, i, j] = gamma * (u[k][i+1][j] + u[k][i-1][j] + u[k][i][j+1] + u[k][i][j-1] - 4*u[k][i][j]) + u[k][i][j]\n",
    "    return u\n",
    "\n",
    "# kernel for the convolution approach\n",
    "kernel = np.array([\n",
    "    [0, gamma, 0],\n",
    "    [gamma, 1-4*gamma, gamma],\n",
    "    [0, gamma, 0],\n",
    "])\n",
    "print(kernel)"
   ]
  },
  {
   "cell_type": "code",
   "execution_count": 5,
   "id": "13b2a73a-2cbc-44a5-a7ea-b27f09b09db1",
   "metadata": {},
   "outputs": [],
   "source": [
    "# using convolution approach\n",
    "def calculate_faster(u):\n",
    "    nk, ni, nj = u.shape\n",
    "    for k in range(0, nk-1):\n",
    "        # we get a 4D array that contains all possible 3x3 local heatmaps at time k\n",
    "        local_maps = np.lib.stride_tricks.sliding_window_view(@u[k], (3,3))\n",
    "        # sum the product of the kernel and each map\n",
    "        # and sum each local map\n",
    "        result = np.sum(kernel * local_maps, axis=(2,3))\n",
    "        # set the newly computed heatmap at time k+1\n",
    "        u[k+1, 1:-1, 1:-1] = result\n",
    "    return u\n",
    "    \n",
    "\n",
    "# compute result with each method...\n",
    "u1 = calculate(initialize_u(nk))\n",
    "u2 = calculate_faster(initialize_u(nk))\n",
    "# check that they output the same results\n",
    "np.all(u1==u2)"
   ]
  },
  {
   "cell_type": "code",
   "execution_count": 7,
   "id": "5a2588f9-d4a8-448c-ae5d-5eef5d308c9b",
   "metadata": {},
   "outputs": [
    {
     "name": "stdout",
     "output_type": "stream",
     "text": [
      "4.263256414560601e-14 K\n"
     ]
    }
   ],
   "source": [
    "print(np.max(np.abs(u1-u2)))"
   ]
  },
  {
   "cell_type": "code",
   "execution_count": 8,
   "id": "b826a68f-d970-4429-9a05-6dfe7d6da022",
   "metadata": {},
   "outputs": [
    {
     "name": "stdout",
     "output_type": "stream",
     "text": [
      "1min 50s ± 9.89 s per loop (mean ± std. dev. of 7 runs, 1 loop each)\n",
      "255 ms ± 9.39 ms per loop (mean ± std. dev. of 7 runs, 1 loop each)\n"
     ]
    }
   ],
   "source": [
    "# and check how much faster the sliding window is compared to nested loops\n",
    "%timeit calculate(initialize_u(nk))\n",
    "%timeit calculate_faster(initialize_u(nk))"
   ]
  },
  {
   "cell_type": "code",
   "execution_count": 10,
   "id": "e526e1b3-bef2-49c6-8895-fce6a2ba7b73",
   "metadata": {},
   "outputs": [
    {
     "data": {
      "text/plain": [
       "True"
      ]
     },
     "execution_count": 10,
     "metadata": {},
     "output_type": "execute_result"
    }
   ],
   "source": [
    "# using indexing approach\n",
    "def calculate_even_faster(u):\n",
    "    nk, ni, nj = u.shape\n",
    "    for k in range(0, nk-1):\n",
    "        A = u[k, 2:  , 1:-1]\n",
    "        B = u[k,  :-2, 1:-1]\n",
    "        C = u[k, 1:-1, 2:  ]\n",
    "        D = u[k, 1:-1,  :-2]\n",
    "        E = u[k, 1:-1, 1:-1]\n",
    "        result = gamma * (A+B+C+D-4*E) + E \n",
    "        # set the newly computed heatmap at time k+1\n",
    "        u[k+1, 1:-1, 1:-1] = result\n",
    "    return u\n",
    "    \n",
    "# compute results and check it gives the same as before\n",
    "u3 = calculate_even_faster(initialize_u(nk))\n",
    "np.all(u3 == u1)"
   ]
  },
  {
   "cell_type": "code",
   "execution_count": 12,
   "id": "f18ef672-9634-474b-8218-3a3cde555b25",
   "metadata": {},
   "outputs": [
    {
     "name": "stdout",
     "output_type": "stream",
     "text": [
      "69.8 ms ± 804 µs per loop (mean ± std. dev. of 7 runs, 10 loops each)\n"
     ]
    }
   ],
   "source": [
    "# and check again how much faster this method is\n",
    "%timeit calculate_even_faster(initialize_u(nk))"
   ]
  },
  {
   "cell_type": "code",
   "execution_count": 2,
   "id": "63976178-4bda-49b6-9901-9561d542694a",
   "metadata": {},
   "outputs": [],
   "source": [
    "# create new map and display result\n",
    "u3 = calculate_even_faster(initialize_u(750, 100, 100))\n",
    "\n",
    "import matplotlib.pyplot as plt\n",
    "fig, ax = plt.subplots(figsize=(8,6))\n",
    "mappable = ax.imshow(u3[-1], interpolation=None, cmap=plt.cm.jet)\n",
    "fig.colorbar(mappable, label=\"Temperature (°C)\")\n",
    "ax.set_xlabel(\"x samples\")\n",
    "ax.set_xlabel(\"y samples\")\n",
    "fig.suptitle(\"Temperature map at final time\")\n",
    "fig.tight_layout()"
   ]
  },
  {
   "cell_type": "markdown",
   "id": "3dcfb58c-2f60-4ad4-9c5d-84b957fc91e1",
   "metadata": {},
   "source": [
    "# Gradient"
   ]
  },
  {
   "cell_type": "markdown",
   "id": "598955e5-89fb-40a6-af30-38402af99646",
   "metadata": {},
   "source": [
    "Numpy's gradient : The gradient is computed using second order accurate central differences in the interior points and either first or second order accurate one-sides (forward or backwards) differences at the boundaries. The returned gradient hence has the same shape as the input array."
   ]
  },
  {
   "cell_type": "code",
   "execution_count": 1,
   "id": "1699e75b-a8ed-4630-a24a-91d99663edf4",
   "metadata": {},
   "outputs": [],
   "source": [
    "import numpy as np\n",
    "from physipy import m"
   ]
  },
  {
   "cell_type": "code",
   "execution_count": 2,
   "id": "ebce7215-d9f1-4274-aff7-3b1d3909d1dc",
   "metadata": {},
   "outputs": [
    {
     "name": "stdout",
     "output_type": "stream",
     "text": [
      "[1.  1.5 2.5 3.5 4.5 5. ]\n",
      "[ 2.  3.  5.  7.  9. 10.]\n"
     ]
    }
   ],
   "source": [
    "f = np.array([1, 2, 4, 7, 11, 16], dtype=float)\n",
    "print(np.gradient(f))\n",
    "print(np.gradient(f, 0.5))"
   ]
  },
  {
   "cell_type": "code",
   "execution_count": 4,
   "id": "d59ff5c7-8f22-40ec-81dd-de93779e2957",
   "metadata": {},
   "outputs": [
    {
     "name": "stdout",
     "output_type": "stream",
     "text": [
      "[ 2.  3.  5.  7.  9. 10.] m\n",
      "[ 2.  3.  5.  7.  9. 10.]\n"
     ]
    }
   ],
   "source": [
    "f = np.array([1, 2, 4, 7, 11, 16], dtype=float) * m\n",
    "print(np.gradient(f, 0.5))\n",
    "print(np.gradient(f, 0.5*m))"
   ]
  },
  {
   "cell_type": "code",
   "execution_count": null,
   "id": "bc2b04a5-0c26-4ff6-a6cd-8ac4020353a8",
   "metadata": {},
   "outputs": [],
   "source": []
  }
 ],
 "metadata": {
  "jupytext": {
   "encoding": "# -*- coding: utf-8 -*-",
   "text_representation": {
    "extension": ".py",
    "format_name": "percent",
    "format_version": "1.3",
    "jupytext_version": "1.13.4"
   }
  },
  "kernelspec": {
   "display_name": "Python 3 (ipykernel)",
   "language": "python",
   "name": "python3"
  },
  "language_info": {
   "codemirror_mode": {
    "name": "ipython",
    "version": 3
   },
   "file_extension": ".py",
   "mimetype": "text/x-python",
   "name": "python",
   "nbconvert_exporter": "python",
   "pygments_lexer": "ipython3",
   "version": "3.9.7"
  }
 },
 "nbformat": 4,
 "nbformat_minor": 5
}
