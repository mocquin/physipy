{
 "cells": [
  {
   "cell_type": "markdown",
   "metadata": {},
   "source": [
    "Physipy can be coupled to many usefull package to have a great python physics framework"
   ]
  },
  {
   "cell_type": "markdown",
   "metadata": {},
   "source": [
    "# Handcalcs"
   ]
  },
  {
   "cell_type": "markdown",
   "metadata": {},
   "source": [
    "[Handcalcs repo on Github](https://github.com/connorferster/handcalcs)"
   ]
  },
  {
   "cell_type": "code",
   "execution_count": null,
   "metadata": {},
   "outputs": [],
   "source": [
    "#!pip install --upgrade handcalcs"
   ]
  },
  {
   "cell_type": "code",
   "execution_count": 106,
   "metadata": {},
   "outputs": [],
   "source": [
    "from handcalcs import render\n",
    "import handcalcs\n",
    "from physipy import m, s, K, units, kg\n",
    "mm = units[\"mm\"]\n",
    "import physipy"
   ]
  },
  {
   "cell_type": "code",
   "execution_count": 93,
   "metadata": {},
   "outputs": [
    {
     "data": {
      "text/latex": [
       "\\[\n",
       "\\begin{aligned}\n",
       "b &= 2 \\cdot s  = 2 \\cdot 1.0\\,s &= 2.0\\,s  \n",
       "\\end{aligned}\n",
       "\\]"
      ],
      "text/plain": [
       "<IPython.core.display.Latex object>"
      ]
     },
     "metadata": {},
     "output_type": "display_data"
    }
   ],
   "source": [
    "%%render \n",
    "b = 2*s"
   ]
  },
  {
   "cell_type": "code",
   "execution_count": 94,
   "metadata": {},
   "outputs": [
    {
     "data": {
      "text/latex": [
       "\\[\n",
       "\\begin{aligned}\n",
       "\\alpha_{init} &= 5 \\cdot \\mathrm{mm}  = 5 \\cdot 1.0\\,mm &= 5.0\\,mm \\; \\;\\textrm{(Greek letter)}\n",
       "\\end{aligned}\n",
       "\\]"
      ],
      "text/plain": [
       "<IPython.core.display.Latex object>"
      ]
     },
     "metadata": {},
     "output_type": "display_data"
    }
   ],
   "source": [
    "%%render\n",
    "alpha_init = 5*mm # Greek letter"
   ]
  },
  {
   "cell_type": "code",
   "execution_count": 97,
   "metadata": {},
   "outputs": [
    {
     "data": {
      "text/latex": [
       "\\[\n",
       "\\begin{aligned}\n",
       "\\beta' &= \\left( \\alpha_{init} \\right) ^{ 2 } + \\left( 45 \\cdot \\mathrm{mm} \\right) ^{ 2 } \\\\&= \\left( 5.0\\,mm \\right) ^{ 2 } + \\left( 45 \\cdot 1.0\\,mm \\right) ^{ 2 } \\\\&= 2.05 \\cdot 10^{-7}\\,ha \\; \\;\\textrm{(analytical->numerical->result)}\\\\\n",
       "\\end{aligned}\n",
       "\\]"
      ],
      "text/plain": [
       "<IPython.core.display.Latex object>"
      ]
     },
     "metadata": {},
     "output_type": "display_data"
    }
   ],
   "source": [
    "%%render\n",
    "beta_prime = alpha_init**2 + (45*mm)**2 # analytical->numerical->result"
   ]
  },
  {
   "cell_type": "code",
   "execution_count": 98,
   "metadata": {},
   "outputs": [
    {
     "data": {
      "text/latex": [
       "\\[\n",
       "\\begin{aligned}\n",
       "\\Gamma_{i} &= 1.77 \\cdot 10^{-11}\\,m^{8} \\; \\;\\textrm{(only results with paren)}\n",
       "\\end{aligned}\n",
       "\\]"
      ],
      "text/plain": [
       "<IPython.core.display.Latex object>"
      ]
     },
     "metadata": {},
     "output_type": "display_data"
    }
   ],
   "source": [
    "%%render\n",
    "Gamma_i = (beta_prime*beta_prime*beta_prime*beta_prime) # only results with paren"
   ]
  },
  {
   "cell_type": "code",
   "execution_count": 99,
   "metadata": {},
   "outputs": [],
   "source": [
    "from numpy import sin, sqrt, pi"
   ]
  },
  {
   "cell_type": "code",
   "execution_count": 101,
   "metadata": {},
   "outputs": [],
   "source": [
    "def toto(x):\n",
    "    return 2*x"
   ]
  },
  {
   "cell_type": "code",
   "execution_count": 103,
   "metadata": {},
   "outputs": [
    {
     "data": {
      "text/latex": [
       "\\[\n",
       "\\begin{aligned}\n",
       "b &= \\sin \\left( 30 \\right) &= -0.988  \n",
       "\\\\[10pt]\n",
       "a &= \\sqrt { \\left( b \\right) ^{ 2 } + \\frac{ \\pi }{ \\sqrt { \\frac{ 2 }{ 100 } } } }  = \\sqrt { \\left( -0.988 \\right) ^{ 2 } + \\frac{ 3.142 }{ \\sqrt { \\frac{ 2 }{ 100 } } } } &= 4.816  \n",
       "\\\\[10pt]\n",
       "c &= \\Sigma \\left( 1 ,\\  2 ,\\  3 ,\\  4 \\right) &= 10  \n",
       "\\\\[10pt]\n",
       "d &= \\operatorname{toto} { \\left( 4 \\cdot s \\right) }  = \\operatorname{toto} { \\left( 4 \\cdot 1.0\\,s \\right) } &= 0.8\\,das  \n",
       "\\end{aligned}\n",
       "\\]"
      ],
      "text/plain": [
       "<IPython.core.display.Latex object>"
      ]
     },
     "metadata": {},
     "output_type": "display_data"
    }
   ],
   "source": [
    "%%render\n",
    "b = sin(30)\n",
    "a = sqrt(b**2+pi/sqrt(2/100))\n",
    "c = sum((1, 2, 3, 4))\n",
    "d = toto(4*s)"
   ]
  },
  {
   "cell_type": "code",
   "execution_count": 107,
   "metadata": {},
   "outputs": [
    {
     "data": {
      "text/latex": [
       "\\[\n",
       "\\begin{aligned}\n",
       "&\\text{Since, } \\Gamma_{i} \\gt 0 \\cdot \\left( m \\right) ^{ 8 } \\rightarrow \\left( 1.77 \\cdot 10^{-11}\\,m^{8} \\gt 0 \\cdot \\left( 1.0\\,m \\right) ^{ 8 } \\right) :   \\end{aligned}\n",
       "\\]\n",
       "\\[\n",
       "\\begin{aligned}\n",
       "\\mathrm{toto} &= 1.0\\,kg \\; \n",
       "\\end{aligned}\n",
       "\\]"
      ],
      "text/plain": [
       "<IPython.core.display.Latex object>"
      ]
     },
     "metadata": {},
     "output_type": "display_data"
    }
   ],
   "source": [
    "%%render\n",
    "if Gamma_i > 0*m**8: toto=1*kg\n",
    "else: toto=0*m**2"
   ]
  },
  {
   "cell_type": "code",
   "execution_count": 110,
   "metadata": {},
   "outputs": [],
   "source": [
    "from physipy import quad\n",
    "def tata(x):\n",
    "    return x"
   ]
  },
  {
   "cell_type": "code",
   "execution_count": 111,
   "metadata": {},
   "outputs": [
    {
     "data": {
      "text/latex": [
       "\\[\n",
       "\\begin{aligned}\n",
       "a &= 0 \\cdot m  = 0 \\cdot 1.0\\,m &= 0.0\\,ym  \n",
       "\\\\[10pt]\n",
       "b &= 10 \\cdot m  = 10 \\cdot 1.0\\,m &= 1.0\\,dam  \n",
       "\\\\[10pt]\n",
       "\\mathrm{res} &= \\int_{ a } ^ { b } x \\; dx  = \\int_{ 0.0\\,ym } ^ { 1.0\\,dam } x \\; dx &= [50.0 m**2,\\ 0.0]  \n",
       "\\end{aligned}\n",
       "\\]"
      ],
      "text/plain": [
       "<IPython.core.display.Latex object>"
      ]
     },
     "metadata": {},
     "output_type": "display_data"
    }
   ],
   "source": [
    "%%render\n",
    "a = 0*m\n",
    "b = 10*m\n",
    "res = quad(tata, a, b)"
   ]
  },
  {
   "cell_type": "code",
   "execution_count": 112,
   "metadata": {},
   "outputs": [],
   "source": [
    "import sys\n",
    "import warnings\n",
    "if not sys.warnoptions:\n",
    "    warnings.simplefilter(\"ignore\")\n",
    "\n",
    "from numpy import exp\n",
    "from physipy import quad, s, m, sr, K, units, constants\n",
    "\n",
    "# physical constants\n",
    "h_p = constants[\"h\"]\n",
    "c = constants[\"c\"]\n",
    "k_B = constants[\"k\"]\n",
    "sigma = constants[\"Stefan_Boltzmann\"]\n",
    "\n",
    "nm = units[\"nm\"]\n",
    "mum = units[\"mum\"]\n",
    "\n",
    "def planck(lmbda):\n",
    "    return 2*h_p*c**2/lmbda**5 * 1/(exp( (h_p * c) / (k_B * 300*K * lmbda)-1)) / sr\n",
    "\n",
    "lmbda_start = 0.001*nm\n",
    "lmbda_stop = 1000*mum"
   ]
  },
  {
   "cell_type": "code",
   "execution_count": 113,
   "metadata": {},
   "outputs": [
    {
     "data": {
      "text/latex": [
       "\\[\n",
       "\\begin{aligned}\n",
       "\\mathrm{res} &= \\int_{ \\mathrm{lmbda}_{start} } ^ { \\mathrm{lmbda}_{stop} } 2 \\cdot h_{p} \\cdot \\frac{ \\left( c \\right) ^{ 2 } }{ \\left( \\mathrm{lmbda} \\right) ^{ 5 } } \\cdot \\frac{ 1 }{ \\mathrm{exp} \\frac{ h_{p} \\cdot c }{ k_{B} \\cdot 300 \\cdot K \\cdot \\mathrm{lmbda} } - 1 } \\cdot \\frac{1} { \\mathrm{sr} } \\; dlmbda \\\\&= \\int_{ 1.0\\,pm } ^ { 1.0\\,mm } 2 \\cdot 6.63 \\cdot 10^{-34}\\,\\frac{kg m^{2}}{s} \\cdot \\frac{ \\left( 300000000.0\\,\\frac{m}{s} \\right) ^{ 2 } }{ \\left( lmbda \\right) ^{ 5 } } \\cdot \\frac{ 1 }{ <ufunc 'exp'> \\frac{ 6.63 \\cdot 10^{-34}\\,\\frac{kg m^{2}}{s} \\cdot 300000000.0\\,\\frac{m}{s} }{ 1.38 \\cdot 10^{-23}\\,\\frac{kg m^{2}}{K s^{2}} \\cdot 300 \\cdot 1.0\\,K \\cdot lmbda } - 1 } \\cdot \\frac{1} { 1.0\\,sr } \\; dlmbda \\\\&= [367.184 kg/(s**3*sr),\\ 0.0]  \\\\\n",
       "\\end{aligned}\n",
       "\\]"
      ],
      "text/plain": [
       "<IPython.core.display.Latex object>"
      ]
     },
     "metadata": {},
     "output_type": "display_data"
    }
   ],
   "source": [
    "%%render\n",
    "res= quad(planck, lmbda_start, lmbda_stop)"
   ]
  },
  {
   "cell_type": "code",
   "execution_count": 114,
   "metadata": {},
   "outputs": [],
   "source": [
    "from handcalcs import handcalc"
   ]
  },
  {
   "cell_type": "code",
   "execution_count": 115,
   "metadata": {},
   "outputs": [],
   "source": [
    "@handcalc()\n",
    "def f(x, y, z):\n",
    "    a = 2*x + 1 * m\n",
    "    b = y**2 + 100 * s**2\n",
    "    c = sqrt(z * y)\n",
    "    return a, b, c"
   ]
  },
  {
   "cell_type": "code",
   "execution_count": 116,
   "metadata": {},
   "outputs": [],
   "source": [
    "latex_code, vals_dict = f(1*m, 2*s, 3)"
   ]
  },
  {
   "cell_type": "code",
   "execution_count": 117,
   "metadata": {},
   "outputs": [
    {
     "name": "stdout",
     "output_type": "stream",
     "text": [
      "\n",
      "\\begin{aligned}\n",
      "a &= 2 \\cdot x + 1 \\cdot m  = 2 \\cdot 1.0\\,m + 1 \\cdot 1.0\\,m &= 3.0\\,m  \n",
      "\\\\[10pt]\n",
      "b &= \\left( y \\right) ^{ 2 } + 100 \\cdot \\left( s \\right) ^{ 2 }  = \\left( 2.0\\,s \\right) ^{ 2 } + 100 \\cdot \\left( 1.0\\,s \\right) ^{ 2 } &= 104.0\\,s^{2}  \n",
      "\\\\[10pt]\n",
      "c &= \\sqrt { z \\cdot y }  = \\sqrt { 3 \\cdot 2.0\\,s } &= 2.45\\,s^{0.5}  \n",
      "\\end{aligned}\n",
      "\n"
     ]
    }
   ],
   "source": [
    "print(latex_code)"
   ]
  },
  {
   "cell_type": "code",
   "execution_count": 118,
   "metadata": {},
   "outputs": [
    {
     "data": {
      "text/latex": [
       "\\begin{aligned}\n",
       "a &= 2 \\cdot x + 1 \\cdot m  = 2 \\cdot 1.0\\,m + 1 \\cdot 1.0\\,m &= 3.0\\,m  \n",
       "\\\\[10pt]\n",
       "b &= \\left( y \\right) ^{ 2 } + 100 \\cdot \\left( s \\right) ^{ 2 }  = \\left( 2.0\\,s \\right) ^{ 2 } + 100 \\cdot \\left( 1.0\\,s \\right) ^{ 2 } &= 104.0\\,s^{2}  \n",
       "\\\\[10pt]\n",
       "c &= \\sqrt { z \\cdot y }  = \\sqrt { 3 \\cdot 2.0\\,s } &= 2.45\\,s^{0.5}  \n",
       "\\end{aligned}\n"
      ],
      "text/plain": [
       "<IPython.core.display.Latex object>"
      ]
     },
     "metadata": {},
     "output_type": "display_data"
    }
   ],
   "source": [
    "%%latex\n",
    "\\begin{aligned}\n",
    "a &= 2 \\cdot x + 1 \\cdot m  = 2 \\cdot 1.0\\,m + 1 \\cdot 1.0\\,m &= 3.0\\,m  \n",
    "\\\\[10pt]\n",
    "b &= \\left( y \\right) ^{ 2 } + 100 \\cdot \\left( s \\right) ^{ 2 }  = \\left( 2.0\\,s \\right) ^{ 2 } + 100 \\cdot \\left( 1.0\\,s \\right) ^{ 2 } &= 104.0\\,s^{2}  \n",
    "\\\\[10pt]\n",
    "c &= \\sqrt { z \\cdot y }  = \\sqrt { 3 \\cdot 2.0\\,s } &= 2.45\\,s^{0.5}  \n",
    "\\end{aligned}"
   ]
  },
  {
   "cell_type": "code",
   "execution_count": 119,
   "metadata": {},
   "outputs": [
    {
     "name": "stdout",
     "output_type": "stream",
     "text": [
      "(<Quantity : 3 m>, <Quantity : 104 s**2>, <Quantity : 2.449489742783178 s**0.5>)\n"
     ]
    }
   ],
   "source": [
    "print(vals_dict)"
   ]
  },
  {
   "cell_type": "code",
   "execution_count": 120,
   "metadata": {},
   "outputs": [],
   "source": [
    "@handcalc(jupyter_display=True)\n",
    "def f(x, y, z):\n",
    "    a = 2*x + 1 * m\n",
    "    b = y**2 + 100 * s**2\n",
    "    c = sqrt(z * y)\n",
    "    return a, b, c"
   ]
  },
  {
   "cell_type": "code",
   "execution_count": 121,
   "metadata": {},
   "outputs": [
    {
     "data": {
      "text/latex": [
       "\\[\n",
       "\\begin{aligned}\n",
       "a &= 2 \\cdot x + 1 \\cdot m  = 2 \\cdot 1.0\\,m + 1 \\cdot 1.0\\,m &= 3.0\\,m  \n",
       "\\\\[10pt]\n",
       "b &= \\left( y \\right) ^{ 2 } + 100 \\cdot \\left( s \\right) ^{ 2 }  = \\left( 2.0\\,s \\right) ^{ 2 } + 100 \\cdot \\left( 1.0\\,s \\right) ^{ 2 } &= 104.0\\,s^{2}  \n",
       "\\\\[10pt]\n",
       "c &= \\sqrt { z \\cdot y }  = \\sqrt { 3 \\cdot 2.0\\,s } &= 2.45\\,s^{0.5}  \n",
       "\\end{aligned}\n",
       "\\]"
      ],
      "text/plain": [
       "<IPython.core.display.Latex object>"
      ]
     },
     "metadata": {},
     "output_type": "display_data"
    }
   ],
   "source": [
    "vals_dict = f(1*m, 2*s, 3)"
   ]
  },
  {
   "cell_type": "code",
   "execution_count": null,
   "metadata": {},
   "outputs": [],
   "source": []
  }
 ],
 "metadata": {
  "kernelspec": {
   "display_name": "Python 3",
   "language": "python",
   "name": "python3"
  },
  "language_info": {
   "codemirror_mode": {
    "name": "ipython",
    "version": 3
   },
   "file_extension": ".py",
   "mimetype": "text/x-python",
   "name": "python",
   "nbconvert_exporter": "python",
   "pygments_lexer": "ipython3",
   "version": "3.7.4"
  }
 },
 "nbformat": 4,
 "nbformat_minor": 4
}
