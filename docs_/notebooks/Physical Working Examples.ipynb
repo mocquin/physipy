{
 "cells": [
  {
   "cell_type": "markdown",
   "id": "66a04cf7-179d-48da-9594-6650916aecc7",
   "metadata": {},
   "source": [
    "# https://scipython.com/book2/chapter-6-numpy/examples/the-height-of-liquid-in-a-spherical-tank/"
   ]
  },
  {
   "cell_type": "code",
   "execution_count": 1,
   "id": "a2f6b271-ebe0-476e-ac53-6bfc93f19f21",
   "metadata": {},
   "outputs": [
    {
     "name": "stderr",
     "output_type": "stream",
     "text": [
      "/var/folders/5k/bf4syt7x1zjbhc6b28srzzym0000gn/T/ipykernel_2156/784238558.py:32: ComplexWarning: Casting complex values to real discards the imaginary part\n",
      "  h[i] = roots[(0 <= roots) & (roots <= 2*R.value)][0]\n"
     ]
    },
    {
     "data": {
      "image/png": "[encoded data removed]",
      "text/plain": [
       "<Figure size 432x288 with 1 Axes>"
      ]
     },
     "metadata": {
      "needs_background": "light"
     },
     "output_type": "display_data"
    }
   ],
   "source": [
    "from physipy import m, units, s, setup_matplotlib\n",
    "setup_matplotlib()\n",
    "\n",
    "import numpy as np\n",
    "import matplotlib.pyplot as plt\n",
    "Polynomial  = np.polynomial.Polynomial\n",
    "\n",
    "# Radius of the spherical tank in m\n",
    "R = 1.5 * m\n",
    "# Flow rate out of the tank, m^3.s-1\n",
    "F = 2.e-4 * m**3/s\n",
    "# Total volume of the tank\n",
    "V0 = 4/3 * np.pi * R**3\n",
    "# Total time taken for the tank to empty\n",
    "T = V0 / F\n",
    "\n",
    "# coefficients of the quadratic and cubic terms\n",
    "# of p(h), the polynomial to be solved for h\n",
    "c2, c3 = np.pi * R, -np.pi / 3\n",
    "\n",
    "N = 100\n",
    "# array of N time points between 0 and T inclusive\n",
    "time = np.linspace(0*s, T, N)\n",
    "# create the corresponding array of heights h(t)\n",
    "h = np.zeros(N)\n",
    "for i, t in enumerate(time):\n",
    "    c0 = F*t - V0\n",
    "    p = Polynomial([c0.value, 0, c2.value, c3])\n",
    "    # find the three roots to this polynomial\n",
    "    roots = p.roots()\n",
    "    # we want the one root for which 0 <= h <= 2R\n",
    "    h[i] = roots[(0 <= roots) & (roots <= 2*R.value)][0]\n",
    "\n",
    "h = h*m\n",
    "\n",
    "fig, ax = plt.subplots()\n",
    "ax.plot(time, h, 'o')\n",
    "ax.set_xlabel(\"Time (\" + str(ax.xaxis.get_label().get_text()) + \")\")\n",
    "ax.set_ylabel(\"Height in tank (\" + str(ax.yaxis.get_label().get_text()) + \")\")\n",
    "plt.show()"
   ]
  },
  {
   "cell_type": "markdown",
   "id": "ad9fe7fe-edf9-4b19-925a-cf6b33054786",
   "metadata": {},
   "source": [
    "# https://scipython.com/book2/chapter-6-numpy/examples/mesh-analysis-of-a-electrical-network/"
   ]
  },
  {
   "cell_type": "code",
   "execution_count": 2,
   "id": "4f52e797-ccc5-4816-85a3-bd048c700d30",
   "metadata": {},
   "outputs": [
    {
     "data": {
      "text/latex": [
       "[2.33333333 2.61111111 1.22222222]$\\,A$"
      ],
      "text/plain": [
       "<Quantity : [2.33333333 2.61111111 1.22222222] A>"
      ]
     },
     "execution_count": 2,
     "metadata": {},
     "output_type": "execute_result"
    }
   ],
   "source": [
    "from physipy import m, units, s, setup_matplotlib\n",
    "setup_matplotlib()\n",
    "import numpy as np\n",
    "\n",
    "ohm = units[\"ohm\"]\n",
    "volt = units[\"V\"]\n",
    "\n",
    "R = np.array([[50, 0, -30],\n",
    "              [0, 40, -20],\n",
    "              [-30, -20, 100]])*ohm\n",
    "V = np.array([80, 80, 0]) * volt\n",
    "I = np.linalg.inv(R) @ V\n",
    "I"
   ]
  },
  {
   "cell_type": "code",
   "execution_count": null,
   "id": "447551a0-8a18-40fc-810f-2c2ebb161bd8",
   "metadata": {},
   "outputs": [],
   "source": []
  }
 ],
 "metadata": {
  "kernelspec": {
   "display_name": "Python 3 (ipykernel)",
   "language": "python",
   "name": "python3"
  },
  "language_info": {
   "codemirror_mode": {
    "name": "ipython",
    "version": 3
   },
   "file_extension": ".py",
   "mimetype": "text/x-python",
   "name": "python",
   "nbconvert_exporter": "python",
   "pygments_lexer": "ipython3",
   "version": "3.9.7"
  }
 },
 "nbformat": 4,
 "nbformat_minor": 5
}
