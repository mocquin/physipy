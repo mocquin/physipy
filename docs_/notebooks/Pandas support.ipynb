{
 "cells": [
  {
   "cell_type": "markdown",
   "id": "d92fa693-42ac-4878-b723-5c32a2050666",
   "metadata": {
    "slideshow": {
     "slide_type": "slide"
    },
    "tags": []
   },
   "source": [
    "# Pandas support"
   ]
  },
  {
   "cell_type": "markdown",
   "id": "913ac3ce-3f2a-400d-a852-321562d1174a",
   "metadata": {},
   "source": [
    "Without anything else, physipy is kinda supported in pandas, but performances will be quite degraded. It seems a 1d quantity array will be split element-wise and stored, hence all operations will be done \"loop\"-wise, loosing the power of numpy arrays.\n",
    "\n",
    "See [physipandas](https://github.com/mocquin/physipandas) for better interface between pandas and physipy."
   ]
  },
  {
   "cell_type": "code",
   "execution_count": 1,
   "id": "d6861802-e62a-493d-a12d-9ae70fef601f",
   "metadata": {},
   "outputs": [],
   "source": [
    "import numpy as np\n",
    "import pandas as pd\n",
    "\n",
    "import physipy\n",
    "from physipy import K, s, m, kg, units"
   ]
  },
  {
   "cell_type": "code",
   "execution_count": 3,
   "id": "72d1a67e-f843-4c90-912f-0fd3dc5f8687",
   "metadata": {},
   "outputs": [
    {
     "data": {
      "text/latex": [
       "[1795.93758191 1775.92832823 1945.07659866 1740.89581296 1874.03343945\n",
       " 1811.68064108 1762.77695246 1906.06959756 1570.24467297 1793.87593128]$\\,mm$"
      ],
      "text/plain": [
       "<Quantity : [1.79593758 1.77592833 1.9450766  1.74089581 1.87403344 1.81168064\n",
       " 1.76277695 1.9060696  1.57024467 1.79387593] m>"
      ]
     },
     "execution_count": 3,
     "metadata": {},
     "output_type": "execute_result"
    }
   ],
   "source": [
    "arr = np.arange(10)\n",
    "heights = np.random.normal(1.8, 0.1, 10)*m\n",
    "heights.favunit = units[\"mm\"]\n",
    "weights = np.random.normal(74, 3, 10)*kg\n",
    "heights"
   ]
  },
  {
   "cell_type": "markdown",
   "id": "df78da42-e6e1-4196-ae1d-29658d91b98b",
   "metadata": {
    "slideshow": {
     "slide_type": "slide"
    },
    "tags": []
   },
   "source": [
    "## Dataframe"
   ]
  },
  {
   "cell_type": "code",
   "execution_count": 4,
   "id": "5b6448f2-9090-407e-b26a-32309dd8fadc",
   "metadata": {},
   "outputs": [
    {
     "name": "stderr",
     "output_type": "stream",
     "text": [
      "/Users/mocquin/MYLIB10/MODULES/physipy/physipy/quantity/quantity.py:680: UserWarning: The unit of the quantity is stripped.\n",
      "  warnings.warn(\"The unit of the quantity is stripped.\")\n"
     ]
    }
   ],
   "source": [
    "df = pd.DataFrame({\n",
    "    \"heights\":heights,\n",
    "    \"temp\":arr*K,\n",
    "    \"weights\":weights, \n",
    "    \"arr\":arr,\n",
    "})"
   ]
  },
  {
   "cell_type": "code",
   "execution_count": 5,
   "id": "bf58473b-b58c-43c2-9310-592813c4f782",
   "metadata": {},
   "outputs": [
    {
     "data": {
      "text/plain": [
       "0     1795.937581911331 mm\n",
       "1     1775.928328226154 mm\n",
       "2    1945.0765986590727 mm\n",
       "3    1740.8958129621826 mm\n",
       "4      1874.03343944686 mm\n",
       "5    1811.6806410848635 mm\n",
       "6    1762.7769524609269 mm\n",
       "7    1906.0695975565318 mm\n",
       "8    1570.2446729685344 mm\n",
       "9    1793.8759312841955 mm\n",
       "Name: heights, dtype: object"
      ]
     },
     "execution_count": 5,
     "metadata": {},
     "output_type": "execute_result"
    }
   ],
   "source": [
    "df[\"heights\"]"
   ]
  },
  {
   "cell_type": "code",
   "execution_count": 6,
   "id": "07b841b9-80b0-476e-9f42-05e06f4a3013",
   "metadata": {},
   "outputs": [
    {
     "data": {
      "text/html": [
       "<div>\n",
       "<style scoped>\n",
       "    .dataframe tbody tr th:only-of-type {\n",
       "        vertical-align: middle;\n",
       "    }\n",
       "\n",
       "    .dataframe tbody tr th {\n",
       "        vertical-align: top;\n",
       "    }\n",
       "\n",
       "    .dataframe thead th {\n",
       "        text-align: right;\n",
       "    }\n",
       "</style>\n",
       "<table border=\"1\" class=\"dataframe\">\n",
       "  <thead>\n",
       "    <tr style=\"text-align: right;\">\n",
       "      <th></th>\n",
       "      <th>heights</th>\n",
       "      <th>temp</th>\n",
       "      <th>weights</th>\n",
       "      <th>arr</th>\n",
       "    </tr>\n",
       "  </thead>\n",
       "  <tbody>\n",
       "    <tr>\n",
       "      <th>0</th>\n",
       "      <td>1795.937581911331 mm</td>\n",
       "      <td>0 K</td>\n",
       "      <td>74.7673590827353 kg</td>\n",
       "      <td>0</td>\n",
       "    </tr>\n",
       "    <tr>\n",
       "      <th>1</th>\n",
       "      <td>1775.928328226154 mm</td>\n",
       "      <td>1 K</td>\n",
       "      <td>72.47121534114326 kg</td>\n",
       "      <td>1</td>\n",
       "    </tr>\n",
       "    <tr>\n",
       "      <th>2</th>\n",
       "      <td>1945.0765986590727 mm</td>\n",
       "      <td>2 K</td>\n",
       "      <td>67.31427635122361 kg</td>\n",
       "      <td>2</td>\n",
       "    </tr>\n",
       "    <tr>\n",
       "      <th>3</th>\n",
       "      <td>1740.8958129621826 mm</td>\n",
       "      <td>3 K</td>\n",
       "      <td>71.93136727916843 kg</td>\n",
       "      <td>3</td>\n",
       "    </tr>\n",
       "    <tr>\n",
       "      <th>4</th>\n",
       "      <td>1874.03343944686 mm</td>\n",
       "      <td>4 K</td>\n",
       "      <td>71.44576517188413 kg</td>\n",
       "      <td>4</td>\n",
       "    </tr>\n",
       "    <tr>\n",
       "      <th>5</th>\n",
       "      <td>1811.6806410848635 mm</td>\n",
       "      <td>5 K</td>\n",
       "      <td>73.81775380993244 kg</td>\n",
       "      <td>5</td>\n",
       "    </tr>\n",
       "    <tr>\n",
       "      <th>6</th>\n",
       "      <td>1762.7769524609269 mm</td>\n",
       "      <td>6 K</td>\n",
       "      <td>75.37023037889304 kg</td>\n",
       "      <td>6</td>\n",
       "    </tr>\n",
       "    <tr>\n",
       "      <th>7</th>\n",
       "      <td>1906.0695975565318 mm</td>\n",
       "      <td>7 K</td>\n",
       "      <td>73.73775748529467 kg</td>\n",
       "      <td>7</td>\n",
       "    </tr>\n",
       "    <tr>\n",
       "      <th>8</th>\n",
       "      <td>1570.2446729685344 mm</td>\n",
       "      <td>8 K</td>\n",
       "      <td>70.89448391251106 kg</td>\n",
       "      <td>8</td>\n",
       "    </tr>\n",
       "    <tr>\n",
       "      <th>9</th>\n",
       "      <td>1793.8759312841955 mm</td>\n",
       "      <td>9 K</td>\n",
       "      <td>71.16030035423776 kg</td>\n",
       "      <td>9</td>\n",
       "    </tr>\n",
       "  </tbody>\n",
       "</table>\n",
       "</div>"
      ],
      "text/plain": [
       "                 heights temp               weights  arr\n",
       "0   1795.937581911331 mm  0 K   74.7673590827353 kg    0\n",
       "1   1775.928328226154 mm  1 K  72.47121534114326 kg    1\n",
       "2  1945.0765986590727 mm  2 K  67.31427635122361 kg    2\n",
       "3  1740.8958129621826 mm  3 K  71.93136727916843 kg    3\n",
       "4    1874.03343944686 mm  4 K  71.44576517188413 kg    4\n",
       "5  1811.6806410848635 mm  5 K  73.81775380993244 kg    5\n",
       "6  1762.7769524609269 mm  6 K  75.37023037889304 kg    6\n",
       "7  1906.0695975565318 mm  7 K  73.73775748529467 kg    7\n",
       "8  1570.2446729685344 mm  8 K  70.89448391251106 kg    8\n",
       "9  1793.8759312841955 mm  9 K  71.16030035423776 kg    9"
      ]
     },
     "execution_count": 6,
     "metadata": {},
     "output_type": "execute_result"
    }
   ],
   "source": [
    "df"
   ]
  },
  {
   "cell_type": "code",
   "execution_count": 7,
   "id": "fd771e72-9783-4c1a-915c-a63f660870ad",
   "metadata": {},
   "outputs": [
    {
     "name": "stdout",
     "output_type": "stream",
     "text": [
      "<class 'pandas.core.frame.DataFrame'>\n",
      "RangeIndex: 10 entries, 0 to 9\n",
      "Data columns (total 4 columns):\n",
      " #   Column   Non-Null Count  Dtype \n",
      "---  ------   --------------  ----- \n",
      " 0   heights  10 non-null     object\n",
      " 1   temp     10 non-null     object\n",
      " 2   weights  10 non-null     object\n",
      " 3   arr      10 non-null     int64 \n",
      "dtypes: int64(1), object(3)\n",
      "memory usage: 448.0+ bytes\n"
     ]
    }
   ],
   "source": [
    "df.info()"
   ]
  },
  {
   "cell_type": "code",
   "execution_count": 8,
   "id": "cd7d16d6-7963-48a9-b5bf-e80ad4fbfcad",
   "metadata": {},
   "outputs": [
    {
     "data": {
      "text/html": [
       "<div>\n",
       "<style scoped>\n",
       "    .dataframe tbody tr th:only-of-type {\n",
       "        vertical-align: middle;\n",
       "    }\n",
       "\n",
       "    .dataframe tbody tr th {\n",
       "        vertical-align: top;\n",
       "    }\n",
       "\n",
       "    .dataframe thead th {\n",
       "        text-align: right;\n",
       "    }\n",
       "</style>\n",
       "<table border=\"1\" class=\"dataframe\">\n",
       "  <thead>\n",
       "    <tr style=\"text-align: right;\">\n",
       "      <th></th>\n",
       "      <th>arr</th>\n",
       "    </tr>\n",
       "  </thead>\n",
       "  <tbody>\n",
       "    <tr>\n",
       "      <th>count</th>\n",
       "      <td>10.00000</td>\n",
       "    </tr>\n",
       "    <tr>\n",
       "      <th>mean</th>\n",
       "      <td>4.50000</td>\n",
       "    </tr>\n",
       "    <tr>\n",
       "      <th>std</th>\n",
       "      <td>3.02765</td>\n",
       "    </tr>\n",
       "    <tr>\n",
       "      <th>min</th>\n",
       "      <td>0.00000</td>\n",
       "    </tr>\n",
       "    <tr>\n",
       "      <th>25%</th>\n",
       "      <td>2.25000</td>\n",
       "    </tr>\n",
       "    <tr>\n",
       "      <th>50%</th>\n",
       "      <td>4.50000</td>\n",
       "    </tr>\n",
       "    <tr>\n",
       "      <th>75%</th>\n",
       "      <td>6.75000</td>\n",
       "    </tr>\n",
       "    <tr>\n",
       "      <th>max</th>\n",
       "      <td>9.00000</td>\n",
       "    </tr>\n",
       "  </tbody>\n",
       "</table>\n",
       "</div>"
      ],
      "text/plain": [
       "            arr\n",
       "count  10.00000\n",
       "mean    4.50000\n",
       "std     3.02765\n",
       "min     0.00000\n",
       "25%     2.25000\n",
       "50%     4.50000\n",
       "75%     6.75000\n",
       "max     9.00000"
      ]
     },
     "execution_count": 8,
     "metadata": {},
     "output_type": "execute_result"
    }
   ],
   "source": [
    "df.describe()"
   ]
  },
  {
   "cell_type": "code",
   "execution_count": 9,
   "id": "f73f05a1-9dd3-42b9-a57e-17cfe65fe855",
   "metadata": {},
   "outputs": [
    {
     "name": "stdout",
     "output_type": "stream",
     "text": [
      "177 µs ± 997 ns per loop (mean ± std. dev. of 7 runs, 10000 loops each)\n"
     ]
    }
   ],
   "source": [
    "%timeit df[\"heights\"].min()"
   ]
  },
  {
   "cell_type": "code",
   "execution_count": 10,
   "id": "daa2ae3e-d819-4b8b-b983-8a6e5811c8ba",
   "metadata": {},
   "outputs": [
    {
     "name": "stdout",
     "output_type": "stream",
     "text": [
      "24 µs ± 1.02 µs per loop (mean ± std. dev. of 7 runs, 10000 loops each)\n"
     ]
    }
   ],
   "source": [
    "%timeit df[\"arr\"].min()"
   ]
  }
 ],
 "metadata": {
  "kernelspec": {
   "display_name": "Python 3 (ipykernel)",
   "language": "python",
   "name": "python3"
  },
  "language_info": {
   "codemirror_mode": {
    "name": "ipython",
    "version": 3
   },
   "file_extension": ".py",
   "mimetype": "text/x-python",
   "name": "python",
   "nbconvert_exporter": "python",
   "pygments_lexer": "ipython3",
   "version": "3.9.7"
  },
  "toc-autonumbering": true,
  "toc-showtags": false
 },
 "nbformat": 4,
 "nbformat_minor": 5
}
