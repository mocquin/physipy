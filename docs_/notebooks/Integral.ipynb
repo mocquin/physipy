{
 "cells": [
  {
   "cell_type": "markdown",
   "metadata": {
    "tags": []
   },
   "source": [
    "# Integrals"
   ]
  },
  {
   "cell_type": "markdown",
   "metadata": {},
   "source": [
    "Ressources : \n",
    " - https://medium.com/math-simplified/the-trapezoidal-rule-on-steroids-romberg-integration-4a24fba8d751\n",
    " - wikipedia on trapezoidal rule and Romberg"
   ]
  },
  {
   "cell_type": "markdown",
   "metadata": {},
   "source": [
    "There are several ways to compute integrals : \n",
    " - from a np.array, using the `.integrate()` that relies on `np.trapz`\n",
    " - use `np.trapz`\n",
    " - use `scipy.integrate.romb` or `scipy.integrate.simps`  or `scipy.integrate.trapz`\n",
    " - use `physipy.quad`, that just wraps `scipy.integrate.quad` (or dblquad or tplquad)\n"
   ]
  },
  {
   "cell_type": "code",
   "execution_count": 2,
   "metadata": {},
   "outputs": [],
   "source": [
    "import physipy\n",
    "from physipy import m, units, s, K\n",
    "import numpy as np\n",
    "mm = units[\"mm\"]"
   ]
  },
  {
   "cell_type": "code",
   "execution_count": 3,
   "metadata": {},
   "outputs": [
    {
     "data": {
      "text/latex": [
       "[1. 2. 3.]$\\,m$"
      ],
      "text/plain": [
       "<Quantity : [1. 2. 3.] m>"
      ]
     },
     "execution_count": 3,
     "metadata": {},
     "output_type": "execute_result"
    }
   ],
   "source": [
    "distances = np.linspace(1, 3, num=3)*m\n",
    "distances"
   ]
  },
  {
   "cell_type": "markdown",
   "metadata": {},
   "source": [
    "## Trapezoidal rule"
   ]
  },
  {
   "cell_type": "markdown",
   "metadata": {},
   "source": [
    "Split the interval in N points, including min and max, then evaluate the function you want to integrate at thoses points. Then join each point with the x-axis to create trapezoids. Those trapezoid have widths : \n",
    "$$\\Delta x= \\frac{b-a}{N}$$\n",
    "The area of each trapezoid is just the width times the average of the function points : \n",
    "$$S_i = \\frac{b-a}{N} \\frac{f(x_i)+f(x_{i+1})}{2}$$\n",
    "The integral is then just : \n",
    "$$I_N = \\sum_{i=0}^{N-1} S_i =  \\sum_{i=0}^{N-1} \\frac{b-a}{N} \\frac{f(x_i)+f(x_{i+1})}{2} =\\frac{b-a}{N} \\sum_{i=0}^{N-1} \\frac{f(x_i)+f(x_{i+1})}{2} $$"
   ]
  },
  {
   "cell_type": "markdown",
   "metadata": {},
   "source": [
    "Where $x_0=a$ and $x_{N-1}=b$"
   ]
  },
  {
   "cell_type": "markdown",
   "metadata": {},
   "source": [
    "But notice that all points except a and b appear twice so we can factor the expression : \n",
    "$$I_N = \\frac{b-a}{N} \\left( \\frac{f(a)+f(b)}{2} + \\sum_{i=1}^{N-2}f(x_i) \\right) $$"
   ]
  },
  {
   "cell_type": "markdown",
   "metadata": {},
   "source": [
    "It can be shown that the error is:\n",
    "$$E = \\int_a^b f(x)dx - I = -\\frac{(b-a)^3}{12N^2}f^{''}(\\xi)$$\n",
    "where $\\xi$ is a number between a and b. Notice that the Error is of the opposite sign of the concavity of f between a and b (if there is no inflexion point between a and b), ie the trapezoidal rule overestimates the integral if the function is concave up.\n",
    "Keep in mind that the trapezoidal error is dependent with \n",
    "$$E\\propto \\frac{1}{N^2}$$"
   ]
  },
  {
   "cell_type": "code",
   "execution_count": 4,
   "metadata": {},
   "outputs": [
    {
     "data": {
      "text/latex": [
       "$4.0\\,m$"
      ],
      "text/plain": [
       "<Quantity : 4.0 m>"
      ]
     },
     "execution_count": 4,
     "metadata": {},
     "output_type": "execute_result"
    }
   ],
   "source": [
    "# computes ((1+2)/2 + (2+3)/2)\n",
    "distances.integrate()"
   ]
  },
  {
   "cell_type": "code",
   "execution_count": 5,
   "metadata": {},
   "outputs": [
    {
     "data": {
      "text/latex": [
       "$4.0\\,m$"
      ],
      "text/plain": [
       "<Quantity : 4.0 m>"
      ]
     },
     "execution_count": 5,
     "metadata": {},
     "output_type": "execute_result"
    }
   ],
   "source": [
    "np.trapz(distances)"
   ]
  },
  {
   "cell_type": "code",
   "execution_count": 23,
   "metadata": {},
   "outputs": [
    {
     "name": "stdout",
     "output_type": "stream",
     "text": [
      "4.0 m\n",
      "4.0 m**2\n"
     ]
    },
    {
     "data": {
      "text/latex": [
       "$4.0\\,m^{2}$"
      ],
      "text/plain": [
       "<Quantity : 4.0 m**2, symbol=UndefinedSymbol*UndefinedSymbol/UndefinedSymbol>"
      ]
     },
     "execution_count": 23,
     "metadata": {},
     "output_type": "execute_result"
    }
   ],
   "source": [
    "# use specific, constant spacing\n",
    "dx = 1*s\n",
    "# with float dx\n",
    "print(np.trapz(distances, dx=1))\n",
    "# with quantity dx\n",
    "print(np.trapz(distances, dx=1*m))\n",
    "\n",
    "# raw implementation\n",
    "def my_trapez(f, a, b, N):\n",
    "    dx = (b - a) / N\n",
    "    x = np.linspace(a, b, N+1)\n",
    "    y = f(x)\n",
    "    area = 0.5 * (y[0] + y[-1])\n",
    "    area += y[1:-1].sum()\n",
    "    area *= dx\n",
    "    return area\n",
    "\n",
    "my_trapez(lambda x:x, 1*m, 3*m, N=2).into(m**2)"
   ]
  },
  {
   "cell_type": "markdown",
   "metadata": {},
   "source": [
    "This will work for integration of nd arrays. For example, computing several integrals : "
   ]
  },
  {
   "cell_type": "code",
   "execution_count": 7,
   "metadata": {},
   "outputs": [
    {
     "data": {
      "text/latex": [
       "[49995.         51015.30612245 52035.6122449  53055.91836735\n",
       " 54076.2244898  55096.53061224 56116.83673469 57137.14285714\n",
       " 58157.44897959 59177.75510204 60198.06122449 61218.36734694\n",
       " 62238.67346939 63258.97959184 64279.28571429 65299.59183673\n",
       " 66319.89795918 67340.20408163 68360.51020408 69380.81632653\n",
       " 70401.12244898 71421.42857143 72441.73469388 73462.04081633\n",
       " 74482.34693878 75502.65306122 76522.95918367 77543.26530612\n",
       " 78563.57142857 79583.87755102 80604.18367347 81624.48979592\n",
       " 82644.79591837 83665.10204082 84685.40816327 85705.71428571\n",
       " 86726.02040816 87746.32653061 88766.63265306 89786.93877551\n",
       " 90807.24489796 91827.55102041 92847.85714286 93868.16326531\n",
       " 94888.46938776 95908.7755102  96929.08163265 97949.3877551\n",
       " 98969.69387755 99990.        ]$\\,m s$"
      ],
      "text/plain": [
       "<Quantity : [49995.         51015.30612245 52035.6122449  53055.91836735\n",
       " 54076.2244898  55096.53061224 56116.83673469 57137.14285714\n",
       " 58157.44897959 59177.75510204 60198.06122449 61218.36734694\n",
       " 62238.67346939 63258.97959184 64279.28571429 65299.59183673\n",
       " 66319.89795918 67340.20408163 68360.51020408 69380.81632653\n",
       " 70401.12244898 71421.42857143 72441.73469388 73462.04081633\n",
       " 74482.34693878 75502.65306122 76522.95918367 77543.26530612\n",
       " 78563.57142857 79583.87755102 80604.18367347 81624.48979592\n",
       " 82644.79591837 83665.10204082 84685.40816327 85705.71428571\n",
       " 86726.02040816 87746.32653061 88766.63265306 89786.93877551\n",
       " 90807.24489796 91827.55102041 92847.85714286 93868.16326531\n",
       " 94888.46938776 95908.7755102  96929.08163265 97949.3877551\n",
       " 98969.69387755 99990.        ] m*s>"
      ]
     },
     "execution_count": 7,
     "metadata": {},
     "output_type": "execute_result"
    }
   ],
   "source": [
    "# sampling\n",
    "ech_t = np.linspace(1, 100)*s\n",
    "# params \n",
    "ech_v = np.linspace(10, 20)*m/s\n",
    "Ts, Vs = np.meshgrid(ech_t, ech_v)\n",
    "D = Ts*Vs\n",
    "D.integrate(axis=1, x=ech_t)"
   ]
  },
  {
   "cell_type": "markdown",
   "metadata": {},
   "source": [
    "## Roomberg\n",
    "The idea of Romberg integration is to use several time the trapezoidal rule, with various number of samples N : N, 2N, and so on. The error of the trapezoidal rule being proportionnal to $\\frac{1}{N^2}$  with $\\Delta x = \\frac{b-a}{N}$, so the error of the trapezoidal rule is propoertionnal to $(\\Delta x)^2$ : \n",
    "$$I = I_N + \\alpha (\\Delta x)^2$$\n",
    "We can rewrite the same with 2N samples : \n",
    "$$I = I_{2N} + \\alpha (\\frac{\\Delta x}{2})^2 = I_{2N} + \\alpha (\\Delta x)^2/4 $$\n",
    "So equaling both : \n",
    "$$I_N + \\alpha (\\Delta x)^2 =  I_{2N} +  \\alpha (\\Delta x)^2/4 $$\n"
   ]
  },
  {
   "cell_type": "markdown",
   "metadata": {},
   "source": [
    "So we get $\\alpha$: \n",
    "$$\\alpha (\\Delta x)^2/4 = \\frac{1}{3}(I_{2N}-I_N)$$\n",
    "So the integral expression with 2N is : \n",
    "$$I = I_{2N} + \\frac{1}{3}(I_{2N}-I_N) $$\n"
   ]
  },
  {
   "cell_type": "markdown",
   "metadata": {},
   "source": [
    "The error of this method is quite less than that of the trapezoidal rule, while relying only on the trapezoidal integrals N and 2N."
   ]
  },
  {
   "cell_type": "code",
   "execution_count": 28,
   "metadata": {},
   "outputs": [
    {
     "name": "stdout",
     "output_type": "stream",
     "text": [
      "4.0 m**2\n",
      "4.0 m**2\n"
     ]
    }
   ],
   "source": [
    "import matplotlib.pyplot as plt\n",
    "import matplotlib.patches as patches\n",
    "import numpy as np\n",
    "\n",
    "def romberg(f, a, b, N):\n",
    "    \n",
    "    I_N = my_trapez(f, a, b, N)\n",
    "    I_2N = my_trapez(f, a, b, 2*N)\n",
    "    \n",
    "    return I_2N + 1/3. * (I_2N - I_N)\n",
    "\n",
    "print(my_trapez(lambda x:x, 1*m, 3*m, N=2).into(m**2))\n",
    "print(romberg(lambda x:x, 1*m, 3*m, N=2).into(m**2))"
   ]
  },
  {
   "cell_type": "markdown",
   "metadata": {},
   "source": [
    "## Simpson's 1/3 rule"
   ]
  },
  {
   "cell_type": "markdown",
   "metadata": {},
   "source": [
    "http://nm.mathforcollege.com/topics/simpsons_13rd_rule.html"
   ]
  },
  {
   "cell_type": "markdown",
   "metadata": {},
   "source": [
    "The trapezoidal rule apprixmates the function by a first order polynom : Simpson 1/3 rule uses a 2nd order polynom, say : \n",
    "$$P(x)=p_0 + p_1 x + p_2 x^2$$\n",
    "such that \n",
    "$$P(a)=f(a)=p_0 + p_1 a + p_2 a^2$$\n",
    "$$P(b)=f(b)=p_0 + p_1 b + p_2 b^2$$\n",
    "$$P(m)=f(m)=p_0 + p_1 m + p_2 m^2$$\n",
    "where m=(b-a)/2.\n"
   ]
  },
  {
   "cell_type": "markdown",
   "metadata": {},
   "source": [
    "Solving for $p_0$, $p_1$, $p_2$ gives : \n",
    "$$p_0 = \\frac{a^2f(b)+abf(b)-4abf(m)+abf(a)+b^2f(a)}{a^2-2ab+b^2}$$\n",
    "$$p_1 = -\\frac{af(a)-4af(m)+3af(b)+3bf(a)-4bf(m)+bf(b)}{a^2-2ab+b^2}$$\n",
    "$$p_2 = \\frac{2(f(a)-2f(m)+f(b)}{a^2-2ab+b^2}$$"
   ]
  },
  {
   "cell_type": "markdown",
   "metadata": {},
   "source": [
    "On the other hand, the integral of the polynom is : \n",
    "$$ \\int_{a}^b p_0 + p_1 x + p_2 x^2 dx= [xp_0 + \\frac{p_1}{2}x^2 + \\frac{p_2}{3}x^3]_a^b = (b-a)p_0 + \\frac{p_1}{2}(b^2-a^2) + \\frac{p_2}{3}(b^3-a^3)$$"
   ]
  },
  {
   "cell_type": "markdown",
   "metadata": {},
   "source": [
    "Substituting $p_0$, $p_1$ and $p_2$ leads to :\n",
    "$$\\int_{a}^{b}f(x)dx \\approx \\int_{a}^{b} P(x)dx = \\frac{b-a}{6}\\left[f(a)+4f(\\frac{a+b}{2})+f(b) \\right]$$\n",
    "with $h=(b-a)/2$\n",
    "$$\\int_{a}^{b}f(x)dx \\approx \\int_{a}^{b} P(x)dx = \\frac{h}{3}\\left[f(a)+4f(\\frac{a+b}{2})+f(b) \\right]$$\n",
    "hence the \"1/3\" rule."
   ]
  },
  {
   "cell_type": "markdown",
   "metadata": {},
   "source": [
    "Another way to write the function as a polynom to integrate between a and b using a parabol, ie a second-order polynom, that has same values as the function at a, b, and middle point (a+b)/2 is using the Lagrangian interpolation:\n",
    "$$\\text{On [a,b]:}f(x)\\approx P(x)=f(a)\\frac{(x-m)(x-b)}{(a-m)(a-b)}+f(m)\\frac{(x-a)(x-b)}{(m-a)(m-b)}+f(b)\\frac{(x-a)(x-m)}{(b-a)(b-m)}$$"
   ]
  },
  {
   "cell_type": "markdown",
   "metadata": {},
   "source": [
    "## Simpson's 3/8 rule\n",
    "Similar to the quadratic approximation of 1/3 rule, but uses a cubic interpolation, which yields to : \n",
    "$$\\int_{a}^{b}f(x)dx \\approx \\int_{a}^{b} P(x)dx = \\frac{b-a}{8}\\left[f(a)+3f(\\frac{2a+b}{3})+3f(\\frac{a+2b}{3})+f(b) \\right]$$\n",
    "with $h=(b-a)/3$\n",
    "$$\\int_{a}^{b}f(x)dx \\approx \\int_{a}^{b} P(x)dx = \\frac{3h}{8}\\left[f(a)+3f(\\frac{2a+b}{3})+3f(\\frac{a+2b}{3})+f(b) \\right]$$\n",
    "hence the \"3/8\" rule."
   ]
  },
  {
   "cell_type": "markdown",
   "metadata": {
    "tags": []
   },
   "source": [
    "# Trapz for 2D integral"
   ]
  },
  {
   "cell_type": "code",
   "execution_count": 8,
   "metadata": {},
   "outputs": [],
   "source": [
    "from physipy.quantity.calculus import trapz2"
   ]
  },
  {
   "cell_type": "code",
   "execution_count": 9,
   "metadata": {},
   "outputs": [
    {
     "name": "stdout",
     "output_type": "stream",
     "text": [
      "2.0 m**2\n"
     ]
    }
   ],
   "source": [
    "#sample a 2 squared meter, in both direction with different spacing\n",
    "nx = 12\n",
    "ny = 30\n",
    "ech_dx = np.linspace(0*m, 2*m, num=nx)\n",
    "ech_dy = np.linspace(0*m, 1*m ,num=ny)\n",
    "X, Y = np.meshgrid(ech_dx, ech_dy)\n",
    "# make a uniform ponderation\n",
    "Zs = np.ones_like(X)\n",
    "print(trapz2(Zs, ech_dx, ech_dy))"
   ]
  },
  {
   "cell_type": "markdown",
   "metadata": {},
   "source": [
    "# Scipy"
   ]
  },
  {
   "cell_type": "code",
   "execution_count": 7,
   "metadata": {},
   "outputs": [],
   "source": [
    "import scipy"
   ]
  },
  {
   "cell_type": "code",
   "execution_count": 8,
   "metadata": {},
   "outputs": [
    {
     "name": "stdout",
     "output_type": "stream",
     "text": [
      "4.0 m\n",
      "4.0 m**2\n"
     ]
    }
   ],
   "source": [
    "# scipy.integrate.trapz just wraps numpy's trapz\n",
    "print(scipy.integrate.trapz(distances, dx=1))\n",
    "print(scipy.integrate.trapz(distances, dx=1*m))"
   ]
  },
  {
   "cell_type": "code",
   "execution_count": 9,
   "metadata": {},
   "outputs": [
    {
     "data": {
      "text/latex": [
       "$4.0\\,m$"
      ],
      "text/plain": [
       "<Quantity : 4.0 m>"
      ]
     },
     "execution_count": 9,
     "metadata": {},
     "output_type": "execute_result"
    }
   ],
   "source": [
    "# scipy.integrate.simps : simpson's method : approximate function's interval by polynome \n",
    "# https://fr.wikipedia.org/wiki/M%C3%A9thode_de_Simpson\n",
    "scipy.integrate.simps(distances)\n",
    "scipy.integrate.simps(distances, dx=1*m)"
   ]
  },
  {
   "cell_type": "code",
   "execution_count": 10,
   "metadata": {},
   "outputs": [
    {
     "data": {
      "text/plain": [
       "4.0"
      ]
     },
     "execution_count": 10,
     "metadata": {},
     "output_type": "execute_result"
    }
   ],
   "source": [
    "# scipy.integrate.romb : Romberg's method \n",
    "# https://en.wikipedia.org/wiki/Romberg%27s_method\n",
    "scipy.integrate.romb(distances)\n",
    "scipy.integrate.romb(distances, dx=1*m)"
   ]
  },
  {
   "cell_type": "markdown",
   "metadata": {},
   "source": [
    "## quad"
   ]
  },
  {
   "cell_type": "code",
   "execution_count": 11,
   "metadata": {},
   "outputs": [
    {
     "data": {
      "text/latex": [
       "$60.0\\,s^{2}$"
      ],
      "text/plain": [
       "<Quantity : 60.0 s**2>"
      ]
     },
     "execution_count": 11,
     "metadata": {},
     "output_type": "execute_result"
    }
   ],
   "source": [
    "def f(t):\n",
    "    return t + 1*s\n",
    "\n",
    "integ, err = physipy.quad(f, 0*s, 10*s)\n",
    "integ"
   ]
  },
  {
   "cell_type": "markdown",
   "metadata": {},
   "source": [
    "## dblquad"
   ]
  },
  {
   "cell_type": "code",
   "execution_count": 12,
   "metadata": {},
   "outputs": [
    {
     "data": {
      "text/latex": [
       "$3600.0\\,m^{2} s^{2}$"
      ],
      "text/plain": [
       "<Quantity : 3600.0 m**2*s**2>"
      ]
     },
     "execution_count": 12,
     "metadata": {},
     "output_type": "execute_result"
    }
   ],
   "source": [
    "def f(t, d):\n",
    "    return (t + 1*s) * (d + 1*m)\n",
    "\n",
    "integ, err = physipy.dblquad(f, 0*m, 10*m, 0*s, 10*s)\n",
    "integ"
   ]
  },
  {
   "cell_type": "markdown",
   "metadata": {},
   "source": [
    "## tplquad"
   ]
  },
  {
   "cell_type": "code",
   "execution_count": 13,
   "metadata": {},
   "outputs": [
    {
     "data": {
      "text/latex": [
       "$216000.0\\,K^{2} m^{2} s^{2}$"
      ],
      "text/plain": [
       "<Quantity : 216000.0 K**2*m**2*s**2>"
      ]
     },
     "execution_count": 13,
     "metadata": {},
     "output_type": "execute_result"
    }
   ],
   "source": [
    "def f(t, d, deg):\n",
    "    return (t + 1*s) * (d + 1*m) * (deg + 1*K)\n",
    "\n",
    "integ, err = physipy.tplquad(f, 0*K, 10*K, 0*m, 10*m, 0*s, 10*s)\n",
    "integ"
   ]
  },
  {
   "cell_type": "code",
   "execution_count": null,
   "metadata": {},
   "outputs": [],
   "source": []
  }
 ],
 "metadata": {
  "kernelspec": {
   "display_name": "Python 3 (ipykernel)",
   "language": "python",
   "name": "python3"
  },
  "language_info": {
   "codemirror_mode": {
    "name": "ipython",
    "version": 3
   },
   "file_extension": ".py",
   "mimetype": "text/x-python",
   "name": "python",
   "nbconvert_exporter": "python",
   "pygments_lexer": "ipython3",
   "version": "3.9.7"
  }
 },
 "nbformat": 4,
 "nbformat_minor": 4
}
