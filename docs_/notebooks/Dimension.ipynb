{
 "cells": [
  {
   "cell_type": "code",
   "execution_count": 1,
   "metadata": {},
   "outputs": [],
   "source": [
    "import physipy\n",
    "from physipy import Dimension\n",
    "from fractions import Fraction"
   ]
  },
  {
   "attachments": {},
   "cell_type": "markdown",
   "metadata": {},
   "source": [
    "# Dimension"
   ]
  },
  {
   "attachments": {},
   "cell_type": "markdown",
   "metadata": {},
   "source": [
    "## Dimension's dict"
   ]
  },
  {
   "attachments": {},
   "cell_type": "markdown",
   "metadata": {},
   "source": [
    "The Dimension class is based on a single dictionnary, stored as a json file \"`dimension.txt`\":"
   ]
  },
  {
   "cell_type": "code",
   "execution_count": 2,
   "metadata": {},
   "outputs": [
    {
     "name": "stdout",
     "output_type": "stream",
     "text": [
      "    L : m  \n",
      "    M : kg \n",
      "    T : s  \n",
      "    I : A  \n",
      "theta : K  \n",
      "    N : mol\n",
      "    J : cd \n",
      "  RAD : rad\n",
      "   SR : sr \n"
     ]
    }
   ],
   "source": [
    "for key, value in physipy.quantity.dimension.SI_UNIT_SYMBOL.items():\n",
    "    print(f\"{key: >5} : {value: <3}\")"
   ]
  },
  {
   "attachments": {},
   "cell_type": "markdown",
   "metadata": {},
   "source": [
    "## Construction"
   ]
  },
  {
   "attachments": {},
   "cell_type": "markdown",
   "metadata": {},
   "source": [
    "The Dimension object is basically a dictionnary that stores the dimensions' name and power. A dimension can be created different ways. The values associated can be int, float, or fractions.Fraction (actually, anything that supports addition, subtraction, multiplication, \"minus\" notation, and can be parsed by sympy). If possible, the values are casted into integers."
   ]
  },
  {
   "attachments": {},
   "cell_type": "markdown",
   "metadata": {},
   "source": [
    " - from None to create dimensionless"
   ]
  },
  {
   "cell_type": "code",
   "execution_count": 3,
   "metadata": {},
   "outputs": [
    {
     "name": "stdout",
     "output_type": "stream",
     "text": [
      "no-dimension\n",
      "<Dimension : {'L': 0, 'M': 0, 'T': 0, 'I': 0, 'theta': 0, 'N': 0, 'J': 0, 'RAD': 0, 'SR': 0}>\n"
     ]
    },
    {
     "data": {
      "text/latex": [
       "$1$"
      ],
      "text/plain": [
       "<Dimension : {'L': 0, 'M': 0, 'T': 0, 'I': 0, 'theta': 0, 'N': 0, 'J': 0, 'RAD': 0, 'SR': 0}>"
      ]
     },
     "execution_count": 3,
     "metadata": {},
     "output_type": "execute_result"
    }
   ],
   "source": [
    "dimensionless = physipy.Dimension(None)\n",
    "print(dimensionless)\n",
    "print(repr(dimensionless))\n",
    "dimensionless"
   ]
  },
  {
   "attachments": {},
   "cell_type": "markdown",
   "metadata": {},
   "source": [
    " - from a string of a single dimension"
   ]
  },
  {
   "cell_type": "code",
   "execution_count": 4,
   "metadata": {},
   "outputs": [
    {
     "name": "stdout",
     "output_type": "stream",
     "text": [
      "L\n",
      "<Dimension : {'L': 1, 'M': 0, 'T': 0, 'I': 0, 'theta': 0, 'N': 0, 'J': 0, 'RAD': 0, 'SR': 0}>\n"
     ]
    },
    {
     "data": {
      "text/latex": [
       "$L$"
      ],
      "text/plain": [
       "<Dimension : {'L': 1, 'M': 0, 'T': 0, 'I': 0, 'theta': 0, 'N': 0, 'J': 0, 'RAD': 0, 'SR': 0}>"
      ]
     },
     "execution_count": 4,
     "metadata": {},
     "output_type": "execute_result"
    }
   ],
   "source": [
    "a_length_dimension = physipy.Dimension(\"L\")\n",
    "print(a_length_dimension)\n",
    "print(repr(a_length_dimension))\n",
    "a_length_dimension"
   ]
  },
  {
   "cell_type": "code",
   "execution_count": 5,
   "metadata": {},
   "outputs": [
    {
     "data": {
      "text/latex": [
       "$\\sqrt{L}$"
      ],
      "text/plain": [
       "<Dimension : {'L': Fraction(1, 2), 'M': 0, 'T': 0, 'I': 0, 'theta': 0, 'N': 0, 'J': 0, 'RAD': 0, 'SR': 0}>"
      ]
     },
     "execution_count": 5,
     "metadata": {},
     "output_type": "execute_result"
    }
   ],
   "source": [
    "Dimension({\"L\":Fraction(1/2)})"
   ]
  },
  {
   "attachments": {},
   "cell_type": "markdown",
   "metadata": {},
   "source": [
    " - from a string of a single dimension's SI unit symbol"
   ]
  },
  {
   "cell_type": "code",
   "execution_count": 6,
   "metadata": {},
   "outputs": [
    {
     "name": "stdout",
     "output_type": "stream",
     "text": [
      "L\n",
      "<Dimension : {'L': 1, 'M': 0, 'T': 0, 'I': 0, 'theta': 0, 'N': 0, 'J': 0, 'RAD': 0, 'SR': 0}>\n"
     ]
    },
    {
     "data": {
      "text/latex": [
       "$L$"
      ],
      "text/plain": [
       "<Dimension : {'L': 1, 'M': 0, 'T': 0, 'I': 0, 'theta': 0, 'N': 0, 'J': 0, 'RAD': 0, 'SR': 0}>"
      ]
     },
     "execution_count": 6,
     "metadata": {},
     "output_type": "execute_result"
    }
   ],
   "source": [
    "a_length_dimension = physipy.Dimension(\"m\")\n",
    "print(a_length_dimension)\n",
    "print(repr(a_length_dimension))\n",
    "a_length_dimension"
   ]
  },
  {
   "attachments": {},
   "cell_type": "markdown",
   "metadata": {},
   "source": [
    " - form a dict of dimension symbols"
   ]
  },
  {
   "cell_type": "code",
   "execution_count": 7,
   "metadata": {},
   "outputs": [
    {
     "name": "stdout",
     "output_type": "stream",
     "text": [
      "L/T\n",
      "<Dimension : {'L': 1, 'M': 0, 'T': -1, 'I': 0, 'theta': 0, 'N': 0, 'J': 0, 'RAD': 0, 'SR': 0}>\n"
     ]
    },
    {
     "data": {
      "text/latex": [
       "$\\frac{L}{T}$"
      ],
      "text/plain": [
       "<Dimension : {'L': 1, 'M': 0, 'T': -1, 'I': 0, 'theta': 0, 'N': 0, 'J': 0, 'RAD': 0, 'SR': 0}>"
      ]
     },
     "execution_count": 7,
     "metadata": {},
     "output_type": "execute_result"
    }
   ],
   "source": [
    "a_speed_dimension = physipy.Dimension({\"L\": 1, \"T\":-1})\n",
    "print(a_speed_dimension)\n",
    "print(repr(a_speed_dimension))\n",
    "a_speed_dimension"
   ]
  },
  {
   "attachments": {},
   "cell_type": "markdown",
   "metadata": {},
   "source": [
    " - from a string of a product-ratio of dimension symbols"
   ]
  },
  {
   "cell_type": "code",
   "execution_count": 8,
   "metadata": {},
   "outputs": [
    {
     "name": "stdout",
     "output_type": "stream",
     "text": [
      "L**2/(T**3*sqrt(theta))\n",
      "<Dimension : {'L': 2, 'M': 0, 'T': -3, 'I': 0, 'theta': -1/2, 'N': 0, 'J': 0, 'RAD': 0, 'SR': 0}>\n"
     ]
    },
    {
     "data": {
      "text/latex": [
       "$\\frac{L^{2}}{T^{3} \\sqrt{\\theta}}$"
      ],
      "text/plain": [
       "<Dimension : {'L': 2, 'M': 0, 'T': -3, 'I': 0, 'theta': -1/2, 'N': 0, 'J': 0, 'RAD': 0, 'SR': 0}>"
      ]
     },
     "execution_count": 8,
     "metadata": {},
     "output_type": "execute_result"
    }
   ],
   "source": [
    "complex_dim = physipy.Dimension(\"L**2/T**3*theta**(-1/2)\")\n",
    "print(complex_dim)\n",
    "print(repr(complex_dim))\n",
    "complex_dim"
   ]
  },
  {
   "attachments": {},
   "cell_type": "markdown",
   "metadata": {},
   "source": [
    " - from a string of a product-ratio of dimension's SI unit symbols"
   ]
  },
  {
   "cell_type": "code",
   "execution_count": 9,
   "metadata": {},
   "outputs": [
    {
     "name": "stdout",
     "output_type": "stream",
     "text": [
      "L**2/(T**3*theta)\n",
      "<Dimension : {'L': 2, 'M': 0, 'T': -3, 'I': 0, 'theta': -1, 'N': 0, 'J': 0, 'RAD': 0, 'SR': 0}>\n"
     ]
    },
    {
     "data": {
      "text/latex": [
       "$\\frac{L^{2}}{T^{3} \\theta}$"
      ],
      "text/plain": [
       "<Dimension : {'L': 2, 'M': 0, 'T': -3, 'I': 0, 'theta': -1, 'N': 0, 'J': 0, 'RAD': 0, 'SR': 0}>"
      ]
     },
     "execution_count": 9,
     "metadata": {},
     "output_type": "execute_result"
    }
   ],
   "source": [
    "complex_dim = physipy.Dimension(\"m**2/s**3*K**-1\")\n",
    "print(complex_dim)\n",
    "print(repr(complex_dim))\n",
    "complex_dim"
   ]
  },
  {
   "attachments": {},
   "cell_type": "markdown",
   "metadata": {},
   "source": [
    "## Operations on Dimension : mul, div, pow\n",
    "Dimension implements the following :\n",
    " - multiplication with another Dimension\n",
    " - division by another Dimension\n",
    " - pow by a number : this can be int, float, fractions.Fraction"
   ]
  },
  {
   "attachments": {},
   "cell_type": "markdown",
   "metadata": {},
   "source": [
    "Dimensions can be multiplied and divided together as expected : "
   ]
  },
  {
   "cell_type": "code",
   "execution_count": 10,
   "metadata": {},
   "outputs": [
    {
     "name": "stdout",
     "output_type": "stream",
     "text": [
      "L**2/T\n"
     ]
    },
    {
     "data": {
      "text/latex": [
       "$\\frac{L^{2}}{T}$"
      ],
      "text/plain": [
       "<Dimension : {'L': 2, 'M': 0, 'T': -1, 'I': 0, 'theta': 0, 'N': 0, 'J': 0, 'RAD': 0, 'SR': 0}>"
      ]
     },
     "execution_count": 10,
     "metadata": {},
     "output_type": "execute_result"
    }
   ],
   "source": [
    "product_dim = a_length_dimension * a_speed_dimension\n",
    "print(product_dim)\n",
    "product_dim"
   ]
  },
  {
   "cell_type": "code",
   "execution_count": 11,
   "metadata": {},
   "outputs": [
    {
     "name": "stdout",
     "output_type": "stream",
     "text": [
      "T\n"
     ]
    },
    {
     "data": {
      "text/latex": [
       "$T$"
      ],
      "text/plain": [
       "<Dimension : {'L': 0, 'M': 0, 'T': 1, 'I': 0, 'theta': 0, 'N': 0, 'J': 0, 'RAD': 0, 'SR': 0}>"
      ]
     },
     "execution_count": 11,
     "metadata": {},
     "output_type": "execute_result"
    }
   ],
   "source": [
    "div_dim = a_length_dimension / a_speed_dimension\n",
    "print(div_dim)\n",
    "div_dim"
   ]
  },
  {
   "attachments": {},
   "cell_type": "markdown",
   "metadata": {},
   "source": [
    "The inverse of a dimension can be computed by computing the division from 1:"
   ]
  },
  {
   "cell_type": "code",
   "execution_count": 12,
   "metadata": {},
   "outputs": [
    {
     "data": {
      "text/latex": [
       "$\\frac{T}{L}$"
      ],
      "text/plain": [
       "<Dimension : {'L': -1, 'M': 0, 'T': 1, 'I': 0, 'theta': 0, 'N': 0, 'J': 0, 'RAD': 0, 'SR': 0}>"
      ]
     },
     "execution_count": 12,
     "metadata": {},
     "output_type": "execute_result"
    }
   ],
   "source": [
    "1/a_speed_dimension"
   ]
  },
  {
   "attachments": {},
   "cell_type": "markdown",
   "metadata": {},
   "source": [
    "Computing the power : "
   ]
  },
  {
   "cell_type": "code",
   "execution_count": 13,
   "metadata": {},
   "outputs": [
    {
     "data": {
      "text/latex": [
       "$\\frac{L^{2}}{T^{2}}$"
      ],
      "text/plain": [
       "<Dimension : {'L': 2, 'M': 0, 'T': -2, 'I': 0, 'theta': 0, 'N': 0, 'J': 0, 'RAD': 0, 'SR': 0}>"
      ]
     },
     "execution_count": 13,
     "metadata": {},
     "output_type": "execute_result"
    }
   ],
   "source": [
    "a_speed_dimension**2"
   ]
  },
  {
   "cell_type": "code",
   "execution_count": 14,
   "metadata": {},
   "outputs": [
    {
     "data": {
      "text/latex": [
       "$\\frac{L^{0.5}}{T^{0.5}}$"
      ],
      "text/plain": [
       "<Dimension : {'L': 0.5, 'M': 0.0, 'T': -0.5, 'I': 0.0, 'theta': 0.0, 'N': 0.0, 'J': 0.0, 'RAD': 0.0, 'SR': 0.0}>"
      ]
     },
     "execution_count": 14,
     "metadata": {},
     "output_type": "execute_result"
    }
   ],
   "source": [
    "a_speed_dimension**(1/2)"
   ]
  },
  {
   "cell_type": "code",
   "execution_count": 15,
   "metadata": {},
   "outputs": [
    {
     "data": {
      "text/latex": [
       "$\\frac{L^{\\frac{8631899285793451}{2251799813685248}}}{\\sqrt{T}}$"
      ],
      "text/plain": [
       "<Dimension : {'L': Fraction(8631899285793451, 2251799813685248), 'M': Fraction(0, 1), 'T': Fraction(-1, 2), 'I': Fraction(0, 1), 'theta': Fraction(0, 1), 'N': Fraction(0, 1), 'J': Fraction(0, 1), 'RAD': Fraction(0, 1), 'SR': Fraction(0, 1)}>"
      ]
     },
     "execution_count": 15,
     "metadata": {},
     "output_type": "execute_result"
    }
   ],
   "source": [
    "a_speed_dimension**Fraction(1/2) * a_length_dimension**Fraction(10/3)"
   ]
  },
  {
   "attachments": {},
   "cell_type": "markdown",
   "metadata": {},
   "source": [
    "## Not implemented operations\n",
    " - addition and substraction by anything\n",
    " - multiplication by anything that is not a Dimension\n",
    " - division by anaything that is not a Dimension or 1"
   ]
  },
  {
   "cell_type": "code",
   "execution_count": 16,
   "metadata": {},
   "outputs": [],
   "source": [
    "# a_speed_dimension + a_speed_dimension --> NotImplemented\n",
    "# a_speed_dimension / 1 --> TypeError: A dimension can only be divided by another dimension, not 1.\n",
    "# a_speed_dimension * 1 --> TypeError: A dimension can only be multiplied by another dimension, not 1"
   ]
  },
  {
   "attachments": {},
   "cell_type": "markdown",
   "metadata": {},
   "source": [
    "## Printing and display : str, repr, latex"
   ]
  },
  {
   "attachments": {},
   "cell_type": "markdown",
   "metadata": {},
   "source": [
    "You can display a dimension many different ways : \n",
    " - with the standard repr format : `repr()`\n",
    " - as a latex form : `_repr_latex_`\n",
    " - in terms of dimension symbol : `str`\n",
    " - in terms of corresponding SI unit (returns a string) : `str_SI_unit()`\n",
    "\n",
    "Note that Dimension implements `__format__`, which is directly applied to its string representation."
   ]
  },
  {
   "cell_type": "code",
   "execution_count": 17,
   "metadata": {},
   "outputs": [
    {
     "name": "stdout",
     "output_type": "stream",
     "text": [
      "<Dimension : {'L': 2, 'M': 0, 'T': -3, 'I': 0, 'theta': -1, 'N': 0, 'J': 0, 'RAD': 0, 'SR': 0}>\n",
      "$\\frac{L^{2}}{T^{3} \\theta}$\n",
      "L**2/(T**3*theta)\n",
      "m**2/(K*s**3)\n"
     ]
    }
   ],
   "source": [
    "print(complex_dim.__repr__())\n",
    "print(complex_dim._repr_latex_())\n",
    "print(complex_dim.__str__())\n",
    "print(complex_dim.str_SI_unit())"
   ]
  },
  {
   "attachments": {},
   "cell_type": "markdown",
   "metadata": {},
   "source": [
    "In a notebook, the latex form is automaticaly called and rendered : "
   ]
  },
  {
   "cell_type": "code",
   "execution_count": 18,
   "metadata": {},
   "outputs": [
    {
     "data": {
      "text/latex": [
       "$\\frac{L^{2}}{T^{3} \\theta}$"
      ],
      "text/plain": [
       "<Dimension : {'L': 2, 'M': 0, 'T': -3, 'I': 0, 'theta': -1, 'N': 0, 'J': 0, 'RAD': 0, 'SR': 0}>"
      ]
     },
     "execution_count": 18,
     "metadata": {},
     "output_type": "execute_result"
    }
   ],
   "source": [
    "complex_dim"
   ]
  },
  {
   "attachments": {},
   "cell_type": "markdown",
   "metadata": {},
   "source": [
    "## Introspection : siunit_dict, dimensionality"
   ]
  },
  {
   "attachments": {},
   "cell_type": "markdown",
   "metadata": {},
   "source": [
    "A dict containing the SI unit symbol as keys can be accessed :"
   ]
  },
  {
   "cell_type": "code",
   "execution_count": 19,
   "metadata": {},
   "outputs": [
    {
     "data": {
      "text/plain": [
       "{'m': 1,\n",
       " 'kg': 0,\n",
       " 's': -1,\n",
       " 'A': 0,\n",
       " 'K': 0,\n",
       " 'mol': 0,\n",
       " 'cd': 0,\n",
       " 'rad': 0,\n",
       " 'sr': 0}"
      ]
     },
     "execution_count": 19,
     "metadata": {},
     "output_type": "execute_result"
    }
   ],
   "source": [
    "a_speed_dimension.siunit_dict()"
   ]
  },
  {
   "attachments": {},
   "cell_type": "markdown",
   "metadata": {},
   "source": [
    "A high-level \"dimensionality\" can be accessed : "
   ]
  },
  {
   "cell_type": "code",
   "execution_count": 20,
   "metadata": {},
   "outputs": [
    {
     "data": {
      "text/plain": [
       "'speed'"
      ]
     },
     "execution_count": 20,
     "metadata": {},
     "output_type": "execute_result"
    }
   ],
   "source": [
    "a_speed_dimension.dimensionality"
   ]
  },
  {
   "attachments": {},
   "cell_type": "markdown",
   "metadata": {},
   "source": [
    "The available dimensionality are stored in a dict :\n"
   ]
  },
  {
   "cell_type": "code",
   "execution_count": 21,
   "metadata": {},
   "outputs": [],
   "source": [
    "from physipy.quantity.dimension import DIMENSIONALITY"
   ]
  },
  {
   "cell_type": "code",
   "execution_count": 22,
   "metadata": {},
   "outputs": [
    {
     "name": "stdout",
     "output_type": "stream",
     "text": [
      "       dimensionless :         no-dimension :                     \n",
      "              length :                    L :                    m\n",
      "                mass :                    M :                   kg\n",
      "                time :                    T :                    s\n",
      "    electric_current :                    I :                    A\n",
      "         temperature :                theta :                    K\n",
      " amount_of_substance :                    N :                  mol\n",
      "  luminous_intensity :                    J :                   cd\n",
      "         plane_angle :                  RAD :                  rad\n",
      "         solid_angle :                   SR :                   sr\n",
      "                area :                 L**2 :                 m**2\n",
      "              volume :                 L**3 :                 m**3\n",
      "               speed :                  L/T :                  m/s\n",
      "        acceleration :               L/T**2 :               m/s**2\n",
      "               force :             L*M/T**2 :            kg*m/s**2\n",
      "              energy :          L**2*M/T**2 :         kg*m**2/s**2\n",
      "               power :          L**2*M/T**3 :         kg*m**2/s**3\n",
      "         capacitance :   I**2*T**4/(L**2*M) :  A**2*s**4/(kg*m**2)\n",
      "             voltage :      L**2*M/(I*T**3) :     kg*m**2/(A*s**3)\n"
     ]
    }
   ],
   "source": [
    "for k, v in DIMENSIONALITY.items():\n",
    "    print(f\"{k: >20} : {v: >20} : {v.str_SI_unit(): >20}\")"
   ]
  }
 ],
 "metadata": {
  "jupytext": {
   "text_representation": {
    "extension": ".py",
    "format_name": "percent",
    "format_version": "1.3",
    "jupytext_version": "1.13.2"
   }
  },
  "kernelspec": {
   "display_name": "Python 3 (ipykernel)",
   "language": "python",
   "name": "python3"
  },
  "language_info": {
   "codemirror_mode": {
    "name": "ipython",
    "version": 3
   },
   "file_extension": ".py",
   "mimetype": "text/x-python",
   "name": "python",
   "nbconvert_exporter": "python",
   "pygments_lexer": "ipython3",
   "version": "3.9.7"
  },
  "toc-autonumbering": true
 },
 "nbformat": 4,
 "nbformat_minor": 4
}
