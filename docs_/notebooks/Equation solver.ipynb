{
 "cells": [
  {
   "cell_type": "markdown",
   "id": "79e93322-a712-4a9e-9147-2c774dbb57db",
   "metadata": {},
   "source": [
    "# Using scipy wrappers"
   ]
  },
  {
   "cell_type": "markdown",
   "id": "d8cc9dd4-9fd7-4687-bbf0-39f2ef6cd747",
   "metadata": {},
   "source": [
    "Scipy offers various solver algorithms in `scipy.optimize`. Some of the solvers are wrapped and presented below."
   ]
  },
  {
   "cell_type": "markdown",
   "id": "0dabb437-4b0f-4146-820b-0bdbc9d858a4",
   "metadata": {},
   "source": [
    "## Root solver"
   ]
  },
  {
   "cell_type": "markdown",
   "id": "ee69bfd6-fc89-48b9-9e59-f668ba409377",
   "metadata": {},
   "source": [
    "A wrapper of `scipy.optimize.root`:"
   ]
  },
  {
   "cell_type": "code",
   "execution_count": 1,
   "id": "c21347ff-02ab-4a55-b974-9bd4e10d5fc1",
   "metadata": {},
   "outputs": [],
   "source": [
    "from physipy import s\n",
    "from physipy.optimize import root\n",
    "\n",
    "def toto(t):\n",
    "    return -10*s + t"
   ]
  },
  {
   "cell_type": "code",
   "execution_count": 2,
   "id": "a9d26501-d280-476d-a708-5dce6a520c72",
   "metadata": {},
   "outputs": [
    {
     "name": "stdout",
     "output_type": "stream",
     "text": [
      "10.0 s\n"
     ]
    },
    {
     "name": "stderr",
     "output_type": "stream",
     "text": [
      "/Users/mocquin/MYLIB10/MODULES/physipy/physipy/quantity/quantity.py:716: UserWarning: The unit of the quantity is stripped for __array_struct__\n",
      "  warnings.warn(f\"The unit of the quantity is stripped for {item}\")\n"
     ]
    }
   ],
   "source": [
    "print(root(toto, 0*s))"
   ]
  },
  {
   "cell_type": "code",
   "execution_count": 3,
   "id": "012a946f-fc65-4c54-851e-35cd08011847",
   "metadata": {},
   "outputs": [
    {
     "name": "stdout",
     "output_type": "stream",
     "text": [
      "5.0 s\n"
     ]
    }
   ],
   "source": [
    "def tata(t, p):\n",
    "    return -10*s*p + t\n",
    "\n",
    "print(root(tata, 0*s, args=(0.5,)))"
   ]
  },
  {
   "cell_type": "markdown",
   "id": "0b98b9db-588b-4c33-90f0-9eea9992f867",
   "metadata": {},
   "source": [
    "### Quadratic Brent method"
   ]
  },
  {
   "cell_type": "markdown",
   "id": "445c5af3-355c-4e3f-b775-8bfdd9772ef0",
   "metadata": {},
   "source": [
    "A wrapper of `scipy.optimize.brentq`:"
   ]
  },
  {
   "cell_type": "code",
   "execution_count": 8,
   "id": "e3619824-0d14-490d-91ff-9e840986c3c8",
   "metadata": {
    "lines_to_next_cell": 2
   },
   "outputs": [],
   "source": [
    "from physipy.optimize import brentq"
   ]
  },
  {
   "cell_type": "code",
   "execution_count": 9,
   "id": "f1efdeb0-14b5-424e-9336-55eefed9384d",
   "metadata": {
    "lines_to_next_cell": 2
   },
   "outputs": [
    {
     "name": "stdout",
     "output_type": "stream",
     "text": [
      "10.0 s\n",
      "5.0 s\n"
     ]
    }
   ],
   "source": [
    "print(brentq(toto, -10*s, 10*s))\n",
    "print(brentq(tata, -10*s, 10*s, args=(0.5,)))"
   ]
  },
  {
   "cell_type": "code",
   "execution_count": null,
   "id": "0cab7b3d-1b2b-40a7-b046-bd260408ca45",
   "metadata": {},
   "outputs": [],
   "source": []
  }
 ],
 "metadata": {
  "kernelspec": {
   "display_name": "Python 3 (ipykernel)",
   "language": "python",
   "name": "python3"
  },
  "language_info": {
   "codemirror_mode": {
    "name": "ipython",
    "version": 3
   },
   "file_extension": ".py",
   "mimetype": "text/x-python",
   "name": "python",
   "nbconvert_exporter": "python",
   "pygments_lexer": "ipython3",
   "version": "3.9.7"
  }
 },
 "nbformat": 4,
 "nbformat_minor": 5
}
