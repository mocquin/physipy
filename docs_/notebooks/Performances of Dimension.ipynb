{
 "cells": [
  {
   "cell_type": "markdown",
   "metadata": {},
   "source": [
    "# Dimension performance"
   ]
  },
  {
   "cell_type": "code",
   "execution_count": 1,
   "metadata": {},
   "outputs": [],
   "source": [
    "import sys\n",
    "sys.path.append(r\"/Users/mocquin/MYLIB10/MODULES/simparser/\")"
   ]
  },
  {
   "cell_type": "code",
   "execution_count": 2,
   "metadata": {},
   "outputs": [],
   "source": [
    "from physipy import Dimension\n",
    "from physipy.quantity.dimension import parse_str_to_dic\n",
    "from simparser import new_parse_str_to_dict"
   ]
  },
  {
   "cell_type": "code",
   "execution_count": 5,
   "metadata": {},
   "outputs": [
    {
     "name": "stdout",
     "output_type": "stream",
     "text": [
      "360 µs ± 11.2 µs per loop (mean ± std. dev. of 7 runs, 1000 loops each)\n",
      "105 µs ± 444 ns per loop (mean ± std. dev. of 7 runs, 10000 loops each)\n"
     ]
    }
   ],
   "source": [
    "%timeit parse_str_to_dic(\"M*L**2/T**3*I**-1\")\n",
    "%timeit new_parse_str_to_dict(\"M*L**2/T**3*I**-1\")"
   ]
  },
  {
   "cell_type": "code",
   "execution_count": 2,
   "metadata": {},
   "outputs": [
    {
     "name": "stdout",
     "output_type": "stream",
     "text": [
      "2.43 µs ± 131 ns per loop (mean ± std. dev. of 7 runs, 100000 loops each)\n",
      "731 µs ± 7.15 µs per loop (mean ± std. dev. of 7 runs, 1000 loops each)\n"
     ]
    }
   ],
   "source": [
    "%timeit Dimension({\"M\":1, \"L\":2, \"T\":-3, \"I\":-1})\n",
    "%timeit Dimension(\"M*L**2/T**3*I**-1\")"
   ]
  },
  {
   "cell_type": "code",
   "execution_count": null,
   "metadata": {},
   "outputs": [
    {
     "name": "stdout",
     "output_type": "stream",
     "text": [
      " \n",
      "*** Profile stats marshalled to file 'prunsum_file'. \n",
      "snakeviz web server started on 127.0.0.1:8080; enter Ctrl-C to exit\n",
      "http://127.0.0.1:8080/snakeviz/%2FUsers%2Fmocquin%2FDocuments%2FCLE%2FOptique%2FPython%2FJUPYTER%2FMYLIB10%2FMODULES%2Fphysipy%2Fdocs%2Fnotebooks%2Fprunsum_file\n"
     ]
    }
   ],
   "source": [
    "%prun -D prunsum_file -s nfl  new_parse_str_to_dict(\"M*L**2/T**3*I**-1\")\n",
    "!snakeviz prunsum_file"
   ]
  },
  {
   "cell_type": "code",
   "execution_count": 6,
   "metadata": {},
   "outputs": [],
   "source": [
    "from physipy import Dimension"
   ]
  },
  {
   "cell_type": "code",
   "execution_count": 7,
   "metadata": {},
   "outputs": [],
   "source": [
    "d = Dimension(\"L\")"
   ]
  },
  {
   "cell_type": "code",
   "execution_count": 13,
   "metadata": {},
   "outputs": [
    {
     "name": "stdout",
     "output_type": "stream",
     "text": [
      " \n",
      "*** Profile stats marshalled to file 'prun'. \n"
     ]
    },
    {
     "data": {
      "text/plain": [
       "         9 function calls in 0.000 seconds\n",
       "\n",
       "   Ordered by: internal time\n",
       "\n",
       "   ncalls  tottime  percall  cumtime  percall filename:lineno(function)\n",
       "        1    0.000    0.000    0.000    0.000 dimension.py:145(__mul__)\n",
       "        1    0.000    0.000    0.000    0.000 {built-in method builtins.exec}\n",
       "        1    0.000    0.000    0.000    0.000 <string>:1(<module>)\n",
       "        1    0.000    0.000    0.000    0.000 dimension.py:148(<dictcomp>)\n",
       "        1    0.000    0.000    0.000    0.000 dimension.py:85(__init__)\n",
       "        1    0.000    0.000    0.000    0.000 {method 'copy' of 'dict' objects}\n",
       "        1    0.000    0.000    0.000    0.000 {method 'keys' of 'dict' objects}\n",
       "        1    0.000    0.000    0.000    0.000 {built-in method builtins.isinstance}\n",
       "        1    0.000    0.000    0.000    0.000 {method 'disable' of '_lsprof.Profiler' objects}"
      ]
     },
     "metadata": {},
     "output_type": "display_data"
    }
   ],
   "source": [
    "%prun -D prun d*d"
   ]
  },
  {
   "cell_type": "code",
   "execution_count": null,
   "metadata": {},
   "outputs": [
    {
     "name": "stdout",
     "output_type": "stream",
     "text": [
      "snakeviz web server started on 127.0.0.1:8080; enter Ctrl-C to exit\n",
      "http://127.0.0.1:8080/snakeviz/%2FUsers%2Fmocquin%2FDocuments%2FCLE%2FOptique%2FPython%2FJUPYTER%2FMYLIB10%2FMODULES%2Fphysipy%2Fdocs%2Fprun\n"
     ]
    }
   ],
   "source": [
    "!snakeviz prun"
   ]
  },
  {
   "cell_type": "markdown",
   "metadata": {},
   "source": [
    "We need operations on array-like objects.\n",
    "The solutions are :\n",
    " - a dict\n",
    " - list\n",
    " - numpy array\n",
    " - ordered dict\n",
    " - counter\n",
    "Among these solutions"
   ]
  },
  {
   "cell_type": "markdown",
   "metadata": {},
   "source": [
    "Most important operators : \n",
    " - equality check, to check if the dimensions are equal (for `Dimension.__eq__`)\n",
    " - addition of values key-wise, when computing the product of 2 dimension (for `Dimension.__mul__`)\n",
    " - substration of values key-wise, when computing the division of 2 dimensions (for `Dimension.__truediv__`)\n",
    " - multiplication of all values, when computing the exp of a dimension by a scalar (for `Dimension.__pow__`)\n",
    " "
   ]
  },
  {
   "cell_type": "markdown",
   "metadata": {},
   "source": [
    "We can rely on the operators, but the actual implementation matters. Exemple for "
   ]
  },
  {
   "cell_type": "code",
   "execution_count": 4,
   "metadata": {},
   "outputs": [],
   "source": [
    "import operator as op\n",
    "operators = {\n",
    "     \"op.eq\":(\"binary\", op.eq), \n",
    "    \"op.add\":(\"binary\", op.add),\n",
    "    \"op.sub\":(\"binary\", op.sub),\n",
    "    \"op.mul\":(\"binary\", op.mul),\n",
    "}"
   ]
  },
  {
   "cell_type": "code",
   "execution_count": null,
   "metadata": {},
   "outputs": [],
   "source": [
    "import time\n",
    "class Timer():\n",
    "    def __enter__(self):\n",
    "        self.start = time.time()\n",
    "        return self\n",
    "    def __exit__(self, *args):\n",
    "        self.end = time.time()\n",
    "        self.secs = self.end - self.start\n",
    "        self.msecs = self.secs * 1000  # millisecs"
   ]
  },
  {
   "cell_type": "code",
   "execution_count": 5,
   "metadata": {},
   "outputs": [],
   "source": [
    "class Implem():\n",
    "    def __init__(self, name, creator):\n",
    "        self.name = name\n",
    "        self.creator = creator\n",
    "    def __call__(self, *args, **kwargs):\n",
    "        return self.creator(*args, **kwargs)\n",
    "\n",
    "    \n",
    "    \n",
    "implemetations = [DimAsDict, DimAsArray, DimAsList]\n",
    "    \n",
    "def bench_dimension_base_data(ns=[3, 4, 5, 6, 7, 8, 10, 15, 20, 50, 100, 1000, 10000]):\n",
    "    # 4 operations to time\n",
    "    # for various number of dimensions \n",
    "    # for all implemetations\n",
    "    # need to store the result of each test\n",
    "    res = []\n",
    "    for implem in implemetations:\n",
    "        for opmeta in operators:            \n",
    "            for n in ns:\n",
    "                obj = implem(n)\n",
    "                if opmeta[0] == \"binary\":\n",
    "                    op = opmeta[1]\n",
    "                    with Timer() as t:\n",
    "                        resop = op(obj, obj)\n",
    "                res_dict = {\n",
    "                    \"implem\":implem.name,\n",
    "                    \"n\":n,\n",
    "                    \"result\":resop,\n",
    "                    \"time\":t.msecs,\n",
    "                }\n",
    "                res.append(res_dict)\n",
    "                    \n",
    "                    \n",
    "                "
   ]
  },
  {
   "cell_type": "code",
   "execution_count": 1,
   "metadata": {},
   "outputs": [],
   "source": [
    "import physipy\n",
    "from physipy import m, Dimension"
   ]
  },
  {
   "cell_type": "code",
   "execution_count": 2,
   "metadata": {},
   "outputs": [
    {
     "name": "stdout",
     "output_type": "stream",
     "text": [
      "4.14 µs ± 40.3 ns per loop (mean ± std. dev. of 7 runs, 100000 loops each)\n"
     ]
    }
   ],
   "source": [
    "d = Dimension(\"L\")\n",
    "%timeit d**2"
   ]
  },
  {
   "cell_type": "code",
   "execution_count": 2,
   "metadata": {},
   "outputs": [
    {
     "name": "stdout",
     "output_type": "stream",
     "text": [
      "4.1 µs ± 16.3 ns per loop (mean ± std. dev. of 7 runs, 100000 loops each)\n"
     ]
    }
   ],
   "source": [
    "d = Dimension(\"L\")\n",
    "%timeit d**2"
   ]
  },
  {
   "cell_type": "code",
   "execution_count": 5,
   "metadata": {
    "lines_to_next_cell": 2
   },
   "outputs": [],
   "source": []
  },
  {
   "cell_type": "code",
   "execution_count": 7,
   "metadata": {},
   "outputs": [],
   "source": [
    "import numpy as np\n",
    "\n",
    "class DimAsListArray():\n",
    "    \"\"\"\n",
    "    Benefit the speed of array when computing mul/div, and speed of list equality for keys\n",
    "    \"\"\"\n",
    "    \n",
    "    def __init__(self, values=np.zeros(3), KEYS=BASEKEYS):\n",
    "        self.dims_keys = KEYS\n",
    "        self.dim_values = values\n",
    "        \n",
    "    def __mul__(self, other):\n",
    "        return DimAsListArray(self.dim_values+other.dim_values)\n",
    "        \n"
   ]
  },
  {
   "cell_type": "code",
   "execution_count": null,
   "metadata": {},
   "outputs": [],
   "source": []
  },
  {
   "cell_type": "code",
   "execution_count": 13,
   "metadata": {},
   "outputs": [],
   "source": [
    "import numpy as np\n",
    "import collections\n",
    "\"\"\"Goal : return True if 2 vectors of numbers are equal\n",
    "Inputs :\n",
    " - vectors are assured to be the same size\n",
    " - vector values can be int, float, np.numbers, fractions\n",
    " - the order of the numbers matters (like with dict comparison or ordered dict)\n",
    "\"\"\"\n",
    " \n",
    "as_dictl = {\"A\":0, \"B\":0, \"C\":0}\n",
    "as_dictr = {\"A\":0, \"B\":0, \"C\":0}\n",
    "as_listl = [0, 0, 0]\n",
    "as_listr = [0, 0, 0]\n",
    "as_arryl = np.array([0, 0, 0])\n",
    "as_arryr = np.array([0, 0, 0])\n",
    "as_odictl = collections.OrderedDict( {\"A\":0, \"B\":0, \"C\":0})\n",
    "as_odictr = collections.OrderedDict( {\"A\":0, \"B\":0, \"C\":0})\n",
    "as_counterl = collections.Counter(\"AAABBBCCC\")\n",
    "as_counterr = collections.Counter(\"AAABBBCCC\")"
   ]
  },
  {
   "cell_type": "code",
   "execution_count": 14,
   "metadata": {
    "lines_to_next_cell": 2
   },
   "outputs": [
    {
     "name": "stdout",
     "output_type": "stream",
     "text": [
      "47.2 ns ± 2.02 ns per loop (mean ± std. dev. of 7 runs, 10000000 loops each)\n",
      "77.4 ns ± 1.95 ns per loop (mean ± std. dev. of 7 runs, 10000000 loops each)\n",
      "79.2 ns ± 0.916 ns per loop (mean ± std. dev. of 7 runs, 10000000 loops each)\n",
      "86.9 ns ± 1.27 ns per loop (mean ± std. dev. of 7 runs, 10000000 loops each)\n",
      "324 ns ± 16.2 ns per loop (mean ± std. dev. of 7 runs, 1000000 loops each)\n",
      "799 ns ± 14.4 ns per loop (mean ± std. dev. of 7 runs, 1000000 loops each)\n",
      "5.22 µs ± 572 ns per loop (mean ± std. dev. of 7 runs, 100000 loops each)\n",
      "5.35 µs ± 409 ns per loop (mean ± std. dev. of 7 runs, 100000 loops each)\n"
     ]
    }
   ],
   "source": [
    "%timeit as_listl == as_listr\n",
    "%timeit as_dictl == as_dictr\n",
    "%timeit as_counterl == as_counterr\n",
    "%timeit as_odictl == as_odictr\n",
    "%timeit as_arryl.tolist() == as_arryr.tolist()\n",
    "%timeit list(as_odictl.values()) == list(as_odictr.values())\n",
    "%timeit np.array_equal(as_arryl, as_arryr)\n",
    "%timeit np.all(as_arryl == as_arryr)"
   ]
  },
  {
   "cell_type": "code",
   "execution_count": 19,
   "metadata": {
    "lines_to_next_cell": 2
   },
   "outputs": [
    {
     "name": "stdout",
     "output_type": "stream",
     "text": [
      "5 µs ± 123 ns per loop (mean ± std. dev. of 7 runs, 100000 loops each)\n",
      "17.7 µs ± 124 ns per loop (mean ± std. dev. of 7 runs, 100000 loops each)\n"
     ]
    }
   ],
   "source": [
    "a = np.arange(500)\n",
    "b = np.arange(500)\n",
    "\n",
    "%timeit np.all(a == b)\n",
    "%timeit a.tolist() == b.tolist()"
   ]
  },
  {
   "cell_type": "code",
   "execution_count": 12,
   "metadata": {},
   "outputs": [
    {
     "name": "stdout",
     "output_type": "stream",
     "text": [
      "616 ns ± 27.4 ns per loop (mean ± std. dev. of 7 runs, 1000000 loops each)\n",
      "1.35 µs ± 264 ns per loop (mean ± std. dev. of 7 runs, 1000000 loops each)\n",
      "600 ns ± 45.5 ns per loop (mean ± std. dev. of 7 runs, 1000000 loops each)\n",
      "624 ns ± 61 ns per loop (mean ± std. dev. of 7 runs, 1000000 loops each)\n"
     ]
    }
   ],
   "source": [
    "import numpy as np\n",
    "import collections\n",
    "from operator import add\n",
    "\n",
    "\n",
    "as_dictl = {\"A\":0, \"B\":0, \"C\":0}\n",
    "as_dictr = {\"A\":0, \"B\":0, \"C\":0}\n",
    "as_listl = [0, 0, 0]\n",
    "as_listr = [0, 0, 0]\n",
    "as_arryl = np.array([0, 0, 0])\n",
    "as_arryr = np.array([0, 0, 0])\n",
    "as_odictl = collections.OrderedDict( {\"A\":0, \"B\":0, \"C\":0})\n",
    "as_odictr = collections.OrderedDict( {\"A\":0, \"B\":0, \"C\":0})\n",
    "\n",
    "%timeit [l+r for l,r in zip(as_listl, as_listr)]\n",
    "%timeit {k:as_dictl[k]+as_dictr[k] for k in (as_dictl.keys() & as_dictr.keys())}\n",
    "#%timeit as_odictl == as_odictr\n",
    "#%timeit as_arryl.tolist() == as_arryr.tolist()\n",
    "#%timeit list(as_odictl.values()) == list(as_odictr.values())\n",
    "#%timeit np.array_equal(as_arryl, as_arryr)\n",
    "%timeit as_arryl + as_arryr\n",
    "%timeit list(map(add, as_listl, as_listr))"
   ]
  },
  {
   "cell_type": "code",
   "execution_count": null,
   "metadata": {},
   "outputs": [],
   "source": []
  },
  {
   "cell_type": "code",
   "execution_count": null,
   "metadata": {},
   "outputs": [],
   "source": []
  },
  {
   "cell_type": "code",
   "execution_count": 11,
   "metadata": {},
   "outputs": [
    {
     "name": "stdout",
     "output_type": "stream",
     "text": [
      "685 ns ± 145 ns per loop (mean ± std. dev. of 7 runs, 1000000 loops each)\n",
      "1.15 µs ± 87.4 ns per loop (mean ± std. dev. of 7 runs, 1000000 loops each)\n",
      "544 ns ± 50.9 ns per loop (mean ± std. dev. of 7 runs, 1000000 loops each)\n",
      "574 ns ± 36.5 ns per loop (mean ± std. dev. of 7 runs, 1000000 loops each)\n"
     ]
    }
   ],
   "source": [
    "import numpy as np\n",
    "import collections\n",
    "from operator import mul\n",
    "\n",
    "as_dictl = {\"A\":0, \"B\":0, \"C\":0}\n",
    "as_dictr = {\"A\":0, \"B\":0, \"C\":0}\n",
    "as_listl = [0, 0, 0]\n",
    "as_listr = [0, 0, 0]\n",
    "as_arryl = np.array([0, 0, 0])\n",
    "as_arryr = np.array([0, 0, 0])\n",
    "as_odictl = collections.OrderedDict( {\"A\":0, \"B\":0, \"C\":0})\n",
    "as_odictr = collections.OrderedDict( {\"A\":0, \"B\":0, \"C\":0})\n",
    "\n",
    "%timeit [l*r for l,r in zip(as_listl, as_listr)]\n",
    "%timeit {k:as_dictl[k]*as_dictr[k] for k in (as_dictl.keys() & as_dictr.keys())}\n",
    "#%timeit as_odictl == as_odictr\n",
    "#%timeit as_arryl.tolist() == as_arryr.tolist()\n",
    "#%timeit list(as_odictl.values()) == list(as_odictr.values())\n",
    "#%timeit np.array_equal(as_arryl, as_arryr)\n",
    "%timeit as_arryl * as_arryr\n",
    "%timeit list(map(mul, as_listl, as_listr))"
   ]
  },
  {
   "cell_type": "code",
   "execution_count": 2,
   "metadata": {},
   "outputs": [
    {
     "name": "stdout",
     "output_type": "stream",
     "text": [
      "980 ns ± 12.9 ns per loop (mean ± std. dev. of 7 runs, 1000000 loops each)\n",
      "1.19 µs ± 12.1 ns per loop (mean ± std. dev. of 7 runs, 1000000 loops each)\n",
      "733 ns ± 11.5 ns per loop (mean ± std. dev. of 7 runs, 1000000 loops each)\n",
      "1.27 µs ± 16.1 ns per loop (mean ± std. dev. of 7 runs, 1000000 loops each)\n"
     ]
    }
   ],
   "source": [
    "import numpy as np\n",
    "import collections\n",
    "from operator import pow\n",
    "\n",
    "as_dictl = {\"A\":1, \"B\":1, \"C\":1}\n",
    "as_dictr = 2\n",
    "as_listl = [1, 1, 1]\n",
    "as_listr = 2\n",
    "as_arryl = np.array([1, 1, 1])\n",
    "as_arryr = 2\n",
    "as_odictl = collections.OrderedDict( {\"A\":1, \"B\":1, \"C\":1})\n",
    "as_odictr = 2\n",
    "\n",
    "%timeit [l**as_dictr for l in as_listl]\n",
    "%timeit {k:as_dictl[k]**as_dictr for k in as_dictl.keys()}\n",
    "%timeit as_arryl ** as_arryr\n",
    "%timeit list(map(lambda x:x**2, as_listl))"
   ]
  }
 ],
 "metadata": {
  "kernelspec": {
   "display_name": "Python 3 (ipykernel)",
   "language": "python",
   "name": "python3"
  },
  "language_info": {
   "codemirror_mode": {
    "name": "ipython",
    "version": 3
   },
   "file_extension": ".py",
   "mimetype": "text/x-python",
   "name": "python",
   "nbconvert_exporter": "python",
   "pygments_lexer": "ipython3",
   "version": "3.9.7"
  }
 },
 "nbformat": 4,
 "nbformat_minor": 4
}
