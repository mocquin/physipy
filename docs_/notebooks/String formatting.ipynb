{
 "cells": [
  {
   "attachments": {},
   "cell_type": "markdown",
   "id": "da6b595f-192c-45fa-97ca-9ca1da24cea5",
   "metadata": {},
   "source": [
    "# String formatting"
   ]
  },
  {
   "cell_type": "code",
   "execution_count": 1,
   "id": "59b47b56-bdeb-41aa-8e3f-e6477c35f5ef",
   "metadata": {},
   "outputs": [],
   "source": [
    "import physipy\n",
    "from physipy import m"
   ]
  },
  {
   "cell_type": "code",
   "execution_count": 2,
   "id": "cff97a95-69b3-4133-a4a3-aaa5d5f1f85d",
   "metadata": {},
   "outputs": [],
   "source": [
    "q = 1.23456789*m"
   ]
  },
  {
   "cell_type": "code",
   "execution_count": 3,
   "id": "39d566be-15a2-4e29-b49c-0aee15ea857c",
   "metadata": {},
   "outputs": [
    {
     "name": "stdout",
     "output_type": "stream",
     "text": [
      "1.23456789 m\n"
     ]
    }
   ],
   "source": [
    "print(str(q))"
   ]
  },
  {
   "cell_type": "code",
   "execution_count": 4,
   "id": "2b61086b-4def-4228-8c4a-1e6937dddd16",
   "metadata": {},
   "outputs": [
    {
     "data": {
      "text/plain": [
       "1.23456789"
      ]
     },
     "execution_count": 4,
     "metadata": {},
     "output_type": "execute_result"
    }
   ],
   "source": [
    "q._compute_value()"
   ]
  },
  {
   "attachments": {},
   "cell_type": "markdown",
   "id": "8dd9c6c8-2159-4214-9b63-fc3aadb9bd7e",
   "metadata": {},
   "source": [
    "## Standard formatting"
   ]
  },
  {
   "cell_type": "code",
   "execution_count": 5,
   "id": "0b9bc38c-face-4405-8b12-a57235b983dd",
   "metadata": {},
   "outputs": [
    {
     "name": "stdout",
     "output_type": "stream",
     "text": [
      "1.23 m\n",
      "+1.23 m\n",
      "    +1.23 m\n",
      "**1.23456789*** m\n",
      "       1.235 m\n"
     ]
    }
   ],
   "source": [
    "print(f\"{q:.2f}\")\n",
    "print(f\"{q:+.2f}\")\n",
    "print(f\"{q:+9.2f}\")\n",
    "print(f\"{q:*^15}\")\n",
    "print(f\"{q: >-12.3f}\")"
   ]
  },
  {
   "attachments": {},
   "cell_type": "markdown",
   "id": "695df321-274e-4c5f-bd36-66beb11224ce",
   "metadata": {},
   "source": [
    "## physipy formatting"
   ]
  },
  {
   "cell_type": "code",
   "execution_count": 6,
   "id": "fa0ad4de-87df-4566-b4ea-52a6710a75cf",
   "metadata": {
    "lines_to_next_cell": 2
   },
   "outputs": [
    {
     "name": "stdout",
     "output_type": "stream",
     "text": [
      "1.23456789 m\n",
      "1.23456789m\n"
     ]
    }
   ],
   "source": [
    "print(f\"{q}\")\n",
    "print(f\"{q:~}\")  # ~ : no prefix before unit"
   ]
  },
  {
   "cell_type": "code",
   "execution_count": null,
   "id": "c02bb88b-c237-40a7-88ac-71dd6d22f57f",
   "metadata": {},
   "outputs": [],
   "source": []
  },
  {
   "cell_type": "code",
   "execution_count": null,
   "id": "0b025ce9-d6ac-4dda-b1c7-2c6dfa994bff",
   "metadata": {},
   "outputs": [],
   "source": []
  }
 ],
 "metadata": {
  "kernelspec": {
   "display_name": "Python 3 (ipykernel)",
   "language": "python",
   "name": "python3"
  },
  "language_info": {
   "codemirror_mode": {
    "name": "ipython",
    "version": 3
   },
   "file_extension": ".py",
   "mimetype": "text/x-python",
   "name": "python",
   "nbconvert_exporter": "python",
   "pygments_lexer": "ipython3",
   "version": "3.9.7"
  }
 },
 "nbformat": 4,
 "nbformat_minor": 5
}
