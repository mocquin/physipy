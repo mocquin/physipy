{
 "cells": [
  {
   "cell_type": "markdown",
   "id": "e4401bfe-cb28-4d7d-ae3f-1f2cb1bd87ac",
   "metadata": {},
   "source": [
    "__Straight to the results__ : \n",
    " https://mocquin.github.io/physipy/"
   ]
  },
  {
   "cell_type": "markdown",
   "id": "462cb63f-202d-4e7b-9f9d-20dd93f265e7",
   "metadata": {
    "tags": []
   },
   "source": [
    "# A quickstart on AirSpeedVelocity"
   ]
  },
  {
   "cell_type": "markdown",
   "id": "e034c0c1-6db4-4ebd-9c95-767cfa985950",
   "metadata": {},
   "source": [
    "Install required packages : \n",
    "```\n",
    "pip install asv\n",
    "pip install virtualenv\n",
    "```\n",
    "If first time using benchmarks : go to top package to setup the benchmarks:\n",
    "```\n",
    "asv quickstart\n",
    "```\n",
    "Creates json file, fill the matrix parameter with reqs packages.\n",
    "\n",
    "Once setup and benchmarks written : \n",
    "```\n",
    "asv run ALL  # to run all benchmarks on all comiits\n",
    "asv run v0.1..master # to all benchmarks from master to commit tagged v0.1\n",
    "asv publish  # convert results to html\n",
    "asv preview  # display html on server\n",
    "```\n",
    "\n",
    "To profile a specific benchmark on a specific commit : \n",
    "`asv profile benchmarks.BasicPhysipy.time_QuantityCreationByArray master --gui=snakeviz`\n",
    "(make sure to have pip install snakeviz).\n",
    "\n",
    "To benchmark only a list of commits : use `git log --pretty=oneline f1.py f2.py` to get the list of commits that modify files then : \n",
    "```\n",
    "asv run HASHFILE:hashestobenchmark.txt\n",
    "```\n",
    "\n",
    "To benchmark only a specific commit, add ^! after the commit hash : \n",
    "```\n",
    "asv run 123azert^!\n",
    "```\n",
    "\n",
    "See : https://www.youtube.com/watch?v=OsxJ5O6h8s0  \n",
    "Example : https://github.com/astropy/astropy-benchmarks\n",
    " "
   ]
  },
  {
   "cell_type": "markdown",
   "id": "f4acd5ee-f9f3-4804-84c3-f385e6bceed2",
   "metadata": {},
   "source": [
    "# Bench of physipy"
   ]
  },
  {
   "cell_type": "markdown",
   "id": "df1e0f33-128f-4d84-b1f1-3443b60c382b",
   "metadata": {},
   "source": [
    "The list of commits that are benchmarked is available at : \n",
    "https://github.com/mocquin/physipy/blob/master/hashestobenchmark.txt"
   ]
  },
  {
   "cell_type": "markdown",
   "id": "79d4c718-015b-4266-8488-723bd819a71b",
   "metadata": {},
   "source": [
    "The config file for asv is available at : https://github.com/mocquin/physipy/blob/master/asv.conf.json"
   ]
  },
  {
   "cell_type": "markdown",
   "id": "bb6d2b3f-d177-418f-8dd0-ef75863f778b",
   "metadata": {},
   "source": [
    "Some benchmarks have aleardy been run on my personnal laptoop and the results are tracked in the repo at : https://github.com/mocquin/physipy/tree/master/.asv"
   ]
  },
  {
   "cell_type": "markdown",
   "id": "cbf9919b-2b40-4b74-8f6b-092114939a4a",
   "metadata": {},
   "source": [
    "To run the benchmark on your computer, download the repo content and run (make sure you installed asv):\n",
    "`asv run HASHFILE:hashestobenchmark.txt`"
   ]
  },
  {
   "cell_type": "markdown",
   "id": "ada428ab-5787-4f7c-8b18-688bc00747ae",
   "metadata": {},
   "source": [
    "To launch a server and inspect results of benchmarks :   \n",
    "`asv publish  # convert results to html`  \n",
    "`asv preview  # display html on server`  "
   ]
  },
  {
   "cell_type": "markdown",
   "id": "cf7cdb6a-3972-476b-84d3-681b553e7538",
   "metadata": {},
   "source": [
    "# Results"
   ]
  },
  {
   "cell_type": "markdown",
   "id": "b6f3b843-23f2-4ffa-bff4-532f49b81193",
   "metadata": {},
   "source": [
    "The results of benchmarks are available online at : \n",
    "https://mocquin.github.io/physipy/"
   ]
  },
  {
   "cell_type": "markdown",
   "id": "4c31c69a-aeb0-430f-9cb2-a42abb43d1da",
   "metadata": {},
   "source": [
    "![](./ressources/asv_screenshot.png)"
   ]
  }
 ],
 "metadata": {
  "kernelspec": {
   "display_name": "Python 3 (ipykernel)",
   "language": "python",
   "name": "python3"
  },
  "language_info": {
   "codemirror_mode": {
    "name": "ipython",
    "version": 3
   },
   "file_extension": ".py",
   "mimetype": "text/x-python",
   "name": "python",
   "nbconvert_exporter": "python",
   "pygments_lexer": "ipython3",
   "version": "3.9.7"
  }
 },
 "nbformat": 4,
 "nbformat_minor": 5
}
