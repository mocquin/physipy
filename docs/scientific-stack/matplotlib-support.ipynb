{
 "cells": [
  {
   "cell_type": "code",
   "execution_count": null,
   "id": "480560a6",
   "metadata": {
    "lines_to_next_cell": 2
   },
   "outputs": [],
   "source": [
    "import matplotlib.pyplot as plt\n",
    "import numpy as np\n",
    "\n",
    "import physipy\n",
    "from physipy import s, m, setup_matplotlib\n",
    "\n",
    "from physipy import Dimension, units, quantify, Quantity\n",
    "\n",
    "ms = units[\"ms\"]\n",
    "mm = units['mm']\n",
    "km = units[\"km\"]\n",
    "cm = units[\"cm\"]"
   ]
  },
  {
   "cell_type": "markdown",
   "id": "1ec9d28c",
   "metadata": {},
   "source": [
    "Besides matplotlib being the most-used, most-documented, and most masture plotting package in python, a good reason to use it is its ability to handle units automatically, through its units interface."
   ]
  },
  {
   "cell_type": "markdown",
   "id": "065e8d0e",
   "metadata": {},
   "source": [
    "Ressources :\n",
    " - https://github.com/matplotlib/matplotlib/blob/97115aef5c18af5e48eb4ef041b6f48567088874/lib/matplotlib/axis.py#L1521\n",
    " \n",
    "print(ax.xaxis.have_units())\n",
    "print(ax.yaxis.have_units()) \n",
    "print(ax.xaxis.have_units())\n",
    "print(ax.xaxis.converter)\n",
    "print(ax.xaxis.units)\n",
    "print(ax.xaxis.get_units())\n",
    "print(ax.xaxis.set_units(\"totot\"))\n",
    "\n",
    "- See astropy for plotting context : https://docs.astropy.org/en/stable/_modules/astropy/visualization/units.html#quantity_support\n",
    "- Astropy known issues : https://docs.astropy.org/en/stable/known_issues.html#quantity-issues\n",
    "\n",
    "- artist\n",
    "https://github.com/matplotlib/matplotlib/blob/87119ea07357bc065bf729bfb7cd35e16dffe91b/lib/matplotlib/artist.py#L188"
   ]
  },
  {
   "cell_type": "markdown",
   "id": "5f62e475",
   "metadata": {},
   "source": [
    "# Plotting with matplotlib"
   ]
  },
  {
   "cell_type": "markdown",
   "id": "93d78466",
   "metadata": {},
   "source": [
    "By default, Quantity' are plotted with their raw value, ie si-unit value"
   ]
  },
  {
   "cell_type": "code",
   "execution_count": null,
   "id": "720f162c",
   "metadata": {},
   "outputs": [],
   "source": [
    "y = np.linspace(0, 30) * mm\n",
    "x = np.linspace(0, 5) * s\n",
    "\n",
    "fig, ax = plt.subplots()\n",
    "ax.plot(x, y, 'tab:blue')\n",
    "ax.plot(3*x-2*s, 3*y+3*mm)"
   ]
  },
  {
   "cell_type": "markdown",
   "id": "516a8466",
   "metadata": {},
   "source": [
    "# Plotting with matplotlib in a context"
   ]
  },
  {
   "cell_type": "markdown",
   "id": "40baa76d",
   "metadata": {},
   "source": [
    "Using a context to only use the Quantity interface for plotting :"
   ]
  },
  {
   "cell_type": "code",
   "execution_count": null,
   "id": "21dc5a8d",
   "metadata": {},
   "outputs": [],
   "source": [
    "with physipy.quantity.plot.plotting_context():\n",
    "    y = np.linspace(0, 30) * mm\n",
    "    x = np.linspace(0, 5) * s\n",
    "    \n",
    "    fig, ax = plt.subplots()\n",
    "    ax.plot(x, y, 'tab:blue')\n",
    "    ax.axhline(0.02 * m, color='tab:red')\n",
    "    ax.axvline(500*ms, color='tab:green')"
   ]
  },
  {
   "cell_type": "markdown",
   "id": "bb73b1a2",
   "metadata": {},
   "source": [
    "Then outside the context the behaviour is the same as by default, ie without calling `setup_matplotlib()`:"
   ]
  },
  {
   "cell_type": "code",
   "execution_count": null,
   "id": "3de7697a",
   "metadata": {},
   "outputs": [],
   "source": [
    "y = np.linspace(0, 30) * mm\n",
    "x = np.linspace(0, 5) * s\n",
    "\n",
    "fig, ax = plt.subplots()\n",
    "ax.plot(x, y, 'tab:blue')"
   ]
  },
  {
   "cell_type": "markdown",
   "id": "b383182f",
   "metadata": {},
   "source": [
    "# Quick-Plotting shortcut"
   ]
  },
  {
   "cell_type": "markdown",
   "id": "c6715148",
   "metadata": {},
   "source": [
    "Quick plot an array-like quantity"
   ]
  },
  {
   "cell_type": "code",
   "execution_count": null,
   "id": "3ff78fb3",
   "metadata": {},
   "outputs": [],
   "source": [
    "x.plot()"
   ]
  },
  {
   "cell_type": "markdown",
   "id": "1c90a9d8",
   "metadata": {},
   "source": [
    "# Plotting with matplotlib"
   ]
  },
  {
   "cell_type": "markdown",
   "id": "ff0ce188",
   "metadata": {},
   "source": [
    "Examples taken from [pint](https://pint.readthedocs.io/en/stable/plotting.html).\n",
    "Make sure you enable units handling in matplotlib with `setup_matplotlib`"
   ]
  },
  {
   "cell_type": "code",
   "execution_count": null,
   "id": "8ff2c562",
   "metadata": {},
   "outputs": [],
   "source": [
    "setup_matplotlib()\n",
    "\n",
    "y = np.linspace(0, 30) * mm\n",
    "x = np.linspace(0, 5) * s\n",
    "\n",
    "fig, ax = plt.subplots()\n",
    "#ax.plot(x, y, 'tab:blue')\n",
    "ax.axhline(0.02 * m, color='tab:red')\n",
    "ax.axvline(500*ms, color='tab:green')"
   ]
  },
  {
   "cell_type": "code",
   "execution_count": null,
   "id": "c26b139d",
   "metadata": {},
   "outputs": [],
   "source": [
    "import matplotlib.pyplot as plt\n",
    "import numpy as np\n",
    "\n",
    "y = np.linspace(0, 30) * mm\n",
    "x = np.linspace(0, 5) * s\n",
    "\n",
    "fig, ax = plt.subplots()\n",
    "ax.yaxis.set_units(mm)\n",
    "ax.xaxis.set_units(ms)\n",
    "\n",
    "ax.plot(x, y, 'tab:blue')\n",
    "ax.axhline(0.02 * m, color='tab:red')\n",
    "ax.axvline(500*ms, color='tab:green')"
   ]
  },
  {
   "cell_type": "markdown",
   "id": "a692c4c0",
   "metadata": {},
   "source": [
    "The axis units can be changed after the values are plotted as wellimport matplotlib.pyplot as plt\n",
    "import numpy as np"
   ]
  },
  {
   "cell_type": "code",
   "execution_count": null,
   "id": "6dccce89",
   "metadata": {},
   "outputs": [],
   "source": [
    "y = np.linspace(0, 30) * mm\n",
    "x = np.linspace(0, 5) * ms\n",
    "\n",
    "fig, ax = plt.subplots()\n",
    "ax.plot(x, y, 'tab:blue')\n",
    "ax.axhline(26400 * mm, color='tab:red')\n",
    "ax.axvline(120 * ms, color='tab:green')\n",
    "ax.yaxis.set_units(mm)\n",
    "ax.xaxis.set_units(ms)\n",
    "ax.autoscale_view()"
   ]
  },
  {
   "cell_type": "markdown",
   "id": "c76ea63e",
   "metadata": {},
   "source": [
    "## limits"
   ]
  },
  {
   "cell_type": "code",
   "execution_count": null,
   "id": "66343e41",
   "metadata": {},
   "outputs": [],
   "source": [
    "import matplotlib.pyplot as plt\n",
    "from physipy import units, s, imperial_units, setup_matplotlib, m\n",
    "inch = imperial_units[\"in\"]\n",
    "setup_matplotlib()\n",
    " \n",
    "\n",
    "fig, ax = plt.subplots()\n",
    "ax.set_xlim(2*s,3*s)\n",
    "ax.set_ylim(1*inch, 7*inch)\n",
    "print(ax.xaxis.units)\n",
    "print(ax.yaxis.units)\n",
    "print(ax.get_xlim())\n",
    "print(ax.get_ylim())"
   ]
  },
  {
   "cell_type": "markdown",
   "id": "7e4b815d",
   "metadata": {},
   "source": [
    "## Axis methods"
   ]
  },
  {
   "cell_type": "code",
   "execution_count": null,
   "id": "2f049954",
   "metadata": {
    "lines_to_next_cell": 2
   },
   "outputs": [],
   "source": [
    "setup_matplotlib()\n",
    "y = np.linspace(0, 30) * mm\n",
    "x = np.linspace(0, 5) * ms\n",
    "\n",
    "fig, ax = plt.subplots()\n",
    "ax.plot(x, y, 'tab:blue')\n",
    "ax.axhline(26400 * mm, color='tab:red')\n",
    "ax.axvline(120 * ms, color='tab:green')\n",
    "#ax.yaxis.set_units(mm)\n",
    "#ax.xaxis.set_units(ms)\n",
    "ax.autoscale_view()\n",
    "\n",
    "print(ax.xaxis.have_units())\n",
    "print(ax.yaxis.have_units()) \n",
    "print(ax.xaxis.have_units())\n",
    "print(ax.xaxis.converter)\n",
    "print(ax.xaxis.units)\n",
    "print(ax.xaxis.get_units())\n",
    "print(ax.xaxis.set_units(ms))\n",
    "print(ax.xaxis.get_units())"
   ]
  },
  {
   "cell_type": "markdown",
   "id": "71b53790",
   "metadata": {},
   "source": [
    "# Plotting with favunit"
   ]
  },
  {
   "cell_type": "markdown",
   "id": "a26aac97",
   "metadata": {},
   "source": [
    "If the Quantity objects that are called in `ax.plot` have favunit, it will be used by default as the axis's unit."
   ]
  },
  {
   "cell_type": "code",
   "execution_count": null,
   "id": "68ff2931",
   "metadata": {},
   "outputs": [],
   "source": [
    "import numpy as np\n",
    "import matplotlib.pyplot as plt\n",
    "from physipy import s, m, units, setup_matplotlib\n",
    "setup_matplotlib() # make matplotlib physipy's units aware\n",
    "mm = units[\"mm\"]   # get millimiter\n",
    "ms = units[\"ms\"]   # get millisecond\n",
    "\n",
    "y = np.linspace(0, 30) * mm\n",
    "x = np.linspace(0, 5) * s\n",
    "y.favunit = mm # no need to call ax.yaxis.set_units(mm)\n",
    "x.favunit = ms # no need to call ax.xaxis.set_units(ms)\n",
    "\n",
    "fig, ax = plt.subplots()\n",
    "ax.plot(x, y,)"
   ]
  },
  {
   "cell_type": "markdown",
   "id": "827d63f3",
   "metadata": {},
   "source": [
    "## twin axes"
   ]
  },
  {
   "cell_type": "code",
   "execution_count": null,
   "id": "9e13d48b",
   "metadata": {},
   "outputs": [],
   "source": [
    "import matplotlib.pyplot as plt\n",
    "import numpy as np\n",
    "\n",
    "import physipy\n",
    "from physipy import s, m, setup_matplotlib\n",
    "from physipy.quantity.utils import asqarray\n",
    "\n",
    "from physipy import Dimension, units, quantify, Quantity\n",
    "setup_matplotlib()\n",
    "\n",
    "import matplotlib.units as munits\n",
    "print(munits.registry.get_converter([1*m]))\n",
    "\n",
    "fig, ax = plt.subplots()\n",
    "ax.plot(asqarray([m, 2*m]),\n",
    "        asqarray([2*m, 3*m]))#, \"-o\")\n",
    "ax2 = ax.twinx()\n",
    "ax2.plot(m, 3*s, \"*\", color=\"r\")"
   ]
  },
  {
   "cell_type": "code",
   "execution_count": null,
   "id": "78a84299",
   "metadata": {
    "lines_to_next_cell": 2
   },
   "outputs": [],
   "source": [
    "\n",
    "import numpy as np\n",
    "import matplotlib.pyplot as plt\n",
    "#from basic_units import secs, hertz, minutes\n",
    "from physipy import units, setup_matplotlib\n",
    "setup_matplotlib()\n",
    "secs = units[\"s\"]\n",
    "hertz = units[\"Hz\"]\n",
    "minutes = units[\"min\"]\n",
    "\n",
    "# create masked array\n",
    "data = (1, 2, 3, 4, 5, 6, 7, 8)\n",
    "mask = (1, 0, 1, 0, 0, 0, 1, 0)\n",
    "xsecs = secs * np.ma.MaskedArray(data, mask, float)\n",
    "\n",
    "fig, (ax1, ax2, ax3) = plt.subplots(nrows=3, sharex=True)\n",
    "\n",
    "ax1.scatter(xsecs, xsecs)\n",
    "ax2.scatter(xsecs, 1/xsecs, yunits=hertz)\n",
    "ax3.scatter(xsecs, xsecs, yunits=minutes)\n",
    "\n",
    "fig.tight_layout()\n",
    "plt.show()"
   ]
  },
  {
   "cell_type": "markdown",
   "id": "4e9c0dc5",
   "metadata": {},
   "source": [
    "## units"
   ]
  },
  {
   "cell_type": "code",
   "execution_count": null,
   "id": "945b3e68",
   "metadata": {},
   "outputs": [],
   "source": [
    "import matplotlib.pyplot as plt\n",
    "import numpy as np\n",
    "\n",
    "cms = cm * np.arange(0, 10, 2)\n",
    "\n",
    "fig, axs = plt.subplots(2, 2)\n",
    "\n",
    "axs[0, 0].plot(cms, cms)\n",
    "\n",
    "axs[0, 1].plot(cms, cms, xunits=cm, yunits=inch)\n",
    "\n",
    "axs[1, 0].plot(cms, cms, xunits=inch, yunits=cm)\n",
    "axs[1, 0].set_xlim(3, 6)  # scalars are interpreted in current units\n",
    "\n",
    "axs[1, 1].plot(cms, cms, xunits=inch, yunits=inch)\n",
    "axs[1, 1].set_xlim(3*cm, 6*cm)  # cm are converted to inches\n",
    "plt.tight_layout()\n",
    "plt.show()"
   ]
  },
  {
   "cell_type": "markdown",
   "id": "f16ce6d5",
   "metadata": {},
   "source": [
    "## Bar plots"
   ]
  },
  {
   "cell_type": "markdown",
   "id": "0c0a0972",
   "metadata": {},
   "source": [
    "Based on https://matplotlib.org/stable/gallery/units/bar_unit_demo.html"
   ]
  },
  {
   "cell_type": "code",
   "execution_count": null,
   "id": "aecf7bba",
   "metadata": {},
   "outputs": [],
   "source": [
    "import numpy as np\n",
    "#from basic_units import cm, inch\n",
    "from physipy import units, imperial_units, setup_matplotlib\n",
    "from physipy.quantity.utils import asqarray\n",
    "import matplotlib.pyplot as plt\n",
    "\n",
    "cm = units[\"cm\"]\n",
    "inch = imperial_units[\"in\"]\n",
    "\n",
    "\n",
    "N = 5\n",
    "men_means = asqarray([150*cm, 160*cm, 146*cm, 172*cm, 155*cm])\n",
    "men_std = asqarray([20*cm, 30*cm, 32*cm, 10*cm, 20*cm])\n",
    "\n",
    "fig, ax = plt.subplots()\n",
    "\n",
    "ind = np.arange(N)    # the x locations for the groups\n",
    "width = 0.35       # the width of the bars\n",
    "ax.bar(ind, \n",
    "       men_means, \n",
    "       width,\n",
    "       bottom=0*cm, \n",
    "       #yerr=men_std, \n",
    "       label='Men')\n",
    "\n",
    "#women_means = (145*cm, 149*cm, 172*cm, 165*cm, 200*cm)\n",
    "#women_std = (30*cm, 25*cm, 20*cm, 31*cm, 22*cm)\n",
    "#ax.bar(ind + width, women_means, width, bottom=0*cm, yerr=women_std,\n",
    "#       label='Women')\n",
    "\n",
    "#ax.set_title('Scores by group and gender')\n",
    "#ax.set_xticks(ind + width / 2, labels=['G1', 'G2', 'G3', 'G4', 'G5'])\n",
    "\n",
    "ax.legend()\n",
    "#ax.yaxis.set_units(inch)\n",
    "#ax.autoscale_view()\n",
    "\n",
    "plt.show()"
   ]
  },
  {
   "cell_type": "markdown",
   "id": "216f79f4",
   "metadata": {},
   "source": [
    "# Known issues"
   ]
  },
  {
   "cell_type": "markdown",
   "id": "9f963d21",
   "metadata": {},
   "source": [
    "## [X]FIXED (axvline and friends)"
   ]
  },
  {
   "cell_type": "markdown",
   "id": "cbd7a054",
   "metadata": {},
   "source": [
    "Without units implemented, the `axvline` and friend use a comparison to the axis values which are by default floats. Hence the comparaison with a quantity that have a dimension fails. It works with a dimensionless Quantity because of quantify turns the axis values to Quanities, and the comparison works"
   ]
  },
  {
   "cell_type": "code",
   "execution_count": null,
   "id": "02d8280c",
   "metadata": {
    "lines_to_next_cell": 2
   },
   "outputs": [],
   "source": [
    "# restart kernel\n",
    "import matplotlib.pyplot as plt\n",
    "import numpy as np\n",
    "\n",
    "import physipy\n",
    "from physipy import s, m, setup_matplotlib\n",
    "from physipy import Dimension, units, quantify, Quantity\n",
    "\n",
    "\n",
    "ms = units[\"ms\"]\n",
    "mm = units['mm']\n",
    "km = units[\"km\"]\n",
    "cm = units[\"cm\"]"
   ]
  },
  {
   "cell_type": "markdown",
   "id": "c171e2c9",
   "metadata": {},
   "source": [
    "Without setup : "
   ]
  },
  {
   "cell_type": "code",
   "execution_count": null,
   "id": "ae5993be",
   "metadata": {},
   "outputs": [],
   "source": [
    "try:\n",
    "    plt.axvline(3*s)\n",
    "except Exception as e:\n",
    "    print(e)"
   ]
  },
  {
   "cell_type": "markdown",
   "id": "0e8abf9e",
   "metadata": {},
   "source": [
    "Without setup but plotting a dimensionless Quantity"
   ]
  },
  {
   "cell_type": "code",
   "execution_count": null,
   "id": "2db573af",
   "metadata": {},
   "outputs": [],
   "source": [
    "plt.axvline(Quantity(3, Dimension(None)))"
   ]
  },
  {
   "cell_type": "markdown",
   "id": "5230e589",
   "metadata": {},
   "source": [
    "Works when calling setup_matplotlib() : "
   ]
  },
  {
   "cell_type": "code",
   "execution_count": null,
   "id": "f0285133",
   "metadata": {},
   "outputs": [],
   "source": [
    "setup_matplotlib()\n",
    "try:\n",
    "    plt.axvline(3*s)\n",
    "except Exception as e:\n",
    "    print(e)"
   ]
  },
  {
   "cell_type": "code",
   "execution_count": null,
   "id": "2dcc11b8",
   "metadata": {},
   "outputs": [],
   "source": []
  }
 ],
 "metadata": {
  "kernelspec": {
   "display_name": "Python 3 (ipykernel)",
   "language": "python",
   "name": "python3"
  }
 },
 "nbformat": 4,
 "nbformat_minor": 5
}
