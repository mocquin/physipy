{
 "cells": [
  {
   "cell_type": "markdown",
   "metadata": {},
   "source": [
    "# Complex numbers support"
   ]
  },
  {
   "cell_type": "markdown",
   "metadata": {},
   "source": [
    "## Complex numbers in python"
   ]
  },
  {
   "cell_type": "markdown",
   "metadata": {},
   "source": [
    "We show here how physipy can handle complex numbers. Let's first remember how to use complex number in python: to create a complex number, we can use the 'j' notation:"
   ]
  },
  {
   "cell_type": "code",
   "execution_count": 1,
   "metadata": {},
   "outputs": [
    {
     "name": "stdout",
     "output_type": "stream",
     "text": [
      "(5+1j)\n",
      "5.0\n",
      "(3-4j)\n",
      "3.0 4.0\n",
      "(-13.128783081462158-15.200784463067954j)\n",
      "1j\n"
     ]
    }
   ],
   "source": [
    "z1 = 3 + 4j\n",
    "z2 = 2 - 3j\n",
    "print(z1+z2)\n",
    "print(abs(z1))\n",
    "print(z1.conjugate())\n",
    "print(z1.real, z1.imag)\n",
    "\n",
    "# standard complex-math module\n",
    "import cmath \n",
    "\n",
    "print(cmath.exp(z1))\n",
    "print(cmath.sqrt(-1))"
   ]
  },
  {
   "cell_type": "markdown",
   "metadata": {},
   "source": [
    "Remember the follwoing properties:\n",
    "$$|Z|=\\sqrt{Re(Z)^2+Im(Z)^2}$$\n",
    "which implies that $|Z|$ and its component all share the same physical dimension. We could say then that this is the unit of Z- just like a vector V with 2 components x and y is a vector of length."
   ]
  },
  {
   "cell_type": "markdown",
   "metadata": {},
   "source": [
    "## Physical units attached to complex numbers"
   ]
  },
  {
   "cell_type": "markdown",
   "metadata": {},
   "source": [
    "Let's see what happens if we attach a meter to a complex number"
   ]
  },
  {
   "cell_type": "code",
   "execution_count": 1,
   "metadata": {},
   "outputs": [
    {
     "name": "stdout",
     "output_type": "stream",
     "text": [
      "(3+4j) m\n",
      "5.0 m\n",
      "(3-4j) m\n",
      "3.0 m 4.0 m\n"
     ]
    }
   ],
   "source": [
    "from physipy import m, s\n",
    "\n",
    "z1 = (3 + 4j)*m\n",
    "print(z1)\n",
    "print(abs(z1))\n",
    "print(z1.conjugate())\n",
    "print(z1.real, z1.imag)"
   ]
  },
  {
   "cell_type": "markdown",
   "metadata": {},
   "source": [
    "Conveniently, z1 can also be obtained as:"
   ]
  },
  {
   "cell_type": "code",
   "execution_count": 2,
   "metadata": {},
   "outputs": [
    {
     "name": "stdout",
     "output_type": "stream",
     "text": [
      "(3+4j) m\n"
     ]
    },
    {
     "data": {
      "text/latex": [
       "$3.0 + 4.0 i\\,m$"
      ],
      "text/plain": [
       "<Quantity : (3+4j) m>"
      ]
     },
     "execution_count": 2,
     "metadata": {},
     "output_type": "execute_result"
    }
   ],
   "source": [
    "print(3*m + 4j*m)\n",
    "3*m + 4j*m"
   ]
  },
  {
   "cell_type": "markdown",
   "metadata": {},
   "source": [
    "in other words, the following are equivalent:\n",
    "$$(a+ib) m = (am + i b m) = (a; b)m = (am;bm)$$ "
   ]
  },
  {
   "cell_type": "markdown",
   "metadata": {},
   "source": [
    "Then again, computation between complex number with units must comply with units rules:"
   ]
  },
  {
   "cell_type": "code",
   "execution_count": 6,
   "metadata": {},
   "outputs": [
    {
     "name": "stdout",
     "output_type": "stream",
     "text": [
      "(-28+0j) m*s**2\n",
      "[0. +0.j 0. +4.j 0. +8.j 0.+12.j 0.+16.j] m*s**2\n"
     ]
    }
   ],
   "source": [
    "import numpy as np\n",
    "\n",
    "print(4j*m * 7j*s**2)\n",
    "print(4j*m * np.arange(5)*s**2)"
   ]
  },
  {
   "cell_type": "markdown",
   "metadata": {},
   "source": [
    "## More examples involving complex numbers"
   ]
  },
  {
   "cell_type": "markdown",
   "metadata": {},
   "source": [
    "### Eigen decomposition of a complex matrix:"
   ]
  },
  {
   "cell_type": "code",
   "execution_count": null,
   "metadata": {},
   "outputs": [
    {
     "data": {
      "text/plain": [
       "True"
      ]
     },
     "execution_count": 8,
     "metadata": {},
     "output_type": "execute_result"
    }
   ],
   "source": [
    "# Create a sample matrix (e.g., a 3x3 matrix with arbitrary values)\n",
    "A = np.array([[1 + 2j, 2 + 3j],\n",
    "              [3 + 4j, 4 + 5j]])*m\n",
    "\n",
    "# Perform eigen decomposition\n",
    "eigenvalues, eigenvectors = np.linalg.eig(A)\n",
    "\n",
    "# Reconstruct the diagonal matrix of eigenvalues\n",
    "D = np.diag(eigenvalues)\n",
    "\n",
    "# Verify the decomposition A = VDV^(-1)\n",
    "# Calculate V * D * V^(-1)\n",
    "V = eigenvectors\n",
    "V_inv = np.linalg.inv(V)\n",
    "A_reconstructed = V @ D @ V_inv\n",
    "\n",
    "np.allclose(A, A_reconstructed)"
   ]
  },
  {
   "cell_type": "markdown",
   "metadata": {},
   "source": [
    "### Circuit impedence"
   ]
  },
  {
   "cell_type": "code",
   "execution_count": 17,
   "metadata": {},
   "outputs": [
    {
     "name": "stdout",
     "output_type": "stream",
     "text": [
      "Total Impedance Z: (100+31.415926535897935j) ohm\n",
      "Current I: (2.0933906265864333-0.6576580613577674j) A\n",
      "Voltage drop across Resistor V_R: (209.33906265864331-65.76580613577674j) V\n",
      "Voltage drop across Inductor V_L: (20.660937341356675+65.76580613577673j) V\n"
     ]
    }
   ],
   "source": [
    "import numpy as np\n",
    "from physipy import units\n",
    "\n",
    "ohms = units['ohm']\n",
    "H = units['H']\n",
    "Hz = units['Hz']\n",
    "V = units['V']\n",
    "\n",
    "# Given values\n",
    "R = 100 * ohms  # Resistance in ohms\n",
    "L = 0.1 * H  # Inductance in henrys\n",
    "f = 50 * Hz  # Frequency in hertz\n",
    "U = 230 * V # Voltage in volts (RMS)\n",
    "\n",
    "# Calculate angular frequency\n",
    "omega = 2 * np.pi * f\n",
    "\n",
    "# Calculate impedance\n",
    "Z_R = R  # Impedance of the resistor\n",
    "Z_L = 1j * omega * L  # Impedance of the inductor\n",
    "Z_total = Z_R + Z_L  # Total impedance\n",
    "\n",
    "# Calculate current (Ohm's Law: I = V / Z)\n",
    "I = U / Z_total\n",
    "\n",
    "# Calculate voltage drops\n",
    "V_R = I * Z_R  # Voltage drop across the resistor\n",
    "V_L = I * Z_L  # Voltage drop across the inductor\n",
    "\n",
    "# Print results\n",
    "print(f\"Total Impedance Z: {Z_total.into(ohms)}\")\n",
    "print(f\"Current I: {I}\")\n",
    "print(f\"Voltage drop across Resistor V_R: {V_R.into(V)}\")\n",
    "print(f\"Voltage drop across Inductor V_L: {V_L.into(V)}\")\n"
   ]
  }
 ],
 "metadata": {
  "kernelspec": {
   "display_name": "Python 3",
   "language": "python",
   "name": "python3"
  },
  "language_info": {
   "codemirror_mode": {
    "name": "ipython",
    "version": 3
   },
   "file_extension": ".py",
   "mimetype": "text/x-python",
   "name": "python",
   "nbconvert_exporter": "python",
   "pygments_lexer": "ipython3",
   "version": "3.12.0"
  }
 },
 "nbformat": 4,
 "nbformat_minor": 2
}
