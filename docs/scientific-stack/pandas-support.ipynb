{
 "cells": [
  {
   "cell_type": "markdown",
   "id": "1a597ec5",
   "metadata": {
    "slideshow": {
     "slide_type": "slide"
    }
   },
   "source": [
    "# Pandas support"
   ]
  },
  {
   "cell_type": "markdown",
   "id": "d9dc42f3",
   "metadata": {},
   "source": [
    "There are 2 ways `pandas` can handle `physipy`:\n",
    "1. Basic support where it stores each value in a single `Quantity` : works out-of-the-box but with low performance\n",
    "2. using `physipandas` : a package that takes care of the interface between `phyisipy` and `pandas`\n",
    "\n",
    "See [physipandas](https://github.com/mocquin/physipandas) for better interface between pandas and physipy."
   ]
  },
  {
   "cell_type": "markdown",
   "id": "14da8fb7",
   "metadata": {},
   "source": [
    "### Basic support out-of-the-box"
   ]
  },
  {
   "cell_type": "markdown",
   "id": "27d08d37",
   "metadata": {},
   "source": [
    "Without anything else, `physipy` is kinda supported in `pandas`, but performances will be quite degraded. A 1d quantity array will be split element-wise and stored as a squence of scalar quantities, hence all operations will be done \"loop\"-wise, loosing the power of numpy arrays."
   ]
  },
  {
   "cell_type": "code",
   "execution_count": 2,
   "id": "a74000ab",
   "metadata": {},
   "outputs": [],
   "source": [
    "import numpy as np\n",
    "import pandas as pd\n",
    "\n",
    "import physipy\n",
    "from physipy import K, s, m, kg, units"
   ]
  },
  {
   "cell_type": "code",
   "execution_count": 3,
   "id": "cfb47401",
   "metadata": {},
   "outputs": [
    {
     "name": "stdout",
     "output_type": "stream",
     "text": [
      "[68.02330891 75.29084364 78.31964794 77.95388057 75.15770254 72.83401712\n",
      " 78.2871326  75.31371424 73.74678185 72.86442501] kg\n",
      "[1905.11404675 1793.50534376 1645.47961003 1752.28899466 1705.10773302\n",
      " 1816.83476718 1930.41143909 1772.03471014 1764.50051484 1921.09507113] mm\n"
     ]
    }
   ],
   "source": [
    "# create sample data as regular Quantity\n",
    "arr = np.arange(10)\n",
    "heights = np.random.normal(1.8, 0.1, 10)*m\n",
    "heights.favunit = units[\"mm\"]\n",
    "weights = np.random.normal(74, 3, 10)*kg\n",
    "\n",
    "print(weights)\n",
    "print(heights)"
   ]
  },
  {
   "cell_type": "code",
   "execution_count": 10,
   "id": "babaa538",
   "metadata": {},
   "outputs": [
    {
     "name": "stderr",
     "output_type": "stream",
     "text": [
      "C:\\Users\\ym\\Documents\\REPOS\\physipy\\physipy\\quantity\\quantity.py:753: UserWarning: The unit of the quantity is stripped for __array__\n",
      "  warnings.warn(f\"The unit of the quantity is stripped for {item}\")\n",
      "C:\\Users\\ym\\Documents\\REPOS\\physipy\\physipy\\quantity\\quantity.py:753: UserWarning: The unit of the quantity is stripped for __array_struct__\n",
      "  warnings.warn(f\"The unit of the quantity is stripped for {item}\")\n"
     ]
    },
    {
     "data": {
      "text/plain": [
       "0    1.773872\n",
       "1    1.650219\n",
       "2    1.876401\n",
       "3    1.815951\n",
       "4    1.803662\n",
       "5    1.832865\n",
       "6    1.776934\n",
       "7    1.908975\n",
       "8    1.918552\n",
       "9    1.815539\n",
       "Name: heights, dtype: float64"
      ]
     },
     "execution_count": 10,
     "metadata": {},
     "output_type": "execute_result"
    }
   ],
   "source": [
    "# then store Quantity in a DataFrame\n",
    "df = pd.DataFrame({\n",
    "    \"heights\":heights,\n",
    "    \"temp\":arr*K,\n",
    "    \"weights\":weights, \n",
    "    \"arr\":arr,\n",
    "})\n",
    "# notice the warnings below : Quantities are converted back to regular numpy arrays\n",
    "# hence loosing their units.\n",
    "\n",
    "df[\"heights\"]"
   ]
  },
  {
   "cell_type": "markdown",
   "id": "d946b68c",
   "metadata": {},
   "source": [
    "## Full support using `physipandas`\n",
    "You can also make pandas handle physipy quantities almost transparently using [`physipandas`](https://github.com/mocquin/physipandas), which is another package that extends physipy capabilities to pandas.\n",
    "\n",
    "Previously as part of the core project, `physipandas` has been moved to its own repo in order to keep `phyisipy` as lightweight and simple as possible."
   ]
  }
 ],
 "metadata": {
  "kernelspec": {
   "display_name": "Python 3 (ipykernel)",
   "language": "python",
   "name": "python3"
  },
  "language_info": {
   "codemirror_mode": {
    "name": "ipython",
    "version": 3
   },
   "file_extension": ".py",
   "mimetype": "text/x-python",
   "name": "python",
   "nbconvert_exporter": "python",
   "pygments_lexer": "ipython3",
   "version": "3.9.12"
  }
 },
 "nbformat": 4,
 "nbformat_minor": 5
}
