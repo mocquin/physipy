{
 "cells": [
  {
   "cell_type": "markdown",
   "id": "5c1113b4",
   "metadata": {},
   "source": [
    "# Numpy support for arrays with dimension"
   ]
  },
  {
   "cell_type": "markdown",
   "id": "48e82fe2",
   "metadata": {},
   "source": [
    "A Quantity object can have any numerical-like object as its `value` attribute, including numpy's ndarray."
   ]
  },
  {
   "cell_type": "markdown",
   "id": "54c1e0b3",
   "metadata": {},
   "source": [
    "Physipy support numpy for many functionnalties :  \n",
    "\n",
    " - common creation routines\n",
    " - mathematical operations\n",
    " - numpy's functions and universal functions\n",
    " - comparison\n",
    " - indexing and fancy indexing\n",
    " - iterators\n"
   ]
  },
  {
   "cell_type": "markdown",
   "id": "4ee68370",
   "metadata": {},
   "source": [
    "## Creation\n",
    "Basic creation of dimension-full arrays : "
   ]
  },
  {
   "cell_type": "code",
   "execution_count": 1,
   "id": "22e7820d",
   "metadata": {},
   "outputs": [],
   "source": [
    "import matplotlib.pyplot as plt\n",
    "import numpy as np\n",
    "\n",
    "import physipy\n",
    "from physipy import m, s, Quantity, Dimension, rad"
   ]
  },
  {
   "cell_type": "code",
   "execution_count": 2,
   "id": "d6c772ed",
   "metadata": {},
   "outputs": [
    {
     "name": "stdout",
     "output_type": "stream",
     "text": [
      "[1 2 3 4] m\n",
      "[1 2 3 4] s\n",
      "[ True  True  True  True]\n"
     ]
    }
   ],
   "source": [
    "x_samples = np.array([1, 2, 3, 4]) * m\n",
    "y_samples = Quantity(np.array([1, 2, 3, 4]), Dimension(\"T\"))\n",
    "print(x_samples)\n",
    "print(y_samples)\n",
    "print(m*np.array([1, 2, 3, 4]) == x_samples) # multiplication is commutativ"
   ]
  },
  {
   "cell_type": "markdown",
   "id": "99a2d2a9",
   "metadata": {},
   "source": [
    "## Operation\n",
    "Basic array operation are handled the 'expected' way : note that the resulting dimension are consistent with the operation applied : "
   ]
  },
  {
   "cell_type": "code",
   "execution_count": 3,
   "id": "67828b29",
   "metadata": {
    "lines_to_next_cell": 2
   },
   "outputs": [
    {
     "name": "stdout",
     "output_type": "stream",
     "text": [
      "[2 3 4 5] m\n",
      "[2 4 6 8] m\n",
      "[ 1  4  9 16] m**2\n",
      "[1.         0.5        0.33333333 0.25      ] 1/m\n"
     ]
    }
   ],
   "source": [
    "print(x_samples + 1*m)\n",
    "print(x_samples * 2)\n",
    "print(x_samples**2)\n",
    "print(1/x_samples)"
   ]
  },
  {
   "cell_type": "markdown",
   "id": "7fdebebe",
   "metadata": {},
   "source": [
    "## Comparison"
   ]
  },
  {
   "cell_type": "markdown",
   "id": "1f9b6309",
   "metadata": {},
   "source": [
    "Comparison is allowed only for quantities that have the same units : "
   ]
  },
  {
   "cell_type": "code",
   "execution_count": 4,
   "id": "4c66d2bf",
   "metadata": {
    "lines_to_next_cell": 2
   },
   "outputs": [
    {
     "name": "stdout",
     "output_type": "stream",
     "text": [
      "[False  True  True  True]\n",
      "Dimension error : dimensions of operands are L and T, and are differents (length vs time).\n"
     ]
    }
   ],
   "source": [
    "# allowed\n",
    "print(x_samples > 1.5*m)\n",
    "\n",
    "try: \n",
    "    # not allowed\n",
    "    x_samples > 1.5*s\n",
    "except Exception as e:\n",
    "    print(e)"
   ]
  },
  {
   "cell_type": "markdown",
   "id": "f69d97d1",
   "metadata": {},
   "source": [
    "## Numpy ufuncs\n",
    "Most numpy ufuncs are handled the expected way, but still check for dimension correctness :"
   ]
  },
  {
   "cell_type": "code",
   "execution_count": 5,
   "id": "26ae4ddf",
   "metadata": {},
   "outputs": [
    {
     "name": "stdout",
     "output_type": "stream",
     "text": [
      "[3 4 5] m\n",
      "[0 3 6] m**2\n",
      "[0 1 1]\n",
      "[False False  True]\n",
      "[0.         1.         1.41421356] m**0.5\n",
      "[0.         1.         1.25992105] m**0.333333333333333\n",
      "-1.0\n",
      "0.9999999999999999\n",
      "[0. 1. 4.] m**1.6\n",
      "[ 0 -1 -2] m\n"
     ]
    }
   ],
   "source": [
    "q = 3*m\n",
    "q_arr = np.arange(3)*m\n",
    "\n",
    "print(np.add(q, q_arr))\n",
    "print(np.multiply(q, q_arr))\n",
    "print(np.sign(q_arr))\n",
    "print(np.greater_equal(q_arr, 2*m))\n",
    "print(np.sqrt(q_arr))\n",
    "print(np.cbrt(q_arr))\n",
    "\n",
    "print(np.cos(np.pi*rad))\n",
    "print(np.tan(np.pi/4*rad))\n",
    "\n",
    "print(np.ceil(q_arr**1.6))\n",
    "print(np.negative(q_arr))"
   ]
  },
  {
   "cell_type": "markdown",
   "id": "d29818e3",
   "metadata": {},
   "source": [
    "Trigonometric functions expect dimensionless quantities, and regular dimension correctness is expected : "
   ]
  },
  {
   "cell_type": "code",
   "execution_count": 6,
   "id": "b207cd7a",
   "metadata": {},
   "outputs": [
    {
     "name": "stdout",
     "output_type": "stream",
     "text": [
      "Dimension error : dimensions of operands are L and no-dimension, and are differents (length vs dimensionless).\n",
      "Dimension error : dimensions of operands are T and L, and are differents (time vs length).\n"
     ]
    }
   ],
   "source": [
    "try:\n",
    "    np.cos(3*m)\n",
    "except Exception as e:\n",
    "    print(e)\n",
    "\n",
    "try:\n",
    "    np.add(3*s, q_arr)\n",
    "except Exception as e:\n",
    "    print(e)"
   ]
  },
  {
   "cell_type": "markdown",
   "id": "54d48b4d",
   "metadata": {},
   "source": [
    "## Numpy's functions"
   ]
  },
  {
   "cell_type": "markdown",
   "id": "e07cdb37",
   "metadata": {},
   "source": [
    "Most classic numpy's functions are also handled : "
   ]
  },
  {
   "cell_type": "code",
   "execution_count": 7,
   "id": "a4037108",
   "metadata": {},
   "outputs": [
    {
     "name": "stdout",
     "output_type": "stream",
     "text": [
      "[ 3.    4.75  6.5   8.25 10.  ] m\n",
      "2 m\n",
      "[0. 2. 5.] m\n",
      "[-2  4 -2] m**2\n",
      "[[[0 0]\n",
      "  [1 1]\n",
      "  [2 2]]] m\n",
      "1.0 m\n",
      "0.6666666666666666 m**2\n",
      "2.0 m\n",
      "(<Quantity : [[0 1 2]\n",
      " [0 1 2]\n",
      " [0 1 2]] m>, <Quantity : [[0 0 0]\n",
      " [1 1 1]\n",
      " [2 2 2]] m>)\n",
      "[ 3. +0.j        -1.5+0.8660254j -1.5-0.8660254j] m\n",
      "[0 0 1 4 4] m**2\n",
      "[0 1 2] m\n",
      "0.816496580927726 m\n",
      "1.0 m\n"
     ]
    }
   ],
   "source": [
    "print(np.linspace(3*m, 10*m, 5))\n",
    "print(np.argmax(q_arr))\n",
    "print(np.around(q_arr*2.3))\n",
    "print(np.cross(q_arr, q_arr[::-1]))\n",
    "print(np.dstack((q_arr, q_arr)))\n",
    "print(np.mean(q_arr))\n",
    "print(np.var(q_arr))\n",
    "print(np.trapz(q_arr))\n",
    "print(np.meshgrid(q_arr, q_arr))\n",
    "print(np.fft.fft(q_arr))\n",
    "print(np.convolve(q_arr, q_arr))\n",
    "print(np.ravel(q_arr))\n",
    "print(np.std(q_arr))\n",
    "print(np.median(np.abs(q_arr-np.median(q_arr))))"
   ]
  },
  {
   "cell_type": "markdown",
   "id": "e43c2f6e",
   "metadata": {},
   "source": [
    "Reduce with ufuncs :"
   ]
  },
  {
   "cell_type": "code",
   "execution_count": 8,
   "id": "111ee46a",
   "metadata": {},
   "outputs": [],
   "source": [
    "import numpy as np\n",
    "from physipy import m\n",
    "q = np.arange(10)*m"
   ]
  },
  {
   "cell_type": "code",
   "execution_count": 9,
   "id": "9aaa5f9e",
   "metadata": {},
   "outputs": [
    {
     "name": "stdout",
     "output_type": "stream",
     "text": [
      "45 m\n",
      "0 m**10\n"
     ]
    }
   ],
   "source": [
    "q = np.arange(10)*m\n",
    "print(np.add.reduce(q))\n",
    "print(np.multiply.reduce(q))"
   ]
  },
  {
   "cell_type": "markdown",
   "id": "3d4880ec",
   "metadata": {},
   "source": [
    "## Indexing"
   ]
  },
  {
   "cell_type": "markdown",
   "id": "33009964",
   "metadata": {},
   "source": [
    "Indexing works just like with regular numpy arrays : "
   ]
  },
  {
   "cell_type": "code",
   "execution_count": 10,
   "id": "129daf22",
   "metadata": {},
   "outputs": [
    {
     "name": "stdout",
     "output_type": "stream",
     "text": [
      "[[ 0  1  2  3  4]\n",
      " [ 5  6  7  8  9]\n",
      " [10 11 12 13 14]\n",
      " [15 16 17 18 19]] s\n",
      "[0 1 2 3 4] s\n",
      "[ 2  7 12 17] s\n"
     ]
    }
   ],
   "source": [
    "big_arr = np.arange(20).reshape(4,5)*s\n",
    "\n",
    "print(big_arr)\n",
    "print(big_arr[0])\n",
    "print(big_arr[:, 2])"
   ]
  },
  {
   "cell_type": "markdown",
   "id": "ac274c69",
   "metadata": {},
   "source": [
    "## Fancy indexing"
   ]
  },
  {
   "cell_type": "code",
   "execution_count": 11,
   "id": "825c5dcb",
   "metadata": {},
   "outputs": [
    {
     "name": "stdout",
     "output_type": "stream",
     "text": [
      "[[ 0  1  2  3  4]\n",
      " [ 5  6  7  8  9]\n",
      " [10 11 12 13 14]\n",
      " [15 16 17 18 19]] s\n",
      "[[False False False False False]\n",
      " [False False False False False]\n",
      " [False False  True  True  True]\n",
      " [ True  True  True  True  True]]\n",
      "[12 13 14 15 16 17 18 19] s\n"
     ]
    }
   ],
   "source": [
    "print(big_arr)\n",
    "print(np.greater_equal(big_arr, 12*s))\n",
    "print(big_arr[np.greater_equal(big_arr, 12*s)])"
   ]
  },
  {
   "cell_type": "markdown",
   "id": "154fef70",
   "metadata": {},
   "source": [
    "## Common array methods"
   ]
  },
  {
   "cell_type": "markdown",
   "id": "6a06464a",
   "metadata": {},
   "source": [
    "### flat iterator"
   ]
  },
  {
   "cell_type": "code",
   "execution_count": 12,
   "id": "b2244064",
   "metadata": {
    "lines_to_next_cell": 2
   },
   "outputs": [
    {
     "name": "stdout",
     "output_type": "stream",
     "text": [
      "<physipy.quantity.quantity.FlatQuantityIterator object at 0x0000023DCF3F98B0>\n",
      "0 m\n",
      "1 m\n",
      "2 m\n"
     ]
    }
   ],
   "source": [
    "print(big_arr.flat)\n",
    "\n",
    "for q in q_arr.flat:\n",
    "    print(q)"
   ]
  },
  {
   "cell_type": "markdown",
   "id": "990d39c7",
   "metadata": {},
   "source": [
    "## Known issues"
   ]
  },
  {
   "cell_type": "markdown",
   "id": "9357c3d6",
   "metadata": {},
   "source": [
    "### logical fucntions"
   ]
  },
  {
   "cell_type": "markdown",
   "id": "7bd98cda",
   "metadata": {},
   "source": [
    "The expected behavior of logical functions is not trivial : \n",
    " - logical_and \n",
    " - logical_or\n",
    " - logical_xor\n",
    " - logical_not\n",
    " \n",
    "Hence they are not implemented."
   ]
  },
  {
   "cell_type": "markdown",
   "id": "5aefc486",
   "metadata": {},
   "source": [
    "### np.arange"
   ]
  },
  {
   "cell_type": "markdown",
   "id": "188c25e5",
   "metadata": {},
   "source": [
    "The commonly used `np.arange` cannot be overriden the same way the ufuncs or classic numpy function can be. Hence, a wrapped version is provided"
   ]
  },
  {
   "cell_type": "code",
   "execution_count": 13,
   "id": "57a81722",
   "metadata": {},
   "outputs": [],
   "source": [
    "from physipy.quantity.utils import qarange"
   ]
  },
  {
   "cell_type": "code",
   "execution_count": 14,
   "id": "f7f303c4",
   "metadata": {},
   "outputs": [
    {
     "name": "stdout",
     "output_type": "stream",
     "text": [
      "Dimension error : dimensions of operands are L and no-dimension, and are differents (length vs dimensionless).\n"
     ]
    },
    {
     "name": "stderr",
     "output_type": "stream",
     "text": [
      "C:\\Users\\ym\\Documents\\REPOS\\physipy\\physipy\\quantity\\quantity.py:753: UserWarning: The unit of the quantity is stripped for __array_struct__\n",
      "  warnings.warn(f\"The unit of the quantity is stripped for {item}\")\n"
     ]
    }
   ],
   "source": [
    "try:\n",
    "    np.arange(10*m)\n",
    "except Exception as e:\n",
    "    print(e)"
   ]
  },
  {
   "cell_type": "code",
   "execution_count": 15,
   "id": "303490de",
   "metadata": {},
   "outputs": [
    {
     "name": "stdout",
     "output_type": "stream",
     "text": [
      "[0 1 2 3 4 5 6 7 8 9] m\n",
      "[0 1 2 3 4 5 6 7 8 9] m\n",
      "[0 1 2 3 4 5 6 7 8 9] m\n"
     ]
    }
   ],
   "source": [
    "# using range\n",
    "print(np.array(range(10))*m)\n",
    "# using np.arange\n",
    "print(np.arange(10)*m)\n",
    "# using physipy's qarange : note that the \"m\" quantity is inside the function call\n",
    "print(qarange(10*m))"
   ]
  },
  {
   "cell_type": "markdown",
   "id": "5292f528",
   "metadata": {},
   "source": [
    "With this wrapper, you can then do the following :"
   ]
  },
  {
   "cell_type": "code",
   "execution_count": 16,
   "id": "ff1439f0",
   "metadata": {},
   "outputs": [
    {
     "name": "stdout",
     "output_type": "stream",
     "text": [
      "[ 2.5  3.5  4.5  5.5  6.5  7.5  8.5  9.5 10.5 11.5] m\n",
      "[ 2.5  3.5  4.5  5.5  6.5  7.5  8.5  9.5 10.5 11.5] m\n"
     ]
    }
   ],
   "source": [
    "print(np.arange(2.5, 12)*m)\n",
    "print(qarange(2.5*m, 12*m))"
   ]
  },
  {
   "cell_type": "markdown",
   "id": "3d0159cf",
   "metadata": {},
   "source": [
    "The qarange wrapper still cares about dimension correctness : "
   ]
  },
  {
   "cell_type": "code",
   "execution_count": 17,
   "id": "8f3f8bea",
   "metadata": {},
   "outputs": [
    {
     "name": "stdout",
     "output_type": "stream",
     "text": [
      "Dimension error : dimensions of operands are L and T, and are differents (length vs time).\n"
     ]
    }
   ],
   "source": [
    "try:\n",
    "    print(qarange(2*m, 10*s))\n",
    "except Exception as e:\n",
    "    print(e)"
   ]
  },
  {
   "cell_type": "code",
   "execution_count": 18,
   "id": "cfffe4e5",
   "metadata": {},
   "outputs": [
    {
     "data": {
      "text/latex": [
       "[[0. 1. 2.]]$\\,m$"
      ],
      "text/plain": [
       "<Quantity : [[0 1 2]] m>"
      ]
     },
     "execution_count": 18,
     "metadata": {},
     "output_type": "execute_result"
    }
   ],
   "source": [
    "np.reshape(q_arr, (1, len(q_arr)))"
   ]
  },
  {
   "cell_type": "markdown",
   "id": "078415a7",
   "metadata": {},
   "source": [
    "# List of implemented functions"
   ]
  },
  {
   "cell_type": "code",
   "execution_count": 19,
   "id": "e6d00b78",
   "metadata": {},
   "outputs": [],
   "source": [
    "from physipy.quantity.quantity import HANDLED_FUNCTIONS, implemented"
   ]
  },
  {
   "cell_type": "code",
   "execution_count": 20,
   "id": "a4d2e049",
   "metadata": {},
   "outputs": [
    {
     "data": {
      "text/plain": [
       "{'amax',\n",
       " 'amin',\n",
       " 'append',\n",
       " 'apply_along_axis',\n",
       " 'argmax',\n",
       " 'argmin',\n",
       " 'argsort',\n",
       " 'around',\n",
       " 'asanyarray',\n",
       " 'atleast_1d',\n",
       " 'atleast_2d',\n",
       " 'atleast_3d',\n",
       " 'average',\n",
       " 'broadcast_arrays',\n",
       " 'broadcast_to',\n",
       " 'clip',\n",
       " 'column_stack',\n",
       " 'compress',\n",
       " 'concatenate',\n",
       " 'convolve',\n",
       " 'copy',\n",
       " 'copyto',\n",
       " 'corrcoef',\n",
       " 'count_nonzero',\n",
       " 'cov',\n",
       " 'cross',\n",
       " 'cumsum',\n",
       " 'diagonal',\n",
       " 'diff',\n",
       " 'dot',\n",
       " 'dstack',\n",
       " 'empty_like',\n",
       " 'expand_dims',\n",
       " 'fft',\n",
       " 'fft2',\n",
       " 'fftn',\n",
       " 'fftshift',\n",
       " 'flip',\n",
       " 'fliplr',\n",
       " 'flipud',\n",
       " 'full',\n",
       " 'full_like',\n",
       " 'gradient',\n",
       " 'hfft',\n",
       " 'histogram',\n",
       " 'histogram2d',\n",
       " 'hstack',\n",
       " 'ifft',\n",
       " 'ifft2',\n",
       " 'ifftn',\n",
       " 'ifftshift',\n",
       " 'ihfft',\n",
       " 'insert',\n",
       " 'interp',\n",
       " 'inv',\n",
       " 'irfft',\n",
       " 'irfft2',\n",
       " 'irfftn',\n",
       " 'linspace',\n",
       " 'lstsq',\n",
       " 'may_share_memory',\n",
       " 'mean',\n",
       " 'median',\n",
       " 'meshgrid',\n",
       " 'ndim',\n",
       " 'ones_like',\n",
       " 'percentile',\n",
       " 'polyfit',\n",
       " 'polyval',\n",
       " 'prod',\n",
       " 'ravel',\n",
       " 'real',\n",
       " 'repeat',\n",
       " 'reshape',\n",
       " 'rfft',\n",
       " 'rfft2',\n",
       " 'rfftn',\n",
       " 'roll',\n",
       " 'rollaxis',\n",
       " 'rot90',\n",
       " 'searchsorted',\n",
       " 'shape',\n",
       " 'sliding_window_view',\n",
       " 'sort',\n",
       " 'squeeze',\n",
       " 'stack',\n",
       " 'std',\n",
       " 'sum',\n",
       " 'take',\n",
       " 'tile',\n",
       " 'transpose',\n",
       " 'trapz',\n",
       " 'var',\n",
       " 'vstack',\n",
       " 'where',\n",
       " 'zeros',\n",
       " 'zeros_like'}"
      ]
     },
     "execution_count": 20,
     "metadata": {},
     "output_type": "execute_result"
    }
   ],
   "source": [
    "set([f.__name__ for f in HANDLED_FUNCTIONS])"
   ]
  },
  {
   "cell_type": "code",
   "execution_count": 21,
   "id": "cecd5082",
   "metadata": {},
   "outputs": [
    {
     "data": {
      "text/plain": [
       "{'absolute',\n",
       " 'add',\n",
       " 'amax',\n",
       " 'amin',\n",
       " 'append',\n",
       " 'apply_along_axis',\n",
       " 'arccos',\n",
       " 'arccosh',\n",
       " 'arcsin',\n",
       " 'arcsinh',\n",
       " 'arctan',\n",
       " 'arctan2',\n",
       " 'arctanh',\n",
       " 'argmax',\n",
       " 'argmin',\n",
       " 'argsort',\n",
       " 'around',\n",
       " 'asanyarray',\n",
       " 'atleast_1d',\n",
       " 'atleast_2d',\n",
       " 'atleast_3d',\n",
       " 'average',\n",
       " 'broadcast_arrays',\n",
       " 'broadcast_to',\n",
       " 'cbrt',\n",
       " 'ceil',\n",
       " 'clip',\n",
       " 'column_stack',\n",
       " 'compress',\n",
       " 'concatenate',\n",
       " 'conj',\n",
       " 'conjugate',\n",
       " 'convolve',\n",
       " 'copy',\n",
       " 'copysign',\n",
       " 'copyto',\n",
       " 'corrcoef',\n",
       " 'cos',\n",
       " 'cosh',\n",
       " 'count_nonzero',\n",
       " 'cov',\n",
       " 'cross',\n",
       " 'cumsum',\n",
       " 'deg2rad',\n",
       " 'diagonal',\n",
       " 'diff',\n",
       " 'divide',\n",
       " 'dot',\n",
       " 'dstack',\n",
       " 'empty_like',\n",
       " 'equal',\n",
       " 'exp',\n",
       " 'exp2',\n",
       " 'expand_dims',\n",
       " 'expm1',\n",
       " 'fabs',\n",
       " 'fft',\n",
       " 'fft2',\n",
       " 'fftn',\n",
       " 'fftshift',\n",
       " 'flip',\n",
       " 'fliplr',\n",
       " 'flipud',\n",
       " 'floor',\n",
       " 'floor_divide',\n",
       " 'fmax',\n",
       " 'fmin',\n",
       " 'fmod',\n",
       " 'full',\n",
       " 'full_like',\n",
       " 'gradient',\n",
       " 'greater',\n",
       " 'greater_equal',\n",
       " 'hfft',\n",
       " 'histogram',\n",
       " 'histogram2d',\n",
       " 'hstack',\n",
       " 'hypot',\n",
       " 'ifft',\n",
       " 'ifft2',\n",
       " 'ifftn',\n",
       " 'ifftshift',\n",
       " 'ihfft',\n",
       " 'insert',\n",
       " 'interp',\n",
       " 'inv',\n",
       " 'irfft',\n",
       " 'irfft2',\n",
       " 'irfftn',\n",
       " 'isfinite',\n",
       " 'isinf',\n",
       " 'isnan',\n",
       " 'less',\n",
       " 'less_equal',\n",
       " 'linspace',\n",
       " 'log',\n",
       " 'log10',\n",
       " 'log1p',\n",
       " 'log2',\n",
       " 'logaddexp',\n",
       " 'logaddexp2',\n",
       " 'lstsq',\n",
       " 'matmul',\n",
       " 'maximum',\n",
       " 'may_share_memory',\n",
       " 'mean',\n",
       " 'median',\n",
       " 'meshgrid',\n",
       " 'minimum',\n",
       " 'mod',\n",
       " 'modf',\n",
       " 'multiply',\n",
       " 'ndim',\n",
       " 'negative',\n",
       " 'nextafter',\n",
       " 'not_equal',\n",
       " 'ones_like',\n",
       " 'percentile',\n",
       " 'polyfit',\n",
       " 'polyval',\n",
       " 'power',\n",
       " 'prod',\n",
       " 'rad2deg',\n",
       " 'ravel',\n",
       " 'real',\n",
       " 'reciprocal',\n",
       " 'remainder',\n",
       " 'repeat',\n",
       " 'reshape',\n",
       " 'rfft',\n",
       " 'rfft2',\n",
       " 'rfftn',\n",
       " 'rint',\n",
       " 'roll',\n",
       " 'rollaxis',\n",
       " 'rot90',\n",
       " 'searchsorted',\n",
       " 'shape',\n",
       " 'sign',\n",
       " 'sin',\n",
       " 'sinh',\n",
       " 'sliding_window_view',\n",
       " 'sort',\n",
       " 'sqrt',\n",
       " 'square',\n",
       " 'squeeze',\n",
       " 'stack',\n",
       " 'std',\n",
       " 'subtract',\n",
       " 'sum',\n",
       " 'take',\n",
       " 'tan',\n",
       " 'tanh',\n",
       " 'tile',\n",
       " 'transpose',\n",
       " 'trapz',\n",
       " 'true_divide',\n",
       " 'trunc',\n",
       " 'var',\n",
       " 'vstack',\n",
       " 'where',\n",
       " 'zeros',\n",
       " 'zeros_like'}"
      ]
     },
     "execution_count": 21,
     "metadata": {},
     "output_type": "execute_result"
    }
   ],
   "source": [
    "physipy_implemented = set([f.__name__ for f in HANDLED_FUNCTIONS]).union(set(implemented))\n",
    "physipy_implemented"
   ]
  },
  {
   "cell_type": "markdown",
   "id": "33bd64a2",
   "metadata": {},
   "source": [
    "# List of not implemented functions"
   ]
  },
  {
   "cell_type": "markdown",
   "id": "4df44fbb",
   "metadata": {},
   "source": [
    "From https://github.com/hgrecco/pint/commit/2da1be75878e6da53f658b79ed057cc0b34b8c05"
   ]
  },
  {
   "cell_type": "code",
   "execution_count": 22,
   "id": "877950ef",
   "metadata": {},
   "outputs": [
    {
     "name": "stdout",
     "output_type": "stream",
     "text": [
      "['alen', 'all', 'allclose', 'alltrue', 'angle', 'any', 'apply_over_axes', 'argpartition', 'argwhere', 'array2string', 'array_equal', 'array_equiv', 'array_repr', 'array_split', 'array_str', 'asfarray', 'asscalar', 'bincount', 'block', 'busday_count', 'busday_offset', 'can_cast', 'choose', 'common_type', 'correlate', 'cumprod', 'cumproduct', 'datetime_as_string', 'delete', 'diag', 'diag_indices_from', 'diagflat', 'digitize', 'dsplit', 'ediff1d', 'einsum', 'einsum_path', 'extract', 'fill_diagonal', 'fix', 'flatnonzero', 'geomspace', 'histogram_bin_edges', 'histogramdd', 'hsplit', 'i0', 'imag', 'in1d', 'inner', 'intersect1d', 'is_busday', 'isclose', 'iscomplex', 'iscomplexobj', 'isin', 'isneginf', 'isposinf', 'isreal', 'isrealobj', 'ix_', 'kron', 'lexsort', 'logspace', 'max', 'min', 'min_scalar_type', 'moveaxis', 'msort', 'nan_to_num', 'nanargmax', 'nanargmin', 'nancumprod', 'nancumsum', 'nanmax', 'nanmean', 'nanmedian', 'nanmin', 'nanpercentile', 'nanprod', 'nanquantile', 'nanstd', 'nansum', 'nanvar', 'nonzero', 'outer', 'packbits', 'pad', 'partition', 'piecewise', 'place', 'poly', 'polyadd', 'polyder', 'polydiv', 'polyint', 'polymul', 'polysub', 'product', 'ptp', 'put', 'put_along_axis', 'putmask', 'quantile', 'ravel_multi_index', 'real_if_close', 'resize', 'result_type', 'roots', 'round', 'round_', 'row_stack', 'save', 'savetxt', 'savez', 'savez_compressed', 'select', 'setdiff1d', 'setxor1d', 'shares_memory', 'sinc', 'size', 'sometrue', 'sort_complex', 'split', 'swapaxes', 'take_along_axis', 'tensordot', 'trace', 'tril', 'tril_indices_from', 'trim_zeros', 'triu', 'triu_indices_from', 'union1d', 'unique', 'unpackbits', 'unravel_index', 'unwrap', 'vander', 'vdot', 'vsplit']\n"
     ]
    }
   ],
   "source": [
    "import numpy as np\n",
    "\n",
    "numpy_functions = set(attr for attr in dir(np) if hasattr(getattr(np, attr), '_implementation'))\n",
    "\n",
    "print(sorted(numpy_functions - physipy_implemented))"
   ]
  },
  {
   "cell_type": "markdown",
   "id": "a4931cad",
   "metadata": {},
   "source": [
    "# Proxy support for numpy.random functions"
   ]
  },
  {
   "cell_type": "code",
   "execution_count": 24,
   "id": "0753e0f1",
   "metadata": {},
   "outputs": [],
   "source": [
    "from physipy import calculus, s\n",
    "import numpy as np"
   ]
  },
  {
   "cell_type": "markdown",
   "id": "1bd84628",
   "metadata": {},
   "source": [
    "For now you have to manually create random vectors since numpy's random functions do not support interface :"
   ]
  },
  {
   "cell_type": "code",
   "execution_count": 25,
   "id": "13395693",
   "metadata": {},
   "outputs": [
    {
     "data": {
      "text/latex": [
       "[ 4.08696168  0.92381521  4.5491531  ...  3.45169288 -0.19269588\n",
       "  2.48078724]$\\,s$"
      ],
      "text/plain": [
       "<Quantity : [ 4.08696168  0.92381521  4.5491531  ...  3.45169288 -0.19269588\n",
       "  2.48078724] s>"
      ]
     },
     "execution_count": 25,
     "metadata": {},
     "output_type": "execute_result"
    }
   ],
   "source": [
    "np.random.normal(1, 2, 10000)*s"
   ]
  }
 ],
 "metadata": {
  "kernelspec": {
   "display_name": "Python 3 (ipykernel)",
   "language": "python",
   "name": "python3"
  },
  "language_info": {
   "codemirror_mode": {
    "name": "ipython",
    "version": 3
   },
   "file_extension": ".py",
   "mimetype": "text/x-python",
   "name": "python",
   "nbconvert_exporter": "python",
   "pygments_lexer": "ipython3",
   "version": "3.9.12"
  }
 },
 "nbformat": 4,
 "nbformat_minor": 5
}
