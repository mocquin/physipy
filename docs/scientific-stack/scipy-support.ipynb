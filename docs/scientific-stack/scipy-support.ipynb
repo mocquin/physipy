{
 "cells": [
  {
   "cell_type": "markdown",
   "id": "215231f5",
   "metadata": {},
   "source": [
    "## Use of `scipy` in `physipy`\n",
    "`scipy` is used in `physipy` for 2 reasons : \n",
    "\n",
    "1. To define the values of the physical constants available in `physipy.constants`\n",
    "2. To provide wrapped versions of usefull `scipy` functions and make them unit-aware, available in `physipy.calculus`\n",
    "\n",
    "It could be discussed as constants' values could be hardcoded, and wrapped functions could be defined by the user on the go. This way `scipy` would not be a dependency of `physipy`"
   ]
  },
  {
   "cell_type": "markdown",
   "id": "88f179c0",
   "metadata": {},
   "source": [
    "### Constants\n",
    "See the [constant section of the quickstart](./../quickstart.md)."
   ]
  },
  {
   "cell_type": "markdown",
   "id": "94c6c6d5",
   "metadata": {},
   "source": [
    "### Wrapped functions\n",
    "Some functions are regularly used in the physics/engineering world, hence we provide some functions that wrapped the units around the underlying `scipy` functions. Those functions are : \n",
    "\n",
    " - quad\n",
    " - dblquad\n",
    " - tplquad\n",
    " - solve_ivp\n",
    " - root\n",
    " - brentq"
   ]
  },
  {
   "cell_type": "markdown",
   "id": "d0586216",
   "metadata": {},
   "source": [
    "#### Integrals `quad`"
   ]
  },
  {
   "cell_type": "markdown",
   "id": "1d235249",
   "metadata": {},
   "source": [
    "Those functions can be used to compute integral of functions from `a` to `b`:"
   ]
  },
  {
   "cell_type": "code",
   "execution_count": 13,
   "id": "4dfc4f7e",
   "metadata": {},
   "outputs": [
    {
     "name": "stdout",
     "output_type": "stream",
     "text": [
      "22.5 s**2\n"
     ]
    }
   ],
   "source": [
    "from physipy import s\n",
    "from physipy.calculus import quad\n",
    "\n",
    "def toto(t):\n",
    "    return 2*s + t\n",
    "\n",
    "solution, abserr = quad(toto, 0*s, 5*s)\n",
    "print(solution)"
   ]
  },
  {
   "cell_type": "markdown",
   "id": "152d4f5b",
   "metadata": {},
   "source": [
    "You can compute integrals of 2D and 3D functions using `dblquad` and `tplquad` respectively."
   ]
  },
  {
   "cell_type": "markdown",
   "id": "cd9093b9",
   "metadata": {},
   "source": [
    "#### Initial Value Problem of ODE system\n",
    "Solve an initial value problem for a system of ODEs. This function numerically integrates a system of ordinary differential equations given an initial value:\n",
    "        dy / dt = f(t, y)\n",
    "        y(t0) = y0\n"
   ]
  },
  {
   "cell_type": "code",
   "execution_count": 18,
   "id": "f4ecc6aa",
   "metadata": {},
   "outputs": [
    {
     "name": "stdout",
     "output_type": "stream",
     "text": [
      "[ 0.          0.11487653  1.26364188  3.06061781  4.81611105  6.57445806\n",
      "  8.33328988 10.        ] s\n",
      "[<Quantity : [2.         1.88836035 1.06327177 0.43319312 0.18017253 0.07483045\n",
      " 0.03107158 0.01350781] kg*m**2/(A*s**3)>, <Quantity : [4.         3.7767207  2.12654355 0.86638624 0.36034507 0.14966091\n",
      " 0.06214316 0.02701561] kg*m**2/(A*s**3)>, <Quantity : [8.         7.5534414  4.25308709 1.73277247 0.72069014 0.29932181\n",
      " 0.12428631 0.05403123] kg*m**2/(A*s**3)>]\n"
     ]
    }
   ],
   "source": [
    "from physipy.calculus import solve_ivp\n",
    "from physipy import s, units\n",
    "\n",
    "# voltage unit\n",
    "V = units['V']\n",
    "\n",
    "def exponential_decay(t, y): return -0.5 * y\n",
    "\n",
    "sol = solve_ivp(exponential_decay, [0, 10]*s, [2, 4, 8]*V)\n",
    "print(sol.t)    # time samples\n",
    "print(sol.y)    # voltage response"
   ]
  },
  {
   "cell_type": "markdown",
   "id": "902e5ca1",
   "metadata": {},
   "source": [
    "#### Root solver `root`"
   ]
  },
  {
   "cell_type": "markdown",
   "id": "a9a8371b",
   "metadata": {},
   "source": [
    "A wrapper of `scipy.optimize.root`:"
   ]
  },
  {
   "cell_type": "code",
   "execution_count": 5,
   "id": "22c951e8",
   "metadata": {},
   "outputs": [
    {
     "name": "stdout",
     "output_type": "stream",
     "text": [
      "10.0 s\n"
     ]
    }
   ],
   "source": [
    "from physipy import s\n",
    "from physipy.calculus import root\n",
    "\n",
    "def toto(t):\n",
    "    return -10*s + t\n",
    "\n",
    "# Find the root for toto(t) = 0*s\n",
    "print(root(toto, 0*s))\n"
   ]
  },
  {
   "cell_type": "markdown",
   "id": "77245c78",
   "metadata": {},
   "source": [
    "The wrapped function signature is the same as the original's one, so additionnal args and kwargs still works :"
   ]
  },
  {
   "cell_type": "code",
   "execution_count": 7,
   "id": "786dd0cd",
   "metadata": {},
   "outputs": [
    {
     "name": "stdout",
     "output_type": "stream",
     "text": [
      "5.0 s\n"
     ]
    }
   ],
   "source": [
    "def tata(t, p):\n",
    "    return -10*s*p + t\n",
    "\n",
    "# Find the root for tata(t, 0.5) = 0*s\n",
    "print(root(tata, 0*s, args=(0.5,)))"
   ]
  },
  {
   "cell_type": "markdown",
   "id": "7a2059f0",
   "metadata": {},
   "source": [
    "#### Quadratic Brent method `brentq`\n",
    "Find a root of a function in a bracketing interval using Brent's method, a wrapper of `scipy.optimize.brentq`:"
   ]
  },
  {
   "cell_type": "code",
   "execution_count": 8,
   "id": "2faac6eb",
   "metadata": {},
   "outputs": [],
   "source": [
    "from physipy.calculus import brentq"
   ]
  },
  {
   "cell_type": "code",
   "execution_count": 10,
   "id": "c2ca27dc",
   "metadata": {},
   "outputs": [
    {
     "name": "stdout",
     "output_type": "stream",
     "text": [
      "10.0 s\n",
      "5.0 s\n"
     ]
    }
   ],
   "source": [
    "# find the solutition for toto(t) = 0*s for t in [-10, 10]*s\n",
    "print(brentq(toto, -10*s, 10*s))\n",
    "\n",
    "print(brentq(tata, -10*s, 10*s, args=(0.5,)))"
   ]
  },
  {
   "cell_type": "markdown",
   "id": "d8ae5205",
   "metadata": {},
   "source": [
    "### Note\n",
    "If you want support for other scipy functions, you can either define it yourself (use the functions above as examples), or open an issue on the github page."
   ]
  }
 ],
 "metadata": {
  "kernelspec": {
   "display_name": "Python 3 (ipykernel)",
   "language": "python",
   "name": "python3"
  },
  "language_info": {
   "codemirror_mode": {
    "name": "ipython",
    "version": 3
   },
   "file_extension": ".py",
   "mimetype": "text/x-python",
   "name": "python",
   "nbconvert_exporter": "python",
   "pygments_lexer": "ipython3",
   "version": "3.9.12"
  }
 },
 "nbformat": 4,
 "nbformat_minor": 5
}
