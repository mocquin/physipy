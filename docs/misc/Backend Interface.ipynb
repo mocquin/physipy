{
 "cells": [
  {
   "cell_type": "markdown",
   "id": "e895e344-4af1-464e-b8c3-92cddd292afd",
   "metadata": {},
   "source": [
    "# Numeric backend interface"
   ]
  },
  {
   "cell_type": "markdown",
   "id": "331480d9",
   "metadata": {},
   "source": [
    "When using another backend value library, the operator precedence might alter how physipy and that package work together.\n",
    "We don't get this problem with regular builtin and numpy instances, because int, float, list and so on do not know how to handle Quantities, so a NotImplemented is returned when they are on the left-hand-side of the operator. For example:"
   ]
  },
  {
   "cell_type": "code",
   "execution_count": 1,
   "id": "d58be76f",
   "metadata": {},
   "outputs": [
    {
     "name": "stdout",
     "output_type": "stream",
     "text": [
      "5 m\n",
      "[1 2 3] m\n"
     ]
    }
   ],
   "source": [
    "from physipy import m\n",
    "\n",
    "# First 5.__mul__(m) is tried, but not implemented, so we fallback on \n",
    "# m.__rmul__(5) in physipy, where a conversion is builtin physipy to convert 5 \n",
    "# into a Quantity, and 2 Quantities are easily multiplied together.\n",
    "print(5 * m)\n",
    "\n",
    "# Same applies for numpy:\n",
    "import numpy as np\n",
    "print(np.array([1,2,3]) * m)"
   ]
  },
  {
   "cell_type": "markdown",
   "id": "08706d82",
   "metadata": {},
   "source": [
    "Let's see what happens with another custom class for illustration purpose: imagine we want to use a library that acts like numpy : with just little code, including : \n",
    " - a conversion to Array in each operator with `arrayify`\n",
    " - `__array_priority__` > 0 so that `np.array([1,2]) * Array(5)` returns `Array([ 5 10])` and not `[Array(5) Array(10)]`\n",
    "\n",
    "This way, we get a fully functionnal package that works with numpy."
   ]
  },
  {
   "cell_type": "code",
   "execution_count": 2,
   "id": "b50ea634",
   "metadata": {},
   "outputs": [
    {
     "name": "stdout",
     "output_type": "stream",
     "text": [
      "Array([6 7])\n",
      "Array([ 5 10])\n",
      "Array([ 5 10])\n",
      "Array(6)\n"
     ]
    }
   ],
   "source": [
    "def arrayify(x):\n",
    "    if isinstance(x, Array):\n",
    "        return x\n",
    "    return Array(x)\n",
    "\n",
    "HANDLED_FUNCTIONS = {}\n",
    "\n",
    "class Array:\n",
    "\n",
    "    def __iter__(self):\n",
    "        return iter(self.array)\n",
    "\n",
    "    def __abs__(self):\n",
    "        return Array(abs(self.array))\n",
    "    # __array_priority__ = 0  #  -> np.array([1,2]) * Array(5) = [Array(5) Array(10)]\n",
    "    __array_priority__ = 1    #  -> np.array([1,2]) * Array(5) = Array([ 5 10])\n",
    "\n",
    "    def __init__(self, array):\n",
    "        self.array = array\n",
    "\n",
    "    def __add__(self, other):\n",
    "        other = arrayify(other)\n",
    "        return Array(self.array + other.array)\n",
    "    \n",
    "    __radd__ = __add__\n",
    "\n",
    "    def __repr__(self):\n",
    "        return f\"Array({self.array})\"\n",
    "        \n",
    "    def __mul__(self, other):\n",
    "        other = arrayify(other)\n",
    "        return Array(self.array * other.array)\n",
    "    \n",
    "    __rmul__ = __mul__\n",
    "    \n",
    "    def __array_function__(self, func, types, args, kwargs):\n",
    "        if func not in HANDLED_FUNCTIONS:\n",
    "            return NotImplemented\n",
    "        return HANDLED_FUNCTIONS[func](*args, **kwargs)\n",
    "\n",
    "\n",
    "def implements(np_function):\n",
    "    def decorator(func):\n",
    "        HANDLED_FUNCTIONS[np_function] = func\n",
    "        return func\n",
    "    return decorator\n",
    "\n",
    "@implements(np.sum)\n",
    "def np_sum(q, **kwargs):\n",
    "    return Array(np.sum(q.array))\n",
    "\n",
    "\n",
    "print(Array(5) + np.array([1,2])) # Array([6 7])\n",
    "print(Array(5) * np.array([1,2])) # Array([ 5 10]\n",
    "print(np.array([1,2]) * Array(5)) # Array([ 5 10])\n",
    "print(np.sum(Array(np.array([1,2,3]))))"
   ]
  },
  {
   "cell_type": "markdown",
   "id": "27d39436",
   "metadata": {},
   "source": [
    "Now let's see what happens if we use this package as the base value for physipy, so basicaly we will handle mostly Quantity with Array as values. First we define such a Quantity:"
   ]
  },
  {
   "cell_type": "code",
   "execution_count": 3,
   "id": "f93d3bb9",
   "metadata": {},
   "outputs": [
    {
     "name": "stdout",
     "output_type": "stream",
     "text": [
      "Array([ 1 -2  3]) m\n"
     ]
    }
   ],
   "source": [
    "from physipy import Quantity, Dimension\n",
    "x = Quantity(Array(np.array([1,-2,3])), Dimension('L'))\n",
    "print(x)"
   ]
  },
  {
   "cell_type": "markdown",
   "id": "7e25f526",
   "metadata": {},
   "source": [
    "Now let's see how it behaves with regular operations. For the following, everything work as expected:"
   ]
  },
  {
   "cell_type": "code",
   "execution_count": 4,
   "id": "64feb68d",
   "metadata": {},
   "outputs": [
    {
     "name": "stdout",
     "output_type": "stream",
     "text": [
      "Array([ 2 -4  6]) m\n",
      "Array([ 2 -4  6]) m\n",
      "Array([2 4 6]) m\n",
      "Array([4 1 6]) m\n",
      "Array([4 1 6]) m\n",
      "Array(2) m\n",
      "Array(5) m\n",
      "Array(8) m\n"
     ]
    }
   ],
   "source": [
    "print(2*x)      # Array([2 4 6]) m\n",
    "print(x*2)      # Array([2 4 6]) m\n",
    "print(abs(2*x)) # Array([2 4 6]) m\n",
    "print(x+3*m)    # Array([4 1 6]) m\n",
    "print(3*m + x)  # Array([4 1 6]) m\n",
    "print(np.sum(x))\n",
    "print(m * Array(5))\n",
    "print(m * Array(5) + 3*m)"
   ]
  },
  {
   "cell_type": "markdown",
   "id": "2dcf91ab",
   "metadata": {},
   "source": [
    "But what happens here : "
   ]
  },
  {
   "cell_type": "code",
   "execution_count": 5,
   "id": "89388a95",
   "metadata": {},
   "outputs": [
    {
     "data": {
      "text/plain": [
       "Array(5 m)"
      ]
     },
     "execution_count": 5,
     "metadata": {},
     "output_type": "execute_result"
    }
   ],
   "source": [
    "Array(5) * m"
   ]
  },
  {
   "cell_type": "markdown",
   "id": "6aef7daa",
   "metadata": {},
   "source": [
    "Since Array is on the left of the operator, its `__mul__` operator is called first, where it wraps the RHS into a Array, hence we get `Array(m)`, while we'd want `Array(1) m`. This happens because Array first converts any value that is not an Array isntance, into an Array that wraps this instance.\n",
    "\n",
    "We cannot modify any physipy code to fix this, because everything happens in the Array class. So a solution is to modify the operators of Array so that they fail when use with a Quantity. The only difference with the above code is that the decorator `NotImplementedWithQuantity` is applied to the operators:"
   ]
  },
  {
   "cell_type": "code",
   "execution_count": 7,
   "id": "fd0611ff",
   "metadata": {},
   "outputs": [
    {
     "name": "stdout",
     "output_type": "stream",
     "text": [
      "Array([ 2 -4  6]) m\n",
      "Array([ 2 -4  6]) m\n",
      "Array([2 4 6]) m\n",
      "Array([4 1 6]) m\n",
      "Array([4 1 6]) m\n",
      "Array(2) m\n",
      "Array(5) m\n",
      "Array(8) m\n",
      "Array(5) m\n"
     ]
    }
   ],
   "source": [
    "def NotImplementedWithQuantity(f):\n",
    "    \"\"\"Concept decorator for __op__ so that a backend class can defer to\n",
    "    Quantity, even when the class instance is on the left of the operator.\n",
    "    In the exeample below, if the decorator is not applied, then \n",
    "    Array(5) * m return Array(5 m) (an Array with a Quantity) instead of\n",
    "    Array(5) m (a Quantity with an Array).\n",
    "    \"\"\"\n",
    "    def new(*args, **kwargs):\n",
    "        if any(isinstance(x, Quantity) for x in args):\n",
    "            return NotImplemented\n",
    "        else:\n",
    "            return f(*args, **kwargs)\n",
    "    return new\n",
    "\n",
    "\n",
    "def arrayify(x):\n",
    "    if isinstance(x, Array):\n",
    "        return x\n",
    "    return Array(x)\n",
    "\n",
    "HANDLED_FUNCTIONS = {}\n",
    "\n",
    "class Array:\n",
    "\n",
    "    def __iter__(self):\n",
    "        return iter(self.array)\n",
    "\n",
    "    def __abs__(self):\n",
    "        return Array(abs(self.array))\n",
    "    # __array_priority__ = 0  #  -> np.array([1,2]) * Array(5) = [Array(5) Array(10)]\n",
    "    __array_priority__ = 1    #  -> np.array([1,2]) * Array(5) = Array([ 5 10])\n",
    "\n",
    "    def __init__(self, array):\n",
    "        self.array = array\n",
    "\n",
    "    @NotImplementedWithQuantity\n",
    "    def __add__(self, other):\n",
    "        other = arrayify(other)\n",
    "        return Array(self.array + other.array)\n",
    "    \n",
    "    __radd__ = __add__\n",
    "\n",
    "    def __repr__(self):\n",
    "        return f\"Array({self.array})\"\n",
    "        \n",
    "    @NotImplementedWithQuantity\n",
    "    def __mul__(self, other):\n",
    "        other = arrayify(other)\n",
    "        return Array(self.array * other.array)\n",
    "    \n",
    "    __rmul__ = __mul__\n",
    "    \n",
    "    def __array_function__(self, func, types, args, kwargs):\n",
    "        if func not in HANDLED_FUNCTIONS:\n",
    "            return NotImplemented\n",
    "        return HANDLED_FUNCTIONS[func](*args, **kwargs)\n",
    "\n",
    "\n",
    "def implements(np_function):\n",
    "    def decorator(func):\n",
    "        HANDLED_FUNCTIONS[np_function] = func\n",
    "        return func\n",
    "    return decorator\n",
    "\n",
    "@implements(np.sum)\n",
    "def np_sum(q, **kwargs):\n",
    "    return Array(np.sum(q.array))\n",
    "\n",
    "\n",
    "print(2*x)      # Array([2 4 6]) m\n",
    "print(x*2)      # Array([2 4 6]) m\n",
    "print(abs(2*x)) # Array([2 4 6]) m\n",
    "print(x+3*m)    # Array([4 1 6]) m\n",
    "print(3*m + x)  # Array([4 1 6]) m\n",
    "print(np.sum(x))\n",
    "print(m * Array(5))\n",
    "print(m * Array(5) + 3*m)\n",
    "print(Array(5)*m)"
   ]
  },
  {
   "cell_type": "markdown",
   "id": "ce7ed3c2-1da3-4223-9653-f0019e5e6b20",
   "metadata": {},
   "source": [
    "## Example wrapping uncertainties : add the unit to `nominal_value` and `std_dev`"
   ]
  },
  {
   "cell_type": "markdown",
   "id": "c0365bce-b424-48bc-9e7a-484b65417608",
   "metadata": {},
   "source": [
    "Numpy's integration is a great example of how physipy can wrap any kind of numerical values, but this integration is written in the source code of physipy so it's a bit cheating.  \n",
    "Let's see how physipy deals with a non-integrated numerical-like package : uncertainties. By \"non-integrated\" I mean that no source code of physipy makes any explicit reference to uncertainties, so we only rely on the general wrapping interface of physipy."
   ]
  },
  {
   "cell_type": "markdown",
   "id": "85899353",
   "metadata": {},
   "source": [
    "Let's first create a pure uncertainties variable"
   ]
  },
  {
   "cell_type": "code",
   "execution_count": 1,
   "id": "6f3511b5-0249-43dd-b625-8ff7c37deae8",
   "metadata": {},
   "outputs": [
    {
     "name": "stdout",
     "output_type": "stream",
     "text": [
      "0.200+/-0.010\n",
      "0.040+/-0.004\n",
      "<class 'uncertainties.core.Variable'>\n"
     ]
    }
   ],
   "source": [
    "from physipy import m, s, K, Quantity, Dimension\n",
    "import uncertainties.umath as um\n",
    "import uncertainties as u\n",
    "\n",
    "# create a pure uncertainties instance\n",
    "x = u.ufloat(0.20, 0.01)  # x = 0.20+/-0.01\n",
    "print(x)\n",
    "print(x**2)\n",
    "print(type(x))"
   ]
  },
  {
   "cell_type": "markdown",
   "id": "7aca2b04-bb4a-4200-ac57-81714e2e4a11",
   "metadata": {},
   "source": [
    "If we create a quantity version by mulitplying by 1 meter, the returned value is of Quantity type:"
   ]
  },
  {
   "cell_type": "code",
   "execution_count": 3,
   "id": "ef4a6195-cfd5-4cf8-bfac-b3385aed1977",
   "metadata": {},
   "outputs": [
    {
     "name": "stdout",
     "output_type": "stream",
     "text": [
      "0.200+/-0.010 m\n",
      "0.040+/-0.004 m**2 <class 'physipy.quantity.quantity.Quantity'>\n",
      "2.200+/-0.010 m <class 'physipy.quantity.quantity.Quantity'>\n",
      "0.200+/-0.010 <class 'uncertainties.core.AffineScalarFunc'>\n",
      "True\n"
     ]
    }
   ],
   "source": [
    "# now let's create a quanity version of x\n",
    "xq = x*m\n",
    "print(xq)                       # a Quantity\n",
    "print(xq**2, type(xq**2))       # a Quantity\n",
    "print(xq+2*m, type(xq+2*m))     # a Quantity\n",
    "print(xq.value, type(xq.value)) # an uncertainties value\n",
    "print(m*x == x*m)               # True"
   ]
  },
  {
   "cell_type": "markdown",
   "id": "a85cb537-462d-4c17-9321-724e71bcbcff",
   "metadata": {},
   "source": [
    "That's a pretty neat result __that didn't need any additional code__.  \n",
    "Now going a bit further, uncertainties instance have a `nominal_value` and `std_dev` attributes."
   ]
  },
  {
   "cell_type": "code",
   "execution_count": 4,
   "id": "faba0329-f479-4890-b2cd-29355d6b0714",
   "metadata": {},
   "outputs": [],
   "source": [
    "# Creation must be done this way and not by \"x*m\" because \"x*m\" \n",
    "# will multiply the uncerainties variable by 1, and turn it into a\n",
    "# AffineScalarFunc instance, which is not hashable and breaks my \n",
    "# register_property_backend that relies on dict lookup\n",
    "#x = u.ufloat(0.20, 0.01)  # x = 0.20+/-0.01\n",
    "xq = Quantity(x, Dimension(\"m\")) # xq = x *m"
   ]
  },
  {
   "cell_type": "code",
   "execution_count": 5,
   "id": "4bca98ee-2952-4da5-a92f-fa4a98ee3916",
   "metadata": {},
   "outputs": [
    {
     "name": "stdout",
     "output_type": "stream",
     "text": [
      "0.2\n",
      "0.01\n"
     ]
    }
   ],
   "source": [
    "print(x.nominal_value)\n",
    "print(x.std_dev)"
   ]
  },
  {
   "cell_type": "markdown",
   "id": "6545608a-b1fd-4ba9-96d2-16ef62a19012",
   "metadata": {},
   "source": [
    "In physipy, if an attribute doesn't exist in the quantity instance, the lookup falls back on the backend value, ie on the uncertainties variable, so by default we get the same result on `xq` (note that we don't get auto-completion either for the same reason):"
   ]
  },
  {
   "cell_type": "code",
   "execution_count": 6,
   "id": "21f5dcb7-08c4-40b2-bf7f-9122c102bdcc",
   "metadata": {},
   "outputs": [
    {
     "name": "stdout",
     "output_type": "stream",
     "text": [
      "0.2\n",
      "0.01\n"
     ]
    }
   ],
   "source": [
    "print(xq.nominal_value) # 0.2\n",
    "print(xq.std_dev)       # 0.01"
   ]
  },
  {
   "cell_type": "markdown",
   "id": "0d0e0593-94b3-4e34-bad5-341743a0603a",
   "metadata": {},
   "source": [
    "It would be great that `xq.nominal_value` actually prints `0.2 m`, not loosing the unit and making it explicit that the nominal value is actually 0.2 meters. To do that, we can add a property back to specify what we want `xq.nominal_value` to return : a property backend is a dictionnary with key the name of the attribute, and as value the corresponding method to get the wanted result.\n",
    "\n",
    "For the nominal_value and standard deviation, we just want to add back the unit and make the variable a Quantity, so we multiply by the corresponding SI unit:"
   ]
  },
  {
   "cell_type": "code",
   "execution_count": 7,
   "id": "d637675d-116e-4e98-a9a1-031d4c5058e4",
   "metadata": {},
   "outputs": [
    {
     "data": {
      "text/plain": [
       "uncertainties.core.Variable"
      ]
     },
     "execution_count": 7,
     "metadata": {},
     "output_type": "execute_result"
    }
   ],
   "source": [
    "type(xq.value)"
   ]
  },
  {
   "cell_type": "code",
   "execution_count": 8,
   "id": "4b8f53ca-8989-4d41-90e8-431c482d2f5b",
   "metadata": {},
   "outputs": [],
   "source": [
    "import uncertainties as uc\n",
    "from physipy.quantity.quantity import register_property_backend\n",
    "\n",
    "uncertainties_property_backend_interface = {\n",
    "    # res is the backend result of the attribute lookup, and q the wrapping quantity\n",
    "    \"nominal_value\":lambda q, res: q._SI_unitary_quantity*res,\n",
    "    \"std_dev\":lambda q, res: q._SI_unitary_quantity*res,\n",
    "    \"n\":lambda q, res: q._SI_unitary_quantity*res,\n",
    "    \"s\":lambda q, res: q._SI_unitary_quantity*res,\n",
    "}\n",
    "\n",
    "register_property_backend(\n",
    "    uc.core.Variable, \n",
    "    uncertainties_property_backend_interface\n",
    ")"
   ]
  },
  {
   "cell_type": "markdown",
   "id": "589c26d4-577b-4ca0-b1ce-53ccb6027a77",
   "metadata": {},
   "source": [
    "With this property back interface registered we get the desired result for `print(xq.nominal_value)`:"
   ]
  },
  {
   "cell_type": "code",
   "execution_count": 10,
   "id": "ef19d98f-b676-4e35-9054-e0ffce080990",
   "metadata": {},
   "outputs": [
    {
     "name": "stdout",
     "output_type": "stream",
     "text": [
      "<class 'uncertainties.core.Variable'>\n",
      "0.2 m\n",
      "0.01 m\n"
     ]
    }
   ],
   "source": [
    "print(type(xq.value))\n",
    "print(xq.nominal_value) # 0.2 m, instead of just 0.2 previously\n",
    "print(xq.std_dev)       # 0.1 m, instead of just 0.1 previously"
   ]
  },
  {
   "cell_type": "markdown",
   "id": "abc43074-d23b-47b3-a4fa-551d4b0fc7e0",
   "metadata": {},
   "source": [
    "## Using subclass to extend Quantity's support"
   ]
  },
  {
   "cell_type": "markdown",
   "id": "85ca10e0-74b7-46f3-94bd-d46cacdf614b",
   "metadata": {},
   "source": [
    "Another approach to do this would be to create a new class like this"
   ]
  },
  {
   "cell_type": "code",
   "execution_count": 11,
   "id": "abbf0c7a-0509-4d2c-9326-8fabc69de697",
   "metadata": {},
   "outputs": [
    {
     "name": "stdout",
     "output_type": "stream",
     "text": [
      "<class '__main__.UWrappedQuantity'> 0.200+/-0.010 m 0.2 m\n",
      "2.200+/-0.010 m <class '__main__.UWrappedQuantity'> 2.200+/-0.010 1 m\n",
      "2.2 m\n"
     ]
    }
   ],
   "source": [
    "from physipy import m, s, K, Quantity, Dimension\n",
    "import uncertainties as u\n",
    "\n",
    "# create a pure uncertainties instance\n",
    "x = u.ufloat(0.20, 0.01)  # x = 0.20+/-0.01\n",
    "\n",
    "class UWrappedQuantity(Quantity):\n",
    "    @property\n",
    "    def nominal_value(self):\n",
    "        return self.value.nominal_value * self._SI_unitary_quantity\n",
    "    @property\n",
    "    def std_dev(self):\n",
    "        return self.value.std_dev * self._SI_unitary_quantity\n",
    "\n",
    "xq2 = UWrappedQuantity(x, Dimension(\"m\"))\n",
    "#print(xq2)\n",
    "print(type(xq2), xq2, xq2.nominal_value)\n",
    "\n",
    "print(xq2+2*m, type(xq2+2*m), (xq2+2*m).value, (xq2+2*m)._SI_unitary_quantity)\n",
    "print((xq2+2*m).nominal_value)"
   ]
  },
  {
   "cell_type": "markdown",
   "id": "99aca3ad-105b-4b82-9e3c-448345384654",
   "metadata": {},
   "source": [
    "## Interface"
   ]
  },
  {
   "cell_type": "markdown",
   "id": "cdaf192b-3c6f-4f82-a7db-53426f0cc5f9",
   "metadata": {},
   "source": [
    "The simplest way to use physipy with specific objects, like fractions or your own class is to create quantities that wrap your value : here `Quantity` wraps the custom value as its `value` attribute."
   ]
  },
  {
   "cell_type": "markdown",
   "id": "f5134249-220c-4cee-94c2-2db5ba7be187",
   "metadata": {},
   "source": [
    "A simple example : "
   ]
  },
  {
   "cell_type": "code",
   "execution_count": 8,
   "id": "413ba180-8b90-4ad3-80e3-cd77509ca002",
   "metadata": {},
   "outputs": [],
   "source": [
    "import fractions\n",
    "from physipy import Quantity, Dimension, m"
   ]
  },
  {
   "cell_type": "code",
   "execution_count": 9,
   "id": "2731a100-818e-4515-aed5-cf0e26ca10cd",
   "metadata": {},
   "outputs": [
    {
     "name": "stdout",
     "output_type": "stream",
     "text": [
      "3/26 m\n"
     ]
    }
   ],
   "source": [
    "# from constructor\n",
    "length = Quantity(fractions.Fraction(3, 26), Dimension(\"m\"))\n",
    "# or altneratively\n",
    "length = fractions.Fraction(3, 26) * m\n",
    "print(length)"
   ]
  },
  {
   "cell_type": "markdown",
   "id": "de3c0598-e77c-44bb-960c-c6c069ccd3ee",
   "metadata": {},
   "source": [
    "Then when doing calculation, physipy deals with everything for you :"
   ]
  },
  {
   "cell_type": "code",
   "execution_count": 10,
   "id": "992054e6-d3d9-43a0-9d67-2f85aea1017b",
   "metadata": {},
   "outputs": [
    {
     "name": "stdout",
     "output_type": "stream",
     "text": [
      "55/26 m\n",
      "9/676 m**2\n",
      "L\n",
      "False\n",
      "3/26 m\n"
     ]
    }
   ],
   "source": [
    "print(length + 2*m)\n",
    "print(length**2)\n",
    "print(length.dimension)\n",
    "print(length.is_mass())\n",
    "print(length.sum())"
   ]
  },
  {
   "cell_type": "markdown",
   "id": "a48f3b6b",
   "metadata": {},
   "source": [
    "Note that there are unittests based on fractions.Fraction."
   ]
  },
  {
   "cell_type": "markdown",
   "id": "fdc391bd-d6dd-46e0-b638-47705e8368c8",
   "metadata": {},
   "source": [
    "# More complex objects"
   ]
  },
  {
   "cell_type": "markdown",
   "id": "24bd63b2-d08d-4841-9492-8c7c9ef738fe",
   "metadata": {},
   "source": [
    "Now say we want to customize the basic Fraction object, by overloading its str method and work only with this new class:"
   ]
  },
  {
   "cell_type": "code",
   "execution_count": 26,
   "id": "b1a362d0-5261-4488-a250-ef3c993d8eb6",
   "metadata": {},
   "outputs": [],
   "source": [
    "class MyFraction(fractions.Fraction):\n",
    "    def __str__(self):\n",
    "        return f\"[[[{self.numerator}/{self.denominator}]]]\""
   ]
  },
  {
   "cell_type": "code",
   "execution_count": 31,
   "id": "2fad56fe-3dac-4dc7-a741-f30e75194a62",
   "metadata": {},
   "outputs": [
    {
     "name": "stdout",
     "output_type": "stream",
     "text": [
      "[[[3/26]]]\n",
      "3/13\n",
      "3/13\n",
      "[[[3/26]]] m\n",
      "3/26 m\n",
      "3/26 m\n"
     ]
    }
   ],
   "source": [
    "my_length = MyFraction(3, 26)\n",
    "print(my_length)\n",
    "print(my_length*2)\n",
    "print(2*my_length)\n",
    "print(Quantity(MyFraction(3, 26), Dimension(\"L\")))\n",
    "print(MyFraction(3, 26)*m)\n",
    "print(m*MyFraction(3, 26))"
   ]
  },
  {
   "cell_type": "markdown",
   "id": "58ef5708-ce1c-45c7-81fc-d73e39a5abb2",
   "metadata": {},
   "source": [
    "Notice that we lost the custom str : that's because the value is not a `MyFraction` instance but `fractions.Fraction` : it was lost in the multiplication process. Indeed, since `my_length*m` falls back on the `__mul__` of Quantity, that uses the `__mul__` method of the instance, which is `fractions.Fraction.__mul__`, which returns a `fractions.Fraction` instance, not a `MyFraction` instance.\n",
    "\n",
    "So we would like physipy to return a `MyFraction` when computing multiplication with a Quantity objet."
   ]
  },
  {
   "cell_type": "markdown",
   "id": "662f2867-4f35-405f-8c78-1258e51010be",
   "metadata": {},
   "source": [
    "Now we can't expect each user to rewrite its custom Fraction class to be compatible with Quantity, so we do the opposite : Quantity will wrap the custom class with an interface class."
   ]
  },
  {
   "cell_type": "code",
   "execution_count": 32,
   "id": "8941de07-75e1-41fe-a90f-2e50fcd2b50e",
   "metadata": {},
   "outputs": [
    {
     "ename": "ImportError",
     "evalue": "cannot import name 'register_value_backend' from 'physipy.quantity.quantity' (C:\\Users\\ym\\Documents\\REPOS\\physipy\\physipy\\quantity\\quantity.py)",
     "output_type": "error",
     "traceback": [
      "\u001b[1;31m---------------------------------------------------------------------------\u001b[0m",
      "\u001b[1;31mImportError\u001b[0m                               Traceback (most recent call last)",
      "Cell \u001b[1;32mIn[32], line 6\u001b[0m\n\u001b[0;32m      3\u001b[0m         str_myfraction \u001b[38;5;241m=\u001b[39m \u001b[38;5;28mstr\u001b[39m(\u001b[38;5;28mself\u001b[39m\u001b[38;5;241m.\u001b[39mvalue)\n\u001b[0;32m      4\u001b[0m         \u001b[38;5;28;01mreturn\u001b[39;00m \u001b[38;5;124m\"\u001b[39m\u001b[38;5;124mQuantityWrappedMyFraction : \u001b[39m\u001b[38;5;124m\"\u001b[39m \u001b[38;5;241m+\u001b[39m str_myfraction \u001b[38;5;241m+\u001b[39m \u001b[38;5;124m\"\u001b[39m\u001b[38;5;124m-\u001b[39m\u001b[38;5;124m\"\u001b[39m\u001b[38;5;241m+\u001b[39m\u001b[38;5;28mself\u001b[39m\u001b[38;5;241m.\u001b[39mdimension\u001b[38;5;241m.\u001b[39mstr_SI_unit()\n\u001b[1;32m----> 6\u001b[0m \u001b[38;5;28;01mfrom\u001b[39;00m \u001b[38;5;21;01mphysipy\u001b[39;00m\u001b[38;5;21;01m.\u001b[39;00m\u001b[38;5;21;01mquantity\u001b[39;00m\u001b[38;5;21;01m.\u001b[39;00m\u001b[38;5;21;01mquantity\u001b[39;00m \u001b[38;5;28;01mimport\u001b[39;00m register_value_backend\n\u001b[0;32m      7\u001b[0m register_value_backend(\n\u001b[0;32m      8\u001b[0m     \u001b[38;5;66;03m# here we use the class of the base value\u001b[39;00m\n\u001b[0;32m      9\u001b[0m     fractions\u001b[38;5;241m.\u001b[39mFraction, \n\u001b[0;32m     10\u001b[0m     \u001b[38;5;66;03m# here the rewritten version\u001b[39;00m\n\u001b[0;32m     11\u001b[0m     QuantityWrappedMyFraction)\n",
      "\u001b[1;31mImportError\u001b[0m: cannot import name 'register_value_backend' from 'physipy.quantity.quantity' (C:\\Users\\ym\\Documents\\REPOS\\physipy\\physipy\\quantity\\quantity.py)"
     ]
    }
   ],
   "source": [
    "class QuantityWrappedMyFraction(Quantity):\n",
    "    def __str__(self):\n",
    "        str_myfraction = str(self.value)\n",
    "        return \"QuantityWrappedMyFraction : \" + str_myfraction + \"-\"+self.dimension.str_SI_unit()\n",
    "\n",
    "from physipy.quantity.quantity import register_value_backend\n",
    "register_value_backend(\n",
    "    # here we use the class of the base value\n",
    "    fractions.Fraction, \n",
    "    # here the rewritten version\n",
    "    QuantityWrappedMyFraction)"
   ]
  },
  {
   "cell_type": "code",
   "execution_count": 33,
   "id": "0d69ce0d-f547-4aa3-9e88-cec5dd03fd3c",
   "metadata": {},
   "outputs": [
    {
     "name": "stdout",
     "output_type": "stream",
     "text": [
      "[[[3/26]]]\n",
      "9/676\n",
      "[[[3/26]]] m\n",
      "3/26 m\n"
     ]
    }
   ],
   "source": [
    "print(my_length)\n",
    "print(my_length*my_length)\n",
    "print(Quantity(MyFraction(3, 26), Dimension(\"L\")))\n",
    "print(MyFraction(3, 26)*m)"
   ]
  },
  {
   "cell_type": "markdown",
   "id": "65cd050b-1f00-41f6-9668-cdc8f8315688",
   "metadata": {},
   "source": [
    "# Requirements for easy backend supports"
   ]
  },
  {
   "cell_type": "markdown",
   "id": "86079366-b89c-4eb2-bd0a-595fa2d7c45c",
   "metadata": {},
   "source": [
    " - The class must be hashable : for the dict lookup on type, we need the class as key, so they need to be hashable"
   ]
  },
  {
   "cell_type": "code",
   "execution_count": null,
   "id": "077b2e0f-74b5-46fc-a2d4-b6325846c91d",
   "metadata": {},
   "outputs": [],
   "source": []
  }
 ],
 "metadata": {
  "kernelspec": {
   "display_name": "Python 3 (ipykernel)",
   "language": "python",
   "name": "python3"
  },
  "language_info": {
   "codemirror_mode": {
    "name": "ipython",
    "version": 3
   },
   "file_extension": ".py",
   "mimetype": "text/x-python",
   "name": "python",
   "nbconvert_exporter": "python",
   "pygments_lexer": "ipython3",
   "version": "3.12.0"
  }
 },
 "nbformat": 4,
 "nbformat_minor": 5
}
