{
 "cells": [
  {
   "attachments": {},
   "cell_type": "markdown",
   "metadata": {},
   "source": [
    "WIP, idea to set a context to ease conversion (K to °C, wavelength to wavenumber)"
   ]
  },
  {
   "cell_type": "code",
   "execution_count": 1,
   "metadata": {},
   "outputs": [],
   "source": [
    "\n",
    "from collections import UserList\n",
    "\n",
    "# THIRD-PARTY\n",
    "import numpy as np\n",
    "import warnings\n",
    "\n",
    "class Equivalency(UserList):\n",
    "    \"\"\"\n",
    "    A container for a units equivalency.\n",
    "\n",
    "    Attributes\n",
    "    ----------\n",
    "    name: `str`\n",
    "        The name of the equivalency.\n",
    "    kwargs: `dict`\n",
    "        Any positional or keyword arguments used to make the equivalency.\n",
    "    \"\"\"\n",
    "\n",
    "    def __init__(self, equiv_list, name='', kwargs=None):\n",
    "        self.data = equiv_list\n",
    "        self.name = [name]\n",
    "        self.kwargs = [kwargs] if kwargs is not None else [dict()]\n",
    "\n",
    "    def __add__(self, other):\n",
    "        if isinstance(other, Equivalency):\n",
    "            new = super().__add__(other)\n",
    "            new.name = self.name[:] + other.name\n",
    "            new.kwargs = self.kwargs[:] + other.kwargs\n",
    "            return new\n",
    "        else:\n",
    "            return self.data.__add__(other)\n",
    "\n",
    "    def __eq__(self, other):\n",
    "        return (isinstance(other, self.__class__) and\n",
    "                self.name == other.name and\n",
    "                self.kwargs == other.kwargs)\n"
   ]
  },
  {
   "cell_type": "code",
   "execution_count": null,
   "metadata": {},
   "outputs": [],
   "source": []
  }
 ],
 "metadata": {
  "kernelspec": {
   "display_name": "Python 3 (ipykernel)",
   "language": "python",
   "name": "python3"
  },
  "language_info": {
   "codemirror_mode": {
    "name": "ipython",
    "version": 3
   },
   "file_extension": ".py",
   "mimetype": "text/x-python",
   "name": "python",
   "nbconvert_exporter": "python",
   "pygments_lexer": "ipython3",
   "version": "3.8.5"
  }
 },
 "nbformat": 4,
 "nbformat_minor": 4
}
