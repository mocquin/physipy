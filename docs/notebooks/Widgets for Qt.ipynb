{
 "cells": [
  {
   "cell_type": "markdown",
   "id": "4e4415c1-b7b5-4d30-8f70-e4a2ee7f7e7b",
   "metadata": {},
   "source": [
    "# QuantityQtSlider"
   ]
  },
  {
   "cell_type": "markdown",
   "id": "90904fad-a56d-4d1d-a653-88988e7800fe",
   "metadata": {},
   "source": [
    "A Qt slider that handles quantities and units"
   ]
  },
  {
   "cell_type": "code",
   "execution_count": 1,
   "id": "f11f56bd-5f2a-462f-9167-39208d6b467d",
   "metadata": {},
   "outputs": [],
   "source": [
    "from physipy import units, s, m\n",
    "from physipy.qwidgets.qt import QuantityQtSlider\n",
    "from PyQt5.QtWidgets import QApplication, QMainWindow\n",
    "\n",
    "ohm = units[\"ohm\"]\n",
    "\n",
    "app = QApplication([])\n",
    "win = QMainWindow()\n",
    "w = QuantityQtSlider(2*ohm, 10*ohm, value=5*ohm, descr=\"Resistor\")\n",
    "win.setCentralWidget(w)\n",
    "win.show()\n",
    "\n",
    "if __name__ == '__main__':\n",
    "    app.exec_()"
   ]
  },
  {
   "cell_type": "markdown",
   "id": "63ec3958-2517-4483-9c49-7607da1e1735",
   "metadata": {},
   "source": [
    "# ParamSet"
   ]
  },
  {
   "cell_type": "code",
   "execution_count": 4,
   "id": "6deaf908-f602-4e5f-a61c-899366e976ea",
   "metadata": {
    "lines_to_next_cell": 2
   },
   "outputs": [],
   "source": [
    "from PyQt5.QtWidgets import QApplication, QMainWindow, QWidget, QVBoxLayout\n",
    "from physipy.qwidgets.qt import QuantityQtSlider\n",
    "from physipy import units\n",
    "V = units[\"V\"]\n",
    "C = units[\"C\"]\n",
    "\n",
    "ohm = units[\"ohm\"]\n",
    "#C = ohm = V = 1"
   ]
  },
  {
   "cell_type": "code",
   "execution_count": 5,
   "id": "11143e14-c7d4-48a4-bf95-279a2b390c9c",
   "metadata": {},
   "outputs": [
    {
     "name": "stdout",
     "output_type": "stream",
     "text": [
      "{'C': {'min': <Quantity : 2 A*s, symbol=C*UndefinedSymbol>, 'max': <Quantity : 5 A*s, symbol=C*UndefinedSymbol>, 'value': <Quantity : 3 A*s, symbol=C*UndefinedSymbol>}, 'R': {'min': <Quantity : 2.0 kg*m**2/(A**2*s**3), symbol=ohm*UndefinedSymbol>, 'max': <Quantity : 5.0 kg*m**2/(A**2*s**3), symbol=ohm*UndefinedSymbol>, 'value': <Quantity : 3.0 kg*m**2/(A**2*s**3), symbol=ohm*UndefinedSymbol>}, 'E': {'min': <Quantity : 2.0 kg*m**2/(A*s**3), symbol=V*UndefinedSymbol>, 'max': <Quantity : 5.0 kg*m**2/(A*s**3), symbol=V*UndefinedSymbol>, 'value': <Quantity : 3.0 kg*m**2/(A*s**3), symbol=V*UndefinedSymbol>}}\n"
     ]
    }
   ],
   "source": [
    "model = {'C': {\"min\":2*C, \"max\":5*C, \"value\":3*C},\n",
    "         'R': {\"min\":2*ohm, \"max\":5*ohm, \"value\":3*ohm},\n",
    "         'E': {\"min\":2*V, \"max\":5*V, \"value\":3*V},\n",
    "        }\n",
    "print(model)"
   ]
  },
  {
   "cell_type": "code",
   "execution_count": null,
   "id": "b7182139-8593-4391-8300-3fa16ac09f31",
   "metadata": {},
   "outputs": [],
   "source": [
    "from physipy.qwidgets.qt import ParamSet\n",
    "\n",
    "w = ParamSet(model)"
   ]
  },
  {
   "cell_type": "code",
   "execution_count": null,
   "id": "fa3aec10-5cde-4079-aebe-fb80ad2b4875",
   "metadata": {},
   "outputs": [],
   "source": [
    "app = QApplication([])\n",
    "win = QMainWindow()\n",
    "win.setCentralWidget(w)\n",
    "win.show()\n",
    "app.exec_()"
   ]
  },
  {
   "cell_type": "code",
   "execution_count": null,
   "id": "b339abe0-5f9a-4ad0-8c10-c8c5c2784794",
   "metadata": {},
   "outputs": [],
   "source": []
  }
 ],
 "metadata": {
  "jupytext": {
   "text_representation": {
    "extension": ".py",
    "format_name": "percent",
    "format_version": "1.3",
    "jupytext_version": "1.13.4"
   }
  },
  "kernelspec": {
   "display_name": "Python 3 (ipykernel)",
   "language": "python",
   "name": "python3"
  },
  "language_info": {
   "codemirror_mode": {
    "name": "ipython",
    "version": 3
   },
   "file_extension": ".py",
   "mimetype": "text/x-python",
   "name": "python",
   "nbconvert_exporter": "python",
   "pygments_lexer": "ipython3",
   "version": "3.9.7"
  }
 },
 "nbformat": 4,
 "nbformat_minor": 5
}
