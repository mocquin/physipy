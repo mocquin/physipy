{
 "cells": [
  {
   "cell_type": "code",
   "execution_count": 3,
   "metadata": {},
   "outputs": [],
   "source": [
    "import numpy as np\n",
    "import physipy\n",
    "from physipy import m, units\n",
    "from physipy.quantity.utils import asqarray"
   ]
  },
  {
   "cell_type": "markdown",
   "metadata": {},
   "source": [
    "# Array-like creation"
   ]
  },
  {
   "cell_type": "markdown",
   "metadata": {},
   "source": [
    "Several creation will fail : \n",
    " - non homomgeneous (obviously)\n",
    " - but also in-array creation"
   ]
  },
  {
   "cell_type": "code",
   "execution_count": 16,
   "metadata": {},
   "outputs": [],
   "source": [
    "length = 3*m\n",
    "#arr = np.array([\n",
    "#    [0*m, length]\n",
    "#])"
   ]
  },
  {
   "cell_type": "code",
   "execution_count": 5,
   "metadata": {},
   "outputs": [
    {
     "data": {
      "text/latex": [
       "[0. 3.]$\\,m$"
      ],
      "text/plain": [
       "<Quantity : [0 3] m>"
      ]
     },
     "execution_count": 5,
     "metadata": {},
     "output_type": "execute_result"
    }
   ],
   "source": [
    "arr = asqarray([0*m, length])\n",
    "arr"
   ]
  },
  {
   "cell_type": "code",
   "execution_count": 17,
   "metadata": {},
   "outputs": [],
   "source": [
    "#np.asarray([[0*m, 3*m]], like=m)"
   ]
  },
  {
   "cell_type": "code",
   "execution_count": 7,
   "metadata": {},
   "outputs": [
    {
     "data": {
      "text/latex": [
       "[[0. 3.]\n",
       " [0. 3.]]$\\,m$"
      ],
      "text/plain": [
       "<Quantity : [[0 3]\n",
       " [0 3]] m>"
      ]
     },
     "execution_count": 7,
     "metadata": {},
     "output_type": "execute_result"
    }
   ],
   "source": [
    "arr = asqarray([[0*m, length],[0*m, length]])\n",
    "arr"
   ]
  },
  {
   "cell_type": "code",
   "execution_count": 8,
   "metadata": {},
   "outputs": [
    {
     "data": {
      "text/plain": [
       "[[<Quantity : 0 m, symbol=m*UndefinedSymbol>,\n",
       "  <Quantity : 2 m, symbol=m*UndefinedSymbol>],\n",
       " [<Quantity : 2 m, symbol=m*UndefinedSymbol>,\n",
       "  <Quantity : 2 m, symbol=m*UndefinedSymbol>]]"
      ]
     },
     "execution_count": 8,
     "metadata": {},
     "output_type": "execute_result"
    }
   ],
   "source": [
    "list([[0*m, 2*m], [2*m, 2*m]])"
   ]
  },
  {
   "cell_type": "code",
   "execution_count": 9,
   "metadata": {},
   "outputs": [
    {
     "data": {
      "text/plain": [
       "array(0)"
      ]
     },
     "execution_count": 9,
     "metadata": {},
     "output_type": "execute_result"
    }
   ],
   "source": [
    "np.array(0*m)"
   ]
  },
  {
   "cell_type": "code",
   "execution_count": 12,
   "metadata": {},
   "outputs": [
    {
     "name": "stdout",
     "output_type": "stream",
     "text": [
      "22.6 µs ± 1.54 µs per loop (mean ± std. dev. of 7 runs, 10000 loops each)\n",
      "11.6 µs ± 87.3 ns per loop (mean ± std. dev. of 7 runs, 100000 loops each)\n"
     ]
    }
   ],
   "source": [
    "%timeit asqarray([0*m, 2*m])\n",
    "%timeit [0, 2]*m"
   ]
  },
  {
   "cell_type": "code",
   "execution_count": 13,
   "metadata": {},
   "outputs": [],
   "source": [
    "a = [[0*m, 2*m]]"
   ]
  },
  {
   "cell_type": "code",
   "execution_count": null,
   "metadata": {},
   "outputs": [],
   "source": [
    "from collections.abc import Sequence, Iterator\n",
    "from itertools import tee, chain\n",
    "\n",
    "def is_shape_consistent(lst: Iterator):\n",
    "    \"\"\"\n",
    "    check if all the elements of a nested list have the same\n",
    "    shape.\n",
    "\n",
    "    first check the 'top level' of the given lst, then flatten\n",
    "    it by one level and recursively check that.\n",
    "\n",
    "    :param lst:\n",
    "    :return:\n",
    "    \"\"\"\n",
    "\n",
    "    lst0, lst1 = tee(lst, 2)\n",
    "\n",
    "    try:\n",
    "        item0 = next(lst0)\n",
    "    except StopIteration:\n",
    "        return True\n",
    "    is_seq = isinstance(item0, Sequence)\n",
    "\n",
    "    if not all(is_seq == isinstance(item, Sequence) for item in lst0):\n",
    "        return False\n",
    "\n",
    "    if not is_seq:\n",
    "        return True\n",
    "\n",
    "    return is_shape_consistent(chain(*lst1))"
   ]
  }
 ],
 "metadata": {
  "jupytext": {
   "text_representation": {
    "extension": ".py",
    "format_name": "percent",
    "format_version": "1.3",
    "jupytext_version": "1.13.2"
   }
  },
  "kernelspec": {
   "display_name": "Python 3 (ipykernel)",
   "language": "python",
   "name": "python3"
  },
  "language_info": {
   "codemirror_mode": {
    "name": "ipython",
    "version": 3
   },
   "file_extension": ".py",
   "mimetype": "text/x-python",
   "name": "python",
   "nbconvert_exporter": "python",
   "pygments_lexer": "ipython3",
   "version": "3.9.7"
  }
 },
 "nbformat": 4,
 "nbformat_minor": 4
}
