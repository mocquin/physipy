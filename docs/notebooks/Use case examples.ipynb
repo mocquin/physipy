{
 "cells": [
  {
   "cell_type": "code",
   "execution_count": 1,
   "id": "6a8acd81-9e22-41a1-9cca-9c7f39a5521d",
   "metadata": {},
   "outputs": [
    {
     "name": "stderr",
     "output_type": "stream",
     "text": [
      "/Users/mocquin/MYLIB10/MODULES/physipy/physipy/quantity/quantity.py:751: UserWarning: The unit of the quantity is stripped for __array_struct__\n",
      "  warnings.warn(f\"The unit of the quantity is stripped for {item}\")\n"
     ]
    },
    {
     "data": {
      "text/plain": [
       "[<mpl_toolkits.mplot3d.art3d.Line3D at 0x7fc65ff891f0>]"
      ]
     },
     "execution_count": 1,
     "metadata": {},
     "output_type": "execute_result"
    }
   ],
   "source": [
    "import numpy as np\n",
    "from physipy import constants\n",
    "from physipy import units, m, s, K, sr\n",
    "from physipy.quantity.utils import check_dimension\n",
    "import matplotlib.pyplot as plt\n",
    "import matplotlib.cm\n",
    "%matplotlib qt\n",
    "\n",
    "c = constants[\"c\"]\n",
    "h = constants[\"h\"]\n",
    "kB = constants['k']\n",
    "mum = units[\"mum\"]\n",
    "W = units[\"W\"]\n",
    "\n",
    "\n",
    "@check_dimension([mum, K], W/m**2/sr/m)\n",
    "def planck(lmbda, T): return 2/sr*h*c**2/lmbda**5 * 1/(np.exp(h*c/(lmbda*kB*T))-1)\n",
    "\n",
    "N_lmbda = 300\n",
    "\n",
    "Ts_     = np.linspace(273-40, 273+80, num=3) * K\n",
    "lmbdas_ = np.linspace(0.1, 40, num=N_lmbda) * mum\n",
    "\n",
    "lmbdas, Ts = np.meshgrid(lmbdas_, Ts_)\n",
    "\n",
    "lums = planck(lmbdas, Ts)\n",
    "\n",
    "fig, ax = plt.subplots()\n",
    "ax.imshow(lums, interpolation='none', extent=[lmbdas.min(), lmbdas.max(), Ts.min(), Ts.max()])\n",
    "ax.set_xlabel('')\n",
    "ax.set_aspect('auto')\n",
    "fig.tight_layout()\n",
    "\n",
    "from mpl_toolkits.mplot3d import axes3d\n",
    "fig, ax = plt.subplots(subplot_kw={\"projection\": \"3d\", 'proj_type':\"ortho\"})\n",
    "\n",
    "X = ((Ts-np.min(Ts))/(np.max(Ts)-np.min(Ts)))\n",
    "colors = matplotlib.pyplot.cm.magma(X)\n",
    "\n",
    "stride = 1\n",
    "ax.plot_surface(lmbdas.value, Ts.value, lums.value,\n",
    "                 rstride=stride, cstride=stride,\n",
    "                  facecolors=colors,\n",
    "                shade=False, linewidth=0,\n",
    "                 )\n",
    "ax.set_ylabel('$T$')\n",
    "ax.set_xlabel('$\\lambda$')\n",
    "ax.set_zlabel(\"$Lum_{\\lambda}$\")\n",
    "\n",
    "xs = lmbdas_\n",
    "ys = np.repeat(Ts_[0], N_lmbda)\n",
    "zs = planck(xs, ys)\n",
    "ax.plot(xs.value, ys.value, zs.value, color=\"red\", linewidth=5)"
   ]
  },
  {
   "cell_type": "code",
   "execution_count": 2,
   "id": "8f65bdf0-df69-406b-afc6-a59e41530ebf",
   "metadata": {},
   "outputs": [
    {
     "name": "stdout",
     "output_type": "stream",
     "text": [
      "47.80199124404681 W/m**2/sr 47.8020268345067 W/m**2/sr\n"
     ]
    }
   ],
   "source": [
    "integ_trapz = np.trapz(zs, x=lmbdas_).iinto(W/m**2/sr)\n",
    "\n",
    "import physipy.integrate\n",
    "\n",
    "integ_quad = physipy.integrate.quad(lambda lmbda:planck(lmbda, Ts_[0]), 0.1*mum, 40*mum)[0].iinto(W/m**2/sr)\n",
    "print(integ_trapz, integ_quad)"
   ]
  }
 ],
 "metadata": {
  "jupytext": {
   "text_representation": {
    "extension": ".py",
    "format_name": "percent",
    "format_version": "1.3",
    "jupytext_version": "1.13.4"
   }
  },
  "kernelspec": {
   "display_name": "Python 3 (ipykernel)",
   "language": "python",
   "name": "python3"
  },
  "language_info": {
   "codemirror_mode": {
    "name": "ipython",
    "version": 3
   },
   "file_extension": ".py",
   "mimetype": "text/x-python",
   "name": "python",
   "nbconvert_exporter": "python",
   "pygments_lexer": "ipython3",
   "version": "3.9.7"
  }
 },
 "nbformat": 4,
 "nbformat_minor": 5
}
