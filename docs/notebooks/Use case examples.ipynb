{
 "cells": [
  {
   "cell_type": "code",
   "execution_count": null,
   "id": "4f276438-6062-4a6e-88ce-0bb70b506bee",
   "metadata": {},
   "outputs": [],
   "source": [
    "import numpy as np\n",
    "from physipy import units, m, s, K\n",
    "\n",
    "Hz = units['Hz']\n",
    "\n",
    "# defines variables\n",
    "a = np.random.randn(10, 10) * s\n",
    "b = 6.75*np.pi * 1/Hz\n",
    "c = a**2 /b**0.5\n",
    "\n",
    "np.sum(c)"
   ]
  }
 ],
 "metadata": {
  "jupytext": {
   "text_representation": {
    "extension": ".py",
    "format_name": "percent",
    "format_version": "1.3",
    "jupytext_version": "1.13.4"
   }
  },
  "kernelspec": {
   "display_name": "Python 3 (ipykernel)",
   "language": "python",
   "name": "python3"
  },
  "language_info": {
   "codemirror_mode": {
    "name": "ipython",
    "version": 3
   },
   "file_extension": ".py",
   "mimetype": "text/x-python",
   "name": "python",
   "nbconvert_exporter": "python",
   "pygments_lexer": "ipython3",
   "version": "3.9.7"
  }
 },
 "nbformat": 4,
 "nbformat_minor": 5
}
