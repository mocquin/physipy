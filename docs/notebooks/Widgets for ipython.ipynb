{
 "cells": [
  {
   "cell_type": "markdown",
   "metadata": {},
   "source": [
    "# Quickstart of available widgets "
   ]
  },
  {
   "cell_type": "code",
   "execution_count": null,
   "metadata": {},
   "outputs": [],
   "source": [
    "import ipywidgets as ipyw\n",
    "from numpy import pi\n",
    "\n",
    "from physipy import m, s, Quantity, Dimension, rad, units\n",
    "from physipy.qwidgets.qipywidgets import (\n",
    "    QuantityText, \n",
    "    QuantitySlider, \n",
    "    QuantityTextSlider,\n",
    "    QuantityRangeSlider,\n",
    "    FavunitDropdown,\n",
    "    QuantityTextWithFavunitDropdown\n",
    ")\n",
    "\n",
    "mm = units[\"mm\"]\n",
    "a = 4*m\n",
    "a.favunit = mm"
   ]
  },
  {
   "cell_type": "code",
   "execution_count": 2,
   "metadata": {
    "lines_to_next_cell": 2
   },
   "outputs": [
    {
     "data": {
      "application/vnd.jupyter.widget-view+json": {
       "model_id": "178e3d69ce654f31bb83256cea17b401",
       "version_major": 2,
       "version_minor": 0
      },
      "text/plain": [
       "VBox(children=(QuantityText(value=<Quantity : 4 m, symbol=m*UndefinedSymbol>, children=(Text(value='4.0 m', de…"
      ]
     },
     "metadata": {},
     "output_type": "display_data"
    }
   ],
   "source": [
    "# Text area\n",
    "qt = QuantityText(a, description=\"Text\")\n",
    "# Slider\n",
    "qs = QuantitySlider(a**2, description=\"Slider\")\n",
    "# Linked Text-Slider\n",
    "qts = QuantityTextSlider(a**0.5, description=\"Text-Slider\")\n",
    "# Range slider\n",
    "qrs = QuantityRangeSlider(a, 10*a, label=True, description=\"Range-Slider\")\n",
    "# Dropdown\n",
    "favunit_dd = FavunitDropdown()\n",
    "# Quantity text with Favunit dropdown\n",
    "qt_wfavunit = QuantityTextWithFavunitDropdown(a**2)\n",
    "\n",
    "ipyw.VBox([\n",
    "    qt, \n",
    "    qs,\n",
    "    qts,\n",
    "    qrs,\n",
    "    favunit_dd,\n",
    "    qt_wfavunit,\n",
    "])"
   ]
  },
  {
   "cell_type": "markdown",
   "metadata": {},
   "source": [
    "For most widgets, a \"Fixed-Dimension\" version is available, prefixed \"FD\". Once defined, you can't change the value to a quantity with another dimension."
   ]
  },
  {
   "cell_type": "markdown",
   "metadata": {},
   "source": [
    "Functionnalitities : \n",
    " - VBoxing, HBoxing : `ipyw.VBox([qw, qw])`\n",
    " - interact with abbreviation : `interact(3*m)`\n",
    " - interact with widget : `interact(QuantityText(3*m))`\n",
    " - interactive : `w = ipyw.interactive(slow_function, i=qs)`\n",
    " - interactive_output : `out = ipyw.interactive_output(f, {'a': wa, 'b': wb, 'c': wc})`\n",
    " - observe : \n",
    " - link : `mylink = ipyw.link((qw1, 'value'), (qw2, 'value'))`\n",
    " - jslink : `mylink = ipyw.jslink((qw1, 'value'), (qw2, 'value'))`"
   ]
  },
  {
   "cell_type": "markdown",
   "metadata": {},
   "source": [
    "# Text"
   ]
  },
  {
   "cell_type": "markdown",
   "metadata": {},
   "source": [
    "2 types that inherit from QuantityText : \n",
    " - free QuantityText\n",
    " - Fixed-dimension \"FDQuantityText\""
   ]
  },
  {
   "cell_type": "markdown",
   "metadata": {},
   "source": [
    "## QuantityText\n",
    "Basically a text area that will parse python expression into a numerical physical Quantity. It can be dimensionless (like 5 or 2\\*pi), and can be of any dimension at any time:"
   ]
  },
  {
   "cell_type": "code",
   "execution_count": 5,
   "metadata": {},
   "outputs": [
    {
     "data": {
      "application/vnd.jupyter.widget-view+json": {
       "model_id": "6798f8560990452bade0bd9bf7458e13",
       "version_major": 2,
       "version_minor": 0
      },
      "text/plain": [
       "QuantityText(value=<Quantity : 0.0 >, children=(Text(value='0.0 -', description='Quantity:', layout=Layout(bor…"
      ]
     },
     "metadata": {},
     "output_type": "display_data"
    }
   ],
   "source": [
    "w = QuantityText()\n",
    "w"
   ]
  },
  {
   "cell_type": "markdown",
   "metadata": {},
   "source": [
    "A QuantityText has typical attributes of a widget and a Quantity, except the `value` is the actual Quantity, not the value of the Quantity : "
   ]
  },
  {
   "cell_type": "code",
   "execution_count": 6,
   "metadata": {},
   "outputs": [
    {
     "name": "stdout",
     "output_type": "stream",
     "text": [
      "0.0 -\n",
      "0.0\n",
      "False\n"
     ]
    }
   ],
   "source": [
    "print(w.value)\n",
    "print(w.value.value)\n",
    "#print(w.description)\n",
    "print(w.fixed_dimension)"
   ]
  },
  {
   "cell_type": "code",
   "execution_count": 7,
   "metadata": {},
   "outputs": [
    {
     "name": "stdout",
     "output_type": "stream",
     "text": [
      "0.0 -\n"
     ]
    }
   ],
   "source": [
    "print(w.value)\n",
    "#print(w.description)"
   ]
  },
  {
   "cell_type": "code",
   "execution_count": 8,
   "metadata": {},
   "outputs": [
    {
     "name": "stdout",
     "output_type": "stream",
     "text": [
      "0.0 -\n"
     ]
    }
   ],
   "source": [
    "print(w.value)\n",
    "#print(w.description)"
   ]
  },
  {
   "cell_type": "markdown",
   "metadata": {},
   "source": [
    "With custom description : "
   ]
  },
  {
   "cell_type": "code",
   "execution_count": 9,
   "metadata": {},
   "outputs": [
    {
     "data": {
      "application/vnd.jupyter.widget-view+json": {
       "model_id": "d75276d94fa3497d8ed3fc0dbc8ffe8c",
       "version_major": 2,
       "version_minor": 0
      },
      "text/plain": [
       "QuantityText(value=<Quantity : 0.0 >, children=(Text(value='0.0 -', description='Weight', layout=Layout(border…"
      ]
     },
     "metadata": {},
     "output_type": "display_data"
    }
   ],
   "source": [
    "QuantityText(description=\"Weight\")"
   ]
  },
  {
   "cell_type": "markdown",
   "metadata": {},
   "source": [
    "With init value"
   ]
  },
  {
   "cell_type": "code",
   "execution_count": 10,
   "metadata": {},
   "outputs": [
    {
     "data": {
      "application/vnd.jupyter.widget-view+json": {
       "model_id": "d53ed1f61bb648fcb6639ee5cefb3419",
       "version_major": 2,
       "version_minor": 0
      },
      "text/plain": [
       "QuantityText(value=<Quantity : 6.283185307179586 s, symbol=s*UndefinedSymbol>, children=(Text(value='0.6283185…"
      ]
     },
     "metadata": {},
     "output_type": "display_data"
    }
   ],
   "source": [
    "w = QuantityText(2*pi*s)\n",
    "w"
   ]
  },
  {
   "cell_type": "code",
   "execution_count": 11,
   "metadata": {},
   "outputs": [
    {
     "data": {
      "application/vnd.jupyter.widget-view+json": {
       "model_id": "5a7dcf0a99a74418a1e58415b00dffd9",
       "version_major": 2,
       "version_minor": 0
      },
      "text/plain": [
       "QuantityText(value=<Quantity : 6.283185307179586 rad, symbol=rad*UndefinedSymbol>, children=(Text(value='0.628…"
      ]
     },
     "metadata": {},
     "output_type": "display_data"
    }
   ],
   "source": [
    "QuantityText(2*pi*rad, description=\"Angle\")"
   ]
  },
  {
   "cell_type": "markdown",
   "metadata": {},
   "source": [
    "A `fixed_dimension` attribute can be set to allow change of dimension. By default is false, and so dimension can be changed"
   ]
  },
  {
   "cell_type": "code",
   "execution_count": 12,
   "metadata": {},
   "outputs": [
    {
     "name": "stdout",
     "output_type": "stream",
     "text": [
      "False\n"
     ]
    },
    {
     "data": {
      "application/vnd.jupyter.widget-view+json": {
       "model_id": "68db3ca207704c56bf8b78e1490aefd7",
       "version_major": 2,
       "version_minor": 0
      },
      "text/plain": [
       "QuantityText(value=<Quantity : 6.283185307179586 s, symbol=s*UndefinedSymbol>, children=(Text(value='0.6283185…"
      ]
     },
     "metadata": {},
     "output_type": "display_data"
    }
   ],
   "source": [
    "# start with seconds ...\n",
    "a = QuantityText(2*pi*s)\n",
    "print(a.fixed_dimension)\n",
    "a"
   ]
  },
  {
   "cell_type": "code",
   "execution_count": 13,
   "metadata": {},
   "outputs": [
    {
     "name": "stdout",
     "output_type": "stream",
     "text": [
      "0.2 das*rad/s\n",
      "False\n"
     ]
    }
   ],
   "source": [
    "# ... then change into radians\n",
    "a.value = 2*rad\n",
    "print(a.value)\n",
    "print(a.fixed_dimension)"
   ]
  },
  {
   "cell_type": "code",
   "execution_count": 14,
   "metadata": {},
   "outputs": [
    {
     "data": {
      "application/vnd.jupyter.widget-view+json": {
       "model_id": "ea420cb49e8e4fdea31da4654279b194",
       "version_major": 2,
       "version_minor": 0
      },
      "text/plain": [
       "QuantityText(value=<Quantity : 6.283185307179586 s, symbol=s*UndefinedSymbol>, children=(Text(value='0.6283185…"
      ]
     },
     "metadata": {},
     "output_type": "display_data"
    }
   ],
   "source": [
    "# if fixed_dimension=True ...\n",
    "b = QuantityText(2*pi*s, fixed_dimension=True)\n",
    "b"
   ]
  },
  {
   "cell_type": "code",
   "execution_count": 15,
   "metadata": {},
   "outputs": [
    {
     "name": "stdout",
     "output_type": "stream",
     "text": [
      "b.fixed_dimension = True , hence Quantity must be same dimension.\n"
     ]
    }
   ],
   "source": [
    "# ... cannot be changed\n",
    "try:\n",
    "    b.value = 2*m\n",
    "except:\n",
    "    print(\"b.fixed_dimension =\", b.fixed_dimension,\n",
    "          \", hence Quantity must be same dimension.\")"
   ]
  },
  {
   "cell_type": "code",
   "execution_count": 16,
   "metadata": {},
   "outputs": [
    {
     "data": {
      "application/vnd.jupyter.widget-view+json": {
       "model_id": "26974eb60cb240af8492fcc4ff37876d",
       "version_major": 2,
       "version_minor": 0
      },
      "text/plain": [
       "QuantityTextSlider(value=<Quantity : 3 m, symbol=m*UndefinedSymbol>, children=(QuantitySlider(value=<Quantity …"
      ]
     },
     "metadata": {},
     "output_type": "display_data"
    }
   ],
   "source": [
    "# handle favunit\n",
    "a = 3*m\n",
    "a.favunit = mm\n",
    "w = QuantityTextSlider(a)\n",
    "w"
   ]
  },
  {
   "cell_type": "code",
   "execution_count": 17,
   "metadata": {},
   "outputs": [
    {
     "data": {
      "application/vnd.jupyter.widget-view+json": {
       "model_id": "e5fbb951c78d45e7b4649cc46dceea4e",
       "version_major": 2,
       "version_minor": 0
      },
      "text/plain": [
       "QuantityTextSlider(value=<Quantity : 3 m, symbol=m*UndefinedSymbol>, children=(QuantitySlider(value=<Quantity …"
      ]
     },
     "metadata": {},
     "output_type": "display_data"
    }
   ],
   "source": [
    "w = QuantityTextSlider(3*m)\n",
    "w"
   ]
  },
  {
   "cell_type": "code",
   "execution_count": 18,
   "metadata": {},
   "outputs": [
    {
     "data": {
      "application/vnd.jupyter.widget-view+json": {
       "model_id": "e5fbb951c78d45e7b4649cc46dceea4e",
       "version_major": 2,
       "version_minor": 0
      },
      "text/plain": [
       "QuantityTextSlider(value=<Quantity : 3 m, symbol=m*UndefinedSymbol>, children=(QuantitySlider(value=<Quantity …"
      ]
     },
     "metadata": {},
     "output_type": "display_data"
    }
   ],
   "source": [
    "w.qslider.favunit = mm\n",
    "w"
   ]
  },
  {
   "cell_type": "markdown",
   "metadata": {},
   "source": [
    "# Fixed-Dimension QuantityText\n",
    "A QuantityText that will set a dimension at creation, and not allow any other dimension:"
   ]
  },
  {
   "cell_type": "markdown",
   "metadata": {},
   "source": [
    "A fixed-dimensionless quantity : (trying to set a quantity with another dimension will be ignored : example : type in '5\\*m' then Enter)"
   ]
  },
  {
   "cell_type": "code",
   "execution_count": 19,
   "metadata": {},
   "outputs": [
    {
     "data": {
      "application/vnd.jupyter.widget-view+json": {
       "model_id": "75f0fad54411498aa29ee821c5898346",
       "version_major": 2,
       "version_minor": 0
      },
      "text/plain": [
       "FDQuantityText(value=<Quantity : 0.0 >, children=(Text(value='0.0 -', description='Quantity:', layout=Layout(b…"
      ]
     },
     "metadata": {},
     "output_type": "display_data"
    }
   ],
   "source": [
    "from numpy import pi\n",
    "from physipy import m\n",
    "from physipy.qwidgets.qipywidgets import FDQuantityText\n",
    "# init at value 0, then change its value and print\n",
    "w2 = FDQuantityText()\n",
    "w2"
   ]
  },
  {
   "cell_type": "code",
   "execution_count": 20,
   "metadata": {},
   "outputs": [
    {
     "name": "stdout",
     "output_type": "stream",
     "text": [
      "0.0 -\n"
     ]
    }
   ],
   "source": [
    "print(w2.value)"
   ]
  },
  {
   "cell_type": "markdown",
   "metadata": {},
   "source": [
    "A fixed-length quantity :"
   ]
  },
  {
   "cell_type": "code",
   "execution_count": 21,
   "metadata": {},
   "outputs": [
    {
     "data": {
      "application/vnd.jupyter.widget-view+json": {
       "model_id": "41f86582fd1b480ba8a4e32f8a9fdb7d",
       "version_major": 2,
       "version_minor": 0
      },
      "text/plain": [
       "FDQuantityText(value=<Quantity : 3.141592653589793 m, symbol=m*UndefinedSymbol>, children=(Text(value='3.14159…"
      ]
     },
     "metadata": {},
     "output_type": "display_data"
    }
   ],
   "source": [
    "# create with a length, then only another can be set\n",
    "w3 = FDQuantityText(pi*m)\n",
    "w3\n",
    "# try setting a quantity with another dimension -->"
   ]
  },
  {
   "cell_type": "code",
   "execution_count": 22,
   "metadata": {},
   "outputs": [
    {
     "name": "stdout",
     "output_type": "stream",
     "text": [
      "3.141592653589793 m\n"
     ]
    }
   ],
   "source": [
    "print(w3.value)"
   ]
  },
  {
   "cell_type": "markdown",
   "metadata": {},
   "source": [
    "# Testing with QuantityText"
   ]
  },
  {
   "cell_type": "markdown",
   "metadata": {},
   "source": [
    "## interact without abbreviation"
   ]
  },
  {
   "cell_type": "markdown",
   "metadata": {},
   "source": [
    "The `QuantityText` widget can be passed to `ipywidgets.interact` decorator : "
   ]
  },
  {
   "cell_type": "code",
   "execution_count": 23,
   "metadata": {},
   "outputs": [
    {
     "data": {
      "application/vnd.jupyter.widget-view+json": {
       "model_id": "36953d80eb00497794e71550c807f464",
       "version_major": 2,
       "version_minor": 0
      },
      "text/plain": [
       "interactive(children=(QuantityText(value=<Quantity : 2 m, symbol=m*UndefinedSymbol>, children=(Text(value='2.0…"
      ]
     },
     "metadata": {},
     "output_type": "display_data"
    }
   ],
   "source": [
    "# define widget\n",
    "qs = QuantityText(2*m)\n",
    "\n",
    "# define function\n",
    "\n",
    "\n",
    "def toto(x):\n",
    "    return str(x*2)\n",
    "\n",
    "\n",
    "# wrap function with interact and pass widget\n",
    "res = ipyw.interact(toto, x=qs);"
   ]
  },
  {
   "cell_type": "markdown",
   "metadata": {},
   "source": [
    "Or equivalently using the decorator notation"
   ]
  },
  {
   "cell_type": "code",
   "execution_count": 22,
   "metadata": {},
   "outputs": [
    {
     "data": {
      "application/vnd.jupyter.widget-view+json": {
       "model_id": "a65773bc7d9240abba5d16c4b933b0e6",
       "version_major": 2,
       "version_minor": 0
      },
      "text/plain": [
       "interactive(children=(QuantityText(value=<Quantity : 2 m, symbol=UndefinedSymbol*m>, children=(Text(value='2 m…"
      ]
     },
     "metadata": {},
     "output_type": "display_data"
    }
   ],
   "source": [
    "# equivalently\n",
    "@ipyw.interact(x=qs)\n",
    "def toto(x):\n",
    "    return str(x*2)"
   ]
  },
  {
   "cell_type": "markdown",
   "metadata": {},
   "source": [
    "## boxing\n",
    "The `QuantityText` can wrapped in any `ipywidgets.Box` : "
   ]
  },
  {
   "cell_type": "code",
   "execution_count": 23,
   "metadata": {},
   "outputs": [
    {
     "data": {
      "application/vnd.jupyter.widget-view+json": {
       "model_id": "fbbc2bd80b724c63bb3fec0fee5ac42c",
       "version_major": 2,
       "version_minor": 0
      },
      "text/plain": [
       "VBox(children=(QuantityText(value=<Quantity : 2 m, symbol=UndefinedSymbol*m>, children=(Text(value='2 m', desc…"
      ]
     },
     "metadata": {},
     "output_type": "display_data"
    }
   ],
   "source": [
    "# define widget\n",
    "qs = QuantityText(2*m)\n",
    "\n",
    "# wrap widget in VBox\n",
    "ipyw.VBox([qs, qs])"
   ]
  },
  {
   "cell_type": "markdown",
   "metadata": {},
   "source": [
    "## interactive\n",
    "The `QuantityText` can used with the `ipywidgets.interactive` decorator. The interactive widget returns a widget containing the result of the function in w.result."
   ]
  },
  {
   "cell_type": "code",
   "execution_count": 24,
   "metadata": {},
   "outputs": [],
   "source": [
    "# interact without abbreviation\n",
    "qs = QuantityText(2*m)\n",
    "\n",
    "# define function\n",
    "\n",
    "\n",
    "def slow_function(i):\n",
    "    \"\"\"\n",
    "    Sleep for 1 second then print the argument\n",
    "    \"\"\"\n",
    "    from time import sleep\n",
    "    print('Sleeping...')\n",
    "    sleep(1)\n",
    "    print(i)\n",
    "    print(2*i)\n",
    "    return i*2\n",
    "\n",
    "\n",
    "# wrap function with widget\n",
    "w = ipyw.interactive(slow_function, i=qs)"
   ]
  },
  {
   "cell_type": "code",
   "execution_count": 25,
   "metadata": {},
   "outputs": [
    {
     "data": {
      "application/vnd.jupyter.widget-view+json": {
       "model_id": "e3b3b154d2d24c3d8681d814ad735c50",
       "version_major": 2,
       "version_minor": 0
      },
      "text/plain": [
       "interactive(children=(QuantityText(value=<Quantity : 2 m, symbol=UndefinedSymbol*m>, children=(Text(value='2 m…"
      ]
     },
     "metadata": {},
     "output_type": "display_data"
    }
   ],
   "source": [
    "w"
   ]
  },
  {
   "cell_type": "code",
   "execution_count": 26,
   "metadata": {},
   "outputs": [
    {
     "data": {
      "text/latex": [
       "$4.0\\,m$"
      ],
      "text/plain": [
       "<Quantity : 4 m, symbol=UndefinedSymbol**2*m>"
      ]
     },
     "execution_count": 26,
     "metadata": {},
     "output_type": "execute_result"
    }
   ],
   "source": [
    "w.result"
   ]
  },
  {
   "cell_type": "markdown",
   "metadata": {},
   "source": [
    "## interact manual"
   ]
  },
  {
   "cell_type": "code",
   "execution_count": 27,
   "metadata": {},
   "outputs": [
    {
     "data": {
      "application/vnd.jupyter.widget-view+json": {
       "model_id": "8c2dc47ce6504e2f8b3736537deee584",
       "version_major": 2,
       "version_minor": 0
      },
      "text/plain": [
       "interactive(children=(QuantityText(value=<Quantity : 2 m, symbol=UndefinedSymbol*m>, children=(Text(value='2 m…"
      ]
     },
     "metadata": {},
     "output_type": "display_data"
    }
   ],
   "source": [
    "qs = QuantityText(2*m)\n",
    "\n",
    "\n",
    "def slow_function(i):\n",
    "    \"\"\"\n",
    "    Sleep for 1 second then print the argument\n",
    "    \"\"\"\n",
    "    from time import sleep\n",
    "    print('Sleeping...')\n",
    "    sleep(1)\n",
    "    print(i)\n",
    "\n",
    "\n",
    "decorated_slow_function = ipyw.interact_manual(slow_function, i=qs)"
   ]
  },
  {
   "cell_type": "markdown",
   "metadata": {},
   "source": [
    "## interactive output\n",
    "\n",
    "Build complete UI using QuantityText for inputs, and outputs, and wrap with interactive_outputs:"
   ]
  },
  {
   "cell_type": "code",
   "execution_count": 28,
   "metadata": {},
   "outputs": [],
   "source": [
    "# inputs widgets\n",
    "wa = QuantityText(2*m)\n",
    "wb = QuantityText(2*m)\n",
    "wc = QuantityText(2*m)\n",
    "\n",
    "# An HBox lays out its children horizontally\n",
    "ui = ipyw.VBox([wa, wb, wc])\n",
    "\n",
    "# define function\n",
    "\n",
    "\n",
    "def f(a, b, c):\n",
    "    # You can use print here instead of display because interactive_output generates a normal notebook\n",
    "    # output area.\n",
    "    print((a, b, c))\n",
    "    res = a*b/c\n",
    "    print(res)\n",
    "    display(res)\n",
    "    return res\n",
    "\n",
    "\n",
    "# create output widget\n",
    "out = ipyw.interactive_output(f, {'a': wa, 'b': wb, 'c': wc})"
   ]
  },
  {
   "cell_type": "code",
   "execution_count": 29,
   "metadata": {},
   "outputs": [
    {
     "data": {
      "application/vnd.jupyter.widget-view+json": {
       "model_id": "ad81be231c4f48bc9c89feaf52785c29",
       "version_major": 2,
       "version_minor": 0
      },
      "text/plain": [
       "VBox(children=(QuantityText(value=<Quantity : 2 m, symbol=UndefinedSymbol*m>, children=(Text(value='2 m', desc…"
      ]
     },
     "metadata": {},
     "output_type": "display_data"
    },
    {
     "data": {
      "application/vnd.jupyter.widget-view+json": {
       "model_id": "5a3b0b95641749f1beab43ecdc7e218e",
       "version_major": 2,
       "version_minor": 0
      },
      "text/plain": [
       "Output()"
      ]
     },
     "metadata": {},
     "output_type": "display_data"
    }
   ],
   "source": [
    "# display full UI\n",
    "display(ui, out)"
   ]
  },
  {
   "cell_type": "code",
   "execution_count": 30,
   "metadata": {},
   "outputs": [],
   "source": [
    "wb.value = 12*m"
   ]
  },
  {
   "cell_type": "markdown",
   "metadata": {},
   "source": [
    "## link\n",
    "Support linking :"
   ]
  },
  {
   "cell_type": "code",
   "execution_count": 31,
   "metadata": {},
   "outputs": [],
   "source": [
    "qw1 = QuantityText(2*m)\n",
    "qw2 = QuantityText(2*m)\n",
    "\n",
    "# create link\n",
    "mylink = ipyw.link((qw1, 'value'), (qw2, 'value'))"
   ]
  },
  {
   "cell_type": "code",
   "execution_count": 32,
   "metadata": {},
   "outputs": [
    {
     "data": {
      "application/vnd.jupyter.widget-view+json": {
       "model_id": "a65729e3b9ef4a8cbca090dea5699e82",
       "version_major": 2,
       "version_minor": 0
      },
      "text/plain": [
       "QuantityText(value=<Quantity : 2 m, symbol=UndefinedSymbol*m>, children=(Text(value='2 m', description='Quanti…"
      ]
     },
     "metadata": {},
     "output_type": "display_data"
    }
   ],
   "source": [
    "qw1"
   ]
  },
  {
   "cell_type": "code",
   "execution_count": 33,
   "metadata": {},
   "outputs": [
    {
     "data": {
      "application/vnd.jupyter.widget-view+json": {
       "model_id": "4dbacca49249402ebf9d07a0f894be93",
       "version_major": 2,
       "version_minor": 0
      },
      "text/plain": [
       "QuantityText(value=<Quantity : 2 m, symbol=UndefinedSymbol*m>, children=(Text(value='2 m', description='Quanti…"
      ]
     },
     "metadata": {},
     "output_type": "display_data"
    }
   ],
   "source": [
    "qw2"
   ]
  },
  {
   "cell_type": "markdown",
   "metadata": {},
   "source": [
    "## observe"
   ]
  },
  {
   "cell_type": "code",
   "execution_count": 34,
   "metadata": {
    "lines_to_next_cell": 0
   },
   "outputs": [],
   "source": [
    "# create widget\n",
    "qw = QuantityText(2*m)\n",
    "\n",
    "# create text output that displays the widget value\n",
    "square_display = ipyw.HTML(description=\"Square: \",\n",
    "                           value='{}'.format(qw.value**2))\n",
    "\n",
    "# create observe link\n",
    "\n",
    "\n",
    "def update_square_display(change):\n",
    "    square_display.value = '{}'.format(change.new**2)\n",
    "\n",
    "\n",
    "qw.observe(update_square_display, names='value')"
   ]
  },
  {
   "cell_type": "code",
   "execution_count": 35,
   "metadata": {
    "lines_to_next_cell": 0
   },
   "outputs": [
    {
     "data": {
      "application/vnd.jupyter.widget-view+json": {
       "model_id": "f643c394af7f47a1aa32bf00445d10e5",
       "version_major": 2,
       "version_minor": 0
      },
      "text/plain": [
       "VBox(children=(QuantityText(value=<Quantity : 2 m, symbol=UndefinedSymbol*m>, children=(Text(value='2 m', desc…"
      ]
     },
     "metadata": {},
     "output_type": "display_data"
    }
   ],
   "source": [
    "# wrap input widget and text ouput\n",
    "ipyw.VBox([qw, square_display])"
   ]
  },
  {
   "cell_type": "markdown",
   "metadata": {},
   "source": [
    "# Sliders"
   ]
  },
  {
   "cell_type": "markdown",
   "metadata": {},
   "source": [
    "## Basic QuantitySlider"
   ]
  },
  {
   "cell_type": "markdown",
   "metadata": {},
   "source": [
    "For simplicity purpose, the dimension cannot be changed (`w4.min = 2\\*s` is not expected):"
   ]
  },
  {
   "cell_type": "code",
   "execution_count": 36,
   "metadata": {},
   "outputs": [],
   "source": [
    "from numpy import pi\n",
    "import ipywidgets as ipyw\n",
    "from physipy import units, m\n",
    "from physipy.qwidgets.qipywidgets import QuantitySlider\n",
    "mm = units[\"mm\"]"
   ]
  },
  {
   "cell_type": "code",
   "execution_count": 37,
   "metadata": {},
   "outputs": [
    {
     "data": {
      "application/vnd.jupyter.widget-view+json": {
       "model_id": "0cd969cfe8e04b25aac56a3e715dcd6e",
       "version_major": 2,
       "version_minor": 0
      },
      "text/plain": [
       "QuantitySlider(value=<Quantity : 3 m, symbol=UndefinedSymbol*m>, children=(FloatSlider(value=3.0, description=…"
      ]
     },
     "metadata": {},
     "output_type": "display_data"
    }
   ],
   "source": [
    "w4 = QuantitySlider(3*m)\n",
    "w4"
   ]
  },
  {
   "cell_type": "markdown",
   "metadata": {},
   "source": [
    "### Working with favunits\n",
    "By default, anytime a Quantity is passed with a favunit, it will be used to display"
   ]
  },
  {
   "cell_type": "code",
   "execution_count": 38,
   "metadata": {},
   "outputs": [
    {
     "data": {
      "application/vnd.jupyter.widget-view+json": {
       "model_id": "aa0a8d548f7e41418c49696504f356b6",
       "version_major": 2,
       "version_minor": 0
      },
      "text/plain": [
       "QuantitySlider(value=<Quantity : 3.141592653589793 m, symbol=UndefinedSymbol*m>, children=(FloatSlider(value=3…"
      ]
     },
     "metadata": {},
     "output_type": "display_data"
    }
   ],
   "source": [
    "q = pi*m\n",
    "q.favunit = mm\n",
    "\n",
    "w6 = QuantitySlider(q)\n",
    "w6"
   ]
  },
  {
   "cell_type": "markdown",
   "metadata": {},
   "source": [
    "### Disable label"
   ]
  },
  {
   "cell_type": "code",
   "execution_count": 39,
   "metadata": {},
   "outputs": [
    {
     "data": {
      "application/vnd.jupyter.widget-view+json": {
       "model_id": "acfa045599074e0f8551e8700e1921f3",
       "version_major": 2,
       "version_minor": 0
      },
      "text/plain": [
       "QuantitySlider(value=<Quantity : 3.141592653589793 m, symbol=UndefinedSymbol*m>, children=(FloatSlider(value=3…"
      ]
     },
     "metadata": {},
     "output_type": "display_data"
    }
   ],
   "source": [
    "w6 = QuantitySlider(q, label=False)\n",
    "w6"
   ]
  },
  {
   "cell_type": "code",
   "execution_count": 40,
   "metadata": {},
   "outputs": [
    {
     "name": "stdout",
     "output_type": "stream",
     "text": [
      "3141.592653589793 mm\n"
     ]
    }
   ],
   "source": [
    "print(w6.value)"
   ]
  },
  {
   "cell_type": "markdown",
   "metadata": {},
   "source": [
    "### observing"
   ]
  },
  {
   "cell_type": "markdown",
   "metadata": {},
   "source": [
    "Observing works (just not the VBoxing)"
   ]
  },
  {
   "cell_type": "code",
   "execution_count": 41,
   "metadata": {},
   "outputs": [
    {
     "data": {
      "application/vnd.jupyter.widget-view+json": {
       "model_id": "4fcb06c7a5a64c06bb052b8cbb63ed8e",
       "version_major": 2,
       "version_minor": 0
      },
      "text/plain": [
       "QuantitySlider(value=<Quantity : 7.5 m, symbol=UndefinedSymbol*m>, children=(FloatSlider(value=7.5, descriptio…"
      ]
     },
     "metadata": {},
     "output_type": "display_data"
    },
    {
     "data": {
      "application/vnd.jupyter.widget-view+json": {
       "model_id": "07b84a59fcaf4ed3a3230fe4ebf8a65a",
       "version_major": 2,
       "version_minor": 0
      },
      "text/plain": [
       "HTML(value='56.25 m**2', description='Square: ')"
      ]
     },
     "metadata": {},
     "output_type": "display_data"
    }
   ],
   "source": [
    "slider = QuantitySlider(value=7.5*m)\n",
    "\n",
    "# Create non-editable text area to display square of value\n",
    "square_display = ipyw.HTML(description=\"Square: \",\n",
    "                           value='{}'.format(slider.value**2))\n",
    "\n",
    "# Create function to update square_display's value when slider changes\n",
    "\n",
    "\n",
    "def update_square_display(change):\n",
    "    square_display.value = '{}'.format(change.new**2)\n",
    "\n",
    "\n",
    "slider.observe(update_square_display, names='value')\n",
    "\n",
    "# Put them in a vertical box\n",
    "display(slider, square_display)"
   ]
  },
  {
   "cell_type": "markdown",
   "metadata": {},
   "source": [
    "### boxing"
   ]
  },
  {
   "cell_type": "code",
   "execution_count": 42,
   "metadata": {},
   "outputs": [
    {
     "data": {
      "application/vnd.jupyter.widget-view+json": {
       "model_id": "94321161a6234857a92929443816f791",
       "version_major": 2,
       "version_minor": 0
      },
      "text/plain": [
       "VBox(children=(QuantitySlider(value=<Quantity : 7.5 m, symbol=UndefinedSymbol*m>, children=(FloatSlider(value=…"
      ]
     },
     "metadata": {},
     "output_type": "display_data"
    }
   ],
   "source": [
    "ipyw.VBox([slider, slider])"
   ]
  },
  {
   "cell_type": "markdown",
   "metadata": {},
   "source": [
    "### interactive output"
   ]
  },
  {
   "cell_type": "code",
   "execution_count": 43,
   "metadata": {},
   "outputs": [
    {
     "data": {
      "application/vnd.jupyter.widget-view+json": {
       "model_id": "916ec393c5f2419dad3d18a442ba33e2",
       "version_major": 2,
       "version_minor": 0
      },
      "text/plain": [
       "VBox(children=(QuantitySlider(value=<Quantity : 2 m, symbol=UndefinedSymbol*m>, children=(FloatSlider(value=2.…"
      ]
     },
     "metadata": {},
     "output_type": "display_data"
    },
    {
     "data": {
      "application/vnd.jupyter.widget-view+json": {
       "model_id": "6da1386c21fa4070904d9c64ed99099f",
       "version_major": 2,
       "version_minor": 0
      },
      "text/plain": [
       "Output()"
      ]
     },
     "metadata": {},
     "output_type": "display_data"
    }
   ],
   "source": [
    "# inputs widgets\n",
    "wa = QuantitySlider(2*m)\n",
    "wb = QuantitySlider(2*m)\n",
    "wc = QuantitySlider(2*m)\n",
    "\n",
    "# An HBox lays out its children horizontally\n",
    "ui = ipyw.VBox([wa, wb, wc])\n",
    "\n",
    "# define function\n",
    "\n",
    "\n",
    "def f(a, b, c):\n",
    "    # You can use print here instead of display because interactive_output generates a normal notebook\n",
    "    # output area.\n",
    "    #print((a, b, c))\n",
    "    res = a*b/c\n",
    "    # print(res)\n",
    "    display(res)\n",
    "    return res\n",
    "\n",
    "\n",
    "# create output widget\n",
    "out = ipyw.interactive_output(f, {'a': wa, 'b': wb, 'c': wc})\n",
    "\n",
    "display(ui, out)"
   ]
  },
  {
   "cell_type": "markdown",
   "metadata": {},
   "source": [
    "## QuantityTextSlider"
   ]
  },
  {
   "cell_type": "code",
   "execution_count": 44,
   "metadata": {},
   "outputs": [],
   "source": [
    "from physipy.qwidgets.qipywidgets import QuantityTextSlider\n",
    "import ipywidgets as ipyw"
   ]
  },
  {
   "cell_type": "code",
   "execution_count": 45,
   "metadata": {},
   "outputs": [
    {
     "data": {
      "application/vnd.jupyter.widget-view+json": {
       "model_id": "b563ce46a0fc428a879c0176cbea7f82",
       "version_major": 2,
       "version_minor": 0
      },
      "text/plain": [
       "QuantityTextSlider(value=<Quantity : 3 m, symbol=UndefinedSymbol*m>, children=(QuantitySlider(value=<Quantity …"
      ]
     },
     "metadata": {},
     "output_type": "display_data"
    }
   ],
   "source": [
    "from numpy import pi\n",
    "from physipy import m, units, rad\n",
    "mm = units[\"mm\"]\n",
    "km = units[\"km\"]\n",
    "\n",
    "\n",
    "w = QuantityTextSlider(3*m)\n",
    "w"
   ]
  },
  {
   "cell_type": "code",
   "execution_count": 46,
   "metadata": {},
   "outputs": [
    {
     "data": {
      "application/vnd.jupyter.widget-view+json": {
       "model_id": "2b9b5a42a66f4680bcf586143b590338",
       "version_major": 2,
       "version_minor": 0
      },
      "text/plain": [
       "QuantityTextSlider(value=<Quantity : 3 rad, symbol=UndefinedSymbol*rad>, children=(QuantitySlider(value=<Quant…"
      ]
     },
     "metadata": {},
     "output_type": "display_data"
    }
   ],
   "source": [
    "w = QuantityTextSlider(3*rad, min=3*rad, max = 100*rad)\n",
    "w"
   ]
  },
  {
   "cell_type": "code",
   "execution_count": 47,
   "metadata": {},
   "outputs": [
    {
     "data": {
      "application/vnd.jupyter.widget-view+json": {
       "model_id": "f8dddfa27d0441f19e76c927981a05b5",
       "version_major": 2,
       "version_minor": 0
      },
      "text/plain": [
       "QuantityTextSlider(value=<Quantity : 3.141592653589793 m, symbol=UndefinedSymbol*m>, children=(QuantitySlider(…"
      ]
     },
     "metadata": {},
     "output_type": "display_data"
    }
   ],
   "source": [
    "q = pi*m\n",
    "q.favunit = mm\n",
    "w = QuantityTextSlider(q)\n",
    "w"
   ]
  },
  {
   "cell_type": "code",
   "execution_count": 48,
   "metadata": {},
   "outputs": [],
   "source": [
    "# play around with the above widget's favunit\n",
    "#w.favunit = km\n",
    "#w.qslider.favunit = mm"
   ]
  },
  {
   "cell_type": "code",
   "execution_count": 49,
   "metadata": {},
   "outputs": [
    {
     "data": {
      "application/vnd.jupyter.widget-view+json": {
       "model_id": "9d53ab5ad06945709467f429ea4bdee7",
       "version_major": 2,
       "version_minor": 0
      },
      "text/plain": [
       "QuantityTextSlider(value=<Quantity : 3.141592653589793 m, symbol=UndefinedSymbol*m>, children=(QuantitySlider(…"
      ]
     },
     "metadata": {},
     "output_type": "display_data"
    }
   ],
   "source": [
    "q = pi*m\n",
    "w = QuantityTextSlider(q, favunit=km)\n",
    "w"
   ]
  },
  {
   "cell_type": "code",
   "execution_count": 50,
   "metadata": {},
   "outputs": [
    {
     "data": {
      "application/vnd.jupyter.widget-view+json": {
       "model_id": "dfd95fc5d86a443186f3b976d4fae261",
       "version_major": 2,
       "version_minor": 0
      },
      "text/plain": [
       "QuantityTextSlider(value=<Quantity : 2 m, symbol=UndefinedSymbol*m>, children=(QuantitySlider(value=<Quantity …"
      ]
     },
     "metadata": {},
     "output_type": "display_data"
    },
    {
     "data": {
      "application/vnd.jupyter.widget-view+json": {
       "model_id": "8422dbba6a374365988894aa71f6993e",
       "version_major": 2,
       "version_minor": 0
      },
      "text/plain": [
       "QuantityTextSlider(value=<Quantity : 2 m, symbol=UndefinedSymbol*m>, children=(QuantitySlider(value=<Quantity …"
      ]
     },
     "metadata": {},
     "output_type": "display_data"
    }
   ],
   "source": [
    "qw1 = QuantityTextSlider(2*m)\n",
    "qw2 = QuantityTextSlider(2*m)\n",
    "\n",
    "# create link\n",
    "mylink = ipyw.link((qw1, 'value'), (qw2, 'value'))\n",
    "display(qw1, qw2)"
   ]
  },
  {
   "cell_type": "code",
   "execution_count": 51,
   "metadata": {},
   "outputs": [
    {
     "data": {
      "application/vnd.jupyter.widget-view+json": {
       "model_id": "a364d921c7d0475b8786fee3f6dc2f30",
       "version_major": 2,
       "version_minor": 0
      },
      "text/plain": [
       "QuantityTextSlider(value=<Quantity : 7.5 m, symbol=UndefinedSymbol*m>, children=(QuantitySlider(value=<Quantit…"
      ]
     },
     "metadata": {},
     "output_type": "display_data"
    },
    {
     "data": {
      "application/vnd.jupyter.widget-view+json": {
       "model_id": "ab3c8c37d7234f2dabb9adcc455575a3",
       "version_major": 2,
       "version_minor": 0
      },
      "text/plain": [
       "HTML(value='56.25 m**2', description='Square: ')"
      ]
     },
     "metadata": {},
     "output_type": "display_data"
    }
   ],
   "source": [
    "slider = QuantityTextSlider(\n",
    "    7.5*m)\n",
    "\n",
    "# Create non-editable text area to display square of value\n",
    "square_display = ipyw.HTML(description=\"Square: \",\n",
    "                           value='{}'.format(slider.value**2))\n",
    "\n",
    "# Create function to update square_display's value when slider changes\n",
    "\n",
    "\n",
    "def update_square_display(change):\n",
    "    square_display.value = '{}'.format(change.new**2)\n",
    "\n",
    "\n",
    "slider.observe(update_square_display, names='value')\n",
    "\n",
    "# Put them in a vertical box\n",
    "display(slider, square_display)"
   ]
  },
  {
   "cell_type": "code",
   "execution_count": 52,
   "metadata": {},
   "outputs": [
    {
     "data": {
      "application/vnd.jupyter.widget-view+json": {
       "model_id": "8ee868d6040942dd94ab97853dbd88e8",
       "version_major": 2,
       "version_minor": 0
      },
      "text/plain": [
       "VBox(children=(QuantityTextSlider(value=<Quantity : 7.5 m, symbol=UndefinedSymbol*m>, children=(QuantitySlider…"
      ]
     },
     "metadata": {},
     "output_type": "display_data"
    }
   ],
   "source": [
    "ipyw.VBox([slider, slider])"
   ]
  },
  {
   "cell_type": "code",
   "execution_count": 53,
   "metadata": {},
   "outputs": [
    {
     "data": {
      "application/vnd.jupyter.widget-view+json": {
       "model_id": "5f6fb5949fdc481a86f5514be7f96293",
       "version_major": 2,
       "version_minor": 0
      },
      "text/plain": [
       "VBox(children=(QuantityTextSlider(value=<Quantity : 2 m, symbol=UndefinedSymbol*m>, children=(QuantitySlider(v…"
      ]
     },
     "metadata": {},
     "output_type": "display_data"
    },
    {
     "data": {
      "application/vnd.jupyter.widget-view+json": {
       "model_id": "f1d4b04cdb8e4efdadaddab858011c3a",
       "version_major": 2,
       "version_minor": 0
      },
      "text/plain": [
       "Output()"
      ]
     },
     "metadata": {},
     "output_type": "display_data"
    }
   ],
   "source": [
    "# inputs widgets\n",
    "wa = QuantityTextSlider(2*m, description=\"Toto:\")\n",
    "wb = QuantityTextSlider(2*m)\n",
    "wc = QuantityTextSlider(2*m)\n",
    "\n",
    "# An HBox lays out its children horizontally\n",
    "ui = ipyw.VBox([wa, wb, wc])\n",
    "\n",
    "# define function\n",
    "\n",
    "\n",
    "def f(a, b, c):\n",
    "    # You can use print here instead of display because interactive_output generates a normal notebook\n",
    "    # output area.\n",
    "    #print((a, b, c))\n",
    "    res = a*b/c\n",
    "    # print(res)\n",
    "    display(res)\n",
    "    return res\n",
    "\n",
    "\n",
    "# create output widget\n",
    "out = ipyw.interactive_output(f, {'a': wa, 'b': wb, 'c': wc})\n",
    "\n",
    "display(ui, out)"
   ]
  },
  {
   "cell_type": "code",
   "execution_count": null,
   "metadata": {},
   "outputs": [],
   "source": []
  },
  {
   "cell_type": "markdown",
   "metadata": {},
   "source": [
    "# QuantityRangeSlider"
   ]
  },
  {
   "cell_type": "code",
   "execution_count": 54,
   "metadata": {},
   "outputs": [],
   "source": [
    "from physipy.qwidgets.qipywidgets import QuantityRangeSlider\n",
    "import ipywidgets as ipyw"
   ]
  },
  {
   "cell_type": "code",
   "execution_count": 55,
   "metadata": {},
   "outputs": [
    {
     "data": {
      "application/vnd.jupyter.widget-view+json": {
       "model_id": "d92626d811e2494a8753cea23f02d23b",
       "version_major": 2,
       "version_minor": 0
      },
      "text/plain": [
       "QuantityRangeSlider(value=(<Quantity : 3 m, symbol=UndefinedSymbol*m>, <Quantity : 10 m, symbol=UndefinedSymbo…"
      ]
     },
     "metadata": {},
     "output_type": "display_data"
    }
   ],
   "source": [
    "from physipy import m\n",
    "\n",
    "w = QuantityRangeSlider(3*m, 10*m, label=True)\n",
    "w"
   ]
  },
  {
   "cell_type": "code",
   "execution_count": 56,
   "metadata": {},
   "outputs": [
    {
     "data": {
      "application/vnd.jupyter.widget-view+json": {
       "model_id": "223ac895fc1c45118b2d387b80720ed6",
       "version_major": 2,
       "version_minor": 0
      },
      "text/plain": [
       "QuantityRangeSlider(value=(<Quantity : 3 m, symbol=UndefinedSymbol*m>, <Quantity : 10 m, symbol=UndefinedSymbo…"
      ]
     },
     "metadata": {},
     "output_type": "display_data"
    }
   ],
   "source": [
    "w = QuantityRangeSlider(3*m, 10*m, label=True, description=\"Toto\")\n",
    "w"
   ]
  },
  {
   "cell_type": "code",
   "execution_count": 57,
   "metadata": {},
   "outputs": [
    {
     "data": {
      "application/vnd.jupyter.widget-view+json": {
       "model_id": "363205c1380844a899f14a0d7609843e",
       "version_major": 2,
       "version_minor": 0
      },
      "text/plain": [
       "QuantityRangeSlider(value=(<Quantity : 3 m, symbol=UndefinedSymbol*m>, <Quantity : 10 m, symbol=UndefinedSymbo…"
      ]
     },
     "metadata": {},
     "output_type": "display_data"
    },
    {
     "data": {
      "application/vnd.jupyter.widget-view+json": {
       "model_id": "c1e5ab5ed7f346598cd6ec2df06b1e48",
       "version_major": 2,
       "version_minor": 0
      },
      "text/plain": [
       "QuantityRangeSlider(value=(<Quantity : 3 m, symbol=UndefinedSymbol*m>, <Quantity : 10 m, symbol=UndefinedSymbo…"
      ]
     },
     "metadata": {},
     "output_type": "display_data"
    }
   ],
   "source": [
    "qw1 = QuantityRangeSlider(3*m, 10*m, label=True)\n",
    "qw2 = QuantityRangeSlider(3*m, 10*m, label=True)\n",
    "\n",
    "# create link\n",
    "mylink = ipyw.link((qw1, 'value'), (qw2, 'value'))\n",
    "display(qw1, qw2)"
   ]
  },
  {
   "cell_type": "code",
   "execution_count": 58,
   "metadata": {},
   "outputs": [
    {
     "data": {
      "text/plain": [
       "(<Quantity : 3 m, symbol=UndefinedSymbol*m>,\n",
       " <Quantity : 10 m, symbol=UndefinedSymbol*m>)"
      ]
     },
     "execution_count": 58,
     "metadata": {},
     "output_type": "execute_result"
    }
   ],
   "source": [
    "qw1.value"
   ]
  },
  {
   "cell_type": "code",
   "execution_count": 59,
   "metadata": {},
   "outputs": [
    {
     "data": {
      "text/plain": [
       "(<Quantity : 3 m, symbol=UndefinedSymbol*m>,\n",
       " <Quantity : 10 m, symbol=UndefinedSymbol*m>)"
      ]
     },
     "execution_count": 59,
     "metadata": {},
     "output_type": "execute_result"
    }
   ],
   "source": [
    "qw2.value"
   ]
  },
  {
   "cell_type": "code",
   "execution_count": 60,
   "metadata": {},
   "outputs": [
    {
     "data": {
      "application/vnd.jupyter.widget-view+json": {
       "model_id": "b18b47601f81426c90ec836925aa1475",
       "version_major": 2,
       "version_minor": 0
      },
      "text/plain": [
       "QuantityRangeSlider(value=(<Quantity : 3 m, symbol=UndefinedSymbol*m>, <Quantity : 12 m, symbol=UndefinedSymbo…"
      ]
     },
     "metadata": {},
     "output_type": "display_data"
    },
    {
     "data": {
      "application/vnd.jupyter.widget-view+json": {
       "model_id": "c5023bcba54243cbba125c640174ae55",
       "version_major": 2,
       "version_minor": 0
      },
      "text/plain": [
       "HTML(value='3 m-12 m', description='Square: ')"
      ]
     },
     "metadata": {},
     "output_type": "display_data"
    }
   ],
   "source": [
    "slider = QuantityRangeSlider(\n",
    "    min=3*m, max=12*m)\n",
    "\n",
    "# Create non-editable text area to display square of value\n",
    "square_display = ipyw.HTML(description=\"Square: \",\n",
    "                           value='{}-{}'.format(slider.value[0], slider.value[1]))\n",
    "\n",
    "# Create function to update square_display's value when slider changes\n",
    "\n",
    "\n",
    "def update_square_display(change):\n",
    "    square_display.value = '{}-{}'.format(change.new[0]**2, change.new[1]**2)\n",
    "\n",
    "\n",
    "slider.observe(update_square_display, names='value')\n",
    "\n",
    "# Put them in a vertical box\n",
    "display(slider, square_display)"
   ]
  },
  {
   "cell_type": "code",
   "execution_count": 61,
   "metadata": {},
   "outputs": [
    {
     "data": {
      "application/vnd.jupyter.widget-view+json": {
       "model_id": "0eb944351963408280ba91accb5fc93b",
       "version_major": 2,
       "version_minor": 0
      },
      "text/plain": [
       "VBox(children=(QuantityRangeSlider(value=(<Quantity : 3 m, symbol=UndefinedSymbol*m>, <Quantity : 12 m, symbol…"
      ]
     },
     "metadata": {},
     "output_type": "display_data"
    }
   ],
   "source": [
    "ipyw.VBox([slider, slider])"
   ]
  },
  {
   "cell_type": "code",
   "execution_count": 62,
   "metadata": {},
   "outputs": [
    {
     "data": {
      "application/vnd.jupyter.widget-view+json": {
       "model_id": "97e7ff8b254442cf9f3edb80d942cdfb",
       "version_major": 2,
       "version_minor": 0
      },
      "text/plain": [
       "VBox(children=(QuantityRangeSlider(value=(<Quantity : 3 m, symbol=UndefinedSymbol*m>, <Quantity : 12 m, symbol…"
      ]
     },
     "metadata": {},
     "output_type": "display_data"
    },
    {
     "data": {
      "application/vnd.jupyter.widget-view+json": {
       "model_id": "6d349d78ef9a4d89ab49fcc36d5d0aae",
       "version_major": 2,
       "version_minor": 0
      },
      "text/plain": [
       "Output()"
      ]
     },
     "metadata": {},
     "output_type": "display_data"
    }
   ],
   "source": [
    "# inputs widgets\n",
    "wa = QuantityRangeSlider(min=3*m, max=12*m)\n",
    "wb = QuantityRangeSlider(min=3*m, max=12*m)\n",
    "wc = QuantityRangeSlider(min=3*m, max=12*m)\n",
    "\n",
    "# An HBox lays out its children horizontally\n",
    "ui = ipyw.VBox([wa, wb, wc])\n",
    "\n",
    "# define function\n",
    "\n",
    "\n",
    "def f(a, b, c):\n",
    "    # You can use print here instead of display because interactive_output generates a normal notebook\n",
    "    # output area.\n",
    "    #print((a, b, c))\n",
    "\n",
    "    res = a[0]*a[1]*b[0]*b[1]/c[0]*c[1]\n",
    "    # print(res)\n",
    "    display(res)\n",
    "    return res\n",
    "\n",
    "\n",
    "# create output widget\n",
    "out = ipyw.interactive_output(f, {'a': wa, 'b': wb, 'c': wc})\n",
    "\n",
    "display(ui, out)"
   ]
  },
  {
   "cell_type": "markdown",
   "metadata": {},
   "source": [
    "Favunit"
   ]
  },
  {
   "cell_type": "code",
   "execution_count": 63,
   "metadata": {},
   "outputs": [],
   "source": [
    "import physipy\n",
    "mm = physipy.units[\"mm\"]"
   ]
  },
  {
   "cell_type": "code",
   "execution_count": 64,
   "metadata": {},
   "outputs": [
    {
     "data": {
      "application/vnd.jupyter.widget-view+json": {
       "model_id": "5f3a2861b63142dbbe03beb7f724c4ac",
       "version_major": 2,
       "version_minor": 0
      },
      "text/plain": [
       "QuantityRangeSlider(value=(<Quantity : 3 m, symbol=UndefinedSymbol*m>, <Quantity : 10 m, symbol=UndefinedSymbo…"
      ]
     },
     "metadata": {},
     "output_type": "display_data"
    }
   ],
   "source": [
    "qw1 = QuantityRangeSlider(3*m, 10*m, label=True, favunit=mm)\n",
    "qw1"
   ]
  },
  {
   "cell_type": "markdown",
   "metadata": {},
   "source": [
    "# FavunitDropdown"
   ]
  },
  {
   "cell_type": "code",
   "execution_count": 65,
   "metadata": {},
   "outputs": [],
   "source": [
    "from physipy.qwidgets.qipywidgets import FavunitDropdown\n",
    "import ipywidgets as ipyw"
   ]
  },
  {
   "cell_type": "code",
   "execution_count": 66,
   "metadata": {},
   "outputs": [
    {
     "data": {
      "application/vnd.jupyter.widget-view+json": {
       "model_id": "4487bc1b88a9482d8b231bee3b7aa43d",
       "version_major": 2,
       "version_minor": 0
      },
      "text/plain": [
       "FavunitDropdown(value=<Quantity : 1 , symbol=->, children=(Dropdown(description='Favunit:', index=219, layout=…"
      ]
     },
     "metadata": {},
     "output_type": "display_data"
    }
   ],
   "source": [
    "w = FavunitDropdown()\n",
    "w"
   ]
  },
  {
   "cell_type": "code",
   "execution_count": 67,
   "metadata": {},
   "outputs": [
    {
     "name": "stdout",
     "output_type": "stream",
     "text": [
      "1\n"
     ]
    }
   ],
   "source": [
    "print(w.value)"
   ]
  },
  {
   "cell_type": "code",
   "execution_count": 68,
   "metadata": {},
   "outputs": [
    {
     "data": {
      "application/vnd.jupyter.widget-view+json": {
       "model_id": "9a4c98e4f42f4e97aa0e0476e15456fe",
       "version_major": 2,
       "version_minor": 0
      },
      "text/plain": [
       "FavunitDropdown(value=<Quantity : 1 , symbol=->, children=(Dropdown(description='Favunit:', index=219, layout=…"
      ]
     },
     "metadata": {},
     "output_type": "display_data"
    },
    {
     "data": {
      "application/vnd.jupyter.widget-view+json": {
       "model_id": "a1992ce05d7e4dc09c5127b780b184c9",
       "version_major": 2,
       "version_minor": 0
      },
      "text/plain": [
       "HTML(value='1 ', description='Favunit: ')"
      ]
     },
     "metadata": {},
     "output_type": "display_data"
    }
   ],
   "source": [
    "favunit = FavunitDropdown()\n",
    "\n",
    "# Create non-editable text area to display square of value\n",
    "favunit_display = ipyw.HTML(description=\"Favunit: \",\n",
    "                            value='{}'.format(favunit.value))\n",
    "\n",
    "# Create function to update square_display's value when slider changes\n",
    "\n",
    "\n",
    "def update_display(change):\n",
    "    favunit_display.value = '{}, as \"{}\"'.format(change.new, change.new.symbol)\n",
    "\n",
    "\n",
    "favunit.observe(update_display, names='value')\n",
    "\n",
    "# Put them in a vertical box\n",
    "display(favunit, favunit_display)"
   ]
  },
  {
   "cell_type": "code",
   "execution_count": 69,
   "metadata": {},
   "outputs": [
    {
     "data": {
      "application/vnd.jupyter.widget-view+json": {
       "model_id": "e70d2c520f7e4aa8b7308afd82490fdd",
       "version_major": 2,
       "version_minor": 0
      },
      "text/plain": [
       "FavunitDropdown(value=<Quantity : 1 , symbol=->, children=(Dropdown(description='Favunit:', index=219, layout=…"
      ]
     },
     "metadata": {},
     "output_type": "display_data"
    },
    {
     "data": {
      "application/vnd.jupyter.widget-view+json": {
       "model_id": "217c6877a1724242a7545cd3407b2ffa",
       "version_major": 2,
       "version_minor": 0
      },
      "text/plain": [
       "FavunitDropdown(value=<Quantity : 1 , symbol=->, children=(Dropdown(description='Favunit:', index=219, layout=…"
      ]
     },
     "metadata": {},
     "output_type": "display_data"
    }
   ],
   "source": [
    "qw1 = FavunitDropdown()\n",
    "qw2 = FavunitDropdown()\n",
    "\n",
    "# create link\n",
    "mylink = ipyw.link((qw1, 'value'), (qw2, 'value'))\n",
    "display(qw1, qw2)"
   ]
  },
  {
   "cell_type": "code",
   "execution_count": 70,
   "metadata": {},
   "outputs": [
    {
     "name": "stdout",
     "output_type": "stream",
     "text": [
      "1 1\n"
     ]
    }
   ],
   "source": [
    "print(qw1.value, qw2.value)"
   ]
  },
  {
   "cell_type": "code",
   "execution_count": null,
   "metadata": {},
   "outputs": [],
   "source": []
  },
  {
   "cell_type": "markdown",
   "metadata": {},
   "source": [
    "# Ideas"
   ]
  },
  {
   "cell_type": "markdown",
   "metadata": {},
   "source": [
    "Implement multiple rangesliders"
   ]
  },
  {
   "cell_type": "code",
   "execution_count": 71,
   "metadata": {},
   "outputs": [],
   "source": [
    "from ipywidgets import widgets\n",
    "from IPython.display import display, clear_output\n",
    "\n",
    "\n",
    "def range_elems(first, last, step):\n",
    "    \"\"\"\n",
    "    Return a list of elements starting with first, ending at last with\n",
    "    stepsize of step\n",
    "    \"\"\"\n",
    "    ret = [first]\n",
    "    nxt = first + step\n",
    "    while nxt <= last:\n",
    "        ret.append(nxt)\n",
    "        nxt += step\n",
    "    return ret\n",
    "\n",
    "\n",
    "class MultiRangeSlider(object):\n",
    "    def __init__(self, min=0, max=1, step=0.1, description=\"MultiRange\", disabled=False):\n",
    "        self.min = min\n",
    "        self.max = max\n",
    "        self.step = step\n",
    "        self.description = description\n",
    "        self.disabled = disabled\n",
    "\n",
    "        self.range_slider_list = []\n",
    "\n",
    "        self.add_range_button = widgets.Button(description=\"Add range\")\n",
    "        self.add_range_button.on_click(self.handle_add_range_event)\n",
    "\n",
    "        self.rm_range_button = widgets.Button(description=\"Rm range\")\n",
    "        self.rm_range_button.on_click(self.handle_rm_range_event)\n",
    "\n",
    "        # combined range over all sliders, excluding possible overlaps\n",
    "        self.selected_values = []\n",
    "\n",
    "        # Vertical box for displaying all the sliders\n",
    "        self.vbox = widgets.VBox()\n",
    "\n",
    "        # create a first slider and update vbox children for displaying\n",
    "        self.handle_add_range_event()\n",
    "\n",
    "        # callback function to be called when the widgets value changes\n",
    "        # this needs to accept the usual 'change' dict as in other widgets\n",
    "        self.observe_callback = None\n",
    "\n",
    "    def update_selected_values(self, change):\n",
    "        \"\"\"\n",
    "        find the unique range points from looking at all slider ranges,\n",
    "        effectively ignores overlapping areas.\n",
    "        Called on every change of a single slider\n",
    "        \"\"\"\n",
    "        range_points_lst = []\n",
    "        for slider in self.range_slider_list:\n",
    "            # get the current range delimiters\n",
    "            r_min, r_max = slider.value\n",
    "            # make sure that the range includes the endpoint r_max\n",
    "            range_points = range_elems(r_min, r_max, slider.step)\n",
    "            range_points_lst.append(range_points)\n",
    "\n",
    "        # now collapse the list of lists\n",
    "        flattened_range_point_lst = [\n",
    "            item for lst in range_points_lst for item in lst]\n",
    "        # make deep copy for callback reference\n",
    "        old = [val for val in self.selected_values]\n",
    "        # get unique values only\n",
    "        self.selected_values = sorted(list(set(flattened_range_point_lst)))\n",
    "\n",
    "        #print(\"updated self.selected_values = \", self.selected_values)\n",
    "        # call the callback function if there is one\n",
    "        if self.observe_callback:\n",
    "            change = dict()\n",
    "            change[\"owner\"] = self\n",
    "            change[\"type\"] = \"change\"\n",
    "            change[\"name\"] = \"value\"\n",
    "            change[\"old\"] = old\n",
    "            change[\"new\"] = self.selected_values\n",
    "            self.observe_callback(change)\n",
    "\n",
    "    def handle_rm_range_event(self, b=None):\n",
    "        \"\"\"\n",
    "        \"\"\"\n",
    "        if len(self.range_slider_list) > 1:\n",
    "            # remove last slider\n",
    "            self.range_slider_list.pop()\n",
    "\n",
    "        # update the display\n",
    "        first_line = widgets.HBox(\n",
    "            [self.range_slider_list[0], self.add_range_button, self.rm_range_button])\n",
    "        self.vbox.children = [first_line] + self.range_slider_list[1:]\n",
    "\n",
    "        # update visibility of rm button\n",
    "        self.rm_range_button.disabled = True if len(\n",
    "            self.range_slider_list) == 1 else False\n",
    "\n",
    "    def handle_add_range_event(self, b=None):\n",
    "        \"\"\"\n",
    "        Callback function of the 'Add' button that displays another RangeSlider.\n",
    "        \"\"\"\n",
    "        # adds a range slider to the list\n",
    "        self.add_range_slider()\n",
    "        # update elements of the displayed vbox so display will update immediately\n",
    "        first_line = widgets.HBox(\n",
    "            [self.range_slider_list[0], self.add_range_button, self.rm_range_button])\n",
    "        self.vbox.children = [first_line] + self.range_slider_list[1:]\n",
    "\n",
    "        # activate rm button if there is more than one slider\n",
    "        self.rm_range_button.disabled = True if len(\n",
    "            self.range_slider_list) == 1 else False\n",
    "\n",
    "    def add_range_slider(self):\n",
    "        \"\"\"\n",
    "        Add another range slider to the list of range sliders, that, when its\n",
    "        value changes, updates the combined range of the current object.\n",
    "        \"\"\"\n",
    "        # a new range slider is requested, but don't show description again\n",
    "        slider = widgets.FloatRangeSlider(\n",
    "            min=self.min,\n",
    "            max=self.max,\n",
    "            step=self.step,\n",
    "            disabled=self.disabled,\n",
    "            continuous_update=False,\n",
    "            orientation='horizontal',\n",
    "            readout=True,\n",
    "            readout_format='.1f',\n",
    "        )\n",
    "        if not self.range_slider_list:\n",
    "            # first slider gets a description\n",
    "            slider.description = \"MultiRangeSlider\"\n",
    "\n",
    "        # when its value changes, update internal selection of combined range\n",
    "        slider.observe(self.update_selected_values, names='value')\n",
    "\n",
    "        self.range_slider_list.append(slider)\n",
    "\n",
    "    def display(self):\n",
    "        \"\"\"\n",
    "        Show the widget in the notebook.\n",
    "        \"\"\"\n",
    "        # create a vbox that contains all sliders below each other\n",
    "        display(self.vbox)\n",
    "\n",
    "    def observe(self, fun):\n",
    "        \"\"\"\n",
    "        Set the callback function that is called when any of the RangeSliders changes\n",
    "        \"\"\"\n",
    "        self.observe_callback = fun"
   ]
  },
  {
   "cell_type": "code",
   "execution_count": 72,
   "metadata": {},
   "outputs": [
    {
     "data": {
      "application/vnd.jupyter.widget-view+json": {
       "model_id": "cdf4762718b74c3cae5f22b64f596d22",
       "version_major": 2,
       "version_minor": 0
      },
      "text/plain": [
       "VBox(children=(HBox(children=(FloatRangeSlider(value=(0.25, 0.75), continuous_update=False, description='Multi…"
      ]
     },
     "metadata": {},
     "output_type": "display_data"
    }
   ],
   "source": [
    "multi_range = MultiRangeSlider()\n",
    "multi_range.observe(lambda change: print(change[\"new\"]))\n",
    "multi_range.display()"
   ]
  },
  {
   "cell_type": "code",
   "execution_count": 69,
   "metadata": {},
   "outputs": [
    {
     "data": {
      "application/vnd.jupyter.widget-view+json": {
       "model_id": "2e1fd55ac97a40e78d814dae83366d6a",
       "version_major": 2,
       "version_minor": 0
      },
      "text/plain": [
       "interactive(children=(IntSlider(value=10, description='x', max=30, min=-10), Output()), _dom_classes=('widget-…"
      ]
     },
     "metadata": {},
     "output_type": "display_data"
    }
   ],
   "source": [
    "from ipywidgets import interact, interactive\n",
    "\n",
    "\n",
    "def f(x):\n",
    "    return 2*x\n",
    "\n",
    "\n",
    "w = interact(f, x=10);"
   ]
  },
  {
   "cell_type": "code",
   "execution_count": 70,
   "metadata": {},
   "outputs": [
    {
     "data": {
      "text/plain": [
       "4"
      ]
     },
     "execution_count": 70,
     "metadata": {},
     "output_type": "execute_result"
    }
   ],
   "source": [
    "w(2)"
   ]
  },
  {
   "cell_type": "code",
   "execution_count": 71,
   "metadata": {},
   "outputs": [],
   "source": [
    "w = interactive(f, x=10)"
   ]
  },
  {
   "cell_type": "code",
   "execution_count": 72,
   "metadata": {},
   "outputs": [
    {
     "data": {
      "application/vnd.jupyter.widget-view+json": {
       "model_id": "741a91db8c92485996c9c4a0eeb02079",
       "version_major": 2,
       "version_minor": 0
      },
      "text/plain": [
       "interactive(children=(IntSlider(value=10, description='x', max=30, min=-10), Output()), _dom_classes=('widget-…"
      ]
     },
     "metadata": {},
     "output_type": "display_data"
    }
   ],
   "source": [
    "w"
   ]
  },
  {
   "cell_type": "code",
   "execution_count": 73,
   "metadata": {},
   "outputs": [
    {
     "name": "stdout",
     "output_type": "stream",
     "text": [
      "20\n"
     ]
    }
   ],
   "source": [
    "print(w.result)"
   ]
  },
  {
   "cell_type": "code",
   "execution_count": 74,
   "metadata": {},
   "outputs": [
    {
     "data": {
      "application/vnd.jupyter.widget-view+json": {
       "model_id": "741a91db8c92485996c9c4a0eeb02079",
       "version_major": 2,
       "version_minor": 0
      },
      "text/plain": [
       "interactive(children=(IntSlider(value=10, description='x', max=30, min=-10), Output()), _dom_classes=('widget-…"
      ]
     },
     "metadata": {},
     "output_type": "display_data"
    }
   ],
   "source": [
    "w"
   ]
  },
  {
   "cell_type": "code",
   "execution_count": 75,
   "metadata": {},
   "outputs": [],
   "source": [
    "w = interactive(f, x=ipyw.FloatSlider(min=30, max=40))"
   ]
  },
  {
   "cell_type": "code",
   "execution_count": 76,
   "metadata": {},
   "outputs": [
    {
     "data": {
      "application/vnd.jupyter.widget-view+json": {
       "model_id": "b08328a237cb440a9317674be22c5e47",
       "version_major": 2,
       "version_minor": 0
      },
      "text/plain": [
       "interactive(children=(FloatSlider(value=30.0, description='x', max=40.0, min=30.0), Output()), _dom_classes=('…"
      ]
     },
     "metadata": {},
     "output_type": "display_data"
    }
   ],
   "source": [
    "w"
   ]
  },
  {
   "cell_type": "code",
   "execution_count": 77,
   "metadata": {},
   "outputs": [
    {
     "data": {
      "text/plain": [
       "60.0"
      ]
     },
     "execution_count": 77,
     "metadata": {},
     "output_type": "execute_result"
    }
   ],
   "source": [
    "w.result"
   ]
  },
  {
   "cell_type": "code",
   "execution_count": 78,
   "metadata": {},
   "outputs": [
    {
     "data": {
      "text/plain": [
       "ipywidgets.widgets.interaction.interactive"
      ]
     },
     "execution_count": 78,
     "metadata": {},
     "output_type": "execute_result"
    }
   ],
   "source": [
    "type(w)"
   ]
  },
  {
   "cell_type": "code",
   "execution_count": 79,
   "metadata": {},
   "outputs": [],
   "source": [
    "a = ipyw.IntSlider()\n",
    "b = ipyw.IntSlider()\n",
    "c = ipyw.IntSlider()\n",
    "ui = ipyw.HBox([a, b, c])\n",
    "\n",
    "\n",
    "def f(a, b, c):\n",
    "    return a*b*c\n",
    "\n",
    "\n",
    "out = ipyw.interactive_output(f, {'a': a, 'b': b, 'c': c})"
   ]
  },
  {
   "cell_type": "code",
   "execution_count": 80,
   "metadata": {},
   "outputs": [
    {
     "data": {
      "application/vnd.jupyter.widget-view+json": {
       "model_id": "850542ffd6d84780b690c4c38be50f75",
       "version_major": 2,
       "version_minor": 0
      },
      "text/plain": [
       "Output()"
      ]
     },
     "metadata": {},
     "output_type": "display_data"
    }
   ],
   "source": [
    "out"
   ]
  },
  {
   "cell_type": "code",
   "execution_count": null,
   "metadata": {},
   "outputs": [],
   "source": []
  },
  {
   "cell_type": "code",
   "execution_count": null,
   "metadata": {},
   "outputs": [],
   "source": []
  }
 ],
 "metadata": {
  "jupytext": {
   "text_representation": {
    "extension": ".py",
    "format_name": "percent",
    "format_version": "1.3",
    "jupytext_version": "1.13.4"
   }
  },
  "kernelspec": {
   "display_name": "Python 3 (ipykernel)",
   "language": "python",
   "name": "python3"
  },
  "language_info": {
   "codemirror_mode": {
    "name": "ipython",
    "version": 3
   },
   "file_extension": ".py",
   "mimetype": "text/x-python",
   "name": "python",
   "nbconvert_exporter": "python",
   "pygments_lexer": "ipython3",
   "version": "3.9.7"
  },
  "toc-autonumbering": true,
  "toc-showcode": false,
  "toc-showmarkdowntxt": false
 },
 "nbformat": 4,
 "nbformat_minor": 4
}
