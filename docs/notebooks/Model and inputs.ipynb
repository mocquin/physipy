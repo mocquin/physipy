{
 "cells": [
  {
   "cell_type": "markdown",
   "id": "2c25a2e2-8af1-4317-b90c-a36fc79667b7",
   "metadata": {},
   "source": [
    " - https://en.wikipedia.org/wiki/Observer_pattern#Python\n",
    " - https://en.wikipedia.org/wiki/Reactive_programming\n",
    " - https://stackoverflow.com/questions/6190468/how-to-trigger-function-on-value-change\n",
    " - https://www.python.org/doc/essays/graphs/ \n",
    " - https://stackoverflow.com/questions/48336820/using-decorators-to-implement-observer-pattern-in-python3\n",
    " - https://github.com/victorcmoura/notifyr/tree/master/notifyr\n",
    " - https://codereview.stackexchange.com/questions/253675/a-python-decorator-for-an-observable-property-that-notifies-observers-when-th/253714#253714?newreg=04c9ad06b7164ef9b8fc4a7f32af2ee9\n"
   ]
  },
  {
   "cell_type": "code",
   "execution_count": null,
   "id": "787c6b06-4b1f-4d99-912f-9182710d2a49",
   "metadata": {},
   "outputs": [],
   "source": []
  },
  {
   "cell_type": "code",
   "execution_count": null,
   "id": "77319298-f7de-4b6d-8692-3041e8b91046",
   "metadata": {},
   "outputs": [],
   "source": []
  },
  {
   "cell_type": "markdown",
   "id": "f97aab72-6977-45f9-b47b-c7fcf8c00fb1",
   "metadata": {},
   "source": [
    "# Using numpy/broadcasting : defining a set of inputs for a model"
   ]
  },
  {
   "cell_type": "code",
   "execution_count": 1,
   "id": "83fc9e75-96a1-4a7e-b7fc-3c705234d088",
   "metadata": {},
   "outputs": [],
   "source": [
    "from physipy import m, s, K, kg\n",
    "import numpy as np"
   ]
  },
  {
   "cell_type": "markdown",
   "id": "d2215dc3-1717-4a08-b899-ab5995e625b3",
   "metadata": {},
   "source": [
    "Creation of combinations is no \"simple\" but very doable using meshgrid : but be carefull, combinations grow **FAST** : "
   ]
  },
  {
   "cell_type": "code",
   "execution_count": 2,
   "id": "be48a8c0-e471-41f7-b73e-d6127f4a0dd3",
   "metadata": {},
   "outputs": [],
   "source": [
    "# uniform sampling\n",
    "lenghts = np.linspace(0.4, 0.8, num=3)*m\n",
    "times = np.linspace(1, 10, num=3)*s\n",
    "temps = np.linspace(300, 310, num=2)*K\n",
    "# random sampling\n",
    "mass = np.random.randn(100)*3*kg + 100*kg\n",
    "\n",
    "\n",
    "LENGTHS, TIMES, TEMPS, MASS= np.meshgrid(lenghts, times, temps, mass)\n",
    "\n",
    "lenghts = LENGTHS.flatten()\n",
    "times = TIMES.flatten()\n",
    "temps = TEMPS.flatten()\n",
    "mass = MASS.flatten()"
   ]
  },
  {
   "cell_type": "code",
   "execution_count": 3,
   "id": "e1ad9720-de85-491f-81c9-a669c73b769c",
   "metadata": {},
   "outputs": [
    {
     "name": "stdout",
     "output_type": "stream",
     "text": [
      "(1800,)\n"
     ]
    }
   ],
   "source": [
    "print(mass.shape)"
   ]
  },
  {
   "cell_type": "markdown",
   "id": "c3a2d1b0-b36e-4fec-9b5d-a319040b9a11",
   "metadata": {},
   "source": [
    "Once again, thanks to numpy, we can make a computation for all possibilities at once : "
   ]
  },
  {
   "cell_type": "code",
   "execution_count": 4,
   "id": "3b22c7cc-c806-44f8-916a-ee3f2527b739",
   "metadata": {},
   "outputs": [],
   "source": [
    "some_metric = lenghts*times/temps**2*np.exp(mass/(50*kg))"
   ]
  },
  {
   "cell_type": "code",
   "execution_count": 5,
   "id": "2a81bedf-9595-4d16-965f-e38dc4a8288b",
   "metadata": {},
   "outputs": [
    {
     "data": {
      "text/latex": [
       "[3.25430941e-05 2.97781433e-05 3.20889716e-05 ... 6.44143547e-04\n",
       " 6.13318183e-04 6.17310440e-04]$\\,\\frac{m s}{K^{2}}$"
      ],
      "text/plain": [
       "<Quantity : [3.25430941e-05 2.97781433e-05 3.20889716e-05 ... 6.44143547e-04\n",
       " 6.13318183e-04 6.17310440e-04] m*s/K**2, symbol=UndefinedSymbol*UndefinedSymbol/UndefinedSymbol**2*UndefinedSymbol>"
      ]
     },
     "execution_count": 5,
     "metadata": {},
     "output_type": "execute_result"
    }
   ],
   "source": [
    "some_metric"
   ]
  },
  {
   "cell_type": "code",
   "execution_count": 6,
   "id": "7822da58-8a45-4437-b289-2cf47645b351",
   "metadata": {},
   "outputs": [
    {
     "name": "stderr",
     "output_type": "stream",
     "text": [
      "/Users/mocquin/MYLIB10/MODULES/physipy/physipy/quantity/quantity.py:708: UserWarning: The unit of the quantity is stripped for __array__\n",
      "  warnings.warn(f\"The unit of the quantity is stripped for {item}\")\n",
      "/Users/mocquin/MYLIB10/MODULES/physipy/physipy/quantity/quantity.py:708: UserWarning: The unit of the quantity is stripped for __array_struct__\n",
      "  warnings.warn(f\"The unit of the quantity is stripped for {item}\")\n"
     ]
    },
    {
     "data": {
      "text/html": [
       "<div>\n",
       "<style scoped>\n",
       "    .dataframe tbody tr th:only-of-type {\n",
       "        vertical-align: middle;\n",
       "    }\n",
       "\n",
       "    .dataframe tbody tr th {\n",
       "        vertical-align: top;\n",
       "    }\n",
       "\n",
       "    .dataframe thead th {\n",
       "        text-align: right;\n",
       "    }\n",
       "</style>\n",
       "<table border=\"1\" class=\"dataframe\">\n",
       "  <thead>\n",
       "    <tr style=\"text-align: right;\">\n",
       "      <th></th>\n",
       "      <th>length</th>\n",
       "      <th>times</th>\n",
       "      <th>temps</th>\n",
       "      <th>mass</th>\n",
       "      <th>some_metric</th>\n",
       "    </tr>\n",
       "  </thead>\n",
       "  <tbody>\n",
       "    <tr>\n",
       "      <th>0</th>\n",
       "      <td>0.4</td>\n",
       "      <td>1.0</td>\n",
       "      <td>300.0</td>\n",
       "      <td>99.545515</td>\n",
       "      <td>0.000033</td>\n",
       "    </tr>\n",
       "    <tr>\n",
       "      <th>1</th>\n",
       "      <td>0.4</td>\n",
       "      <td>1.0</td>\n",
       "      <td>300.0</td>\n",
       "      <td>95.105990</td>\n",
       "      <td>0.000030</td>\n",
       "    </tr>\n",
       "    <tr>\n",
       "      <th>2</th>\n",
       "      <td>0.4</td>\n",
       "      <td>1.0</td>\n",
       "      <td>300.0</td>\n",
       "      <td>98.842877</td>\n",
       "      <td>0.000032</td>\n",
       "    </tr>\n",
       "    <tr>\n",
       "      <th>3</th>\n",
       "      <td>0.4</td>\n",
       "      <td>1.0</td>\n",
       "      <td>300.0</td>\n",
       "      <td>97.495198</td>\n",
       "      <td>0.000031</td>\n",
       "    </tr>\n",
       "    <tr>\n",
       "      <th>4</th>\n",
       "      <td>0.4</td>\n",
       "      <td>1.0</td>\n",
       "      <td>300.0</td>\n",
       "      <td>94.674054</td>\n",
       "      <td>0.000030</td>\n",
       "    </tr>\n",
       "  </tbody>\n",
       "</table>\n",
       "</div>"
      ],
      "text/plain": [
       "   length  times  temps       mass  some_metric\n",
       "0     0.4    1.0  300.0  99.545515     0.000033\n",
       "1     0.4    1.0  300.0  95.105990     0.000030\n",
       "2     0.4    1.0  300.0  98.842877     0.000032\n",
       "3     0.4    1.0  300.0  97.495198     0.000031\n",
       "4     0.4    1.0  300.0  94.674054     0.000030"
      ]
     },
     "execution_count": 6,
     "metadata": {},
     "output_type": "execute_result"
    }
   ],
   "source": [
    "import seaborn as sns\n",
    "import pandas as pd\n",
    "df = pd.DataFrame(\n",
    "    {\n",
    "        \"length\":lenghts,\n",
    "        \"times\":times,\n",
    "        \"temps\":temps,\n",
    "        \"mass\":mass,\n",
    "        \"some_metric\":some_metric,\n",
    "    }\n",
    ")\n",
    "df.head()"
   ]
  },
  {
   "cell_type": "code",
   "execution_count": 7,
   "id": "17bbcf77-24bb-44f6-8e99-df694d762ada",
   "metadata": {},
   "outputs": [
    {
     "data": {
      "text/plain": [
       "<AxesSubplot: >"
      ]
     },
     "execution_count": 7,
     "metadata": {},
     "output_type": "execute_result"
    },
    {
     "data": {
      "image/png": "[encoded data removed]",
      "text/plain": [
       "<Figure size 432x288 with 2 Axes>"
      ]
     },
     "metadata": {
      "needs_background": "light"
     },
     "output_type": "display_data"
    }
   ],
   "source": [
    "sns.heatmap(df.corr(), annot=True, square=True)"
   ]
  },
  {
   "cell_type": "code",
   "execution_count": 8,
   "id": "b2aa43f2-2ba8-4116-90a0-6fd8baa8960a",
   "metadata": {},
   "outputs": [
    {
     "data": {
      "text/plain": [
       "<seaborn.axisgrid.PairGrid at 0x7fa0e02e8af0>"
      ]
     },
     "execution_count": 8,
     "metadata": {},
     "output_type": "execute_result"
    },
    {
     "data": {
      "image/png": "[encoded data removed]",
      "text/plain": [
       "<Figure size 900x900 with 30 Axes>"
      ]
     },
     "metadata": {
      "needs_background": "light"
     },
     "output_type": "display_data"
    }
   ],
   "source": [
    "sns.pairplot(df)"
   ]
  },
  {
   "cell_type": "code",
   "execution_count": 9,
   "id": "0945cf10-085a-4304-b7a6-13bd4dcb9520",
   "metadata": {},
   "outputs": [
    {
     "data": {
      "text/plain": [
       "<seaborn.matrix.ClusterGrid at 0x7fa0dfea1b20>"
      ]
     },
     "execution_count": 9,
     "metadata": {},
     "output_type": "execute_result"
    },
    {
     "data": {
      "image/png": "[encoded data removed]",
      "text/plain": [
       "<Figure size 720x720 with 4 Axes>"
      ]
     },
     "metadata": {
      "needs_background": "light"
     },
     "output_type": "display_data"
    }
   ],
   "source": [
    "sns.clustermap(df.sort_values(\"some_metric\"),z_score=1, row_cluster=False)\n",
    "#sns.clustermap(df.sort_values(\"some_metric\"),standard_scale=1, row_cluster=False)"
   ]
  },
  {
   "cell_type": "markdown",
   "id": "006e75bc-13e2-4477-a0d7-9c1bdc77810c",
   "metadata": {},
   "source": [
    "# Cache a property with dependency"
   ]
  },
  {
   "cell_type": "markdown",
   "id": "3ea0b323-3108-4de7-981c-61b625d89afc",
   "metadata": {},
   "source": [
    "Based on https://stackoverflow.com/questions/48262273/python-bookkeeping-dependencies-in-cached-attributes-that-might-change"
   ]
  },
  {
   "cell_type": "markdown",
   "id": "00e0c9c5-c89e-4d24-98ab-453fce233a8b",
   "metadata": {},
   "source": [
    "Let's make a simply RC model :"
   ]
  },
  {
   "cell_type": "markdown",
   "id": "f199e452-8f40-4e11-88d3-3bf3da22e217",
   "metadata": {},
   "source": [
    "## Using a builtin decorator `cached_property_depends_on`"
   ]
  },
  {
   "cell_type": "markdown",
   "id": "e62c6429-d31a-4aed-8424-c765d97f1de3",
   "metadata": {},
   "source": [
    "PROS : \n",
    " - only a decorator needed\n",
    "CONS : \n",
    " - no triggering at value change or dependcy graph"
   ]
  },
  {
   "cell_type": "code",
   "execution_count": 10,
   "id": "2c4cea29-8408-48f4-96ee-fbf74cb42d30",
   "metadata": {},
   "outputs": [
    {
     "name": "stdout",
     "output_type": "stream",
     "text": [
      "Slow computation...\n",
      "Bad first :  [0.         0.02040816 0.04081633 0.06122449 0.08163265 0.10204082\n",
      " 0.12244898 0.14285714 0.16326531 0.18367347 0.20408163 0.2244898\n",
      " 0.24489796 0.26530612 0.28571429 0.30612245 0.32653061 0.34693878\n",
      " 0.36734694 0.3877551  0.40816327 0.42857143 0.44897959 0.46938776\n",
      " 0.48979592 0.51020408 0.53061224 0.55102041 0.57142857 0.59183673\n",
      " 0.6122449  0.63265306 0.65306122 0.67346939 0.69387755 0.71428571\n",
      " 0.73469388 0.75510204 0.7755102  0.79591837 0.81632653 0.83673469\n",
      " 0.85714286 0.87755102 0.89795918 0.91836735 0.93877551 0.95918367\n",
      " 0.97959184 1.        ] s\n",
      "Slow computation...\n",
      "Bad second :  [0.         0.02040816 0.04081633 0.06122449 0.08163265 0.10204082\n",
      " 0.12244898 0.14285714 0.16326531 0.18367347 0.20408163 0.2244898\n",
      " 0.24489796 0.26530612 0.28571429 0.30612245 0.32653061 0.34693878\n",
      " 0.36734694 0.3877551  0.40816327 0.42857143 0.44897959 0.46938776\n",
      " 0.48979592 0.51020408 0.53061224 0.55102041 0.57142857 0.59183673\n",
      " 0.6122449  0.63265306 0.65306122 0.67346939 0.69387755 0.71428571\n",
      " 0.73469388 0.75510204 0.7755102  0.79591837 0.81632653 0.83673469\n",
      " 0.85714286 0.87755102 0.89795918 0.91836735 0.93877551 0.95918367\n",
      " 0.97959184 1.        ] s\n",
      "Slow computation...\n",
      "Good fisrt :  [0.         0.02040816 0.04081633 0.06122449 0.08163265 0.10204082\n",
      " 0.12244898 0.14285714 0.16326531 0.18367347 0.20408163 0.2244898\n",
      " 0.24489796 0.26530612 0.28571429 0.30612245 0.32653061 0.34693878\n",
      " 0.36734694 0.3877551  0.40816327 0.42857143 0.44897959 0.46938776\n",
      " 0.48979592 0.51020408 0.53061224 0.55102041 0.57142857 0.59183673\n",
      " 0.6122449  0.63265306 0.65306122 0.67346939 0.69387755 0.71428571\n",
      " 0.73469388 0.75510204 0.7755102  0.79591837 0.81632653 0.83673469\n",
      " 0.85714286 0.87755102 0.89795918 0.91836735 0.93877551 0.95918367\n",
      " 0.97959184 1.        ] s\n",
      "Good second :  [0.         0.02040816 0.04081633 0.06122449 0.08163265 0.10204082\n",
      " 0.12244898 0.14285714 0.16326531 0.18367347 0.20408163 0.2244898\n",
      " 0.24489796 0.26530612 0.28571429 0.30612245 0.32653061 0.34693878\n",
      " 0.36734694 0.3877551  0.40816327 0.42857143 0.44897959 0.46938776\n",
      " 0.48979592 0.51020408 0.53061224 0.55102041 0.57142857 0.59183673\n",
      " 0.6122449  0.63265306 0.65306122 0.67346939 0.69387755 0.71428571\n",
      " 0.73469388 0.75510204 0.7755102  0.79591837 0.81632653 0.83673469\n",
      " 0.85714286 0.87755102 0.89795918 0.91836735 0.93877551 0.95918367\n",
      " 0.97959184 1.        ] s\n"
     ]
    }
   ],
   "source": [
    "import time\n",
    "from functools import lru_cache\n",
    "from operator import attrgetter\n",
    "\n",
    "from physipy.quantity.utils import cached_property_depends_on\n",
    "\n",
    "class BADTimeConstantRC:\n",
    "    \n",
    "    def __init__(self, R, C):\n",
    "        self.R = R\n",
    "        self.C = np.linspace(0*Farad, C)\n",
    "        \n",
    "    @property\n",
    "    def tau(self):\n",
    "        print(\"Slow computation...\")\n",
    "        time.sleep(5)\n",
    "        return self.R * self.C\n",
    "    \n",
    "class GOODTimeConstantRC:\n",
    "    \n",
    "    def __init__(self, R, C):\n",
    "        self.R = R\n",
    "        self.C = np.linspace(0*Farad, C)\n",
    "    \n",
    "    @cached_property_depends_on('R', 'C')\n",
    "    def tau(self):\n",
    "        print(\"Slow computation...\")\n",
    "        time.sleep(5)\n",
    "        return self.R * self.C\n",
    "    \n",
    "    \n",
    "from physipy import units\n",
    "ohm = units[\"ohm\"]\n",
    "Farad = units[\"F\"]\n",
    "bad = BADTimeConstantRC(ohm, Farad)\n",
    "print(\"Bad first : \", bad.tau) # This is long the first time...\n",
    "print(\"Bad second : \", bad.tau) # ... but also the second time !\n",
    "\n",
    "good = GOODTimeConstantRC(ohm, Farad)\n",
    "print(\"Good fisrt : \", good.tau) # This is long the first time...\n",
    "print(\"Good second : \", good.tau) # ... but not the second time since neither R nor C have changed."
   ]
  },
  {
   "cell_type": "markdown",
   "id": "2347819a-8e6f-4deb-ab4c-1a0d55046f46",
   "metadata": {},
   "source": [
    "## using the acylic_model"
   ]
  },
  {
   "cell_type": "markdown",
   "id": "12d0e904-90f2-45fe-82be-839e723a634c",
   "metadata": {},
   "source": [
    "This is another way to write a model with dependencies. Like the previous one, changing a parameter doesn't immediately triggger a computation of dependendant parameters, only at get-time."
   ]
  },
  {
   "cell_type": "markdown",
   "id": "20ae8a9c-cde4-48b7-aff3-9461e63bb6ad",
   "metadata": {},
   "source": [
    "PROS : \n",
    " - dependency graph automatic  \n",
    "\n",
    "CONS : \n",
    " - definition of parameter is disinguished from computation method"
   ]
  },
  {
   "cell_type": "code",
   "execution_count": 29,
   "id": "118c9313-d556-4ca2-aacf-15e848a2e400",
   "metadata": {},
   "outputs": [
    {
     "name": "stdout",
     "output_type": "stream",
     "text": [
      "1.0 kg*m**2/(A**2*s**3) 1.0 A**2*s**4/(kg*m**2)\n",
      "Throu _tau\n",
      "1.0 s\n",
      "Throu _tau\n",
      "2.0 s\n",
      "2.0 s\n",
      "Throu _tau\n",
      "2.0 s\n"
     ]
    }
   ],
   "source": [
    "from physipy import units, s\n",
    "F = units[\"F\"]\n",
    "ohm = units[\"ohm\"]\n",
    "\n",
    "from physipy.quantity._acyclic_model import IndependentAttr, DeterminantAttr\n",
    "\n",
    "class TimeConstant():\n",
    "    # This class corrects the dependency problems in the DataflowFail class by using the following descriptors:\n",
    "    # The following defines the directed acyclic computation graph for these attributes.\n",
    "    R = IndependentAttr(ohm, 'R')\n",
    "    C = IndependentAttr(F,  'C')\n",
    "    tau = DeterminantAttr(['R', \"C\"], '_tau', 'tau')\n",
    "\n",
    "    def _tau(self):\n",
    "        print(\"Throu _tau\")\n",
    "        self.tau = self.R * self.C\n",
    "\n",
    "\n",
    "tc = TimeConstant()\n",
    "print(tc.R, tc.C)\n",
    "print(tc.tau)\n",
    "tc.R = 2*ohm\n",
    "print(tc.tau)\n",
    "print(tc.tau)\n",
    "tc.R = 2*ohm\n",
    "print(tc.tau)"
   ]
  },
  {
   "cell_type": "markdown",
   "id": "c2ebf2c1-e376-4f89-83c7-e91ddced9cea",
   "metadata": {
    "tags": []
   },
   "source": [
    "# Dynamic models"
   ]
  },
  {
   "cell_type": "markdown",
   "id": "65c3210c-4a8a-4bb0-b487-60f31bddde49",
   "metadata": {},
   "source": [
    "## Using traitlets and widgets"
   ]
  },
  {
   "cell_type": "markdown",
   "id": "e8750436-041c-42a9-825a-19f953983ce1",
   "metadata": {},
   "source": [
    "Lets try to make the RC model using traitlets"
   ]
  },
  {
   "cell_type": "markdown",
   "id": "e9283c31-a741-4b2b-9f10-725e090d23df",
   "metadata": {},
   "source": [
    "PROS : \n",
    " - \n",
    " \n",
    "CONS :  \n",
    " - tau and compute_tau are separeted"
   ]
  },
  {
   "cell_type": "code",
   "execution_count": 9,
   "id": "a21af47a-9558-44b4-972e-1dc7ee0b03a8",
   "metadata": {},
   "outputs": [
    {
     "name": "stdout",
     "output_type": "stream",
     "text": [
      "setting name for label tau\n",
      "dict_keys(['R_w', 'C_w'])\n",
      "2.0 ohm 2.0 F\n",
      "setting the callbacks\n",
      "setting the callbacks\n",
      "trying to compute\n",
      "4.0 s\n"
     ]
    },
    {
     "data": {
      "text/latex": [
       "$2.0\\,ohm$"
      ],
      "text/plain": [
       "<Quantity : 2.0 kg*m**2/(A**2*s**3), symbol=ohm*UndefinedSymbol>"
      ]
     },
     "metadata": {},
     "output_type": "display_data"
    },
    {
     "data": {
      "text/latex": [
       "$2.0\\,F$"
      ],
      "text/plain": [
       "<Quantity : 2.0 A**2*s**4/(kg*m**2), symbol=F*UndefinedSymbol>"
      ]
     },
     "metadata": {},
     "output_type": "display_data"
    },
    {
     "data": {
      "application/vnd.jupyter.widget-view+json": {
       "model_id": "c6575050e701461ea7bc3e402e38d670",
       "version_major": 2,
       "version_minor": 0
      },
      "text/plain": [
       "QuantityTextSlider(value=<Quantity : 2.0 A**2*s**4/(kg*m**2), symbol=F*UndefinedSymbol>, children=(QuantitySli…"
      ]
     },
     "metadata": {},
     "output_type": "display_data"
    },
    {
     "data": {
      "application/vnd.jupyter.widget-view+json": {
       "model_id": "f2bfee8a977d46f1936861594c2b5a65",
       "version_major": 2,
       "version_minor": 0
      },
      "text/plain": [
       "QuantityTextSlider(value=<Quantity : 2.0 kg*m**2/(A**2*s**3), symbol=ohm*UndefinedSymbol>, children=(QuantityS…"
      ]
     },
     "metadata": {},
     "output_type": "display_data"
    },
    {
     "data": {
      "application/vnd.jupyter.widget-view+json": {
       "model_id": "c6575050e701461ea7bc3e402e38d670",
       "version_major": 2,
       "version_minor": 0
      },
      "text/plain": [
       "QuantityTextSlider(value=<Quantity : 2.0 A**2*s**4/(kg*m**2), symbol=F*UndefinedSymbol>, children=(QuantitySli…"
      ]
     },
     "metadata": {},
     "output_type": "display_data"
    },
    {
     "data": {
      "application/vnd.jupyter.widget-view+json": {
       "model_id": "8fcedd6bc4af4b678ecf134dd6ffca55",
       "version_major": 2,
       "version_minor": 0
      },
      "text/plain": [
       "Label(value='tau:4.0 s')"
      ]
     },
     "metadata": {},
     "output_type": "display_data"
    },
    {
     "data": {
      "text/plain": []
     },
     "execution_count": 9,
     "metadata": {},
     "output_type": "execute_result"
    }
   ],
   "source": [
    "import traitlets\n",
    "import ipywidgets as ipyw\n",
    "from physipy import units, s, Quantity\n",
    "from physipy.qwidgets.qipywidgets import QuantityTextSlider, QuantityText, QuantitySliderDescriptor\n",
    "F = units[\"F\"]\n",
    "ohm = units[\"ohm\"]\n",
    "\n",
    "    \n",
    "class QuantityLabelDescriptor():\n",
    "    \n",
    "    def __init__(self, deps_names, cb_name):\n",
    "        self.deps_names = deps_names\n",
    "        self.cb_name = cb_name\n",
    "        \n",
    "    \n",
    "    def __set_name__(self, owner, name):\n",
    "        print(\"setting name for label\", name)\n",
    "        # self.R\n",
    "        self.public_name = name\n",
    "        # actually refers to self._R_w\n",
    "        self.private_name_w=  name + \"_w\"\n",
    "        # \n",
    "        self.private_name_q = name + \"_q\"\n",
    "        \n",
    "        ## if widget already exists\n",
    "        #if hasattr(owner, self.private_name):\n",
    "        #    # get the private widget value, and set its value to the result of compute_\n",
    "        #    setattr(getattr(owner, self.private_name), \"value\", getattr(owner, \"compute_\"+self.public_name)())\n",
    "        #else:\n",
    "        #    print(\"create new widget\")\n",
    "        #    setattr(owner, self.private_name, ipyw.Label(self.public_name + \":\" + \"\"))\n",
    "        #    # get the widget\n",
    "        #    w = getattr(owner, self.private_name)\n",
    "        #    # set the widget value to\n",
    "        #    setattr(w, \"value\", str(getattr(owner, \"compute_\"+self.public_name)(owner)))\n",
    "\n",
    "            \n",
    "    def _update_text(self, obj):\n",
    "        setattr(obj, self.private_name_w+\"value\", str(getattr(obj, self.private_name_q)))\n",
    "    \n",
    "    \n",
    "    def __get__(self, obj, objtype):\n",
    "        # quantity never computed yet\n",
    "        for dep in self.deps_names:\n",
    "            # get the ref to the widget of the dependency\n",
    "            print('setting the callbacks')\n",
    "            getattr(obj, dep+\"_w\").observe(lambda e:self._update_text(obj), \"value\")\n",
    "        \n",
    "        if hasattr(obj, self.private_name_q):\n",
    "            return getattr(obj, self.private_name_q)\n",
    "        else:\n",
    "\n",
    "            print(\"trying to compute\")\n",
    "            res = getattr(obj, \"compute_\"+self.public_name)()\n",
    "            setattr(obj, self.private_name_q, res)\n",
    "            setattr(obj, self.private_name_w, ipyw.Label(self.public_name + \":\" + str(res)))\n",
    "            \n",
    "            return res\n",
    "    #def __get__(self, obj, objtype):\n",
    "    #    if hasattr(obj, self.private_name):\n",
    "    #        setattr(getattr(obj, self.private_name), \"value\", str(getattr(obj, \"compute_\"+self.public_name)()))\n",
    "    #    else:\n",
    "    #        print(\"create new widget\")\n",
    "    #        setattr(obj, self.private_name, ipyw.Label(self.public_name + \":\" + \"\"))\n",
    "    #    for dep in self.deps_names:\n",
    "    #        # get the ref to the widget of the dependency\n",
    "    #        print('setting the callbacks')\n",
    "    #        getattr(obj, \"_\"+dep+\"_w\").observe(self._update_text(obj), \"value\")\n",
    "    #    if not hasattr(obj, self.private_name):\n",
    "    #        res = getattr(obj, \"compute_\"+self.public_name)()\n",
    "    #        setattr(obj, self.private_name, ipyw.Label(self.public_name + \":\" + str(res)))\n",
    "    #        return res\n",
    "#\n",
    "    #    return getattr(obj, \"compute_\"+self.public_name)()\n",
    "    \n",
    "    def __set__(self, obj, value):\n",
    "        if hasattr(obj, self.private_name_w):\n",
    "            # set the actual quantity value\n",
    "            setattr(obj, self.private_name_q, value)\n",
    "            self._update_text(obj)\n",
    "        else:\n",
    "            print(\"create new widget\")\n",
    "            setattr(obj, self.private_name, ipyw.Label(self.public_name + \":\" + str(value)))\n",
    "            \n",
    "\n",
    "\n",
    "        \n",
    "class TraitletsRC():\n",
    "    \"\"\"\n",
    "    To introspect descriptors : \n",
    "        # introspect the descriptors/attributes\n",
    "        print(vars(TraitletsRC(2*ohm, 2*F)))\n",
    "        # introspect the slider\n",
    "        print(vars(vars(TraitletsRC(2*ohm, 2*F))[\"_R_w\"]))\n",
    "    \"\"\"\n",
    "    \n",
    "    R = QuantitySliderDescriptor()\n",
    "    C = QuantitySliderDescriptor(min=0.01*F, max=200*F)\n",
    "    tau = QuantityLabelDescriptor([\"R\", \"C\"], \"compute_tau\")\n",
    "\n",
    "    def __init__(self, R, C):\n",
    "        self.R = R\n",
    "        self.C = C\n",
    "        \n",
    "    \n",
    "    def compute_tau(self):\n",
    "        return self.R * self.C\n",
    "    \n",
    "    def __repr__(self):\n",
    "        display(self.R_w)\n",
    "        display(self.C_w)\n",
    "        display(self.tau_w)\n",
    "        return \"\"\n",
    "    \n",
    "rc = TraitletsRC(2*ohm, 2*F)\n",
    "print(vars(rc).keys())\n",
    "print(rc.R, rc.C)\n",
    "print(rc.tau)\n",
    "#print(rc.tau)\n",
    "display(rc.R)\n",
    "display(rc.C)\n",
    "display(rc.C_w)\n",
    "rc"
   ]
  },
  {
   "cell_type": "code",
   "execution_count": 10,
   "id": "ecc2d668-c813-430d-be12-c98f96dfcee7",
   "metadata": {},
   "outputs": [],
   "source": [
    "rc.R = 4*ohm"
   ]
  },
  {
   "cell_type": "code",
   "execution_count": 11,
   "id": "4c23e55a-d74e-453d-8893-ebe3cd75b96a",
   "metadata": {},
   "outputs": [
    {
     "name": "stdout",
     "output_type": "stream",
     "text": [
      "setting the callbacks\n",
      "setting the callbacks\n"
     ]
    },
    {
     "data": {
      "text/latex": [
       "$4.0\\,s$"
      ],
      "text/plain": [
       "<Quantity : 4.0 s, symbol=ohm*UndefinedSymbol*F*UndefinedSymbol>"
      ]
     },
     "execution_count": 11,
     "metadata": {},
     "output_type": "execute_result"
    }
   ],
   "source": [
    "rc.tau"
   ]
  },
  {
   "cell_type": "code",
   "execution_count": 12,
   "id": "1ecf205e-d576-4b10-a91b-d733942f0a9b",
   "metadata": {},
   "outputs": [
    {
     "name": "stdout",
     "output_type": "stream",
     "text": [
      "R_w\n",
      "C_w\n",
      "tau_q\n",
      "tau_w\n",
      "tau_wvalue\n"
     ]
    }
   ],
   "source": [
    "for i in vars(rc):\n",
    "    print(i)"
   ]
  },
  {
   "cell_type": "markdown",
   "id": "876153aa-caf5-4398-8fb4-5eb39d771c12",
   "metadata": {
    "tags": []
   },
   "source": [
    "## Using acyclic_model : dependent model\n",
    "Using the acyclic module"
   ]
  },
  {
   "cell_type": "code",
   "execution_count": 41,
   "id": "4b2bed8d-e0ab-4f50-b08f-6bc94d02e407",
   "metadata": {},
   "outputs": [],
   "source": [
    "from physipy import units, set_favunit, s\n",
    "from physipy.quantity._acyclic_model import IndependentAttr, DeterminantAttr\n",
    "import numpy as np\n",
    "from numpy import exp\n",
    "ms = units[\"ms\"]\n",
    "V = units[\"V\"]\n",
    "F = units[\"F\"]\n",
    "ohm = units[\"ohm\"]\n",
    "\n",
    "\n",
    "class IRC2():\n",
    "    R  = IndependentAttr(1*ohm, 'R')\n",
    "    C  = IndependentAttr(1*F, 'C')\n",
    "    Ve = IndependentAttr(1*V, 'Ve')\n",
    "    u0 = IndependentAttr(0*V, 'u0')\n",
    "    \n",
    "    tau = DeterminantAttr(['R', 'C'], 'compute_tau', 'tau')\n",
    "    u = DeterminantAttr(['R', 'C', \"Ve\", \"u0\"], 'compute_u', 'u')\n",
    "\n",
    "    \n",
    "    def compute_tau(self):\n",
    "        self.tau = self.R * self.C\n",
    "        \n",
    "    def compute_u(self):\n",
    "        self.u = (self.u0 - self.Ve)*exp(-3*s/self.tau) + self.Ve"
   ]
  },
  {
   "cell_type": "markdown",
   "id": "6efefe94-0e3a-44ea-a36f-213d385a76fb",
   "metadata": {
    "tags": []
   },
   "source": [
    "## ObservableQuanttity class: observable pattern\n",
    " - Standalone Quantity-Like class for a quantity\n",
    " - Update a quantity's \".value\" will trigger callbacks."
   ]
  },
  {
   "cell_type": "code",
   "execution_count": 13,
   "id": "d4a1efbe-4dcc-4f6f-a854-0fcd27b9da8a",
   "metadata": {},
   "outputs": [
    {
     "name": "stdout",
     "output_type": "stream",
     "text": [
      "value changed\n",
      "2 kg*m**2/(A**2*s**3)\n",
      "4 kg*m**2/(A**2*s**3)\n",
      "8 kg**2*m**4/(A**4*s**6)\n",
      "value changed\n",
      "valuechanged with change {'old': 2, 'new': 1}\n"
     ]
    }
   ],
   "source": [
    "from physipy import units\n",
    "from physipy import Quantity\n",
    "\n",
    "class ObservableQuantity(Quantity):\n",
    "    \n",
    "    def __init__(self, *args, cb_for_init=None, **kwargs):\n",
    "        self._callbacks = []\n",
    "        if cb_for_init is not None:\n",
    "            self._callbacks.append(cb_for_init)\n",
    "        super().__init__(*args, **kwargs)\n",
    "    \n",
    "    def register_callback_when_value_changes(self, cb):\n",
    "        \"\"\"\n",
    "        Register a callback that will be called on value change.\n",
    "        \"\"\"\n",
    "        self._callbacks.append(cb)\n",
    "    \n",
    "    def notify_change_in_value(self, change):\n",
    "        \"\"\"\n",
    "        Activate all callbacks that were registered.\n",
    "        \"\"\"\n",
    "        for callback in self._callbacks:\n",
    "            callback(change)\n",
    "    \n",
    "    @Quantity.value.setter\n",
    "    def value(self, value):\n",
    "        \"\"\"\n",
    "        Based on Quantity.value.setter\n",
    "        \"\"\"\n",
    "        # handle the initial setting value, we can't \"get\" it yet\n",
    "        try:\n",
    "            old = self.value\n",
    "        except:\n",
    "            old = \"NotDefinedYet\"\n",
    "        if isinstance(value, (list, tuple)):\n",
    "            self._value = np.array(value)\n",
    "        else:\n",
    "            self._value = value\n",
    "        change = {\"old\":old, \"new\":value}\n",
    "        self.notify_change_in_value(change)    \n",
    "\n",
    "obs_r = ObservableQuantity(2, ohm.dimension, cb_for_init=lambda _:print(\"value changed\"))\n",
    "print(obs_r)\n",
    "print(obs_r*2)\n",
    "print(obs_r**2 + obs_r**2)\n",
    "\n",
    "obs_r.register_callback_when_value_changes(lambda change:print(\"valuechanged with change\", change))\n",
    "obs_r.value = 1"
   ]
  },
  {
   "cell_type": "code",
   "execution_count": 14,
   "id": "a76229ba-99a4-4e7c-800a-8cad5b65b821",
   "metadata": {},
   "outputs": [
    {
     "name": "stdout",
     "output_type": "stream",
     "text": [
      "1 kg*m**2/(A**2*s**3)\n",
      "2 kg*m**2/(A**2*s**3) <class '__main__.ObservableQuantity'>\n",
      "2 kg*m**2/(A**2*s**3) <class '__main__.ObservableQuantity'>\n"
     ]
    }
   ],
   "source": [
    "print(obs_r)\n",
    "print(obs_r*2, type(obs_r*2))\n",
    "print(obs_r+obs_r, type(obs_r+obs_r))"
   ]
  },
  {
   "cell_type": "markdown",
   "id": "ad0ad82c-8f36-40df-ae75-5b277e0945fd",
   "metadata": {},
   "source": [
    "## Using a descriptor approach"
   ]
  },
  {
   "cell_type": "markdown",
   "id": "985f47d4-46ee-4f15-9323-398efe08067d",
   "metadata": {},
   "source": [
    " - Registering a Quantity by declaring the other quantities that should be updated.\n",
    " - Dependent tau is immediately computed and updated.\n",
    " - For class model that wraps several quantities"
   ]
  },
  {
   "cell_type": "code",
   "execution_count": 4,
   "id": "12a6b8e7-931d-4cf9-ac26-3ddc4f2736e8",
   "metadata": {},
   "outputs": [
    {
     "name": "stdout",
     "output_type": "stream",
     "text": [
      "First getting tau\n",
      "updating tau with {}\n",
      "1.0 A**2*s**4/(kg*m**2) 1.0 kg*m**2/(A**2*s**3) 1000.0 ms\n",
      "Now changing R\n",
      "updating tau with {'old': <Quantity : 1.0 kg*m**2/(A**2*s**3), symbol=ohm*UndefinedSymbol>, 'new': <Quantity : 2.0 kg*m**2/(A**2*s**3), symbol=ohm*UndefinedSymbol>}\n",
      "Second getting tau\n",
      "1.0 A**2*s**4/(kg*m**2) 2.0 kg*m**2/(A**2*s**3) 2000.0 ms\n",
      "{'R': <Quantity : 1.0 kg*m**2/(A**2*s**3), symbol=ohm*UndefinedSymbol>, 'C': <Quantity : 1.0 A**2*s**4/(kg*m**2), symbol=F*UndefinedSymbol>, 'tau': <Quantity : 1.0 s, symbol=ohm*UndefinedSymbol*F*UndefinedSymbol>}\n"
     ]
    }
   ],
   "source": [
    "from physipy import units, s, set_favunit, setup_matplotlib\n",
    "setup_matplotlib()\n",
    "import numpy as np\n",
    "import matplotlib.pyplot as plt\n",
    "from physipy.quantity._observables_model import ObservableQuantityDescriptor\n",
    "\n",
    "ms = units[\"ms\"]\n",
    "ohm = units[\"ohm\"]\n",
    "F = units[\"F\"]\n",
    "V = units[\"V\"]\n",
    "\n",
    "class RC():\n",
    "    \n",
    "    R = ObservableQuantityDescriptor([\"tau\"])\n",
    "    C = ObservableQuantityDescriptor([\"tau\"])\n",
    "    tau = ObservableQuantityDescriptor()\n",
    "    \n",
    "    def __init__(self, R, C):\n",
    "        self.R = R\n",
    "        self.C = C\n",
    "    \n",
    "    def compute_tau(self, change):\n",
    "        print(\"updating tau with\", change)\n",
    "        self.tau = self.R * self.C\n",
    "        self.tau.favunit = ms\n",
    "\n",
    "    @property\n",
    "    def _state(self):\n",
    "        return self._observables_dict\n",
    "        \n",
    "rc = RC(1*ohm, 1*F)\n",
    "print(\"First getting tau\")\n",
    "print(rc.C, rc.R, rc.tau)\n",
    "\n",
    "print(\"Now changing R\")\n",
    "rc.R = 2*ohm\n",
    "print(\"Second getting tau\")\n",
    "print(rc.C, rc.R, rc.tau)\n",
    "\n",
    "print(rc._state)"
   ]
  },
  {
   "cell_type": "code",
   "execution_count": 5,
   "id": "dc2a86a8-216c-4a19-b9e6-e4518204cf53",
   "metadata": {},
   "outputs": [
    {
     "name": "stdout",
     "output_type": "stream",
     "text": [
      "updating response_line with {}\n",
      "updating tau with {}\n"
     ]
    },
    {
     "data": {
      "application/vnd.jupyter.widget-view+json": {
       "model_id": "246e6e96db8d431cb1d80aedc84c08c8",
       "version_major": 2,
       "version_minor": 0
      },
      "text/html": [
       "\n",
       "            <div style=\"display: inline-block;\">\n",
       "                <div class=\"jupyter-widgets widget-label\" style=\"text-align: center;\">\n",
       "                    Figure\n",
       "                </div>\n",
       "                <img src='data:image/png;base64,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' width=640.0/>\n",
       "            </div>\n",
       "        "
      ],
      "text/plain": [
       "Canvas(toolbar=Toolbar(toolitems=[('Home', 'Reset original view', 'home', 'home'), ('Back', 'Back to previous …"
      ]
     },
     "metadata": {},
     "output_type": "display_data"
    }
   ],
   "source": [
    "%matplotlib ipympl\n",
    "\n",
    "class RC_plot():\n",
    "    \n",
    "    R = ObservableQuantityDescriptor([\"tau\"])\n",
    "    C = ObservableQuantityDescriptor([\"tau\"])\n",
    "    tau = ObservableQuantityDescriptor([\"response_val\"])\n",
    "    response_val = ObservableQuantityDescriptor()\n",
    "    \n",
    "    def __init__(self, R, C, ech_t):\n",
    "        self.R = R\n",
    "        self.C = C\n",
    "        self.ech_t = ech_t\n",
    "    \n",
    "    def compute_tau(self, change):\n",
    "        print(\"updating tau with\", change)\n",
    "        self.tau = self.R * self.C\n",
    "        self.tau.favunit = ms\n",
    "        \n",
    "    def compute_response_val(self, change):\n",
    "        print(\"updating response_line with\", change)\n",
    "        self.response_val = self.response(self.ech_t)\n",
    "        try:\n",
    "            self.resp_line.set_ydata(self.response_val)\n",
    "        except:\n",
    "            pass\n",
    "        \n",
    "    @set_favunit(V)\n",
    "    def response(self, t):\n",
    "        return 1 - np.exp(-t/self.tau)\n",
    "\n",
    "    def plot(self):\n",
    "        fig, ax = plt.subplots()\n",
    "        self.fig = fig\n",
    "        self.ax = ax\n",
    "        \n",
    "        resp_line = self.ax.plot(self.ech_t, self.response_val)[0]\n",
    "        self.resp_line = resp_line\n",
    "\n",
    "    def get_descriptors(self):\n",
    "        for k, v in vars(rc).items():\n",
    "            if k.endswith(\"descriptor\"):\n",
    "                print(k, v)\n",
    "        \n",
    "rc = RC_plot(1*ohm, 1*F, np.arange(10, step=0.01)*s)\n",
    "rc.plot()"
   ]
  },
  {
   "cell_type": "code",
   "execution_count": 6,
   "id": "b769280a-1f40-4943-8d6f-415afc3332a7",
   "metadata": {},
   "outputs": [
    {
     "data": {
      "text/latex": [
       "$1.0\\,ohm$"
      ],
      "text/plain": [
       "<Quantity : 1.0 kg*m**2/(A**2*s**3), symbol=ohm*UndefinedSymbol>"
      ]
     },
     "execution_count": 6,
     "metadata": {},
     "output_type": "execute_result"
    }
   ],
   "source": [
    "rc.R"
   ]
  },
  {
   "cell_type": "code",
   "execution_count": 7,
   "id": "6eb1575b-3c10-4302-a52c-e994b96f6e33",
   "metadata": {},
   "outputs": [
    {
     "name": "stdout",
     "output_type": "stream",
     "text": [
      "updating tau with {'old': <Quantity : 1.0 kg*m**2/(A**2*s**3), symbol=ohm*UndefinedSymbol>, 'new': <Quantity : 0.5 kg*m**2/(A**2*s**3), symbol=ohm*UndefinedSymbol/UndefinedSymbol>}\n",
      "updating response_line with {'old': <Quantity : 1.0 s, symbol=ohm*UndefinedSymbol*F*UndefinedSymbol>, 'new': <Quantity : 0.5 s, symbol=ohm*UndefinedSymbol/UndefinedSymbol*F*UndefinedSymbol>}\n"
     ]
    }
   ],
   "source": [
    "rc.R = rc.R /2"
   ]
  },
  {
   "cell_type": "code",
   "execution_count": 8,
   "id": "3168178e-d610-4c6a-b08b-379d4b9e3e38",
   "metadata": {},
   "outputs": [
    {
     "name": "stdout",
     "output_type": "stream",
     "text": [
      "R <class 'physipy.quantity.quantity.Quantity'>\n",
      "C <class 'physipy.quantity.quantity.Quantity'>\n",
      "tau <class 'physipy.quantity.quantity.Quantity'>\n",
      "response_val <class 'physipy.quantity.quantity.Quantity'>\n"
     ]
    }
   ],
   "source": [
    "for k, v in rc._observables_dict.items():\n",
    "    print(k, type(v))"
   ]
  },
  {
   "cell_type": "markdown",
   "id": "84f4f47a-6d65-486b-8839-8a519f472304",
   "metadata": {
    "tags": []
   },
   "source": [
    "## Using autocalc"
   ]
  },
  {
   "cell_type": "markdown",
   "id": "2032e5fb-67cf-49cd-909a-9255bafc9324",
   "metadata": {},
   "source": [
    "Not working out of the box for physipy, but could be done with a little work.\n",
    "\n",
    "- https://medium.com/towards-data-science/create-a-simple-app-quickly-using-jupyter-notebook-312bdbb9d224\n",
    " - https://autocalc.readthedocs.io/en/latest/index.html\n",
    " - https://github.com/kefirbandi/autocalc\n"
   ]
  },
  {
   "cell_type": "code",
   "execution_count": 3,
   "id": "d05b9562-28a8-4e12-b818-cd33e73c342d",
   "metadata": {},
   "outputs": [
    {
     "data": {
      "application/vnd.jupyter.widget-view+json": {
       "model_id": "db329a41f0354f1f8c488b6acc4ffaa7",
       "version_major": 2,
       "version_minor": 0
      },
      "text/plain": [
       "HBox(children=(Button(description='a', disabled=True, style=ButtonStyle(button_color='lightgreen')), FloatText…"
      ]
     },
     "metadata": {},
     "output_type": "display_data"
    },
    {
     "data": {
      "application/vnd.jupyter.widget-view+json": {
       "model_id": "69ffa7bdb7a3438799340b2a10295511",
       "version_major": 2,
       "version_minor": 0
      },
      "text/plain": [
       "HBox(children=(Button(description='b', disabled=True, style=ButtonStyle(button_color='lightgreen')), FloatText…"
      ]
     },
     "metadata": {},
     "output_type": "display_data"
    },
    {
     "data": {
      "application/vnd.jupyter.widget-view+json": {
       "model_id": "d76c0eab674d48f485c880ecfcee0ebe",
       "version_major": 2,
       "version_minor": 0
      },
      "text/plain": [
       "HBox(children=(Button(description='c', disabled=True, style=ButtonStyle(button_color='lightgreen')), FloatText…"
      ]
     },
     "metadata": {},
     "output_type": "display_data"
    },
    {
     "data": {
      "application/vnd.jupyter.widget-view+json": {
       "model_id": "9b7c90b8405d49ccade681622daaa1cf",
       "version_major": 2,
       "version_minor": 0
      },
      "text/plain": [
       "HBox(children=(Button(description='X1', disabled=True, style=ButtonStyle(button_color='lightgreen')), FloatTex…"
      ]
     },
     "metadata": {},
     "output_type": "display_data"
    },
    {
     "data": {
      "application/vnd.jupyter.widget-view+json": {
       "model_id": "75c9299d7d74465fa545b79b79381ae0",
       "version_major": 2,
       "version_minor": 0
      },
      "text/plain": [
       "HBox(children=(Button(description='X2', disabled=True, style=ButtonStyle(button_color='lightgreen')), FloatTex…"
      ]
     },
     "metadata": {},
     "output_type": "display_data"
    }
   ],
   "source": [
    "import ipywidgets as widgets\n",
    "from autocalc.autocalc import Var\n",
    "import math\n",
    "\n",
    "a = Var('a', initial_value = 1, widget = widgets.FloatText())\n",
    "b = Var('b', initial_value = -3, widget = widgets.FloatText())\n",
    "c = Var('c', initial_value = 1, widget = widgets.FloatText())\n",
    "\n",
    "display(a); display(b); display(c)\n",
    "\n",
    "\n",
    "def Dfun(a, b, c):\n",
    "    try:\n",
    "        return math.sqrt(b*b-4*a*c)\n",
    "    except ValueError:\n",
    "        return math.nan\n",
    "\n",
    "def x1fun(a,b,D):\n",
    "    return (-b-D)/2/a\n",
    "def x2fun(a,b,D):\n",
    "    return (-b+D)/2/a\n",
    "\n",
    "\n",
    "D = Var('D', fun=Dfun, inputs=[a, b, c])\n",
    "x1 = Var('X1', fun=x1fun, inputs=[a, b, D], widget = widgets.FloatText(), read_only=True)\n",
    "x2 = Var('X2', fun=x2fun, inputs=[a, b, D], widget = widgets.FloatText(), read_only=True)\n",
    "display(x1)\n",
    "display(x2)"
   ]
  },
  {
   "cell_type": "code",
   "execution_count": 5,
   "id": "734a1e9c-e5b0-4189-9155-3e32a606a443",
   "metadata": {},
   "outputs": [
    {
     "name": "stdout",
     "output_type": "stream",
     "text": [
      "validating value 0.0\n",
      "0.0 <class 'physipy.quantity.quantity.Quantity'>\n",
      "validating value 1 m\n",
      "1 m <class 'physipy.quantity.quantity.Quantity'>\n",
      "validating value 0.0\n",
      "0.0 <class 'physipy.quantity.quantity.Quantity'>\n",
      "validating value -3 m\n",
      "-3 m <class 'physipy.quantity.quantity.Quantity'>\n",
      "validating value 0.0\n",
      "0.0 <class 'physipy.quantity.quantity.Quantity'>\n",
      "validating value 1 m\n",
      "1 m <class 'physipy.quantity.quantity.Quantity'>\n"
     ]
    },
    {
     "data": {
      "application/vnd.jupyter.widget-view+json": {
       "model_id": "98f2a470ec2e4b74aec4bb0f79421cc6",
       "version_major": 2,
       "version_minor": 0
      },
      "text/plain": [
       "HBox(children=(Button(description='a', disabled=True, style=ButtonStyle(button_color='lightgreen')), QuantityT…"
      ]
     },
     "metadata": {},
     "output_type": "display_data"
    },
    {
     "data": {
      "application/vnd.jupyter.widget-view+json": {
       "model_id": "1fdb4fdf285c4b319b219af91b29d5d5",
       "version_major": 2,
       "version_minor": 0
      },
      "text/plain": [
       "HBox(children=(Button(description='b', disabled=True, style=ButtonStyle(button_color='lightgreen')), QuantityT…"
      ]
     },
     "metadata": {},
     "output_type": "display_data"
    },
    {
     "data": {
      "application/vnd.jupyter.widget-view+json": {
       "model_id": "c572291ed2744e8dbeb860ae56e6f999",
       "version_major": 2,
       "version_minor": 0
      },
      "text/plain": [
       "HBox(children=(Button(description='c', disabled=True, style=ButtonStyle(button_color='lightgreen')), QuantityT…"
      ]
     },
     "metadata": {},
     "output_type": "display_data"
    },
    {
     "name": "stdout",
     "output_type": "stream",
     "text": [
      "2.23606797749979 m**1.0\n",
      "validating value 0.0\n",
      "0.0 <class 'physipy.quantity.quantity.Quantity'>\n"
     ]
    },
    {
     "ename": "TraitError",
     "evalue": "The 'value' trait of a QuantityText instance expected a Quantity, not the float 0.3819660112501051.",
     "output_type": "error",
     "traceback": [
      "\u001b[0;31m---------------------------------------------------------------------------\u001b[0m",
      "\u001b[0;31mTraitError\u001b[0m                                Traceback (most recent call last)",
      "\u001b[0;32m/var/folders/5k/bf4syt7x1zjbhc6b28srzzym0000gn/T/ipykernel_33083/569431131.py\u001b[0m in \u001b[0;36m<module>\u001b[0;34m\u001b[0m\n\u001b[1;32m     22\u001b[0m \u001b[0;34m\u001b[0m\u001b[0m\n\u001b[1;32m     23\u001b[0m \u001b[0mD\u001b[0m \u001b[0;34m=\u001b[0m \u001b[0mVar\u001b[0m\u001b[0;34m(\u001b[0m\u001b[0;34m'D'\u001b[0m\u001b[0;34m,\u001b[0m \u001b[0mfun\u001b[0m\u001b[0;34m=\u001b[0m\u001b[0mDfun\u001b[0m\u001b[0;34m,\u001b[0m \u001b[0minputs\u001b[0m\u001b[0;34m=\u001b[0m\u001b[0;34m[\u001b[0m\u001b[0ma\u001b[0m\u001b[0;34m,\u001b[0m \u001b[0mb\u001b[0m\u001b[0;34m,\u001b[0m \u001b[0mc\u001b[0m\u001b[0;34m]\u001b[0m\u001b[0;34m)\u001b[0m\u001b[0;34m\u001b[0m\u001b[0;34m\u001b[0m\u001b[0m\n\u001b[0;32m---> 24\u001b[0;31m \u001b[0mx1\u001b[0m \u001b[0;34m=\u001b[0m \u001b[0mVar\u001b[0m\u001b[0;34m(\u001b[0m\u001b[0;34m'X1'\u001b[0m\u001b[0;34m,\u001b[0m \u001b[0mfun\u001b[0m\u001b[0;34m=\u001b[0m\u001b[0mx1fun\u001b[0m\u001b[0;34m,\u001b[0m \u001b[0minputs\u001b[0m\u001b[0;34m=\u001b[0m\u001b[0;34m[\u001b[0m\u001b[0ma\u001b[0m\u001b[0;34m,\u001b[0m \u001b[0mb\u001b[0m\u001b[0;34m,\u001b[0m \u001b[0mD\u001b[0m\u001b[0;34m]\u001b[0m\u001b[0;34m,\u001b[0m \u001b[0mwidget\u001b[0m \u001b[0;34m=\u001b[0m \u001b[0mQuantityText\u001b[0m\u001b[0;34m(\u001b[0m\u001b[0;34m)\u001b[0m\u001b[0;34m,\u001b[0m \u001b[0mread_only\u001b[0m\u001b[0;34m=\u001b[0m\u001b[0;32mTrue\u001b[0m\u001b[0;34m)\u001b[0m\u001b[0;34m\u001b[0m\u001b[0;34m\u001b[0m\u001b[0m\n\u001b[0m\u001b[1;32m     25\u001b[0m \u001b[0mx2\u001b[0m \u001b[0;34m=\u001b[0m \u001b[0mVar\u001b[0m\u001b[0;34m(\u001b[0m\u001b[0;34m'X2'\u001b[0m\u001b[0;34m,\u001b[0m \u001b[0mfun\u001b[0m\u001b[0;34m=\u001b[0m\u001b[0mx2fun\u001b[0m\u001b[0;34m,\u001b[0m \u001b[0minputs\u001b[0m\u001b[0;34m=\u001b[0m\u001b[0;34m[\u001b[0m\u001b[0ma\u001b[0m\u001b[0;34m,\u001b[0m \u001b[0mb\u001b[0m\u001b[0;34m,\u001b[0m \u001b[0mD\u001b[0m\u001b[0;34m]\u001b[0m\u001b[0;34m,\u001b[0m \u001b[0mwidget\u001b[0m \u001b[0;34m=\u001b[0m \u001b[0mQuantityText\u001b[0m\u001b[0;34m(\u001b[0m\u001b[0;34m)\u001b[0m\u001b[0;34m,\u001b[0m \u001b[0mread_only\u001b[0m\u001b[0;34m=\u001b[0m\u001b[0;32mTrue\u001b[0m\u001b[0;34m)\u001b[0m\u001b[0;34m\u001b[0m\u001b[0;34m\u001b[0m\u001b[0m\n\u001b[1;32m     26\u001b[0m \u001b[0mdisplay\u001b[0m\u001b[0;34m(\u001b[0m\u001b[0mx1\u001b[0m\u001b[0;34m)\u001b[0m\u001b[0;34m\u001b[0m\u001b[0;34m\u001b[0m\u001b[0m\n",
      "\u001b[0;32m/opt/anaconda3/lib/python3.9/site-packages/autocalc/autocalc.py\u001b[0m in \u001b[0;36m__init__\u001b[0;34m(self, name, fun, inputs, initial_value, lazy, widget, read_only, description, undefined_input_handling)\u001b[0m\n\u001b[1;32m    115\u001b[0m         \u001b[0mself\u001b[0m\u001b[0;34m.\u001b[0m\u001b[0m_set_raw\u001b[0m\u001b[0;34m(\u001b[0m\u001b[0minitial_value\u001b[0m\u001b[0;34m,\u001b[0m \u001b[0mskip_updating_this_widget\u001b[0m\u001b[0;34m=\u001b[0m \u001b[0minitial_value\u001b[0m \u001b[0;32mis\u001b[0m \u001b[0mundefined\u001b[0m\u001b[0;34m)\u001b[0m \u001b[0;31m# The underlying value\u001b[0m\u001b[0;34m\u001b[0m\u001b[0;34m\u001b[0m\u001b[0m\n\u001b[1;32m    116\u001b[0m         \u001b[0;32mif\u001b[0m \u001b[0;34m(\u001b[0m\u001b[0minitial_value\u001b[0m \u001b[0;32mis\u001b[0m \u001b[0mundefined\u001b[0m\u001b[0;34m)\u001b[0m \u001b[0;32mand\u001b[0m \u001b[0;34m(\u001b[0m\u001b[0;32mnot\u001b[0m \u001b[0mlazy\u001b[0m\u001b[0;34m)\u001b[0m \u001b[0;32mand\u001b[0m \u001b[0;34m(\u001b[0m\u001b[0mself\u001b[0m\u001b[0;34m.\u001b[0m\u001b[0mfun\u001b[0m \u001b[0;32mis\u001b[0m \u001b[0;32mnot\u001b[0m \u001b[0;32mNone\u001b[0m\u001b[0;34m)\u001b[0m\u001b[0;34m:\u001b[0m\u001b[0;34m\u001b[0m\u001b[0;34m\u001b[0m\u001b[0m\n\u001b[0;32m--> 117\u001b[0;31m             \u001b[0mself\u001b[0m\u001b[0;34m.\u001b[0m\u001b[0m_recalc_this_node_only\u001b[0m\u001b[0;34m(\u001b[0m\u001b[0;34m)\u001b[0m\u001b[0;34m\u001b[0m\u001b[0;34m\u001b[0m\u001b[0m\n\u001b[0m\u001b[1;32m    118\u001b[0m \u001b[0;34m\u001b[0m\u001b[0m\n\u001b[1;32m    119\u001b[0m         \u001b[0;31m# self.outer_obj = None\u001b[0m\u001b[0;34m\u001b[0m\u001b[0;34m\u001b[0m\u001b[0m\n",
      "\u001b[0;32m/opt/anaconda3/lib/python3.9/site-packages/autocalc/autocalc.py\u001b[0m in \u001b[0;36m_recalc_this_node_only\u001b[0;34m(self)\u001b[0m\n\u001b[1;32m    317\u001b[0m             \u001b[0mvalues\u001b[0m \u001b[0;34m=\u001b[0m \u001b[0;34m[\u001b[0m\u001b[0mv\u001b[0m\u001b[0;34m.\u001b[0m\u001b[0m_v\u001b[0m \u001b[0;32mfor\u001b[0m \u001b[0mv\u001b[0m \u001b[0;32min\u001b[0m \u001b[0mself\u001b[0m\u001b[0;34m.\u001b[0m\u001b[0minputs\u001b[0m\u001b[0;34m]\u001b[0m\u001b[0;34m\u001b[0m\u001b[0;34m\u001b[0m\u001b[0m\n\u001b[1;32m    318\u001b[0m             \u001b[0mv\u001b[0m \u001b[0;34m=\u001b[0m \u001b[0mself\u001b[0m\u001b[0;34m.\u001b[0m\u001b[0mfun\u001b[0m\u001b[0;34m(\u001b[0m\u001b[0;34m*\u001b[0m\u001b[0mvalues\u001b[0m\u001b[0;34m)\u001b[0m\u001b[0;34m\u001b[0m\u001b[0;34m\u001b[0m\u001b[0m\n\u001b[0;32m--> 319\u001b[0;31m             \u001b[0mself\u001b[0m\u001b[0;34m.\u001b[0m\u001b[0m_set_raw\u001b[0m\u001b[0;34m(\u001b[0m\u001b[0mv\u001b[0m\u001b[0;34m)\u001b[0m\u001b[0;34m\u001b[0m\u001b[0;34m\u001b[0m\u001b[0m\n\u001b[0m\u001b[1;32m    320\u001b[0m \u001b[0;34m\u001b[0m\u001b[0m\n\u001b[1;32m    321\u001b[0m     \u001b[0;34m@\u001b[0m\u001b[0mproperty\u001b[0m\u001b[0;34m\u001b[0m\u001b[0;34m\u001b[0m\u001b[0m\n",
      "\u001b[0;32m/opt/anaconda3/lib/python3.9/site-packages/autocalc/autocalc.py\u001b[0m in \u001b[0;36m_set_raw\u001b[0;34m(self, value, skip_updating_this_widget)\u001b[0m\n\u001b[1;32m    207\u001b[0m                 \u001b[0mself\u001b[0m\u001b[0;34m.\u001b[0m\u001b[0mwidget\u001b[0m\u001b[0;34m.\u001b[0m\u001b[0mvalue\u001b[0m \u001b[0;34m=\u001b[0m \u001b[0mself\u001b[0m\u001b[0;34m.\u001b[0m\u001b[0mwidget_default\u001b[0m\u001b[0;34m\u001b[0m\u001b[0;34m\u001b[0m\u001b[0m\n\u001b[1;32m    208\u001b[0m             \u001b[0;32melse\u001b[0m\u001b[0;34m:\u001b[0m\u001b[0;34m\u001b[0m\u001b[0;34m\u001b[0m\u001b[0m\n\u001b[0;32m--> 209\u001b[0;31m                 \u001b[0mself\u001b[0m\u001b[0;34m.\u001b[0m\u001b[0mwidget\u001b[0m\u001b[0;34m.\u001b[0m\u001b[0mvalue\u001b[0m \u001b[0;34m=\u001b[0m \u001b[0mvalue\u001b[0m\u001b[0;34m\u001b[0m\u001b[0;34m\u001b[0m\u001b[0m\n\u001b[0m\u001b[1;32m    210\u001b[0m             \u001b[0mself\u001b[0m\u001b[0;34m.\u001b[0m\u001b[0min_widget_handling\u001b[0m\u001b[0;34m.\u001b[0m\u001b[0mset\u001b[0m\u001b[0;34m(\u001b[0m\u001b[0mprev_state\u001b[0m\u001b[0;34m)\u001b[0m\u001b[0;34m\u001b[0m\u001b[0;34m\u001b[0m\u001b[0m\n\u001b[1;32m    211\u001b[0m \u001b[0;34m\u001b[0m\u001b[0m\n",
      "\u001b[0;32m/opt/anaconda3/lib/python3.9/site-packages/traitlets/traitlets.py\u001b[0m in \u001b[0;36m__set__\u001b[0;34m(self, obj, value)\u001b[0m\n\u001b[1;32m    604\u001b[0m             \u001b[0;32mraise\u001b[0m \u001b[0mTraitError\u001b[0m\u001b[0;34m(\u001b[0m\u001b[0;34m'The \"%s\" trait is read-only.'\u001b[0m \u001b[0;34m%\u001b[0m \u001b[0mself\u001b[0m\u001b[0;34m.\u001b[0m\u001b[0mname\u001b[0m\u001b[0;34m)\u001b[0m\u001b[0;34m\u001b[0m\u001b[0;34m\u001b[0m\u001b[0m\n\u001b[1;32m    605\u001b[0m         \u001b[0;32melse\u001b[0m\u001b[0;34m:\u001b[0m\u001b[0;34m\u001b[0m\u001b[0;34m\u001b[0m\u001b[0m\n\u001b[0;32m--> 606\u001b[0;31m             \u001b[0mself\u001b[0m\u001b[0;34m.\u001b[0m\u001b[0mset\u001b[0m\u001b[0;34m(\u001b[0m\u001b[0mobj\u001b[0m\u001b[0;34m,\u001b[0m \u001b[0mvalue\u001b[0m\u001b[0;34m)\u001b[0m\u001b[0;34m\u001b[0m\u001b[0;34m\u001b[0m\u001b[0m\n\u001b[0m\u001b[1;32m    607\u001b[0m \u001b[0;34m\u001b[0m\u001b[0m\n\u001b[1;32m    608\u001b[0m     \u001b[0;32mdef\u001b[0m \u001b[0m_validate\u001b[0m\u001b[0;34m(\u001b[0m\u001b[0mself\u001b[0m\u001b[0;34m,\u001b[0m \u001b[0mobj\u001b[0m\u001b[0;34m,\u001b[0m \u001b[0mvalue\u001b[0m\u001b[0;34m)\u001b[0m\u001b[0;34m:\u001b[0m\u001b[0;34m\u001b[0m\u001b[0;34m\u001b[0m\u001b[0m\n",
      "\u001b[0;32m/opt/anaconda3/lib/python3.9/site-packages/traitlets/traitlets.py\u001b[0m in \u001b[0;36mset\u001b[0;34m(self, obj, value)\u001b[0m\n\u001b[1;32m    578\u001b[0m \u001b[0;34m\u001b[0m\u001b[0m\n\u001b[1;32m    579\u001b[0m     \u001b[0;32mdef\u001b[0m \u001b[0mset\u001b[0m\u001b[0;34m(\u001b[0m\u001b[0mself\u001b[0m\u001b[0;34m,\u001b[0m \u001b[0mobj\u001b[0m\u001b[0;34m,\u001b[0m \u001b[0mvalue\u001b[0m\u001b[0;34m)\u001b[0m\u001b[0;34m:\u001b[0m\u001b[0;34m\u001b[0m\u001b[0;34m\u001b[0m\u001b[0m\n\u001b[0;32m--> 580\u001b[0;31m         \u001b[0mnew_value\u001b[0m \u001b[0;34m=\u001b[0m \u001b[0mself\u001b[0m\u001b[0;34m.\u001b[0m\u001b[0m_validate\u001b[0m\u001b[0;34m(\u001b[0m\u001b[0mobj\u001b[0m\u001b[0;34m,\u001b[0m \u001b[0mvalue\u001b[0m\u001b[0;34m)\u001b[0m\u001b[0;34m\u001b[0m\u001b[0;34m\u001b[0m\u001b[0m\n\u001b[0m\u001b[1;32m    581\u001b[0m         \u001b[0;32mtry\u001b[0m\u001b[0;34m:\u001b[0m\u001b[0;34m\u001b[0m\u001b[0;34m\u001b[0m\u001b[0m\n\u001b[1;32m    582\u001b[0m             \u001b[0mold_value\u001b[0m \u001b[0;34m=\u001b[0m \u001b[0mobj\u001b[0m\u001b[0;34m.\u001b[0m\u001b[0m_trait_values\u001b[0m\u001b[0;34m[\u001b[0m\u001b[0mself\u001b[0m\u001b[0;34m.\u001b[0m\u001b[0mname\u001b[0m\u001b[0;34m]\u001b[0m\u001b[0;34m\u001b[0m\u001b[0;34m\u001b[0m\u001b[0m\n",
      "\u001b[0;32m/opt/anaconda3/lib/python3.9/site-packages/traitlets/traitlets.py\u001b[0m in \u001b[0;36m_validate\u001b[0;34m(self, obj, value)\u001b[0m\n\u001b[1;32m    610\u001b[0m             \u001b[0;32mreturn\u001b[0m \u001b[0mvalue\u001b[0m\u001b[0;34m\u001b[0m\u001b[0;34m\u001b[0m\u001b[0m\n\u001b[1;32m    611\u001b[0m         \u001b[0;32mif\u001b[0m \u001b[0mhasattr\u001b[0m\u001b[0;34m(\u001b[0m\u001b[0mself\u001b[0m\u001b[0;34m,\u001b[0m \u001b[0;34m'validate'\u001b[0m\u001b[0;34m)\u001b[0m\u001b[0;34m:\u001b[0m\u001b[0;34m\u001b[0m\u001b[0;34m\u001b[0m\u001b[0m\n\u001b[0;32m--> 612\u001b[0;31m             \u001b[0mvalue\u001b[0m \u001b[0;34m=\u001b[0m \u001b[0mself\u001b[0m\u001b[0;34m.\u001b[0m\u001b[0mvalidate\u001b[0m\u001b[0;34m(\u001b[0m\u001b[0mobj\u001b[0m\u001b[0;34m,\u001b[0m \u001b[0mvalue\u001b[0m\u001b[0;34m)\u001b[0m\u001b[0;34m\u001b[0m\u001b[0;34m\u001b[0m\u001b[0m\n\u001b[0m\u001b[1;32m    613\u001b[0m         \u001b[0;32mif\u001b[0m \u001b[0mobj\u001b[0m\u001b[0;34m.\u001b[0m\u001b[0m_cross_validation_lock\u001b[0m \u001b[0;32mis\u001b[0m \u001b[0;32mFalse\u001b[0m\u001b[0;34m:\u001b[0m\u001b[0;34m\u001b[0m\u001b[0;34m\u001b[0m\u001b[0m\n\u001b[1;32m    614\u001b[0m             \u001b[0mvalue\u001b[0m \u001b[0;34m=\u001b[0m \u001b[0mself\u001b[0m\u001b[0;34m.\u001b[0m\u001b[0m_cross_validate\u001b[0m\u001b[0;34m(\u001b[0m\u001b[0mobj\u001b[0m\u001b[0;34m,\u001b[0m \u001b[0mvalue\u001b[0m\u001b[0;34m)\u001b[0m\u001b[0;34m\u001b[0m\u001b[0;34m\u001b[0m\u001b[0m\n",
      "\u001b[0;32m/opt/anaconda3/lib/python3.9/site-packages/traitlets/traitlets.py\u001b[0m in \u001b[0;36mvalidate\u001b[0;34m(self, obj, value)\u001b[0m\n\u001b[1;32m   1849\u001b[0m             \u001b[0;32mreturn\u001b[0m \u001b[0mvalue\u001b[0m\u001b[0;34m\u001b[0m\u001b[0;34m\u001b[0m\u001b[0m\n\u001b[1;32m   1850\u001b[0m         \u001b[0;32melse\u001b[0m\u001b[0;34m:\u001b[0m\u001b[0;34m\u001b[0m\u001b[0;34m\u001b[0m\u001b[0m\n\u001b[0;32m-> 1851\u001b[0;31m             \u001b[0mself\u001b[0m\u001b[0;34m.\u001b[0m\u001b[0merror\u001b[0m\u001b[0;34m(\u001b[0m\u001b[0mobj\u001b[0m\u001b[0;34m,\u001b[0m \u001b[0mvalue\u001b[0m\u001b[0;34m)\u001b[0m\u001b[0;34m\u001b[0m\u001b[0;34m\u001b[0m\u001b[0m\n\u001b[0m\u001b[1;32m   1852\u001b[0m \u001b[0;34m\u001b[0m\u001b[0m\n\u001b[1;32m   1853\u001b[0m     \u001b[0;32mdef\u001b[0m \u001b[0minfo\u001b[0m\u001b[0;34m(\u001b[0m\u001b[0mself\u001b[0m\u001b[0;34m)\u001b[0m\u001b[0;34m:\u001b[0m\u001b[0;34m\u001b[0m\u001b[0;34m\u001b[0m\u001b[0m\n",
      "\u001b[0;32m/opt/anaconda3/lib/python3.9/site-packages/traitlets/traitlets.py\u001b[0m in \u001b[0;36merror\u001b[0;34m(self, obj, value, error, info)\u001b[0m\n\u001b[1;32m    690\u001b[0m                     e = \"The '%s' trait expected %s, not %s.\" % (\n\u001b[1;32m    691\u001b[0m                         self.name, self.info(), describe(\"the\", value))\n\u001b[0;32m--> 692\u001b[0;31m                 \u001b[0;32mraise\u001b[0m \u001b[0mTraitError\u001b[0m\u001b[0;34m(\u001b[0m\u001b[0me\u001b[0m\u001b[0;34m)\u001b[0m\u001b[0;34m\u001b[0m\u001b[0;34m\u001b[0m\u001b[0m\n\u001b[0m\u001b[1;32m    693\u001b[0m \u001b[0;34m\u001b[0m\u001b[0m\n\u001b[1;32m    694\u001b[0m     \u001b[0;32mdef\u001b[0m \u001b[0mget_metadata\u001b[0m\u001b[0;34m(\u001b[0m\u001b[0mself\u001b[0m\u001b[0;34m,\u001b[0m \u001b[0mkey\u001b[0m\u001b[0;34m,\u001b[0m \u001b[0mdefault\u001b[0m\u001b[0;34m=\u001b[0m\u001b[0;32mNone\u001b[0m\u001b[0;34m)\u001b[0m\u001b[0;34m:\u001b[0m\u001b[0;34m\u001b[0m\u001b[0;34m\u001b[0m\u001b[0m\n",
      "\u001b[0;31mTraitError\u001b[0m: The 'value' trait of a QuantityText instance expected a Quantity, not the float 0.3819660112501051."
     ]
    }
   ],
   "source": [
    "a = Var('a', initial_value = 1*m, widget = QuantityText())\n",
    "b = Var('b', initial_value = -3*m, widget = QuantityText())\n",
    "c = Var('c', initial_value = 1*m, widget = QuantityText())\n",
    "\n",
    "display(a); display(b); display(c)\n",
    "\n",
    "\n",
    "def Dfun(a, b, c):\n",
    "    try:\n",
    "        res = (b*b-4*a*c)**0.5\n",
    "        print(res)\n",
    "        return res\n",
    "    except ValueError:\n",
    "        return math.nan\n",
    "\n",
    "def x1fun(a,b,D):\n",
    "    res = (-b-D)/2/a\n",
    "    return res\n",
    "def x2fun(a,b,D):\n",
    "    return (-b+D)/2/a\n",
    "\n",
    "\n",
    "D = Var('D', fun=Dfun, inputs=[a, b, c])\n",
    "x1 = Var('X1', fun=x1fun, inputs=[a, b, D], widget = QuantityText(), read_only=True)\n",
    "x2 = Var('X2', fun=x2fun, inputs=[a, b, D], widget = QuantityText(), read_only=True)\n",
    "display(x1)\n",
    "display(x2)"
   ]
  },
  {
   "cell_type": "markdown",
   "id": "f638b8a5-8ff9-4e7f-98a9-755932976a06",
   "metadata": {},
   "source": [
    "## pyqtgraph parameter tree"
   ]
  },
  {
   "cell_type": "markdown",
   "id": "f21eb4b7-a3d3-4eda-bb7c-f5fa72cb4fee",
   "metadata": {},
   "source": [
    "Not what I thought, basicaly just nested parameters"
   ]
  },
  {
   "cell_type": "markdown",
   "id": "9eb7841a-6280-46f9-89f3-63e4dc64221a",
   "metadata": {},
   "source": [
    "# Observable descriptor with dependency"
   ]
  },
  {
   "cell_type": "code",
   "execution_count": 64,
   "id": "53955a84-e587-4c4a-8ad9-49178989f66b",
   "metadata": {
    "lines_to_next_cell": 2
   },
   "outputs": [
    {
     "data": {
      "text/plain": [
       "Car with 4 wheels and 10.0 kg*m**2/s**3"
      ]
     },
     "execution_count": 64,
     "metadata": {},
     "output_type": "execute_result"
    }
   ],
   "source": [
    "from physipy import units\n",
    "\n",
    "W = units[\"W\"]\n",
    "\n",
    "\n",
    "class ObservableProperty:\n",
    "    \n",
    "    def __set_name__(self, owner: type, name: str) -> None:\n",
    "        \n",
    "        # generic callback setter to instance\n",
    "        def add_observer(obj, observer):\n",
    "            if not hasattr(obj, self.observers_name):\n",
    "                setattr(obj, self.observers_name, [])\n",
    "            getattr(obj, self.observers_name).append(observer)\n",
    "            \n",
    "        self.private_name = f'_{name}'\n",
    "        self.observers_name = f'_{name}_observers'\n",
    "        \n",
    "        # add the callback setter to the instance\n",
    "        setattr(owner, f'add_{name}_observer', add_observer)\n",
    "    \n",
    "    def __get__(self, obj, objtype=None):\n",
    "        if obj is None:\n",
    "            return self\n",
    "        return getattr(obj, self.private_name)\n",
    "\n",
    "    def __set__(self, obj, value):\n",
    "        setattr(obj, self.private_name, value)\n",
    "        for observer in getattr(obj, self.observers_name, []):\n",
    "            # using obj here allows to use \"self.toto\" in callbacks\n",
    "            observer(obj, value)\n",
    "         \n",
    "        \n",
    "\n",
    "class Car():\n",
    "    \n",
    "    wheels = ObservableProperty()\n",
    "    power = ObservableProperty()\n",
    "    \n",
    "    def __init__(self, wheels, power):\n",
    "        self.wheels = wheels\n",
    "        self.power = power\n",
    "        \n",
    "    \n",
    "    @property\n",
    "    def power_per_wheel(self):\n",
    "        return self.power/self.wheels\n",
    "\n",
    "    def __repr__(self):\n",
    "        return \"\".join([\"Car with \", str(self.wheels), \" wheels and \", str(self.power)])\n",
    "        \n",
    "        \n",
    "        \n",
    "car = Car(4, 10*W)\n",
    "car"
   ]
  },
  {
   "cell_type": "code",
   "execution_count": 65,
   "id": "96a5f1bb-c04c-4df9-a973-934f9f5eeccb",
   "metadata": {
    "lines_to_next_cell": 2
   },
   "outputs": [
    {
     "name": "stdout",
     "output_type": "stream",
     "text": [
      "4\n",
      "8\n",
      "8\n",
      "new is 16\n",
      "new is 32\n"
     ]
    },
    {
     "ename": "AttributeError",
     "evalue": "'Car' object has no attribute '_power_per_wheel'",
     "output_type": "error",
     "traceback": [
      "\u001b[0;31m---------------------------------------------------------------------------\u001b[0m",
      "\u001b[0;31mAttributeError\u001b[0m                            Traceback (most recent call last)",
      "\u001b[0;32m/var/folders/5k/bf4syt7x1zjbhc6b28srzzym0000gn/T/ipykernel_52892/31590898.py\u001b[0m in \u001b[0;36m<module>\u001b[0;34m\u001b[0m\n\u001b[1;32m      6\u001b[0m \u001b[0mcar\u001b[0m\u001b[0;34m.\u001b[0m\u001b[0mwheels\u001b[0m \u001b[0;34m=\u001b[0m \u001b[0mcar\u001b[0m\u001b[0;34m.\u001b[0m\u001b[0mwheels\u001b[0m\u001b[0;34m*\u001b[0m\u001b[0;36m2\u001b[0m\u001b[0;34m\u001b[0m\u001b[0;34m\u001b[0m\u001b[0m\n\u001b[1;32m      7\u001b[0m \u001b[0mcar\u001b[0m\u001b[0;34m.\u001b[0m\u001b[0madd_wheels_observer\u001b[0m\u001b[0;34m(\u001b[0m\u001b[0;32mlambda\u001b[0m \u001b[0mobj\u001b[0m\u001b[0;34m,\u001b[0m \u001b[0mnew\u001b[0m\u001b[0;34m:\u001b[0m\u001b[0mprint\u001b[0m\u001b[0;34m(\u001b[0m\u001b[0;34m\"new power per wheel\"\u001b[0m\u001b[0;34m,\u001b[0m \u001b[0mobj\u001b[0m\u001b[0;34m.\u001b[0m\u001b[0mpower_per_wheel\u001b[0m\u001b[0;34m)\u001b[0m\u001b[0;34m)\u001b[0m\u001b[0;34m\u001b[0m\u001b[0;34m\u001b[0m\u001b[0m\n\u001b[0;32m----> 8\u001b[0;31m \u001b[0mcar\u001b[0m\u001b[0;34m.\u001b[0m\u001b[0mwheels\u001b[0m \u001b[0;34m=\u001b[0m \u001b[0mcar\u001b[0m\u001b[0;34m.\u001b[0m\u001b[0mwheels\u001b[0m\u001b[0;34m*\u001b[0m\u001b[0;36m2\u001b[0m\u001b[0;34m\u001b[0m\u001b[0;34m\u001b[0m\u001b[0m\n\u001b[0m",
      "\u001b[0;32m/var/folders/5k/bf4syt7x1zjbhc6b28srzzym0000gn/T/ipykernel_52892/2611540785.py\u001b[0m in \u001b[0;36m__set__\u001b[0;34m(self, obj, value)\u001b[0m\n\u001b[1;32m     29\u001b[0m         \u001b[0;32mfor\u001b[0m \u001b[0mobserver\u001b[0m \u001b[0;32min\u001b[0m \u001b[0mgetattr\u001b[0m\u001b[0;34m(\u001b[0m\u001b[0mobj\u001b[0m\u001b[0;34m,\u001b[0m \u001b[0mself\u001b[0m\u001b[0;34m.\u001b[0m\u001b[0mobservers_name\u001b[0m\u001b[0;34m,\u001b[0m \u001b[0;34m[\u001b[0m\u001b[0;34m]\u001b[0m\u001b[0;34m)\u001b[0m\u001b[0;34m:\u001b[0m\u001b[0;34m\u001b[0m\u001b[0;34m\u001b[0m\u001b[0m\n\u001b[1;32m     30\u001b[0m             \u001b[0;31m# using obj here allows to use \"self.toto\" in callbacks\u001b[0m\u001b[0;34m\u001b[0m\u001b[0;34m\u001b[0m\u001b[0m\n\u001b[0;32m---> 31\u001b[0;31m             \u001b[0mobserver\u001b[0m\u001b[0;34m(\u001b[0m\u001b[0mobj\u001b[0m\u001b[0;34m,\u001b[0m \u001b[0mvalue\u001b[0m\u001b[0;34m)\u001b[0m\u001b[0;34m\u001b[0m\u001b[0;34m\u001b[0m\u001b[0m\n\u001b[0m\u001b[1;32m     32\u001b[0m \u001b[0;34m\u001b[0m\u001b[0m\n\u001b[1;32m     33\u001b[0m \u001b[0;34m\u001b[0m\u001b[0m\n",
      "\u001b[0;32m/var/folders/5k/bf4syt7x1zjbhc6b28srzzym0000gn/T/ipykernel_52892/31590898.py\u001b[0m in \u001b[0;36m<lambda>\u001b[0;34m(obj, new)\u001b[0m\n\u001b[1;32m      5\u001b[0m \u001b[0mprint\u001b[0m\u001b[0;34m(\u001b[0m\u001b[0mcar\u001b[0m\u001b[0;34m.\u001b[0m\u001b[0mwheels\u001b[0m\u001b[0;34m)\u001b[0m\u001b[0;34m\u001b[0m\u001b[0;34m\u001b[0m\u001b[0m\n\u001b[1;32m      6\u001b[0m \u001b[0mcar\u001b[0m\u001b[0;34m.\u001b[0m\u001b[0mwheels\u001b[0m \u001b[0;34m=\u001b[0m \u001b[0mcar\u001b[0m\u001b[0;34m.\u001b[0m\u001b[0mwheels\u001b[0m\u001b[0;34m*\u001b[0m\u001b[0;36m2\u001b[0m\u001b[0;34m\u001b[0m\u001b[0;34m\u001b[0m\u001b[0m\n\u001b[0;32m----> 7\u001b[0;31m \u001b[0mcar\u001b[0m\u001b[0;34m.\u001b[0m\u001b[0madd_wheels_observer\u001b[0m\u001b[0;34m(\u001b[0m\u001b[0;32mlambda\u001b[0m \u001b[0mobj\u001b[0m\u001b[0;34m,\u001b[0m \u001b[0mnew\u001b[0m\u001b[0;34m:\u001b[0m\u001b[0mprint\u001b[0m\u001b[0;34m(\u001b[0m\u001b[0;34m\"new power per wheel\"\u001b[0m\u001b[0;34m,\u001b[0m \u001b[0mobj\u001b[0m\u001b[0;34m.\u001b[0m\u001b[0mpower_per_wheel\u001b[0m\u001b[0;34m)\u001b[0m\u001b[0;34m)\u001b[0m\u001b[0;34m\u001b[0m\u001b[0;34m\u001b[0m\u001b[0m\n\u001b[0m\u001b[1;32m      8\u001b[0m \u001b[0mcar\u001b[0m\u001b[0;34m.\u001b[0m\u001b[0mwheels\u001b[0m \u001b[0;34m=\u001b[0m \u001b[0mcar\u001b[0m\u001b[0;34m.\u001b[0m\u001b[0mwheels\u001b[0m\u001b[0;34m*\u001b[0m\u001b[0;36m2\u001b[0m\u001b[0;34m\u001b[0m\u001b[0;34m\u001b[0m\u001b[0m\n",
      "\u001b[0;32m/var/folders/5k/bf4syt7x1zjbhc6b28srzzym0000gn/T/ipykernel_52892/2611540785.py\u001b[0m in \u001b[0;36m__get__\u001b[0;34m(self, obj, objtype)\u001b[0m\n\u001b[1;32m     23\u001b[0m         \u001b[0;32mif\u001b[0m \u001b[0mobj\u001b[0m \u001b[0;32mis\u001b[0m \u001b[0;32mNone\u001b[0m\u001b[0;34m:\u001b[0m\u001b[0;34m\u001b[0m\u001b[0;34m\u001b[0m\u001b[0m\n\u001b[1;32m     24\u001b[0m             \u001b[0;32mreturn\u001b[0m \u001b[0mself\u001b[0m\u001b[0;34m\u001b[0m\u001b[0;34m\u001b[0m\u001b[0m\n\u001b[0;32m---> 25\u001b[0;31m         \u001b[0;32mreturn\u001b[0m \u001b[0mgetattr\u001b[0m\u001b[0;34m(\u001b[0m\u001b[0mobj\u001b[0m\u001b[0;34m,\u001b[0m \u001b[0mself\u001b[0m\u001b[0;34m.\u001b[0m\u001b[0mprivate_name\u001b[0m\u001b[0;34m)\u001b[0m\u001b[0;34m\u001b[0m\u001b[0;34m\u001b[0m\u001b[0m\n\u001b[0m\u001b[1;32m     26\u001b[0m \u001b[0;34m\u001b[0m\u001b[0m\n\u001b[1;32m     27\u001b[0m     \u001b[0;32mdef\u001b[0m \u001b[0m__set__\u001b[0m\u001b[0;34m(\u001b[0m\u001b[0mself\u001b[0m\u001b[0;34m,\u001b[0m \u001b[0mobj\u001b[0m\u001b[0;34m,\u001b[0m \u001b[0mvalue\u001b[0m\u001b[0;34m)\u001b[0m\u001b[0;34m:\u001b[0m\u001b[0;34m\u001b[0m\u001b[0;34m\u001b[0m\u001b[0m\n",
      "\u001b[0;31mAttributeError\u001b[0m: 'Car' object has no attribute '_power_per_wheel'"
     ]
    }
   ],
   "source": [
    "print(car.wheels)\n",
    "car.wheels = car.wheels*2\n",
    "print(car.wheels)\n",
    "car.add_wheels_observer(lambda obj, new:print(\"new is\", new))\n",
    "print(car.wheels)\n",
    "car.wheels = car.wheels*2\n",
    "car.add_wheels_observer(lambda obj, new:print(\"new power per wheel\", obj.power_per_wheel))\n",
    "car.wheels = car.wheels*2"
   ]
  },
  {
   "cell_type": "code",
   "execution_count": 24,
   "id": "c23153b7-e211-46a1-8b04-6745d3e69f42",
   "metadata": {},
   "outputs": [
    {
     "data": {
      "text/plain": [
       "40"
      ]
     },
     "execution_count": 24,
     "metadata": {},
     "output_type": "execute_result"
    }
   ],
   "source": []
  },
  {
   "cell_type": "code",
   "execution_count": 1,
   "id": "1fe96de6-248a-495b-88fc-a165ca0e3f6e",
   "metadata": {},
   "outputs": [],
   "source": [
    "%matplotlib qt"
   ]
  },
  {
   "cell_type": "code",
   "execution_count": 7,
   "id": "a5933044-61c9-4783-befe-5cdaf2e5ec54",
   "metadata": {},
   "outputs": [
    {
     "name": "stdout",
     "output_type": "stream",
     "text": [
      "single click: button=1, x=316, y=714, xdata=140.244589, ydata=180.694805\n",
      "(140.24458874458855, 442.23593073593054)\n",
      "(421.7337662337661, 180.69480519480499)\n"
     ]
    },
    {
     "name": "stderr",
     "output_type": "stream",
     "text": [
      "Traceback (most recent call last):\n",
      "  File \"/opt/anaconda3/lib/python3.9/site-packages/matplotlib/cbook/__init__.py\", line 287, in process\n",
      "    func(*args, **kwargs)\n",
      "  File \"/var/folders/5k/bf4syt7x1zjbhc6b28srzzym0000gn/T/ipykernel_56736/896444645.py\", line 17, in update_cmap\n",
      "    cbar.update_normal(d)\n",
      "  File \"/opt/anaconda3/lib/python3.9/site-packages/matplotlib/colorbar.py\", line 539, in update_normal\n",
      "    _log.debug('colorbar update normal %r %r', mappable.norm, self.norm)\n",
      "AttributeError: 'MaskedArray' object has no attribute 'norm'\n"
     ]
    },
    {
     "name": "stdout",
     "output_type": "stream",
     "text": [
      "single click: button=1, x=226, y=544, xdata=165.359796, ydata=275.033585\n",
      "(165.3597961178604, 347.2547828515568)\n",
      "(353.4234743750871, 275.0335846948749)\n"
     ]
    },
    {
     "name": "stderr",
     "output_type": "stream",
     "text": [
      "Traceback (most recent call last):\n",
      "  File \"/opt/anaconda3/lib/python3.9/site-packages/matplotlib/cbook/__init__.py\", line 287, in process\n",
      "    func(*args, **kwargs)\n",
      "  File \"/var/folders/5k/bf4syt7x1zjbhc6b28srzzym0000gn/T/ipykernel_56736/896444645.py\", line 17, in update_cmap\n",
      "    cbar.update_normal(d)\n",
      "  File \"/opt/anaconda3/lib/python3.9/site-packages/matplotlib/colorbar.py\", line 539, in update_normal\n",
      "    _log.debug('colorbar update normal %r %r', mappable.norm, self.norm)\n",
      "AttributeError: 'MaskedArray' object has no attribute 'norm'\n"
     ]
    },
    {
     "name": "stdout",
     "output_type": "stream",
     "text": [
      "single click: button=1, x=712, y=360, xdata=291.879495, ydata=340.632641\n",
      "(245.58061940011058, 291.8794945515807)\n",
      "(340.6326405124531, 313.58676294872305)\n"
     ]
    },
    {
     "name": "stderr",
     "output_type": "stream",
     "text": [
      "Traceback (most recent call last):\n",
      "  File \"/opt/anaconda3/lib/python3.9/site-packages/matplotlib/cbook/__init__.py\", line 287, in process\n",
      "    func(*args, **kwargs)\n",
      "  File \"/var/folders/5k/bf4syt7x1zjbhc6b28srzzym0000gn/T/ipykernel_56736/896444645.py\", line 17, in update_cmap\n",
      "    cbar.update_normal(d)\n",
      "  File \"/opt/anaconda3/lib/python3.9/site-packages/matplotlib/colorbar.py\", line 539, in update_normal\n",
      "    _log.debug('colorbar update normal %r %r', mappable.norm, self.norm)\n",
      "AttributeError: 'MaskedArray' object has no attribute 'norm'\n"
     ]
    },
    {
     "name": "stdout",
     "output_type": "stream",
     "text": [
      "single click: button=1, x=608, y=368, xdata=271.717081, ydata=333.363784\n",
      "(268.9167459885532, 271.7170811791663)\n",
      "(333.36378365629076, 326.946348844469)\n"
     ]
    },
    {
     "name": "stderr",
     "output_type": "stream",
     "text": [
      "Traceback (most recent call last):\n",
      "  File \"/opt/anaconda3/lib/python3.9/site-packages/matplotlib/cbook/__init__.py\", line 287, in process\n",
      "    func(*args, **kwargs)\n",
      "  File \"/var/folders/5k/bf4syt7x1zjbhc6b28srzzym0000gn/T/ipykernel_56736/896444645.py\", line 17, in update_cmap\n",
      "    cbar.update_normal(d)\n",
      "  File \"/opt/anaconda3/lib/python3.9/site-packages/matplotlib/colorbar.py\", line 539, in update_normal\n",
      "    _log.debug('colorbar update normal %r %r', mappable.norm, self.norm)\n",
      "AttributeError: 'MaskedArray' object has no attribute 'norm'\n"
     ]
    },
    {
     "name": "stdout",
     "output_type": "stream",
     "text": [
      "single click: button=1, x=636, y=758, xdata=583.534632, ydata=119.742424\n",
      "(372.9718614718613, 583.5346320346318)\n",
      "(363.5519480519479, 119.74242424242402)\n"
     ]
    },
    {
     "name": "stderr",
     "output_type": "stream",
     "text": [
      "Traceback (most recent call last):\n",
      "  File \"/opt/anaconda3/lib/python3.9/site-packages/matplotlib/cbook/__init__.py\", line 287, in process\n",
      "    func(*args, **kwargs)\n",
      "  File \"/var/folders/5k/bf4syt7x1zjbhc6b28srzzym0000gn/T/ipykernel_56736/896444645.py\", line 17, in update_cmap\n",
      "    cbar.update_normal(d)\n",
      "  File \"/opt/anaconda3/lib/python3.9/site-packages/matplotlib/colorbar.py\", line 539, in update_normal\n",
      "    _log.debug('colorbar update normal %r %r', mappable.norm, self.norm)\n",
      "AttributeError: 'MaskedArray' object has no attribute 'norm'\n"
     ]
    },
    {
     "name": "stdout",
     "output_type": "stream",
     "text": [
      "single click: button=1, x=480, y=638, xdata=367.430736, ydata=285.976190\n",
      "(-0.5, 1023.5)\n",
      "(1023.5, -0.5)\n"
     ]
    },
    {
     "name": "stderr",
     "output_type": "stream",
     "text": [
      "Traceback (most recent call last):\n",
      "  File \"/opt/anaconda3/lib/python3.9/site-packages/matplotlib/cbook/__init__.py\", line 287, in process\n",
      "    func(*args, **kwargs)\n",
      "  File \"/var/folders/5k/bf4syt7x1zjbhc6b28srzzym0000gn/T/ipykernel_56736/1041871135.py\", line 17, in update_cmap\n",
      "    cbar.set_clim(vmin=np.min(d), vmax=np.max(d))\n",
      "AttributeError: 'Colorbar' object has no attribute 'set_clim'\n"
     ]
    }
   ],
   "source": [
    "import matplotlib.pyplot as plt\n",
    "import numpy as np\n",
    "\n",
    "t = np.linspace(0, 2 * np.pi, 1024)\n",
    "data2d = np.sin(t)[:, np.newaxis] * np.cos(t)[np.newaxis, :]\n",
    "\n",
    "fig, ax = plt.subplots()\n",
    "im = ax.imshow(data2d)\n",
    "ax.set_title('Pan on the colorbar to shift the color mapping\\n'\n",
    "             'Zoom on the colorbar to scale the color mapping')\n",
    "cbar = fig.colorbar(im, ax=ax, label='Interactive colorbar')\n",
    "\n",
    "def update_cmap(event):\n",
    "    print(ax.get_xlim())\n",
    "    print(ax.get_ylim())\n",
    "    d = im.get_array()\n",
    "    cbar.update_normal(d)\n",
    "    #cbar.set_ set_clim(vmin=np.min(d), vmax=np.max(d))    \n",
    "\n",
    "cid = fig.canvas.mpl_connect('button_release_event', update_cmap)\n",
    "\n",
    "def onclick(event):\n",
    "    print('%s click: button=%d, x=%d, y=%d, xdata=%f, ydata=%f' %\n",
    "          ('double' if event.dblclick else 'single', event.button,\n",
    "           event.x, event.y, event.xdata, event.ydata))\n",
    "\n",
    "cid = fig.canvas.mpl_connect('button_press_event', onclick)\n",
    "\n",
    "\n",
    "#plt.show()"
   ]
  },
  {
   "cell_type": "code",
   "execution_count": 6,
   "id": "784d0cb0-43ad-4847-aa31-bcae67d8f210",
   "metadata": {},
   "outputs": [],
   "source": []
  },
  {
   "cell_type": "code",
   "execution_count": 23,
   "id": "942e4dbe-332d-4126-8783-95d8d0d62eb6",
   "metadata": {},
   "outputs": [
    {
     "name": "stdout",
     "output_type": "stream",
     "text": [
      "2.0 ohm\n",
      "0.2 ohm\n",
      "value changed\n"
     ]
    }
   ],
   "source": [
    "from physipy import Quantity, Dimension, quantify, DimensionError, units\n",
    "ohm = units[\"ohm\"]\n",
    "\n",
    "class BoundedQuantity(Quantity):\n",
    "    \n",
    "    def __init__(self, *args, min=None, max=None, cb_for_init=None, **kwargs):\n",
    "\n",
    "        \n",
    "        self._callbacks = []\n",
    "        if cb_for_init is not None:\n",
    "            self._callbacks.append(cb_for_init)\n",
    "        \n",
    "        dim = args[1]\n",
    "        \n",
    "        if min is None:\n",
    "            min_v = 0\n",
    "            min = Quantity(min_v, dim)\n",
    "        else:\n",
    "            min = quantify(min)\n",
    "\n",
    "        if max is None:\n",
    "            max_v = 100\n",
    "            max = Quantity(max_v, dim)\n",
    "        else:\n",
    "            max = quantify(max)\n",
    "            \n",
    "        if not min.dimension == max.dimension:\n",
    "            raise DimensionError(min.dimension, max.dimension)\n",
    "        \n",
    "        if not dim == max.dimension:\n",
    "            raise DimensionError(min.dimension, max.dimension)\n",
    "            \n",
    "        self.min_value = min.value\n",
    "        self.max_value = max.value\n",
    "        #self.value = args[0]\n",
    "        super().__init__(*args, **kwargs)\n",
    "        \n",
    "    \n",
    "    @Quantity.value.setter\n",
    "    def value(self, value):\n",
    "        # handle the initial setting value, we can't \"get\" it yet\n",
    "        try:\n",
    "            old = self.value\n",
    "        except:\n",
    "            old = \"NotDefinedYet\"\n",
    "        if isinstance(value, (list, tuple)):\n",
    "            self._value = np.array(value)\n",
    "        else:\n",
    "            if self.min_value < value < self.max_value:\n",
    "                self._value = value\n",
    "            else:\n",
    "                raise ValueError(\"Value is not between min and max\")\n",
    "        change_dic = {\"old\":old, \"new\":value}\n",
    "        self.notify_change_in_value(change_dic)    \n",
    "        \n",
    "    \n",
    "    def register_callback_when_value_changes(self, cb):\n",
    "        \"\"\"\n",
    "        Register a callback that will be called on value change.\n",
    "        \"\"\"\n",
    "        self._callbacks.append(cb)\n",
    "    \n",
    "    \n",
    "    def notify_change_in_value(self, change_dic):\n",
    "        \"\"\"\n",
    "        Activate all callbacks that were registered.\n",
    "        \"\"\"\n",
    "        for callback in self._callbacks:\n",
    "            callback(change_dic)\n",
    "            \n",
    "    def as_ipyw(self):\n",
    "        \"\"\"\n",
    "        As slider\n",
    "        \"\"\"\n",
    "        from physipy.qwidgets.qipywidgets import QuantityTextSlider\n",
    "        s = QuantityTextSlider(self, min=self.min, max=self.max, favunit=self.favunit)\n",
    "        return s            \n",
    "                \n",
    "def bounded_quantity(init, min, max, favunit=None):\n",
    "    if favunit is None:\n",
    "        favunit = init.favunit\n",
    "    return BoundedQuantity(init.value, init.dimension, min=min, max=max, favunit=favunit)\n",
    "                \n",
    "R = bounded_quantity((2*ohm).set_favunit(ohm), 0*ohm, 3*ohm)#, favunit=ohm)\n",
    "print(R)\n",
    "R.value = 0.2\n",
    "print(R)\n",
    "R.register_callback_when_value_changes(lambda _: print(\"value changed\"))\n",
    "R.value = 0.5"
   ]
  },
  {
   "cell_type": "code",
   "execution_count": 38,
   "id": "8f773568-362c-4540-a3e0-c9d8549ce1b7",
   "metadata": {},
   "outputs": [],
   "source": [
    "from physipy.qwidgets.qipywidgets import QuantityTextSlider\n",
    "from physipy import set_favunit, units\n",
    "from physipy.quantity.utils import cached_property_depends_on\n",
    "V = units[\"V\"]\n",
    "Farad = units[\"F\"]"
   ]
  },
  {
   "cell_type": "code",
   "execution_count": 55,
   "id": "8dac5699-cf77-4fc2-bf82-7cd7f01fc65d",
   "metadata": {},
   "outputs": [
    {
     "name": "stdout",
     "output_type": "stream",
     "text": [
      "{'tau': ['R', 'C']}\n"
     ]
    }
   ],
   "source": [
    "class Model():\n",
    "    deps = {}\n",
    "    \n",
    "    def __repr__(self):\n",
    "        return \"Model with \"+\"\".join([k+\":\"+str(v) for k, v in self.pdict.items()])\n",
    "    \n",
    "    @classmethod\n",
    "    def register_dep(cls, base, high):\n",
    "        cls.deps[high] = [b for b in base]\n",
    "        \n",
    "class BestRC(Model):\n",
    "\n",
    "    def __init__(self, R, C):\n",
    "        super().__init__()\n",
    "        self.R = R\n",
    "        self.C = C\n",
    "        \n",
    "    BestRC.register_dep([\"R\", \"C\"], \"tau\")    \n",
    "    @property\n",
    "    def tau(self):\n",
    "        return self.R * self.C\n",
    "\n",
    "        \n",
    "    #@depends_on(\"tau\")\n",
    "    @set_favunit(V)\n",
    "    def response(self, t):\n",
    "        return 1 - np.exp(-t/self.tau)\n",
    "        \n",
    "       \n",
    "    @cached_property_depends_on('R', 'C')\n",
    "    def slow_tau(self):\n",
    "        time.sleep(5)\n",
    "        return self.tau**2\n",
    "\n",
    "        \n",
    "rc = BestRC(2*ohm, 3*Farad)\n",
    "rc = BestRC(R={\"init\":2*ohm, \"min\":3*ohm},\n",
    "        C=3*Farad)\n",
    "\n",
    "print(BestRC.deps)"
   ]
  },
  {
   "cell_type": "markdown",
   "id": "d1419636-6c41-4117-82f6-05d005592643",
   "metadata": {},
   "source": [
    "# List of wanted features"
   ]
  },
  {
   "cell_type": "markdown",
   "id": "aa57bd16-a263-45ed-a9a0-2ffd245f2dcd",
   "metadata": {},
   "source": [
    "- Handle min/max/step/initial value like a slider `\n",
    "- Handle favunit\n",
    "- Possibility to add callbacks after init\n",
    "- Cachable on param state\n",
    "- Get state of all params as a dict\n",
    "- Customize __repr__ with all parameters\n",
    "- Get a Model state that can be saved, with dependency\n",
    "- Access a slider using _`w` on parameter value\n",
    "\n",
    "\n",
    "```python\n",
    "# model inerhit for repr\n",
    "class BestRC(Model):\n",
    "\n",
    "    def __init__(self, R, C):\n",
    "        self.R = \n",
    "        self.C = \n",
    "    \n",
    "    #@depends_on(\"R\", \"C\")\n",
    "    @property\n",
    "    def tau(self):\n",
    "        return self.R * self.C\n",
    "    register_dep('R', 'C')(\"tau\")\n",
    "        \n",
    "    @depends_on(\"tau\")\n",
    "    @set_favunit(V)\n",
    "    def response(self, t):\n",
    "        return 1 - np.exp(-t/self.tau)\n",
    "        \n",
    "       \n",
    "    @cached_property_depends_on('R', 'C')\n",
    "    def slow_tau(self):\n",
    "        time.sleep(5)\n",
    "        return self.tau**2\n",
    "\n",
    "        \n",
    "rc = RC(2*ohm, 3*Farad)\n",
    "rc = RC(C={init=2*ohm, min=3*ohm},\n",
    "        F=3*Farad)\n",
    "\n",
    "\n",
    "```"
   ]
  },
  {
   "cell_type": "code",
   "execution_count": null,
   "id": "dca4da84-8a8c-43ab-924a-9793d166c4ea",
   "metadata": {},
   "outputs": [],
   "source": [
    "def decorator_creator(*param_args):\n",
    "    \n",
    "    # define decorator\n",
    "    def decorator(func):\n",
    "        def _wrapped_method(self, *method_args, **method_kwargs):\n",
    "            \n",
    "            return \n",
    "        return _wrapped_method\n",
    "    return decorator"
   ]
  },
  {
   "cell_type": "code",
   "execution_count": null,
   "id": "cdcd2930-dd6c-44e7-938a-720978afcd58",
   "metadata": {},
   "outputs": [],
   "source": []
  }
 ],
 "metadata": {
  "jupytext": {
   "text_representation": {
    "extension": ".py",
    "format_name": "percent",
    "format_version": "1.3",
    "jupytext_version": "1.13.4"
   }
  },
  "kernelspec": {
   "display_name": "base",
   "language": "python",
   "name": "python3"
  },
  "language_info": {
   "codemirror_mode": {
    "name": "ipython",
    "version": 3
   },
   "file_extension": ".py",
   "mimetype": "text/x-python",
   "name": "python",
   "nbconvert_exporter": "python",
   "pygments_lexer": "ipython3",
   "version": "3.9.7 (default, Sep 16 2021, 08:50:36) \n[Clang 10.0.0 ]"
  },
  "vscode": {
   "interpreter": {
    "hash": "40d3a090f54c6569ab1632332b64b2c03c39dcf918b08424e98f38b5ae0af88f"
   }
  }
 },
 "nbformat": 4,
 "nbformat_minor": 5
}
