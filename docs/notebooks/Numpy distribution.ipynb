{
 "cells": [
  {
   "cell_type": "code",
   "execution_count": 1,
   "metadata": {},
   "outputs": [],
   "source": [
    "from physipy import random as phyrandom, s\n",
    "import numpy as np"
   ]
  },
  {
   "cell_type": "code",
   "execution_count": 2,
   "metadata": {},
   "outputs": [
    {
     "data": {
      "text/latex": [
       "[-2.72707637  3.05046747  0.5355059  ...  3.29411116 -1.50727278\n",
       " -0.33131946]$\\,s$"
      ],
      "text/plain": [
       "<Quantity : [-2.72707637  3.05046747  0.5355059  ...  3.29411116 -1.50727278\n",
       " -0.33131946] s>"
      ]
     },
     "execution_count": 2,
     "metadata": {},
     "output_type": "execute_result"
    }
   ],
   "source": [
    "np.random.normal(1, 2, 10000)*s"
   ]
  },
  {
   "cell_type": "code",
   "execution_count": 3,
   "metadata": {},
   "outputs": [
    {
     "name": "stdout",
     "output_type": "stream",
     "text": [
      "[ 0.54010596  1.21329704 -0.73680816 ... -0.02293112  1.08127833\n",
      "  1.19832947]\n",
      "[-5.07220044 -0.14027761  2.45684238 ...  2.75964403  2.43181903\n",
      "  0.17210391] s\n",
      "[ 0.14942179 -0.08127315  2.22990057 ...  1.51512665  1.60337996\n",
      "  5.17615826] s\n"
     ]
    }
   ],
   "source": [
    "print(phyrandom.normal(1, 2, 10000))\n",
    "print(phyrandom.normal(1, 2, 10000)*s)\n",
    "print(phyrandom.normal(1*s, 2*s, 10000))"
   ]
  }
 ],
 "metadata": {
  "jupytext": {
   "text_representation": {
    "extension": ".py",
    "format_name": "percent",
    "format_version": "1.3",
    "jupytext_version": "1.13.2"
   }
  },
  "kernelspec": {
   "display_name": "Python 3 (ipykernel)",
   "language": "python",
   "name": "python3"
  },
  "language_info": {
   "codemirror_mode": {
    "name": "ipython",
    "version": 3
   },
   "file_extension": ".py",
   "mimetype": "text/x-python",
   "name": "python",
   "nbconvert_exporter": "python",
   "pygments_lexer": "ipython3",
   "version": "3.9.7"
  }
 },
 "nbformat": 4,
 "nbformat_minor": 4
}
