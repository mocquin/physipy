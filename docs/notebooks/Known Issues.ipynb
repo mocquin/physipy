{
 "cells": [
  {
   "attachments": {},
   "cell_type": "markdown",
   "metadata": {},
   "source": [
    "# Known issues"
   ]
  },
  {
   "attachments": {},
   "cell_type": "markdown",
   "metadata": {},
   "source": [
    "## A float quantity is Iterable\n",
    "https://docs.python.org/3/library/collections.abc.html#collections.abc.Iterable\n",
    "This tests if the object has \"__iter__\""
   ]
  },
  {
   "attachments": {},
   "cell_type": "markdown",
   "metadata": {},
   "source": [
    " - iter(x): on quantity doesn't raise a TypeError just because Quantity has a method called '__getitem__'. Would also if __iter__ was a method\n",
    " - np.iterable : (used by matplotlib units interface):\n",
    "```python \n",
    "try:\n",
    "    iter(y)\n",
    "except TypeError:\n",
    "    return False\n",
    "return True\n",
    "```\n",
    " -  https://docs.python.org/3/library/collections.abc.html#collections.abc.Iterable\n",
    " \n",
    "```\n",
    "class collections.abc.Iterable¶\n",
    "\n",
    "    ABC for classes that provide the __iter__() method.\n",
    "\n",
    "    Checking isinstance(obj, Iterable) detects classes that are registered as Iterable or that have an __iter__() method, but it does not detect classes that iterate with the __getitem__() method. The only reliable way to determine whether an object is iterable is to call iter(obj).\n",
    "\n",
    "```"
   ]
  },
  {
   "cell_type": "code",
   "execution_count": 1,
   "metadata": {},
   "outputs": [
    {
     "data": {
      "text/plain": [
       "True"
      ]
     },
     "execution_count": 1,
     "metadata": {},
     "output_type": "execute_result"
    }
   ],
   "source": [
    "import collections\n",
    "from physipy import m\n",
    "\n",
    "isinstance(m, collections.abc.Iterable)\n",
    "\n",
    "import numpy as np\n",
    "np.iterable(m)"
   ]
  },
  {
   "attachments": {},
   "cell_type": "markdown",
   "metadata": {},
   "source": [
    "As a comparison for the underlying value : "
   ]
  },
  {
   "cell_type": "code",
   "execution_count": 3,
   "metadata": {},
   "outputs": [
    {
     "name": "stdout",
     "output_type": "stream",
     "text": [
      "<class 'int'>\n"
     ]
    },
    {
     "ename": "TypeError",
     "evalue": "'int' object is not iterable",
     "output_type": "error",
     "traceback": [
      "\u001b[0;31m---------------------------------------------------------------------------\u001b[0m",
      "\u001b[0;31mTypeError\u001b[0m                                 Traceback (most recent call last)",
      "\u001b[0;32m/var/folders/5k/bf4syt7x1zjbhc6b28srzzym0000gn/T/ipykernel_3306/1657153042.py\u001b[0m in \u001b[0;36m<module>\u001b[0;34m\u001b[0m\n\u001b[1;32m      1\u001b[0m \u001b[0mprint\u001b[0m\u001b[0;34m(\u001b[0m\u001b[0mtype\u001b[0m\u001b[0;34m(\u001b[0m\u001b[0mm\u001b[0m\u001b[0;34m.\u001b[0m\u001b[0mvalue\u001b[0m\u001b[0;34m)\u001b[0m\u001b[0;34m)\u001b[0m\u001b[0;34m\u001b[0m\u001b[0;34m\u001b[0m\u001b[0m\n\u001b[0;32m----> 2\u001b[0;31m \u001b[0mprint\u001b[0m\u001b[0;34m(\u001b[0m\u001b[0miter\u001b[0m\u001b[0;34m(\u001b[0m\u001b[0mm\u001b[0m\u001b[0;34m)\u001b[0m\u001b[0;34m)\u001b[0m\u001b[0;34m\u001b[0m\u001b[0;34m\u001b[0m\u001b[0m\n\u001b[0m",
      "\u001b[0;32m~/MYLIB10/MODULES/physipy/physipy/quantity/quantity.py\u001b[0m in \u001b[0;36m__iter__\u001b[0;34m(self)\u001b[0m\n\u001b[1;32m    569\u001b[0m         \u001b[0;32mand\u001b[0m \u001b[0mnp\u001b[0m\u001b[0;34m.\u001b[0m\u001b[0miterable\u001b[0m\u001b[0;34m.\u001b[0m\u001b[0;34m\u001b[0m\u001b[0;34m\u001b[0m\u001b[0m\n\u001b[1;32m    570\u001b[0m         \"\"\"\n\u001b[0;32m--> 571\u001b[0;31m         \u001b[0miter\u001b[0m\u001b[0;34m(\u001b[0m\u001b[0mself\u001b[0m\u001b[0;34m.\u001b[0m\u001b[0mvalue\u001b[0m\u001b[0;34m)\u001b[0m\u001b[0;34m\u001b[0m\u001b[0;34m\u001b[0m\u001b[0m\n\u001b[0m\u001b[1;32m    572\u001b[0m         \u001b[0;32mif\u001b[0m \u001b[0misinstance\u001b[0m\u001b[0;34m(\u001b[0m\u001b[0mself\u001b[0m\u001b[0;34m.\u001b[0m\u001b[0mvalue\u001b[0m\u001b[0;34m,\u001b[0m \u001b[0mnp\u001b[0m\u001b[0;34m.\u001b[0m\u001b[0mndarray\u001b[0m\u001b[0;34m)\u001b[0m\u001b[0;34m:\u001b[0m\u001b[0;34m\u001b[0m\u001b[0;34m\u001b[0m\u001b[0m\n\u001b[1;32m    573\u001b[0m             \u001b[0;32mreturn\u001b[0m \u001b[0mQuantityIterator\u001b[0m\u001b[0;34m(\u001b[0m\u001b[0mself\u001b[0m\u001b[0;34m)\u001b[0m\u001b[0;34m\u001b[0m\u001b[0;34m\u001b[0m\u001b[0m\n",
      "\u001b[0;31mTypeError\u001b[0m: 'int' object is not iterable"
     ]
    }
   ],
   "source": [
    "print(type(m.value))\n",
    "print(iter(m))"
   ]
  },
  {
   "attachments": {},
   "cell_type": "markdown",
   "metadata": {
    "tags": []
   },
   "source": [
    "## Array repr with 0 value\n",
    "Pick best favunit take the smallest when 0 is in the array with positive and negative values :"
   ]
  },
  {
   "cell_type": "code",
   "execution_count": 5,
   "metadata": {},
   "outputs": [
    {
     "data": {
      "text/latex": [
       "[ 0.0e+00 -1.2e+24  1.2e+24]$\\,ym$"
      ],
      "text/plain": [
       "<Quantity : [ 0.  -1.2  1.2] m>"
      ]
     },
     "execution_count": 5,
     "metadata": {},
     "output_type": "execute_result"
    }
   ],
   "source": [
    "from physipy import m, Quantity, Dimension\n",
    "import numpy as np\n",
    "Quantity(np.array([0, -1.2, 1.2]), Dimension(\"L\"))"
   ]
  },
  {
   "attachments": {},
   "cell_type": "markdown",
   "metadata": {},
   "source": [
    "# Inplace change using asqarray"
   ]
  },
  {
   "cell_type": "code",
   "execution_count": 6,
   "metadata": {},
   "outputs": [
    {
     "name": "stdout",
     "output_type": "stream",
     "text": [
      "<class 'int'>\n",
      "<class 'int'>\n"
     ]
    },
    {
     "name": "stderr",
     "output_type": "stream",
     "text": [
      "/Users/mocquin/MYLIB10/MODULES/physipy/physipy/quantity/quantity.py:751: UserWarning: The unit of the quantity is stripped for __array_struct__\n",
      "  warnings.warn(f\"The unit of the quantity is stripped for {item}\")\n"
     ]
    }
   ],
   "source": [
    "from physipy.quantity.utils import asqarray\n",
    "print(type(m.value))\n",
    "arrq_9 = np.array([m.__copy__()], dtype=object)\n",
    "out = asqarray(arrq_9)\n",
    "# this changes the type of m value\n",
    "print(type(m.value))"
   ]
  },
  {
   "attachments": {},
   "cell_type": "markdown",
   "metadata": {},
   "source": [
    "# Numpy trapz implementaion not called when only x or dx is a quantity"
   ]
  },
  {
   "attachments": {},
   "cell_type": "markdown",
   "metadata": {},
   "source": [
    "Only work when the array to integrate is a quantity. An issue is open at : https://github.com/numpy/numpy/issues/18902."
   ]
  },
  {
   "cell_type": "code",
   "execution_count": 7,
   "metadata": {},
   "outputs": [],
   "source": [
    "from physipy import m\n",
    "import numpy as np"
   ]
  },
  {
   "cell_type": "code",
   "execution_count": 9,
   "metadata": {},
   "outputs": [
    {
     "name": "stdout",
     "output_type": "stream",
     "text": [
      "8.0 m\n",
      "8.0 m\n",
      "8.0 m\n",
      "----uncomment above line to trigger exception\n"
     ]
    }
   ],
   "source": [
    "# this works\n",
    "print(np.trapz(np.arange(5)*m))\n",
    "# also this\n",
    "print(np.trapz(np.arange(5), x=np.arange(5)*m))\n",
    "print(np.trapz(np.arange(5), dx=5000*m, x=np.arange(5)*m)) #dx is silent\n",
    "# but not this\n",
    "# np.trapz(np.arange(5), dx=5000*m)\n",
    "print(\"----uncomment above line to trigger exception\")"
   ]
  },
  {
   "attachments": {},
   "cell_type": "markdown",
   "metadata": {},
   "source": [
    "# Array function interface not triggered on scalars"
   ]
  },
  {
   "attachments": {},
   "cell_type": "markdown",
   "metadata": {},
   "source": [
    "Calling a numpy function with only scalars will not trigger the array function interface, since it is used only when an argument is an array."
   ]
  },
  {
   "cell_type": "code",
   "execution_count": 10,
   "metadata": {},
   "outputs": [
    {
     "data": {
      "text/plain": [
       "2.8596446816520693"
      ]
     },
     "execution_count": 10,
     "metadata": {},
     "output_type": "execute_result"
    }
   ],
   "source": [
    "from physipy import m\n",
    "# this raises a DimensionError because of the casting into float\n",
    "#np.random.normal(3*m, 1*m)\n",
    "# while this works\n",
    "np.random.normal(np.array(3*m), np.array(1*m))"
   ]
  },
  {
   "attachments": {},
   "cell_type": "markdown",
   "metadata": {},
   "source": [
    "# HALF-FIXED (Matplotlib histogram) by adding \"to_numpy\" method, but we loose the unit"
   ]
  },
  {
   "attachments": {},
   "cell_type": "markdown",
   "metadata": {},
   "source": [
    "It turns out that matplotlib first checks if the object has a \"to_numpy()\" method, then again improved by removing to_numpy and removing __iter__ and delegate it to getattr"
   ]
  },
  {
   "attachments": {},
   "cell_type": "markdown",
   "metadata": {},
   "source": [
    "Some preprocessing turn a quantity-array into a \"set of elements\", and plots one histogram for each value."
   ]
  },
  {
   "cell_type": "code",
   "execution_count": 11,
   "metadata": {},
   "outputs": [],
   "source": [
    "import numpy as np\n",
    "from physipy import m\n",
    "import matplotlib.pyplot as plt"
   ]
  },
  {
   "cell_type": "code",
   "execution_count": 12,
   "metadata": {},
   "outputs": [
    {
     "data": {
      "text/latex": [
       "[0.77510028 1.02692688 0.82458667 0.98335836 0.91954635 0.93200141\n",
       " 1.06254089 1.10455135 1.09023741 1.10103177 1.026317   0.83093738\n",
       " 0.94099114 1.1534862  1.0606804  1.1023009  1.12974713 1.15801316\n",
       " 0.98731712 1.06882969 0.97161314 0.86352201 0.89182966 0.8768534\n",
       " 0.8994358  1.02498588 1.02672016 0.96845546 1.12534779 1.00561238\n",
       " 1.02279429 1.07056477 0.9492133  0.91274716 1.05048081 0.96627151\n",
       " 1.02669064 0.83189018 0.96324937 1.13060259 0.90266738 1.15438202\n",
       " 0.80017485 1.16467932 0.98770121 0.95927471 0.97653359 1.02132051\n",
       " 1.23089246 0.93924862 0.82258946 0.95622603 1.00342641 0.86344481\n",
       " 0.99243329 0.91230646 0.99573178 1.08633306 1.19398477 1.0215252\n",
       " 1.11952956 1.05683548 0.88520692 1.01250757 1.05161642 0.99664025\n",
       " 1.11138056 1.10748649 1.16659512 1.02593404 0.85926943 0.98001556\n",
       " 0.97229262 1.06992373 1.01969076 1.09705661 0.90186104 1.04536702\n",
       " 1.14499949 0.76019103 1.03807758 1.03676373 1.01122003 0.98969461\n",
       " 1.1362876  1.13061323 0.83437231 0.88020199 0.98266846 1.14791214\n",
       " 1.22060232 1.0377038  0.97587149 1.05007434 0.90121208 1.03852177\n",
       " 0.99537476 1.03446496 1.1109446  1.07574295]$\\,m$"
      ],
      "text/plain": [
       "<Quantity : [0.77510028 1.02692688 0.82458667 0.98335836 0.91954635 0.93200141\n",
       " 1.06254089 1.10455135 1.09023741 1.10103177 1.026317   0.83093738\n",
       " 0.94099114 1.1534862  1.0606804  1.1023009  1.12974713 1.15801316\n",
       " 0.98731712 1.06882969 0.97161314 0.86352201 0.89182966 0.8768534\n",
       " 0.8994358  1.02498588 1.02672016 0.96845546 1.12534779 1.00561238\n",
       " 1.02279429 1.07056477 0.9492133  0.91274716 1.05048081 0.96627151\n",
       " 1.02669064 0.83189018 0.96324937 1.13060259 0.90266738 1.15438202\n",
       " 0.80017485 1.16467932 0.98770121 0.95927471 0.97653359 1.02132051\n",
       " 1.23089246 0.93924862 0.82258946 0.95622603 1.00342641 0.86344481\n",
       " 0.99243329 0.91230646 0.99573178 1.08633306 1.19398477 1.0215252\n",
       " 1.11952956 1.05683548 0.88520692 1.01250757 1.05161642 0.99664025\n",
       " 1.11138056 1.10748649 1.16659512 1.02593404 0.85926943 0.98001556\n",
       " 0.97229262 1.06992373 1.01969076 1.09705661 0.90186104 1.04536702\n",
       " 1.14499949 0.76019103 1.03807758 1.03676373 1.01122003 0.98969461\n",
       " 1.1362876  1.13061323 0.83437231 0.88020199 0.98266846 1.14791214\n",
       " 1.22060232 1.0377038  0.97587149 1.05007434 0.90121208 1.03852177\n",
       " 0.99537476 1.03446496 1.1109446  1.07574295] m>"
      ]
     },
     "execution_count": 12,
     "metadata": {},
     "output_type": "execute_result"
    }
   ],
   "source": [
    "arr = np.random.normal(1, 0.1, size=100)*m\n",
    "arr"
   ]
  },
  {
   "cell_type": "code",
   "execution_count": 13,
   "metadata": {},
   "outputs": [
    {
     "name": "stderr",
     "output_type": "stream",
     "text": [
      "/Users/mocquin/MYLIB10/MODULES/physipy/physipy/quantity/quantity.py:751: UserWarning: The unit of the quantity is stripped for __array_struct__\n",
      "  warnings.warn(f\"The unit of the quantity is stripped for {item}\")\n"
     ]
    },
    {
     "data": {
      "text/plain": [
       "(array([ 3.,  5.,  9.,  8., 18., 21., 12., 14.,  7.,  3.]),\n",
       " array([0.76019103, 0.80726117, 0.85433132, 0.90140146, 0.9484716 ,\n",
       "        0.99554174, 1.04261189, 1.08968203, 1.13675217, 1.18382231,\n",
       "        1.23089246]),\n",
       " <BarContainer object of 10 artists>)"
      ]
     },
     "execution_count": 13,
     "metadata": {},
     "output_type": "execute_result"
    },
    {
     "data": {
      "image/png": "[encoded data removed]",
      "text/plain": [
       "<Figure size 432x288 with 1 Axes>"
      ]
     },
     "metadata": {
      "needs_background": "light"
     },
     "output_type": "display_data"
    }
   ],
   "source": [
    "plt.hist(arr.value)\n",
    "plt.hist(arr)"
   ]
  },
  {
   "cell_type": "code",
   "execution_count": 14,
   "metadata": {},
   "outputs": [
    {
     "data": {
      "text/plain": [
       "(array([1., 1., 1., 1., 1., 1., 1., 1., 1., 1.]),\n",
       " array([0. , 0.9, 1.8, 2.7, 3.6, 4.5, 5.4, 6.3, 7.2, 8.1, 9. ]),\n",
       " <BarContainer object of 10 artists>)"
      ]
     },
     "execution_count": 14,
     "metadata": {},
     "output_type": "execute_result"
    },
    {
     "data": {
      "image/png": "[encoded data removed]",
      "text/plain": [
       "<Figure size 432x288 with 1 Axes>"
      ]
     },
     "metadata": {
      "needs_background": "light"
     },
     "output_type": "display_data"
    }
   ],
   "source": [
    "plt.hist(np.arange(10)*m)"
   ]
  },
  {
   "attachments": {},
   "cell_type": "markdown",
   "metadata": {},
   "source": [
    "# Matplotlib histogram, again : missing units support"
   ]
  },
  {
   "attachments": {},
   "cell_type": "markdown",
   "metadata": {},
   "source": [
    "Source code for hist : https://matplotlib.org/stable/_modules/matplotlib/axes/_axes.html#Axes.hist\n",
    "\n",
    "One of the first things done is : \n",
    "```python\n",
    "x = cbook._reshape_2D(x, 'x')\n",
    "```\n",
    "With \n",
    "```python\n",
    "Signature: cbook._reshape_2D(X, name)\n",
    "Source:   \n",
    "def _reshape_2D(X, name):\n",
    "    \"\"\"\n",
    "    Use Fortran ordering to convert ndarrays and lists of iterables to lists of\n",
    "    1D arrays.\n",
    "\n",
    "    Lists of iterables are converted by applying `np.asanyarray` to each of\n",
    "    their elements.  1D ndarrays are returned in a singleton list containing\n",
    "    them.  2D ndarrays are converted to the list of their *columns*.\n",
    "\n",
    "    *name* is used to generate the error message for invalid inputs.\n",
    "    \"\"\"\n",
    "\n",
    "    # unpack if we have a values or to_numpy method.\n",
    "    try:\n",
    "        X = X.to_numpy()\n",
    "    except AttributeError:\n",
    "        try:\n",
    "            if isinstance(X.values, np.ndarray):\n",
    "                X = X.values\n",
    "        except AttributeError:\n",
    "            pass\n",
    "\n",
    "    # Iterate over columns for ndarrays.\n",
    "    if isinstance(X, np.ndarray):\n",
    "        X = X.T\n",
    "\n",
    "        if len(X) == 0:\n",
    "            return [[]]\n",
    "        elif X.ndim == 1 and np.ndim(X[0]) == 0:\n",
    "            # 1D array of scalars: directly return it.\n",
    "            return [X]\n",
    "        elif X.ndim in [1, 2]:\n",
    "            # 2D array, or 1D array of iterables: flatten them first.\n",
    "            return [np.reshape(x, -1) for x in X]\n",
    "        else:\n",
    "            raise ValueError(f'{name} must have 2 or fewer dimensions')\n",
    "\n",
    "    # Iterate over list of iterables.\n",
    "    if len(X) == 0:\n",
    "        return [[]]\n",
    "\n",
    "    result = []\n",
    "    is_1d = True\n",
    "    for xi in X:\n",
    "        # check if this is iterable, except for strings which we\n",
    "        # treat as singletons.\n",
    "        if (isinstance(xi, collections.abc.Iterable) and\n",
    "                not isinstance(xi, str)):\n",
    "            is_1d = False\n",
    "        xi = np.asanyarray(xi)\n",
    "        nd = np.ndim(xi)\n",
    "        if nd > 1:\n",
    "            raise ValueError(f'{name} must have 2 or fewer dimensions')\n",
    "        result.append(xi.reshape(-1))\n",
    "\n",
    "    if is_1d:\n",
    "        # 1D array of scalars: directly return it.\n",
    "        return [np.reshape(result, -1)]\n",
    "    else:\n",
    "        # 2D array, or 1D array of iterables: use flattened version.\n",
    "        return result\n",
    "```"
   ]
  },
  {
   "cell_type": "code",
   "execution_count": 11,
   "metadata": {},
   "outputs": [],
   "source": [
    "import matplotlib.pyplot as plt\n",
    "from physipy import units, m, K, setup_matplotlib\n",
    "from matplotlib import cbook\n",
    "import numpy as np"
   ]
  },
  {
   "cell_type": "code",
   "execution_count": 12,
   "metadata": {},
   "outputs": [],
   "source": [
    "arr = np.random.normal(1, 0.1, size=100)*m\n",
    "setup_matplotlib()"
   ]
  },
  {
   "cell_type": "code",
   "execution_count": 13,
   "metadata": {},
   "outputs": [
    {
     "data": {
      "text/plain": [
       "(array([[0., 0., 0., 1., 0., 0., 0., 0., 0., 0.],\n",
       "        [0., 0., 0., 1., 0., 0., 0., 0., 0., 0.],\n",
       "        [0., 0., 0., 0., 0., 0., 1., 0., 0., 0.],\n",
       "        [0., 0., 0., 0., 1., 0., 0., 0., 0., 0.],\n",
       "        [0., 0., 0., 0., 1., 0., 0., 0., 0., 0.],\n",
       "        [0., 0., 1., 0., 0., 0., 0., 0., 0., 0.],\n",
       "        [0., 0., 0., 0., 1., 0., 0., 0., 0., 0.],\n",
       "        [0., 0., 0., 0., 0., 1., 0., 0., 0., 0.],\n",
       "        [0., 0., 0., 0., 0., 0., 0., 1., 0., 0.],\n",
       "        [0., 0., 0., 0., 0., 0., 0., 1., 0., 0.],\n",
       "        [0., 0., 0., 1., 0., 0., 0., 0., 0., 0.],\n",
       "        [0., 0., 0., 0., 0., 1., 0., 0., 0., 0.],\n",
       "        [0., 0., 0., 1., 0., 0., 0., 0., 0., 0.],\n",
       "        [0., 0., 0., 0., 0., 1., 0., 0., 0., 0.],\n",
       "        [0., 0., 0., 0., 1., 0., 0., 0., 0., 0.],\n",
       "        [0., 0., 0., 0., 0., 1., 0., 0., 0., 0.],\n",
       "        [0., 0., 0., 0., 0., 0., 0., 0., 0., 1.],\n",
       "        [1., 0., 0., 0., 0., 0., 0., 0., 0., 0.],\n",
       "        [0., 0., 0., 0., 0., 0., 1., 0., 0., 0.],\n",
       "        [0., 0., 1., 0., 0., 0., 0., 0., 0., 0.],\n",
       "        [0., 0., 0., 1., 0., 0., 0., 0., 0., 0.],\n",
       "        [0., 0., 0., 0., 0., 0., 0., 0., 1., 0.],\n",
       "        [0., 0., 0., 0., 1., 0., 0., 0., 0., 0.],\n",
       "        [0., 0., 0., 0., 1., 0., 0., 0., 0., 0.],\n",
       "        [0., 0., 0., 0., 0., 0., 1., 0., 0., 0.],\n",
       "        [0., 0., 0., 0., 0., 0., 0., 0., 0., 1.],\n",
       "        [0., 0., 0., 0., 1., 0., 0., 0., 0., 0.],\n",
       "        [0., 0., 0., 1., 0., 0., 0., 0., 0., 0.],\n",
       "        [0., 0., 0., 0., 0., 0., 0., 0., 1., 0.],\n",
       "        [0., 0., 0., 0., 0., 0., 0., 1., 0., 0.],\n",
       "        [0., 0., 0., 0., 0., 0., 0., 1., 0., 0.],\n",
       "        [0., 0., 0., 0., 0., 0., 1., 0., 0., 0.],\n",
       "        [0., 0., 0., 0., 1., 0., 0., 0., 0., 0.],\n",
       "        [0., 0., 0., 0., 0., 1., 0., 0., 0., 0.],\n",
       "        [0., 0., 0., 1., 0., 0., 0., 0., 0., 0.],\n",
       "        [0., 0., 0., 0., 0., 0., 0., 1., 0., 0.],\n",
       "        [1., 0., 0., 0., 0., 0., 0., 0., 0., 0.],\n",
       "        [0., 0., 0., 0., 0., 1., 0., 0., 0., 0.],\n",
       "        [0., 0., 0., 0., 0., 1., 0., 0., 0., 0.],\n",
       "        [0., 0., 0., 0., 0., 0., 1., 0., 0., 0.],\n",
       "        [0., 0., 0., 0., 0., 1., 0., 0., 0., 0.],\n",
       "        [0., 0., 0., 1., 0., 0., 0., 0., 0., 0.],\n",
       "        [0., 0., 0., 0., 0., 0., 1., 0., 0., 0.],\n",
       "        [0., 0., 0., 1., 0., 0., 0., 0., 0., 0.],\n",
       "        [0., 0., 0., 0., 0., 1., 0., 0., 0., 0.],\n",
       "        [0., 0., 0., 0., 0., 0., 0., 1., 0., 0.],\n",
       "        [0., 0., 0., 0., 1., 0., 0., 0., 0., 0.],\n",
       "        [0., 0., 0., 0., 0., 0., 1., 0., 0., 0.],\n",
       "        [0., 0., 0., 1., 0., 0., 0., 0., 0., 0.],\n",
       "        [1., 0., 0., 0., 0., 0., 0., 0., 0., 0.],\n",
       "        [0., 0., 0., 0., 1., 0., 0., 0., 0., 0.],\n",
       "        [0., 0., 0., 0., 1., 0., 0., 0., 0., 0.],\n",
       "        [0., 0., 0., 0., 0., 0., 0., 1., 0., 0.],\n",
       "        [0., 0., 0., 0., 0., 1., 0., 0., 0., 0.],\n",
       "        [0., 0., 0., 0., 0., 0., 0., 1., 0., 0.],\n",
       "        [0., 0., 0., 0., 0., 0., 1., 0., 0., 0.],\n",
       "        [0., 0., 0., 0., 0., 0., 0., 0., 0., 1.],\n",
       "        [0., 0., 0., 0., 0., 1., 0., 0., 0., 0.],\n",
       "        [0., 0., 0., 1., 0., 0., 0., 0., 0., 0.],\n",
       "        [0., 0., 0., 1., 0., 0., 0., 0., 0., 0.],\n",
       "        [0., 0., 0., 0., 0., 0., 0., 0., 1., 0.],\n",
       "        [0., 0., 0., 0., 0., 0., 0., 0., 1., 0.],\n",
       "        [0., 0., 0., 1., 0., 0., 0., 0., 0., 0.],\n",
       "        [0., 1., 0., 0., 0., 0., 0., 0., 0., 0.],\n",
       "        [0., 0., 0., 0., 1., 0., 0., 0., 0., 0.],\n",
       "        [0., 0., 0., 0., 0., 1., 0., 0., 0., 0.],\n",
       "        [0., 0., 0., 0., 0., 0., 0., 0., 1., 0.],\n",
       "        [0., 0., 0., 0., 0., 0., 0., 1., 0., 0.],\n",
       "        [0., 0., 0., 0., 0., 0., 0., 1., 0., 0.],\n",
       "        [0., 0., 0., 0., 0., 0., 1., 0., 0., 0.],\n",
       "        [0., 0., 1., 0., 0., 0., 0., 0., 0., 0.],\n",
       "        [0., 0., 0., 1., 0., 0., 0., 0., 0., 0.],\n",
       "        [0., 0., 0., 0., 0., 1., 0., 0., 0., 0.],\n",
       "        [0., 0., 0., 1., 0., 0., 0., 0., 0., 0.],\n",
       "        [0., 0., 0., 0., 0., 0., 1., 0., 0., 0.],\n",
       "        [0., 0., 0., 0., 0., 0., 0., 0., 1., 0.],\n",
       "        [0., 0., 0., 0., 0., 1., 0., 0., 0., 0.],\n",
       "        [0., 0., 0., 1., 0., 0., 0., 0., 0., 0.],\n",
       "        [0., 0., 0., 0., 0., 1., 0., 0., 0., 0.],\n",
       "        [0., 0., 0., 1., 0., 0., 0., 0., 0., 0.],\n",
       "        [0., 0., 0., 0., 0., 0., 1., 0., 0., 0.],\n",
       "        [0., 0., 0., 1., 0., 0., 0., 0., 0., 0.],\n",
       "        [0., 0., 0., 0., 0., 0., 0., 0., 1., 0.],\n",
       "        [0., 0., 0., 1., 0., 0., 0., 0., 0., 0.],\n",
       "        [0., 0., 0., 1., 0., 0., 0., 0., 0., 0.],\n",
       "        [1., 0., 0., 0., 0., 0., 0., 0., 0., 0.],\n",
       "        [0., 0., 0., 0., 0., 0., 0., 1., 0., 0.],\n",
       "        [1., 0., 0., 0., 0., 0., 0., 0., 0., 0.],\n",
       "        [0., 0., 0., 1., 0., 0., 0., 0., 0., 0.],\n",
       "        [0., 0., 0., 0., 0., 1., 0., 0., 0., 0.],\n",
       "        [0., 0., 0., 1., 0., 0., 0., 0., 0., 0.],\n",
       "        [0., 0., 0., 0., 0., 0., 0., 0., 1., 0.],\n",
       "        [0., 0., 0., 0., 1., 0., 0., 0., 0., 0.],\n",
       "        [0., 0., 0., 0., 0., 1., 0., 0., 0., 0.],\n",
       "        [0., 0., 0., 1., 0., 0., 0., 0., 0., 0.],\n",
       "        [0., 0., 1., 0., 0., 0., 0., 0., 0., 0.],\n",
       "        [0., 0., 0., 0., 0., 1., 0., 0., 0., 0.],\n",
       "        [0., 0., 0., 0., 1., 0., 0., 0., 0., 0.],\n",
       "        [0., 0., 0., 0., 1., 0., 0., 0., 0., 0.],\n",
       "        [0., 0., 0., 0., 0., 0., 1., 0., 0., 0.]]),\n",
       " array([0.7341986 , 0.78381641, 0.83343423, 0.88305204, 0.93266986,\n",
       "        0.98228767, 1.03190549, 1.0815233 , 1.13114112, 1.18075893,\n",
       "        1.23037675]),\n",
       " <a list of 100 BarContainer objects>)"
      ]
     },
     "execution_count": 13,
     "metadata": {},
     "output_type": "execute_result"
    },
    {
     "data": {
      "image/png": "[encoded data removed]",
      "text/plain": [
       "<Figure size 432x288 with 1 Axes>"
      ]
     },
     "metadata": {
      "needs_background": "light"
     },
     "output_type": "display_data"
    }
   ],
   "source": [
    "plt.hist(arr)"
   ]
  },
  {
   "attachments": {},
   "cell_type": "markdown",
   "metadata": {},
   "source": [
    "I created a [unit package for physical computation](https://github.com/mocquin/physipy) and its [matplotlib' unit interface](https://github.com/mocquin/physipy/blob/master/physipy/quantity/plot.py) that works well for plotting with `Axes` methods like `ax.plot`, as you can see in the [plotting notebooke demo](https://github.com/mocquin/physipy/blob/master/docs/Plotting.ipynb).\n",
    "The issue I am facing is to have the unit interface work with the histogram plotting, like in `ax.hist(arr)`.\n",
    "\n",
    "For now, I have 2 solutions that are not satisfiying : \n",
    " - first solution is the current state of my project : I added to my `Quantity` object a `to_numpy()` method that cast the instance into a plain numpy array, which makes the histogram plotting work, but looses the automatic unit plotting, since it is not a Quantity anymore but a plain numpy array. For some reasons, this method is never used when plotting with `ax.plot`, but is one of the first things tried when using `ax.hist`.\n",
    " - other solution is what I had until recently, which was even worse : without the `to_numpy()` method, matplotlib tries to loop inside the object, and since my object can be iterated over (if it is a 1D array for eg), then it plots one 1-element-histogram for each value. You can see what it looked like [here](https://render.githubusercontent.com/view/ipynb?color_mode=light&commit=f0871009f57da092eee1d640d9508070d1662c1d&enc_url=68747470733a2f2f7261772e67697468756275736572636f6e74656e742e636f6d2f6d6f637175696e2f706879736970792f663038373130303966353764613039326565653164363430643935303830373064313636326331642f646f63732f4b6e6f776e2532304973737565732e6970796e62&nwo=mocquin%2Fphysipy&path=docs%2FKnown+Issues.ipynb&repository_id=175999533&repository_type=Repository#Matplotlib-histogram) (see the Matplotlib histogram section).\n",
    "\n",
    "After digging into the source code, I found that some preprocessing is done the object passed to `hist`, using [cbook._reshape2d](https://github.com/matplotlib/matplotlib/blob/6f92db0fc6aad8dfcdb197202b969a01e4391fde/lib/matplotlib/axes/_axes.py#L6654). Then, onto [`cbook._reshape2D` source](https://github.com/matplotlib/matplotlib/blob/6f92db0fc6aad8dfcdb197202b969a01e4391fde/lib/matplotlib/cbook/__init__.py#L1304), I think most of the time objects are subclass of `np.ndarray`, and so are caught [in this loop](https://github.com/matplotlib/matplotlib/blob/6f92db0fc6aad8dfcdb197202b969a01e4391fde/lib/matplotlib/cbook/__init__.py#L1327). But my class is not a subclass of `np.ndarray`, so it ends up [in this loop](https://github.com/matplotlib/matplotlib/blob/6f92db0fc6aad8dfcdb197202b969a01e4391fde/lib/matplotlib/cbook/__init__.py#L1347). Then `np.asanyarray(xi)` is called and cast each quantity element (like `1m` into just `1`) into an int/float, again loosing the unit. Now the workaround for this kind of problem is currently addressed by numpy's [NEP-35](https://numpy.org/neps/nep-0035-array-creation-dispatch-with-array-function.html), which allows to override array-creation functions (like `np.asanyarray`), but it requires to pass an extra argument : `np.asanyarray(x)` would be `np.asanyarray(x, like=x)`. Unfortunately, this doesn't solve completely the problem, because the `xi` object are reshaped using `xi.reshape` and not `np.reshape(xi)`."
   ]
  },
  {
   "cell_type": "code",
   "execution_count": 4,
   "metadata": {},
   "outputs": [
    {
     "name": "stdout",
     "output_type": "stream",
     "text": [
      "0 m\n",
      "[0] m\n",
      "1 m\n",
      "[1] m\n",
      "2 m\n",
      "[2] m\n",
      "3 m\n",
      "[3] m\n",
      "4 m\n",
      "[4] m\n",
      "5 m\n",
      "[5] m\n",
      "6 m\n",
      "[6] m\n",
      "7 m\n",
      "[7] m\n",
      "8 m\n",
      "[8] m\n",
      "9 m\n",
      "[9] m\n",
      "True\n",
      "[array([0, 1, 2, 3, 4, 5, 6, 7, 8, 9])]\n"
     ]
    }
   ],
   "source": [
    "import collections\n",
    "import numpy as np\n",
    "from physipy import m\n",
    "\n",
    "# make a 1D array of meters\n",
    "X = np.arange(10)*m\n",
    "\n",
    "# introspect https://github.com/matplotlib/matplotlib/blob/6f92db0fc6aad8dfcdb197202b969a01e4391fde/lib/matplotlib/cbook/__init__.py#L1347 \n",
    "result = []\n",
    "is_1d = True\n",
    "for xi in X:\n",
    "    # check if this is iterable, except for strings which we\n",
    "    # treat as singletons.\n",
    "    if (isinstance(xi, collections.abc.Iterable) and\n",
    "             not isinstance(xi, str)):\n",
    "        is_1d = False\n",
    "    #xi = np.asanyarray(xi)\n",
    "    print(xi)\n",
    "    xi = np.asanyarray(xi, like=xi)\n",
    "    nd = np.ndim(xi)\n",
    "    print(xi.reshape(-1))\n",
    "    if nd > 1:\n",
    "        raise ValueError(f'{name} must have 2 or fewer dimensions')\n",
    "    result.append(xi.reshape(-1))\n",
    "\n",
    "print(is_1d)\n",
    "if is_1d:\n",
    "    # 1D array of scalars: directly return it.\n",
    "    #return \n",
    "    print([np.reshape(result, -1)])\n",
    "else:\n",
    "    # 2D array, or 1D array of iterables: use flattened version.\n",
    "    #return \n",
    "    print(result)"
   ]
  },
  {
   "attachments": {},
   "cell_type": "markdown",
   "metadata": {},
   "source": [
    "# Numpy random normal"
   ]
  },
  {
   "attachments": {},
   "cell_type": "markdown",
   "metadata": {},
   "source": [
    "Not really a bug, more of a Feature request on numpy's side...\n",
    "`__array_struct__` is tried on the value, and unit is dropped.\n",
    "\n",
    "See https://github.com/numpy/numpy/issues/19382"
   ]
  },
  {
   "cell_type": "code",
   "execution_count": 1,
   "metadata": {},
   "outputs": [],
   "source": [
    "import numpy as np\n",
    "from physipy import m"
   ]
  },
  {
   "cell_type": "code",
   "execution_count": 2,
   "metadata": {},
   "outputs": [
    {
     "data": {
      "text/plain": [
       "array([[-1.577376  ,  2.99188189,  5.0140872 ],\n",
       "       [ 2.91279438,  0.05503252,  1.24377635]])"
      ]
     },
     "execution_count": 2,
     "metadata": {},
     "output_type": "execute_result"
    }
   ],
   "source": [
    "np.random.normal(np.array([1, 2, 3]),\n",
    "                 np.array([2, 3, 4]), size=(2, 3))"
   ]
  },
  {
   "cell_type": "code",
   "execution_count": 3,
   "metadata": {},
   "outputs": [
    {
     "name": "stdout",
     "output_type": "stream",
     "text": [
      "getattr __array_struct__\n",
      "getattr __array_struct__\n"
     ]
    },
    {
     "name": "stderr",
     "output_type": "stream",
     "text": [
      "/Users/mocquin/MYLIB10/MODULES/physipy/physipy/quantity/quantity.py:708: UserWarning: The unit of the quantity is stripped.\n",
      "  warnings.warn(\"The unit of the quantity is stripped.\")\n"
     ]
    },
    {
     "data": {
      "text/plain": [
       "array([[ 4.98089529,  3.21840818,  4.51290955],\n",
       "       [ 3.09490679,  0.56733076, -0.65881607]])"
      ]
     },
     "execution_count": 3,
     "metadata": {},
     "output_type": "execute_result"
    }
   ],
   "source": [
    "np.random.normal(np.array([1, 2, 3])*m,\n",
    "                 np.array([2, 3, 4])*m, size=(2, 3))"
   ]
  },
  {
   "cell_type": "code",
   "execution_count": 14,
   "metadata": {},
   "outputs": [
    {
     "name": "stdout",
     "output_type": "stream",
     "text": [
      "4.5\n",
      "[ 0.47143516 -0.19097569  3.43270697  2.6873481   3.27941127  5.88716294\n",
      "  6.85958841  6.3634765   8.01569637  6.75731505]\n",
      "NumericalLabelled<4.5,toto>\n",
      "float() argument must be a string or a number, not 'NumericalLabeled'\n"
     ]
    }
   ],
   "source": [
    "import numpy as np\n",
    "np.random.seed(1234)\n",
    "\n",
    "HANDLED_FUNCTIONS = {}\n",
    "\n",
    "class NumericalLabeled():\n",
    "    def __init__(self, value, label=\"\"):\n",
    "        self.value = value\n",
    "        self.label = label\n",
    "        \n",
    "    def __repr__(self):\n",
    "        return \"NumericalLabelled<\"+str(self.value) + \",\" + self.label+\">\"\n",
    "    \n",
    "    def __array_function__(self, func, types, args, kwargs):\n",
    "        if func not in HANDLED_FUNCTIONS:\n",
    "            return NotImplemented\n",
    "        return HANDLED_FUNCTIONS[func](*args, **kwargs)\n",
    "    \n",
    "\n",
    "def make_numericallabelled(x, label=\"\"):\n",
    "    \"\"\"\n",
    "    Helper function to cast anything into a NumericalLabelled object.\n",
    "    \"\"\"\n",
    "    if isinstance(x, NumericalLabeled):\n",
    "        return x\n",
    "    else:\n",
    "        return NumericalLabeled(x, label=label)\n",
    "    \n",
    "# Numpy functions            \n",
    "# Override functions - used with __array_function__\n",
    "def implements(np_function):\n",
    "    def decorator(func):\n",
    "        HANDLED_FUNCTIONS[np_function] = func\n",
    "        return func\n",
    "    return decorator    \n",
    "    \n",
    "\n",
    "@implements(np.random.normal)\n",
    "def np_random_normal(loc=0.0, scale=1.0, **kwargs):\n",
    "    # cast both loc and scale into Numericallabelled\n",
    "    loc = make_numericallabelled(loc)\n",
    "    scale = make_numericallabelled(scale)\n",
    "    # check their label is \"compatible\"\n",
    "    if not loc.label == scale.label:\n",
    "        raise ValueError\n",
    "    return NumericalLabeled(np.random.rand(loc=loc.value,\n",
    "                                           scale=scale.value, **kwargs), \n",
    "                            loc.label+scale.label)\n",
    "\n",
    "@implements(np.mean)\n",
    "def np_mean(a, *args, **kwargs):\n",
    "    return NumericalLabeled(np.mean(a.value, *args, **kwargs),\n",
    "                            a.label)\n",
    "\n",
    "\n",
    "\n",
    "def main():\n",
    "    # reference result for standard array\n",
    "    arr = np.arange(10)\n",
    "    print(np.mean(arr))\n",
    "    print(np.random.normal(arr))\n",
    "    \n",
    "    # array-like object\n",
    "    num_labeled = NumericalLabeled(arr, \"toto\")\n",
    "    print(np.mean(num_labeled))\n",
    "    try:\n",
    "        print(np.random.normal(num_labeled))\n",
    "    except Exception as e:\n",
    "        print(e)\n",
    "\n",
    "main()"
   ]
  },
  {
   "cell_type": "code",
   "execution_count": 18,
   "metadata": {},
   "outputs": [
    {
     "name": "stdout",
     "output_type": "stream",
     "text": [
      "Python : 3.8.5 (default, Sep  4 2020, 02:22:02) \n",
      "[Clang 10.0.0 ]\n",
      "Numpy : 1.21.0\n"
     ]
    }
   ],
   "source": [
    "import sys\n",
    "print(\"Python :\", sys.version)\n",
    "print(\"Numpy :\", np.__version__)"
   ]
  },
  {
   "cell_type": "code",
   "execution_count": 8,
   "metadata": {},
   "outputs": [
    {
     "name": "stdout",
     "output_type": "stream",
     "text": [
      "4.5\n",
      "[-1.00485143  0.78212753 -0.28082594  5.86408205  5.1756093   4.76436004\n",
      "  6.2488786   7.5691081   9.0461194   9.04187251]\n"
     ]
    },
    {
     "ename": "NameError",
     "evalue": "name 'MyArrayLike' is not defined",
     "output_type": "error",
     "traceback": [
      "\u001b[0;31m---------------------------------------------------------------------------\u001b[0m",
      "\u001b[0;31mNameError\u001b[0m                                 Traceback (most recent call last)",
      "\u001b[0;32m<ipython-input-8-0eda13356262>\u001b[0m in \u001b[0;36m<module>\u001b[0;34m\u001b[0m\n\u001b[1;32m      5\u001b[0m \u001b[0mprint\u001b[0m\u001b[0;34m(\u001b[0m\u001b[0mnp\u001b[0m\u001b[0;34m.\u001b[0m\u001b[0mrandom\u001b[0m\u001b[0;34m.\u001b[0m\u001b[0mnormal\u001b[0m\u001b[0;34m(\u001b[0m\u001b[0marr\u001b[0m\u001b[0;34m)\u001b[0m\u001b[0;34m)\u001b[0m\u001b[0;34m\u001b[0m\u001b[0;34m\u001b[0m\u001b[0m\n\u001b[1;32m      6\u001b[0m \u001b[0;34m\u001b[0m\u001b[0m\n\u001b[0;32m----> 7\u001b[0;31m \u001b[0mcustom_obj\u001b[0m \u001b[0;34m=\u001b[0m \u001b[0mMyArrayLike\u001b[0m\u001b[0;34m(\u001b[0m\u001b[0marr\u001b[0m\u001b[0;34m)\u001b[0m\u001b[0;34m\u001b[0m\u001b[0;34m\u001b[0m\u001b[0m\n\u001b[0m\u001b[1;32m      8\u001b[0m \u001b[0mprint\u001b[0m\u001b[0;34m(\u001b[0m\u001b[0mnp\u001b[0m\u001b[0;34m.\u001b[0m\u001b[0mmean\u001b[0m\u001b[0;34m(\u001b[0m\u001b[0mcustom_obj\u001b[0m\u001b[0;34m)\u001b[0m\u001b[0;34m)\u001b[0m           \u001b[0;31m# np.mean will trigger __array_function__ interface\u001b[0m\u001b[0;34m\u001b[0m\u001b[0;34m\u001b[0m\u001b[0m\n\u001b[1;32m      9\u001b[0m \u001b[0mprint\u001b[0m\u001b[0;34m(\u001b[0m\u001b[0mnp\u001b[0m\u001b[0;34m.\u001b[0m\u001b[0mrandom\u001b[0m\u001b[0;34m.\u001b[0m\u001b[0mnormal\u001b[0m\u001b[0;34m(\u001b[0m\u001b[0mcustom_obj\u001b[0m\u001b[0;34m)\u001b[0m\u001b[0;34m)\u001b[0m  \u001b[0;31m# np.random.normal will \"only\" try to cast the object to float\u001b[0m\u001b[0;34m\u001b[0m\u001b[0;34m\u001b[0m\u001b[0m\n",
      "\u001b[0;31mNameError\u001b[0m: name 'MyArrayLike' is not defined"
     ]
    }
   ],
   "source": [
    "arr = np.arange(10)\n",
    "\n",
    "# Reference result \n",
    "print(np.mean(arr))\n",
    "print(np.random.normal(arr))\n",
    "\n",
    "custom_obj = MyArrayLike(arr)\n",
    "print(np.mean(custom_obj))           # np.mean will trigger __array_function__ interface\n",
    "print(np.random.normal(custom_obj))  # np.random.normal will \"only\" try to cast the object to float"
   ]
  },
  {
   "attachments": {},
   "cell_type": "markdown",
   "metadata": {},
   "source": [
    "# Power of dimension are not casted to int when possible"
   ]
  },
  {
   "cell_type": "code",
   "execution_count": 1,
   "metadata": {},
   "outputs": [],
   "source": [
    "from physipy import m, K"
   ]
  },
  {
   "cell_type": "code",
   "execution_count": 4,
   "metadata": {},
   "outputs": [
    {
     "data": {
      "text/latex": [
       "$L^{1.0}$"
      ],
      "text/plain": [
       "<Dimension : {'L': 1.0, 'M': 0.0, 'T': 0.0, 'I': 0.0, 'theta': 0.0, 'N': 0.0, 'J': 0.0, 'RAD': 0.0, 'SR': 0.0}>"
      ]
     },
     "execution_count": 4,
     "metadata": {},
     "output_type": "execute_result"
    }
   ],
   "source": [
    "a = (m**2)**0.5\n",
    "a.dimension"
   ]
  },
  {
   "attachments": {},
   "cell_type": "markdown",
   "metadata": {},
   "source": [
    "# Degree rendering"
   ]
  },
  {
   "attachments": {},
   "cell_type": "markdown",
   "metadata": {},
   "source": [
    "Degree as favunit is rendered as \"<function deg at 0x...>\""
   ]
  },
  {
   "cell_type": "code",
   "execution_count": 19,
   "metadata": {},
   "outputs": [
    {
     "data": {
      "text/latex": [
       "$5.0\\,\\mathtt{\\text{<function deg at 0x1139d1790>}}$"
      ],
      "text/plain": [
       "<Quantity : 0.08726646259971647 rad, symbol=deg*UndefinedSymbol>"
      ]
     },
     "execution_count": 19,
     "metadata": {},
     "output_type": "execute_result"
    }
   ],
   "source": [
    "from physipy import rad, units\n",
    "deg = units[\"deg\"]\n",
    "a = 5*deg\n",
    "a.favunit = deg\n",
    "a"
   ]
  },
  {
   "attachments": {},
   "cell_type": "markdown",
   "metadata": {},
   "source": [
    "# Numpy full not triggered by array_function interface"
   ]
  },
  {
   "attachments": {},
   "cell_type": "markdown",
   "metadata": {},
   "source": [
    "Get `TypeError: no implementation found for 'numpy.full' on types that implement __array_function__: [<class 'physipy.quantity.quantity.Quantity'>]`\n",
    "while it is implemented, so it seems its not triggered.\n",
    "\n",
    "This is a numpy bug : https://github.com/numpy/numpy/issues/21033"
   ]
  },
  {
   "cell_type": "code",
   "execution_count": 3,
   "metadata": {},
   "outputs": [
    {
     "ename": "TypeError",
     "evalue": "no implementation found for 'numpy.full' on types that implement __array_function__: [<class 'physipy.quantity.quantity.Quantity'>]",
     "output_type": "error",
     "traceback": [
      "\u001b[0;31m---------------------------------------------------------------------------\u001b[0m",
      "\u001b[0;31mTypeError\u001b[0m                                 Traceback (most recent call last)",
      "\u001b[0;32m/var/folders/5k/bf4syt7x1zjbhc6b28srzzym0000gn/T/ipykernel_58162/3338353914.py\u001b[0m in \u001b[0;36m<module>\u001b[0;34m\u001b[0m\n\u001b[1;32m      2\u001b[0m \u001b[0;32mimport\u001b[0m \u001b[0mnumpy\u001b[0m \u001b[0;32mas\u001b[0m \u001b[0mnp\u001b[0m\u001b[0;34m\u001b[0m\u001b[0;34m\u001b[0m\u001b[0m\n\u001b[1;32m      3\u001b[0m \u001b[0;34m\u001b[0m\u001b[0m\n\u001b[0;32m----> 4\u001b[0;31m \u001b[0mnp\u001b[0m\u001b[0;34m.\u001b[0m\u001b[0mfull\u001b[0m\u001b[0;34m(\u001b[0m\u001b[0;36m3\u001b[0m\u001b[0;34m,\u001b[0m \u001b[0mm\u001b[0m\u001b[0;34m,\u001b[0m \u001b[0mlike\u001b[0m\u001b[0;34m=\u001b[0m\u001b[0mm\u001b[0m\u001b[0;34m)\u001b[0m\u001b[0;34m\u001b[0m\u001b[0;34m\u001b[0m\u001b[0m\n\u001b[0m",
      "\u001b[0;32m/opt/anaconda3/lib/python3.9/site-packages/numpy/core/numeric.py\u001b[0m in \u001b[0;36mfull\u001b[0;34m(shape, fill_value, dtype, order, like)\u001b[0m\n\u001b[1;32m    336\u001b[0m     \"\"\"\n\u001b[1;32m    337\u001b[0m     \u001b[0;32mif\u001b[0m \u001b[0mlike\u001b[0m \u001b[0;32mis\u001b[0m \u001b[0;32mnot\u001b[0m \u001b[0;32mNone\u001b[0m\u001b[0;34m:\u001b[0m\u001b[0;34m\u001b[0m\u001b[0;34m\u001b[0m\u001b[0m\n\u001b[0;32m--> 338\u001b[0;31m         \u001b[0;32mreturn\u001b[0m \u001b[0m_full_with_like\u001b[0m\u001b[0;34m(\u001b[0m\u001b[0mshape\u001b[0m\u001b[0;34m,\u001b[0m \u001b[0mfill_value\u001b[0m\u001b[0;34m,\u001b[0m \u001b[0mdtype\u001b[0m\u001b[0;34m=\u001b[0m\u001b[0mdtype\u001b[0m\u001b[0;34m,\u001b[0m \u001b[0morder\u001b[0m\u001b[0;34m=\u001b[0m\u001b[0morder\u001b[0m\u001b[0;34m,\u001b[0m \u001b[0mlike\u001b[0m\u001b[0;34m=\u001b[0m\u001b[0mlike\u001b[0m\u001b[0;34m)\u001b[0m\u001b[0;34m\u001b[0m\u001b[0;34m\u001b[0m\u001b[0m\n\u001b[0m\u001b[1;32m    339\u001b[0m \u001b[0;34m\u001b[0m\u001b[0m\n\u001b[1;32m    340\u001b[0m     \u001b[0;32mif\u001b[0m \u001b[0mdtype\u001b[0m \u001b[0;32mis\u001b[0m \u001b[0;32mNone\u001b[0m\u001b[0;34m:\u001b[0m\u001b[0;34m\u001b[0m\u001b[0;34m\u001b[0m\u001b[0m\n",
      "\u001b[0;32m<__array_function__ internals>\u001b[0m in \u001b[0;36mfull\u001b[0;34m(*args, **kwargs)\u001b[0m\n",
      "\u001b[0;31mTypeError\u001b[0m: no implementation found for 'numpy.full' on types that implement __array_function__: [<class 'physipy.quantity.quantity.Quantity'>]"
     ]
    }
   ],
   "source": [
    "from physipy import m\n",
    "import numpy as np\n",
    "\n",
    "np.full(3, m, like=m)"
   ]
  },
  {
   "attachments": {},
   "cell_type": "markdown",
   "metadata": {},
   "source": [
    "# Presence of \"%\" symbol in favunit"
   ]
  },
  {
   "cell_type": "code",
   "execution_count": 84,
   "metadata": {},
   "outputs": [],
   "source": [
    "from physipy import K\n",
    "import sympy as sp\n",
    "pc = 1/K\n",
    "pc.symbol = \"%/K\"\n",
    "\n",
    "q = 2*pc\n",
    "q.favunit = pc"
   ]
  },
  {
   "cell_type": "code",
   "execution_count": 85,
   "metadata": {},
   "outputs": [
    {
     "data": {
      "text/plain": [
       "'%/K'"
      ]
     },
     "execution_count": 85,
     "metadata": {},
     "output_type": "execute_result"
    }
   ],
   "source": [
    "pc.symbol"
   ]
  },
  {
   "cell_type": "code",
   "execution_count": 86,
   "metadata": {},
   "outputs": [
    {
     "data": {
      "text/plain": [
       "'%/K'"
      ]
     },
     "execution_count": 86,
     "metadata": {},
     "output_type": "execute_result"
    }
   ],
   "source": [
    "complemented = q._compute_complement_value().encode('unicode-escape').decode()\n",
    "complemented"
   ]
  },
  {
   "cell_type": "code",
   "execution_count": 103,
   "metadata": {},
   "outputs": [],
   "source": [
    "a = sp.Symbol(\"a\")\n",
    "b = sp.physics.units.percent #sp.Symbol(\"%\")"
   ]
  },
  {
   "cell_type": "code",
   "execution_count": 104,
   "metadata": {},
   "outputs": [
    {
     "data": {
      "text/latex": [
       "$\\displaystyle \\frac{a}{\\%}$"
      ],
      "text/plain": [
       "a/percent"
      ]
     },
     "execution_count": 104,
     "metadata": {},
     "output_type": "execute_result"
    }
   ],
   "source": [
    "a/b"
   ]
  },
  {
   "cell_type": "code",
   "execution_count": 97,
   "metadata": {},
   "outputs": [
    {
     "data": {
      "text/plain": [
       "(<function __main__.percent_transformer(tokens, local_dict, global_dict)>,\n",
       " <function sympy.parsing.sympy_parser.lambda_notation(tokens, local_dict, global_dict)>,\n",
       " <function sympy.parsing.sympy_parser.auto_symbol(tokens, local_dict, global_dict)>,\n",
       " <function sympy.parsing.sympy_parser.repeated_decimals(tokens, local_dict, global_dict)>,\n",
       " <function sympy.parsing.sympy_parser.auto_number(tokens, local_dict, global_dict)>,\n",
       " <function sympy.parsing.sympy_parser.factorial_notation(tokens, local_dict, global_dict)>)"
      ]
     },
     "execution_count": 97,
     "metadata": {},
     "output_type": "execute_result"
    }
   ],
   "source": [
    "((percent_transformer,) + standard_transformations )"
   ]
  },
  {
   "cell_type": "code",
   "execution_count": 100,
   "metadata": {},
   "outputs": [],
   "source": [
    "import sympy as sp\n",
    "from sympy.parsing.sympy_parser import standard_transformations \n",
    "\n",
    "def percent_transformer(tokens, local_dict, global_dict):\n",
    "    return [tok if tok != \"%\" else  sp.physics.units.percent for tok in tokens]\n",
    "\n",
    "sp.parsing.sympy_parser.parse_expr(\"%/K\", transformations=((percent_transformer,) + standard_transformations))"
   ]
  },
  {
   "cell_type": "code",
   "execution_count": 87,
   "metadata": {},
   "outputs": [
    {
     "ename": "SyntaxError",
     "evalue": "invalid syntax (<string>, line 1)",
     "output_type": "error",
     "traceback": [
      "\u001b[0;31mValueError\u001b[0m\u001b[0;31m:\u001b[0m Error from parse_expr with transformed code: \"%/Symbol ('K' )\"\n",
      "\nThe above exception was the direct cause of the following exception:\n",
      "Traceback \u001b[0;36m(most recent call last)\u001b[0m:\n",
      "  File \u001b[1;32m\"/opt/anaconda3/lib/python3.9/site-packages/IPython/core/interactiveshell.py\"\u001b[0m, line \u001b[1;32m3444\u001b[0m, in \u001b[1;35mrun_code\u001b[0m\n    exec(code_obj, self.user_global_ns, self.user_ns)\n",
      "  File \u001b[1;32m\"/var/folders/5k/bf4syt7x1zjbhc6b28srzzym0000gn/T/ipykernel_58162/4069509037.py\"\u001b[0m, line \u001b[1;32m1\u001b[0m, in \u001b[1;35m<module>\u001b[0m\n    sp.parsing.sympy_parser.parse_expr(complemented,\n",
      "  File \u001b[1;32m\"/opt/anaconda3/lib/python3.9/site-packages/sympy/parsing/sympy_parser.py\"\u001b[0m, line \u001b[1;32m1026\u001b[0m, in \u001b[1;35mparse_expr\u001b[0m\n    raise e from ValueError(f\"Error from parse_expr with transformed code: {code!r}\")\n",
      "  File \u001b[1;32m\"/opt/anaconda3/lib/python3.9/site-packages/sympy/parsing/sympy_parser.py\"\u001b[0m, line \u001b[1;32m1017\u001b[0m, in \u001b[1;35mparse_expr\u001b[0m\n    rv = eval_expr(code, local_dict, global_dict)\n",
      "\u001b[0;36m  File \u001b[0;32m\"/opt/anaconda3/lib/python3.9/site-packages/sympy/parsing/sympy_parser.py\"\u001b[0;36m, line \u001b[0;32m911\u001b[0;36m, in \u001b[0;35meval_expr\u001b[0;36m\u001b[0m\n\u001b[0;31m    expr = eval(\u001b[0m\n",
      "\u001b[0;36m  File \u001b[0;32m\"<string>\"\u001b[0;36m, line \u001b[0;32m1\u001b[0m\n\u001b[0;31m    %/Symbol ('K' )\u001b[0m\n\u001b[0m    ^\u001b[0m\n\u001b[0;31mSyntaxError\u001b[0m\u001b[0;31m:\u001b[0m invalid syntax\n"
     ]
    }
   ],
   "source": [
    "sp.parsing.sympy_parser.parse_expr(complemented,\n",
    "                                   local_dict={\"%\":sp.physics.units.percent},\n",
    "                                   #evaluate=False, \n",
    "                              )"
   ]
  },
  {
   "cell_type": "code",
   "execution_count": 69,
   "metadata": {},
   "outputs": [
    {
     "data": {
      "text/latex": [
       "$\\displaystyle \\%$"
      ],
      "text/plain": [
       "percent"
      ]
     },
     "execution_count": 69,
     "metadata": {},
     "output_type": "execute_result"
    }
   ],
   "source": []
  },
  {
   "cell_type": "code",
   "execution_count": null,
   "metadata": {},
   "outputs": [],
   "source": []
  }
 ],
 "metadata": {
  "jupytext": {
   "encoding": "# -*- coding: utf-8 -*-",
   "text_representation": {
    "extension": ".py",
    "format_name": "percent",
    "format_version": "1.3",
    "jupytext_version": "1.13.4"
   }
  },
  "kernelspec": {
   "display_name": "Python 3 (ipykernel)",
   "language": "python",
   "name": "python3"
  },
  "language_info": {
   "codemirror_mode": {
    "name": "ipython",
    "version": 3
   },
   "file_extension": ".py",
   "mimetype": "text/x-python",
   "name": "python",
   "nbconvert_exporter": "python",
   "pygments_lexer": "ipython3",
   "version": "3.9.7"
  }
 },
 "nbformat": 4,
 "nbformat_minor": 4
}
