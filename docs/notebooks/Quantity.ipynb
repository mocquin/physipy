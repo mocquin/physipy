{
 "cells": [
  {
   "cell_type": "markdown",
   "metadata": {},
   "source": [
    "# Quantity"
   ]
  },
  {
   "cell_type": "markdown",
   "metadata": {},
   "source": [
    "## Construction from class"
   ]
  },
  {
   "cell_type": "markdown",
   "metadata": {},
   "source": [
    "Several ways are available constructing a Quantity object"
   ]
  },
  {
   "cell_type": "code",
   "execution_count": 1,
   "metadata": {},
   "outputs": [],
   "source": [
    "from physipy import Quantity, m, sr, Dimension"
   ]
  },
  {
   "cell_type": "markdown",
   "metadata": {},
   "source": [
    "Scalar Quantity"
   ]
  },
  {
   "cell_type": "code",
   "execution_count": 2,
   "metadata": {
    "lines_to_next_cell": 2
   },
   "outputs": [
    {
     "name": "stdout",
     "output_type": "stream",
     "text": [
      "1 m\n",
      "1.123 m\n",
      "1/2 m\n"
     ]
    }
   ],
   "source": [
    "# from int\n",
    "print(Quantity(1, Dimension(\"L\")))\n",
    "\n",
    "# from float\n",
    "print(Quantity(1.123, Dimension(\"L\")))\n",
    "\n",
    "# from fraction.Fraction\n",
    "from fractions import Fraction\n",
    "print(Quantity(Fraction(1, 2), Dimension(\"L\")))"
   ]
  },
  {
   "cell_type": "markdown",
   "metadata": {},
   "source": [
    "Array-like Quantity"
   ]
  },
  {
   "cell_type": "code",
   "execution_count": 3,
   "metadata": {},
   "outputs": [
    {
     "name": "stdout",
     "output_type": "stream",
     "text": [
      "[1 2 3 4] m\n",
      "[1 2 3 4] m\n",
      "[1 2 3 4] m\n"
     ]
    }
   ],
   "source": [
    "# from list\n",
    "print(Quantity([1, 2, 3, 4], Dimension(\"L\")))\n",
    "\n",
    "# from tuple\n",
    "print(Quantity((1, 2, 3, 4), Dimension(\"L\")))\n",
    "\n",
    "# from np.ndarray\n",
    "import numpy as np\n",
    "print(Quantity(np.array([1, 2, 3, 4]), Dimension(\"L\")))"
   ]
  },
  {
   "cell_type": "markdown",
   "metadata": {},
   "source": [
    "## Construction by multiplicating value with unit/quantity"
   ]
  },
  {
   "cell_type": "markdown",
   "metadata": {},
   "source": [
    "Because the multiplication of quantity first tries to \"quantify\" the other operand, several creation routines by multicpliation are available"
   ]
  },
  {
   "cell_type": "code",
   "execution_count": 4,
   "metadata": {},
   "outputs": [
    {
     "name": "stdout",
     "output_type": "stream",
     "text": [
      "1 m\n",
      "1.123 m\n",
      "1/2 m\n",
      "[1 2 3 4] m\n",
      "[1 2 3 4] m\n",
      "[1 2 3 4] m\n"
     ]
    }
   ],
   "source": [
    "# multiplicating int\n",
    "print(1 * m)\n",
    "\n",
    "# multiplicating float\n",
    "print(1.123 * m)\n",
    "\n",
    "# multiplicating Fraction\n",
    "print(Fraction(1, 2) * m)\n",
    "\n",
    "# multiplicating list\n",
    "print([1, 2, 3, 4] * m)\n",
    "\n",
    "# multiplicating list\n",
    "print((1, 2, 3, 4) * m)\n",
    "\n",
    "# multiplicating array\n",
    "print(np.array([1, 2, 3, 4]) * m)"
   ]
  }
 ],
 "metadata": {
  "jupytext": {
   "text_representation": {
    "extension": ".py",
    "format_name": "percent",
    "format_version": "1.3",
    "jupytext_version": "1.13.4"
   }
  },
  "kernelspec": {
   "display_name": "Python 3 (ipykernel)",
   "language": "python",
   "name": "python3"
  },
  "language_info": {
   "codemirror_mode": {
    "name": "ipython",
    "version": 3
   },
   "file_extension": ".py",
   "mimetype": "text/x-python",
   "name": "python",
   "nbconvert_exporter": "python",
   "pygments_lexer": "ipython3",
   "version": "3.9.7"
  }
 },
 "nbformat": 4,
 "nbformat_minor": 4
}
