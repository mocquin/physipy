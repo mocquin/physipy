{
 "cells": [
  {
   "cell_type": "code",
   "execution_count": 1,
   "metadata": {},
   "outputs": [],
   "source": [
    "import physipy\n",
    "from physipy import Dimension\n",
    "from fractions import Fraction\n",
    "import sys\n",
    "import warnings\n",
    "\n",
    "if not sys.warnoptions:\n",
    "    warnings.simplefilter(\"ignore\")\n",
    "\n",
    "import numpy as np\n",
    "import scipy.integrate as integrate\n",
    "import scipy.constants as csts\n",
    "from physipy import s, m, sr, K, units, constants\n",
    "from physipy import quad\n",
    "import physipy\n",
    "import matplotlib.pyplot as plt"
   ]
  },
  {
   "attachments": {},
   "cell_type": "markdown",
   "metadata": {},
   "source": [
    "# Calculus : numerical toolbox"
   ]
  },
  {
   "attachments": {},
   "cell_type": "markdown",
   "metadata": {},
   "source": [
    "Some usefull numerical functions are provided, which basicaly consists in dimension-wrapped functions.\n",
    "The wrapping operation is needed because no mean to hook the handling of Quantity object is avalaible (as it is for numpy's functions and ufuncs)."
   ]
  },
  {
   "attachments": {},
   "cell_type": "markdown",
   "metadata": {},
   "source": [
    "## Integrate with quad"
   ]
  },
  {
   "attachments": {},
   "cell_type": "markdown",
   "metadata": {},
   "source": [
    "Lets integrate planck's law : [we know the expected result is $\\sigma T^4/\\pi$](https://en.wikipedia.org/wiki/Stefan%E2%80%93Boltzmann_law):"
   ]
  },
  {
   "cell_type": "code",
   "execution_count": 2,
   "metadata": {},
   "outputs": [],
   "source": [
    "# physical constants\n",
    "hp = constants[\"h\"]\n",
    "c = constants[\"c\"]\n",
    "kB = constants[\"k\"]\n",
    "sigma = constants[\"Stefan_Boltzmann\"]\n",
    "\n",
    "nm = units[\"nm\"]\n",
    "mum = units[\"mum\"]"
   ]
  },
  {
   "cell_type": "code",
   "execution_count": 3,
   "metadata": {},
   "outputs": [],
   "source": [
    "# blackbody at temperature 300K\n",
    "Tbb = 300*K\n",
    "\n",
    "# note : computing this factor once saves from overflow problems\n",
    "x = hp*c / (kB * Tbb)\n",
    "x_ = csts.h * csts.c /(csts.k * 300)\n",
    "\n",
    "# Planck's law\n",
    "def planck(lmbda):\n",
    "    return 2*hp*c**2/lmbda**5 * 1/(np.exp(x/lmbda)-1) /sr\n",
    "\n",
    "def planck_(lmbda):\n",
    "    return 2 * csts.h * csts.c / lmbda**5 * 1 / (np.exp(x_/lmbda)-1)\n",
    "\n",
    "# expected value\n",
    "expected = sigma * Tbb**4 / (np.pi*sr)"
   ]
  },
  {
   "cell_type": "code",
   "execution_count": 4,
   "metadata": {},
   "outputs": [],
   "source": [
    "lmbda_start = 0.001*nm\n",
    "lmbda_stop = 1000*mum\n",
    "\n",
    "res, _ = quad(planck, lmbda_start, lmbda_stop)"
   ]
  },
  {
   "cell_type": "code",
   "execution_count": 5,
   "metadata": {},
   "outputs": [
    {
     "name": "stdout",
     "output_type": "stream",
     "text": [
      "146.19902209171852 kg/(s**3*sr)\n",
      "146.19983511044083 kg/(s**3*sr)\n",
      "error :  -5.561009844501363e-06\n"
     ]
    }
   ],
   "source": [
    "print(res)\n",
    "print(expected)\n",
    "print(\"error : \", res/expected-1)"
   ]
  },
  {
   "attachments": {},
   "cell_type": "markdown",
   "metadata": {},
   "source": [
    "The convergence can be seen : "
   ]
  },
  {
   "cell_type": "code",
   "execution_count": 6,
   "metadata": {},
   "outputs": [],
   "source": [
    "integrands = []\n",
    "ech_stop = np.logspace(2, 4, 20)*mum\n",
    "ech_stop.favunit = mum\n",
    "for lmbda_stop in ech_stop:\n",
    "    res, _ = quad(planck, lmbda_start, lmbda_stop)\n",
    "    integrands.append(res)"
   ]
  },
  {
   "cell_type": "code",
   "execution_count": 7,
   "metadata": {},
   "outputs": [],
   "source": [
    "integrands = physipy.quantity.utils.asqarray(integrands)"
   ]
  },
  {
   "cell_type": "code",
   "execution_count": 8,
   "metadata": {},
   "outputs": [
    {
     "data": {
      "text/plain": [
       "<matplotlib.legend.Legend at 0x7f9f37abbf10>"
      ]
     },
     "execution_count": 8,
     "metadata": {},
     "output_type": "execute_result"
    },
    {
     "data": {
      "image/png": "[encoded data removed]",
      "text/plain": [
       "<Figure size 432x288 with 1 Axes>"
      ]
     },
     "metadata": {
      "needs_background": "light"
     },
     "output_type": "display_data"
    }
   ],
   "source": [
    "from physipy import setup_matplotlib\n",
    "setup_matplotlib()\n",
    "\n",
    "plt.semilogx(ech_stop, integrands, \"o\", label=\"integral\")\n",
    "plt.axhline(expected, label=\"expected value\")\n",
    "plt.legend()"
   ]
  },
  {
   "attachments": {},
   "cell_type": "markdown",
   "metadata": {},
   "source": [
    "The processing time is quite longer with Quantities. Use this wrapper when speed is not mandatory."
   ]
  },
  {
   "cell_type": "code",
   "execution_count": 9,
   "metadata": {},
   "outputs": [
    {
     "name": "stdout",
     "output_type": "stream",
     "text": [
      "21.8 ms ± 8.7 ms per loop (mean ± std. dev. of 7 runs, 100 loops each)\n",
      "69.6 ms ± 7.49 ms per loop (mean ± std. dev. of 7 runs, 10 loops each)\n"
     ]
    }
   ],
   "source": [
    "%timeit quad(planck_, lmbda_start.value, lmbda_stop.value)\n",
    "%timeit quad(planck, lmbda_start, lmbda_stop)"
   ]
  },
  {
   "attachments": {},
   "cell_type": "markdown",
   "metadata": {},
   "source": [
    "Other writing possible:"
   ]
  },
  {
   "cell_type": "code",
   "execution_count": 10,
   "metadata": {},
   "outputs": [
    {
     "name": "stdout",
     "output_type": "stream",
     "text": [
      "146.19983428886755 kg/(s**3*sr)\n"
     ]
    }
   ],
   "source": [
    "def planck(lmbda, T):\n",
    "    x = hp*c / (kB * T)\n",
    "    return 2*hp*c**2/lmbda**5 * 1/(np.exp(x/lmbda)-1) /sr\n",
    "\n",
    "res, _ = quad(lambda lmbda: planck(lmbda, 300*K), lmbda_start, lmbda_stop)\n",
    "print(res)"
   ]
  },
  {
   "attachments": {},
   "cell_type": "markdown",
   "metadata": {},
   "source": [
    "Other writing possible : "
   ]
  },
  {
   "cell_type": "code",
   "execution_count": 11,
   "metadata": {},
   "outputs": [
    {
     "name": "stdout",
     "output_type": "stream",
     "text": [
      "146.19983428886755 kg/(s**3*sr)\n"
     ]
    }
   ],
   "source": [
    "res, _ = quad(planck, lmbda_start, lmbda_stop, args=(300*K,))\n",
    "print(res)"
   ]
  },
  {
   "attachments": {},
   "cell_type": "markdown",
   "metadata": {},
   "source": [
    "## Root solver"
   ]
  },
  {
   "attachments": {},
   "cell_type": "markdown",
   "metadata": {},
   "source": [
    "A wrapper of `scipy.optimize.root`:"
   ]
  },
  {
   "cell_type": "code",
   "execution_count": 12,
   "metadata": {},
   "outputs": [
    {
     "name": "stdout",
     "output_type": "stream",
     "text": [
      "10.0 s\n"
     ]
    }
   ],
   "source": [
    "from physipy.optimize import root\n",
    "\n",
    "def toto(t):\n",
    "    return -10*s + t\n",
    "\n",
    "print(root(toto, 0*s))"
   ]
  },
  {
   "cell_type": "code",
   "execution_count": 13,
   "metadata": {},
   "outputs": [
    {
     "name": "stdout",
     "output_type": "stream",
     "text": [
      "5.0 s\n"
     ]
    }
   ],
   "source": [
    "def tata(t, p):\n",
    "    return -10*s*p + t\n",
    "\n",
    "print(root(tata, 0*s, args=(0.5,)))"
   ]
  },
  {
   "attachments": {},
   "cell_type": "markdown",
   "metadata": {},
   "source": [
    "A wrapper of `scipy.optimize.brentq`:"
   ]
  },
  {
   "cell_type": "code",
   "execution_count": 15,
   "metadata": {
    "lines_to_next_cell": 2
   },
   "outputs": [],
   "source": [
    "from physipy.optimize import brentq"
   ]
  },
  {
   "cell_type": "code",
   "execution_count": 16,
   "metadata": {
    "lines_to_next_cell": 2
   },
   "outputs": [
    {
     "name": "stdout",
     "output_type": "stream",
     "text": [
      "10.0 s\n",
      "5.0 s\n"
     ]
    }
   ],
   "source": [
    "print(brentq(toto, -10*s, 10*s))\n",
    "print(brentq(tata, -10*s, 10*s, args=(0.5,)))"
   ]
  }
 ],
 "metadata": {
  "jupytext": {
   "text_representation": {
    "extension": ".py",
    "format_name": "percent",
    "format_version": "1.3",
    "jupytext_version": "1.13.2"
   }
  },
  "kernelspec": {
   "display_name": "Python 3 (ipykernel)",
   "language": "python",
   "name": "python3"
  },
  "language_info": {
   "codemirror_mode": {
    "name": "ipython",
    "version": 3
   },
   "file_extension": ".py",
   "mimetype": "text/x-python",
   "name": "python",
   "nbconvert_exporter": "python",
   "pygments_lexer": "ipython3",
   "version": "3.9.7"
  }
 },
 "nbformat": 4,
 "nbformat_minor": 4
}
